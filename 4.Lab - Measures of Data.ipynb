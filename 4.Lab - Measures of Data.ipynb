{
 "cells": [
  {
   "cell_type": "markdown",
   "metadata": {},
   "source": [
    "## Lab Brief - Statistical Learning with Python"
   ]
  },
  {
   "cell_type": "markdown",
   "metadata": {},
   "source": [
    "### Part-1"
   ]
  },
  {
   "cell_type": "markdown",
   "metadata": {},
   "source": [
    "## Measures of Data"
   ]
  },
  {
   "cell_type": "markdown",
   "metadata": {},
   "source": [
    "Descriptive Statistcs are measures that summarize important features of data. Producing these descriptive statistics is a common first step to take after cleaning and preparing a dataset for further analysis. Examples are like calculating Mean or Median. In this lab, we will be looking into some of these functions and explore several new ones."
   ]
  },
  {
   "cell_type": "markdown",
   "metadata": {},
   "source": [
    "#### Measures of Central Tendency"
   ]
  },
  {
   "cell_type": "markdown",
   "metadata": {},
   "source": [
    "Whenever you measure things of the same kind, a fairly large number of such measurements will tend to cluster around the middle value. Such a value is called a measure of \"Central Tendency\". The other terms that are used synonymously are \"Measures of Location\", or \"Statistical Averages\". "
   ]
  },
  {
   "cell_type": "code",
   "execution_count": 13,
   "metadata": {},
   "outputs": [],
   "source": [
    "import numpy as np\n",
    "import pandas as pd\n",
    "import matplotlib.pyplot as plt\n",
    "\n",
    "mtcars = pd.read_csv('mtcars.csv')"
   ]
  },
  {
   "cell_type": "markdown",
   "metadata": {},
   "source": [
    "##### Using the mtcars dataset.\n",
    "\n",
    "For the below set of questions, we will be using the cars data from [Motor Trend Car Road Tests](http://stat.ethz.ch/R-manual/R-devel/library/datasets/html/mtcars.html)\n",
    "\n",
    "The data was extracted from the 1974 Motor Trend US magazine, and comprises fuel consumption and 10 aspects of automobile design and performance for 32 automobiles (1973–74 models). \n",
    "\n",
    "\n",
    "Details :\n",
    "    \n",
    "A data frame with 32 observations on 11 (numeric) variables.\n",
    "\n",
    "[, 1] \tmpg \tMiles/(US) gallon\n",
    "\n",
    "[, 2] \tcyl \tNumber of cylinders\n",
    "\n",
    "[, 3] \tdisp \tDisplacement (cu.in.)\n",
    "\n",
    "[, 4] \thp \tGross horsepower\n",
    "\n",
    "[, 5] \tdrat \tRear axle ratio\n",
    "\n",
    "[, 6] \twt \tWeight (1000 lbs)\n",
    "\n",
    "[, 7] \tqsec \t1/4 mile time\n",
    "\n",
    "[, 8] \tvs \tEngine (0 = V-shaped, 1 = straight)\n",
    "\n",
    "[, 9] \tam \tTransmission (0 = automatic, 1 = manual)\n",
    "\n",
    "[,10] \tgear \tNumber of forward gears\n",
    "\n",
    "[,11] \tcarb \tNumber of carburetors "
   ]
  },
  {
   "cell_type": "markdown",
   "metadata": {},
   "source": [
    "#### Explore the data - Setting the index"
   ]
  },
  {
   "cell_type": "code",
   "execution_count": 25,
   "metadata": {},
   "outputs": [],
   "source": [
    "from IPython.core.interactiveshell import InteractiveShell\n",
    "InteractiveShell.ast_node_interactivity = \"all\"\n",
    "mtcars.index = mtcars[\"name\"]\n",
    "\n",
    "# mtcars.mean() #By default this will give the mean of each column"
   ]
  },
  {
   "cell_type": "markdown",
   "metadata": {},
   "source": [
    "### Question 1\n",
    "\n",
    "What is the first car name given in mtcars?\n",
    "\n",
    "** Make use of index which has been set previously **\n",
    "\n",
    "**Hint**: Use .loc function\n"
   ]
  },
  {
   "cell_type": "code",
   "execution_count": 81,
   "metadata": {
    "scrolled": true
   },
   "outputs": [
    {
     "data": {
      "text/plain": [
       "'Mazda RX4'"
      ]
     },
     "execution_count": 81,
     "metadata": {},
     "output_type": "execute_result"
    }
   ],
   "source": [
    "mtcars.iloc[0,0]"
   ]
  },
  {
   "cell_type": "markdown",
   "metadata": {},
   "source": [
    "### Question 2\n",
    "What is the highest difference between the hp and cyl?\n",
    "\n",
    "**Hint:** You can use **max()** function to find the difference"
   ]
  },
  {
   "cell_type": "code",
   "execution_count": 27,
   "metadata": {},
   "outputs": [
    {
     "data": {
      "text/plain": [
       "327"
      ]
     },
     "execution_count": 27,
     "metadata": {},
     "output_type": "execute_result"
    },
    {
     "data": {
      "text/plain": [
       "335"
      ]
     },
     "execution_count": 27,
     "metadata": {},
     "output_type": "execute_result"
    },
    {
     "data": {
      "text/plain": [
       "8"
      ]
     },
     "execution_count": 27,
     "metadata": {},
     "output_type": "execute_result"
    }
   ],
   "source": [
    "max(mtcars.hp)-max(mtcars.cyl)\n",
    "max(mtcars.hp)\n",
    "max(mtcars.cyl)"
   ]
  },
  {
   "cell_type": "markdown",
   "metadata": {},
   "source": [
    "### Question 3\n",
    "What are the cars having highest weight(wt) and lowest weight(wt)?\n",
    "\n",
    "**Hint:** Use idxmax() and idxmin() to locate the row\n",
    "\n",
    "Use **.iloc** function to print the  row\n",
    "\n",
    "**Note:** Both idxmax and idxmin belong to pandas"
   ]
  },
  {
   "cell_type": "code",
   "execution_count": 46,
   "metadata": {},
   "outputs": [
    {
     "data": {
      "text/plain": [
       "'Lincoln Continental'"
      ]
     },
     "execution_count": 46,
     "metadata": {},
     "output_type": "execute_result"
    },
    {
     "data": {
      "text/plain": [
       "'Lotus Europa'"
      ]
     },
     "execution_count": 46,
     "metadata": {},
     "output_type": "execute_result"
    }
   ],
   "source": [
    "mtcars[\"wt\"].idxmax()\n",
    "mtcars[\"wt\"].idxmin()"
   ]
  },
  {
   "cell_type": "code",
   "execution_count": 56,
   "metadata": {},
   "outputs": [
    {
     "name": "stderr",
     "output_type": "stream",
     "text": [
      "C:\\Users\\Ra\\Anaconda3\\lib\\site-packages\\ipykernel_launcher.py:1: DeprecationWarning: \n",
      ".ix is deprecated. Please use\n",
      ".loc for label based indexing or\n",
      ".iloc for positional indexing\n",
      "\n",
      "See the documentation here:\n",
      "http://pandas.pydata.org/pandas-docs/stable/indexing.html#ix-indexer-is-deprecated\n",
      "  \"\"\"Entry point for launching an IPython kernel.\n"
     ]
    },
    {
     "data": {
      "text/html": [
       "<div>\n",
       "<style scoped>\n",
       "    .dataframe tbody tr th:only-of-type {\n",
       "        vertical-align: middle;\n",
       "    }\n",
       "\n",
       "    .dataframe tbody tr th {\n",
       "        vertical-align: top;\n",
       "    }\n",
       "\n",
       "    .dataframe thead th {\n",
       "        text-align: right;\n",
       "    }\n",
       "</style>\n",
       "<table border=\"1\" class=\"dataframe\">\n",
       "  <thead>\n",
       "    <tr style=\"text-align: right;\">\n",
       "      <th></th>\n",
       "      <th>name</th>\n",
       "      <th>mpg</th>\n",
       "      <th>cyl</th>\n",
       "      <th>disp</th>\n",
       "      <th>hp</th>\n",
       "      <th>drat</th>\n",
       "      <th>wt</th>\n",
       "      <th>qsec</th>\n",
       "      <th>vs</th>\n",
       "      <th>am</th>\n",
       "      <th>gear</th>\n",
       "      <th>carb</th>\n",
       "    </tr>\n",
       "    <tr>\n",
       "      <th>name</th>\n",
       "      <th></th>\n",
       "      <th></th>\n",
       "      <th></th>\n",
       "      <th></th>\n",
       "      <th></th>\n",
       "      <th></th>\n",
       "      <th></th>\n",
       "      <th></th>\n",
       "      <th></th>\n",
       "      <th></th>\n",
       "      <th></th>\n",
       "      <th></th>\n",
       "    </tr>\n",
       "  </thead>\n",
       "  <tbody>\n",
       "    <tr>\n",
       "      <th>Lincoln Continental</th>\n",
       "      <td>Lincoln Continental</td>\n",
       "      <td>10.4</td>\n",
       "      <td>8</td>\n",
       "      <td>460.0</td>\n",
       "      <td>215</td>\n",
       "      <td>3.0</td>\n",
       "      <td>5.424</td>\n",
       "      <td>17.82</td>\n",
       "      <td>0</td>\n",
       "      <td>0</td>\n",
       "      <td>3</td>\n",
       "      <td>4</td>\n",
       "    </tr>\n",
       "  </tbody>\n",
       "</table>\n",
       "</div>"
      ],
      "text/plain": [
       "                                    name   mpg  cyl   disp   hp  drat     wt  \\\n",
       "name                                                                           \n",
       "Lincoln Continental  Lincoln Continental  10.4    8  460.0  215   3.0  5.424   \n",
       "\n",
       "                      qsec  vs  am  gear  carb  \n",
       "name                                            \n",
       "Lincoln Continental  17.82   0   0     3     4  "
      ]
     },
     "execution_count": 56,
     "metadata": {},
     "output_type": "execute_result"
    },
    {
     "name": "stderr",
     "output_type": "stream",
     "text": [
      "C:\\Users\\Ra\\Anaconda3\\lib\\site-packages\\ipykernel_launcher.py:2: DeprecationWarning: \n",
      ".ix is deprecated. Please use\n",
      ".loc for label based indexing or\n",
      ".iloc for positional indexing\n",
      "\n",
      "See the documentation here:\n",
      "http://pandas.pydata.org/pandas-docs/stable/indexing.html#ix-indexer-is-deprecated\n",
      "  \n"
     ]
    },
    {
     "data": {
      "text/html": [
       "<div>\n",
       "<style scoped>\n",
       "    .dataframe tbody tr th:only-of-type {\n",
       "        vertical-align: middle;\n",
       "    }\n",
       "\n",
       "    .dataframe tbody tr th {\n",
       "        vertical-align: top;\n",
       "    }\n",
       "\n",
       "    .dataframe thead th {\n",
       "        text-align: right;\n",
       "    }\n",
       "</style>\n",
       "<table border=\"1\" class=\"dataframe\">\n",
       "  <thead>\n",
       "    <tr style=\"text-align: right;\">\n",
       "      <th></th>\n",
       "      <th>name</th>\n",
       "      <th>mpg</th>\n",
       "      <th>cyl</th>\n",
       "      <th>disp</th>\n",
       "      <th>hp</th>\n",
       "      <th>drat</th>\n",
       "      <th>wt</th>\n",
       "      <th>qsec</th>\n",
       "      <th>vs</th>\n",
       "      <th>am</th>\n",
       "      <th>gear</th>\n",
       "      <th>carb</th>\n",
       "    </tr>\n",
       "    <tr>\n",
       "      <th>name</th>\n",
       "      <th></th>\n",
       "      <th></th>\n",
       "      <th></th>\n",
       "      <th></th>\n",
       "      <th></th>\n",
       "      <th></th>\n",
       "      <th></th>\n",
       "      <th></th>\n",
       "      <th></th>\n",
       "      <th></th>\n",
       "      <th></th>\n",
       "      <th></th>\n",
       "    </tr>\n",
       "  </thead>\n",
       "  <tbody>\n",
       "    <tr>\n",
       "      <th>Lincoln Continental</th>\n",
       "      <td>Lincoln Continental</td>\n",
       "      <td>10.4</td>\n",
       "      <td>8</td>\n",
       "      <td>460.0</td>\n",
       "      <td>215</td>\n",
       "      <td>3.0</td>\n",
       "      <td>5.424</td>\n",
       "      <td>17.82</td>\n",
       "      <td>0</td>\n",
       "      <td>0</td>\n",
       "      <td>3</td>\n",
       "      <td>4</td>\n",
       "    </tr>\n",
       "  </tbody>\n",
       "</table>\n",
       "</div>"
      ],
      "text/plain": [
       "                                    name   mpg  cyl   disp   hp  drat     wt  \\\n",
       "name                                                                           \n",
       "Lincoln Continental  Lincoln Continental  10.4    8  460.0  215   3.0  5.424   \n",
       "\n",
       "                      qsec  vs  am  gear  carb  \n",
       "name                                            \n",
       "Lincoln Continental  17.82   0   0     3     4  "
      ]
     },
     "execution_count": 56,
     "metadata": {},
     "output_type": "execute_result"
    }
   ],
   "source": [
    "mtcars.ix[([mtcars[\"wt\"].idxmax(),]),]\n",
    "mtcars.ix[([mtcars[\"wt\"].idxmax(),]),]"
   ]
  },
  {
   "cell_type": "markdown",
   "metadata": {},
   "source": [
    "### Question 4\n",
    "\n",
    "Find the mean of each row and each column in the given dataset.\n",
    "\n",
    "**Hint:** Use .mean() function. To operate on rows use **axis=0**, on columns use **axis=1**"
   ]
  },
  {
   "cell_type": "code",
   "execution_count": 50,
   "metadata": {},
   "outputs": [
    {
     "data": {
      "text/plain": [
       "name      0.000000\n",
       "mpg      20.090625\n",
       "cyl       6.187500\n",
       "disp    230.721875\n",
       "hp      146.687500\n",
       "drat      3.596563\n",
       "wt        3.217250\n",
       "qsec     17.848750\n",
       "vs        0.437500\n",
       "am        0.406250\n",
       "gear      3.687500\n",
       "carb      2.812500\n",
       "dtype: float64"
      ]
     },
     "execution_count": 50,
     "metadata": {},
     "output_type": "execute_result"
    },
    {
     "data": {
      "text/plain": [
       "name\n",
       "Mazda RX4              29.907273\n",
       "Mazda RX4 Wag          29.981364\n",
       "Datsun 710             23.598182\n",
       "Hornet 4 Drive         38.739545\n",
       "Hornet Sportabout      53.664545\n",
       "Valiant                35.049091\n",
       "Duster 360             59.720000\n",
       "Merc 240D              24.634545\n",
       "Merc 230               27.233636\n",
       "Merc 280               31.860000\n",
       "Merc 280C              31.787273\n",
       "Merc 450SE             46.430909\n",
       "Merc 450SL             46.500000\n",
       "Merc 450SLC            46.350000\n",
       "Cadillac Fleetwood     66.232727\n",
       "Lincoln Continental    66.058545\n",
       "Chrysler Imperial      65.972273\n",
       "Fiat 128               19.440909\n",
       "Honda Civic            17.742273\n",
       "Toyota Corolla         18.814091\n",
       "Toyota Corona          24.888636\n",
       "Dodge Challenger       47.240909\n",
       "AMC Javelin            46.007727\n",
       "Camaro Z28             58.752727\n",
       "Pontiac Firebird       57.379545\n",
       "Fiat X1-9              18.928636\n",
       "Porsche 914-2          24.779091\n",
       "Lotus Europa           24.880273\n",
       "Ford Pantera L         60.971818\n",
       "Ferrari Dino           34.508182\n",
       "Maserati Bora          63.155455\n",
       "Volvo 142E             26.262727\n",
       "dtype: float64"
      ]
     },
     "execution_count": 50,
     "metadata": {},
     "output_type": "execute_result"
    }
   ],
   "source": [
    "mtcars.mean(axis=0)\n",
    "mtcars.mean(axis=1)"
   ]
  },
  {
   "cell_type": "markdown",
   "metadata": {},
   "source": [
    "### Question 5\n",
    "\n",
    "Plot mpg values of mtcards dataframe using matplotlib.\n",
    "\n",
    "**Hint: Use plt.plot function**"
   ]
  },
  {
   "cell_type": "code",
   "execution_count": 57,
   "metadata": {},
   "outputs": [
    {
     "data": {
      "text/plain": [
       "[<matplotlib.lines.Line2D at 0x9c8ee0d710>]"
      ]
     },
     "execution_count": 57,
     "metadata": {},
     "output_type": "execute_result"
    },
    {
     "data": {
      "image/png": "[encoded data removed]",
      "text/plain": [
       "<Figure size 432x288 with 1 Axes>"
      ]
     },
     "metadata": {
      "needs_background": "light"
     },
     "output_type": "display_data"
    }
   ],
   "source": [
    "plt.plot(mtcars[\"mpg\"])"
   ]
  },
  {
   "cell_type": "markdown",
   "metadata": {},
   "source": [
    "## Part 2"
   ]
  },
  {
   "cell_type": "markdown",
   "metadata": {},
   "source": [
    "## Measures of Dispersion"
   ]
  },
  {
   "cell_type": "markdown",
   "metadata": {},
   "source": [
    "Measures of Dispersion (Spread) are statistics that describe how data varies. Measure of dispersion gives us the sense of how much the data tends to diverge from the central tendency."
   ]
  },
  {
   "cell_type": "markdown",
   "metadata": {},
   "source": [
    "### Question 6\n",
    "\n",
    "What the range of `mpg` in the given dataset?\n",
    "\n",
    "**Hint:** Range = max-min"
   ]
  },
  {
   "cell_type": "code",
   "execution_count": 60,
   "metadata": {},
   "outputs": [
    {
     "data": {
      "text/plain": [
       "23.5"
      ]
     },
     "execution_count": 60,
     "metadata": {},
     "output_type": "execute_result"
    }
   ],
   "source": [
    "mtcars[\"mpg\"].max()-mtcars[\"mpg\"].min()"
   ]
  },
  {
   "cell_type": "markdown",
   "metadata": {},
   "source": [
    "### Question 7\n",
    "\n",
    "Calculate the 25th quantile (lower quantile)for `mpg` in the given dataset.\n",
    "\n",
    "**Hint:** Use **.quantile()**"
   ]
  },
  {
   "cell_type": "code",
   "execution_count": 69,
   "metadata": {},
   "outputs": [
    {
     "data": {
      "text/plain": [
       "15.425"
      ]
     },
     "execution_count": 69,
     "metadata": {},
     "output_type": "execute_result"
    }
   ],
   "source": [
    "from IPython.core.interactiveshell import InteractiveShell\n",
    "InteractiveShell.ast_node_interactivity = \"all\"\n",
    "\n",
    "mtcars[\"mpg\"].quantile(0.25)"
   ]
  },
  {
   "cell_type": "markdown",
   "metadata": {},
   "source": [
    "### Question 8\n",
    "\n",
    "Calculate the Inter-Quartile Range(IQR) for `mpg` in the given dataset."
   ]
  },
  {
   "cell_type": "markdown",
   "metadata": {},
   "source": [
    "Interquartile range (IQR) is another common measure of spread. IQR is the distance between the 3rd quartile and the 1st quartile.\n",
    "\n",
    "**Hint:** IQR = Q3 - Q1"
   ]
  },
  {
   "cell_type": "code",
   "execution_count": 70,
   "metadata": {},
   "outputs": [
    {
     "data": {
      "text/plain": [
       "7.375"
      ]
     },
     "execution_count": 70,
     "metadata": {},
     "output_type": "execute_result"
    }
   ],
   "source": [
    "mtcars[\"mpg\"].quantile(0.75)-mtcars[\"mpg\"].quantile(0.25)"
   ]
  },
  {
   "cell_type": "markdown",
   "metadata": {},
   "source": [
    "### Question 9\n",
    "\n",
    "Calculate the Variance, Standard Deviation and Median Absolute Deviation for `mpg`."
   ]
  },
  {
   "cell_type": "markdown",
   "metadata": {},
   "source": [
    "Variance and Standard Deviation are two other common measure of dispersion.\n",
    "\n",
    "**Hint:** Use .var() and .std()"
   ]
  },
  {
   "cell_type": "markdown",
   "metadata": {},
   "source": [
    "**Hint:** Median Absolute Deviation - alternative measure of spread based on the median. It is the median of the absolute value of the deviations from the median. "
   ]
  },
  {
   "cell_type": "code",
   "execution_count": 71,
   "metadata": {},
   "outputs": [
    {
     "data": {
      "text/plain": [
       "36.32410282258065"
      ]
     },
     "execution_count": 71,
     "metadata": {},
     "output_type": "execute_result"
    }
   ],
   "source": [
    "mtcars[\"mpg\"].var()"
   ]
  },
  {
   "cell_type": "code",
   "execution_count": 72,
   "metadata": {},
   "outputs": [
    {
     "data": {
      "text/plain": [
       "6.026948052089105"
      ]
     },
     "execution_count": 72,
     "metadata": {},
     "output_type": "execute_result"
    }
   ],
   "source": [
    "mtcars[\"mpg\"].std()"
   ]
  },
  {
   "cell_type": "markdown",
   "metadata": {},
   "source": [
    "## Part 3"
   ]
  },
  {
   "cell_type": "markdown",
   "metadata": {},
   "source": [
    "## Probability Distributions"
   ]
  },
  {
   "cell_type": "markdown",
   "metadata": {},
   "source": [
    "The probability distribution describes how a random variable is distributed. It tells us which values a variable is most likely to take on and which values are less likely to take on. "
   ]
  },
  {
   "cell_type": "markdown",
   "metadata": {},
   "source": [
    "Each value in the given range is equally likely to occur. "
   ]
  },
  {
   "cell_type": "code",
   "execution_count": 73,
   "metadata": {},
   "outputs": [],
   "source": [
    "import scipy.stats as stats # Many functions for probability distributions in python are in scipy.stats"
   ]
  },
  {
   "cell_type": "markdown",
   "metadata": {},
   "source": [
    "### Question 10\n",
    "\n",
    "Generate 1000 datapoints with standard normal distribution with mean 0 and standard deviation 1. "
   ]
  },
  {
   "cell_type": "markdown",
   "metadata": {},
   "source": [
    "#### Normal Distribution"
   ]
  },
  {
   "cell_type": "markdown",
   "metadata": {},
   "source": [
    "The normal or Gaussian Distribution is a continuos probability distribution given by a symmetric bell shaped curve. It is defined its center(mean) and spread(std)."
   ]
  },
  {
   "cell_type": "markdown",
   "metadata": {},
   "source": [
    "The bulk of the observations generated from a normal distribution lie near the mean which lies at the center. About 68% of the data lies within 1 std, 95% lies within 2 stds and 99.7% lies within 3 stds.\n",
    "\n",
    "**Hint:** You can use **np.random.normal()** function to generate normal distribution"
   ]
  },
  {
   "cell_type": "code",
   "execution_count": 76,
   "metadata": {},
   "outputs": [
    {
     "data": {
      "text/plain": [
       "array([ 3.10942956e-01,  1.83361242e-01, -2.07687958e-01, -1.96345082e-01,\n",
       "        1.51904554e+00,  1.64471198e-03, -7.82000334e-02, -2.70825149e+00,\n",
       "       -8.18035867e-01, -2.52735901e-02,  2.77637121e-01,  1.56920018e+00,\n",
       "       -3.30879472e-01,  1.31287906e+00, -9.18604572e-01,  1.07923068e+00,\n",
       "        3.73322733e-01,  8.89464200e-01,  1.59513605e+00,  9.07352610e-01,\n",
       "       -1.32068561e+00, -3.18662556e-01,  7.63577123e-01,  1.51653617e+00,\n",
       "       -1.20552923e+00,  8.96014841e-01, -2.35835277e-01,  9.49913413e-01,\n",
       "       -1.13601100e+00, -2.28357253e-01, -7.87461066e-01, -1.06367678e+00,\n",
       "       -1.55207520e+00,  1.42489779e+00, -1.97837822e-01, -4.93642400e-01,\n",
       "       -2.91793191e-01,  6.59995837e-01,  7.92248653e-01,  9.28507463e-01,\n",
       "        6.29185449e-02,  4.60239081e-01, -4.26462678e-01,  4.66476794e-01,\n",
       "        1.87595670e+00,  2.72832021e-01,  1.09032174e-01, -8.88852965e-01,\n",
       "        1.12064640e-03, -7.70760745e-02, -1.31024950e-01,  7.03552908e-01,\n",
       "       -1.86164901e+00,  6.51348549e-01, -2.01748309e-01, -2.06299935e-01,\n",
       "       -1.32204549e+00,  1.74839365e-01,  6.01630141e-01, -6.64300697e-01,\n",
       "        1.71609259e-03, -2.01749995e+00, -2.07059950e-01, -3.57669933e-01,\n",
       "        1.84495420e-02, -2.00697074e-01,  1.55577414e-01, -1.35784542e+00,\n",
       "       -2.20526825e+00,  1.47967702e+00,  1.08358714e+00, -2.28618961e+00,\n",
       "        1.89552098e+00,  1.72624567e+00,  2.29749205e-01, -2.34044358e-01,\n",
       "       -9.13061315e-01, -1.79935384e+00, -2.68732737e-01, -7.71070718e-01,\n",
       "       -1.68967110e+00,  7.21094622e-01,  4.30644277e-01,  8.44125400e-01,\n",
       "       -5.18555245e-01, -1.39994724e+00,  1.02507214e-01,  6.84210032e-01,\n",
       "        3.14294549e-01,  4.76161071e-01,  6.98450823e-01, -4.87749731e-01,\n",
       "        3.32166331e-01, -7.65805289e-01, -8.76243695e-01, -1.27324617e+00,\n",
       "        9.52447009e-02, -5.27418944e-01, -7.58659957e-01,  1.18086509e+00,\n",
       "       -4.33318817e-01,  1.35710185e+00,  5.04121518e-01, -1.02150589e+00,\n",
       "        2.67263521e-01, -7.77908193e-01,  1.11228610e-01, -7.09105093e-01,\n",
       "        6.71064872e-01, -2.81642953e+00, -1.88856139e+00, -4.83405142e-01,\n",
       "        3.50356228e-01,  6.79086019e-02,  1.43931314e-01,  7.28984512e-01,\n",
       "       -1.58196841e+00, -1.52015779e+00, -1.29870787e-01, -2.96500601e-01,\n",
       "        1.86774677e-01,  6.28014841e-01,  3.68791079e-02, -2.40995731e+00,\n",
       "       -4.06626365e-01,  2.16291504e+00, -8.79860106e-01, -1.37289188e+00,\n",
       "       -9.42924121e-02, -3.89175030e-01, -7.89512821e-01,  6.16263214e-01,\n",
       "       -7.86940831e-01,  4.47789683e-01,  1.57057542e+00,  2.94763462e-01,\n",
       "       -5.83476621e-01,  1.83123026e+00, -2.24360785e+00, -6.41624225e-01,\n",
       "       -9.85814451e-02, -2.07141444e-01,  8.14830691e-01, -1.05008119e+00,\n",
       "        1.49935216e+00, -3.70468679e-01,  8.70369753e-02,  1.11283781e+00,\n",
       "        2.78398339e+00, -7.58143134e-01,  1.54594185e+00, -1.06531879e+00,\n",
       "       -3.81507950e-01,  7.15295755e-05,  7.71901947e-01,  4.87502229e-01,\n",
       "        5.10543074e-01, -1.89391832e-01, -1.47683977e+00, -2.09785675e-01,\n",
       "        4.82356631e-01, -9.41441692e-01, -4.05234973e-01,  6.43182896e-01,\n",
       "       -7.43948146e-01,  4.90525338e-01,  1.67706205e+00,  7.07247141e-01,\n",
       "       -3.35032276e-01, -4.51870298e-01, -9.89395959e-01, -1.64238123e-01,\n",
       "        6.81341811e-01, -1.00237264e+00,  4.91091995e-01, -5.86886369e-02,\n",
       "       -1.83261784e-01, -5.84804325e-01,  3.82393287e-01,  9.41342303e-01,\n",
       "       -5.43050911e-01,  3.68764569e-01,  8.87593943e-01,  3.00632065e-01,\n",
       "       -9.53095065e-01, -1.33983815e+00,  5.63328778e-02, -6.91074500e-02,\n",
       "       -1.29475896e+00, -3.13100141e-01,  2.72161865e-01,  2.33300634e+00,\n",
       "        1.90887522e+00,  9.93736982e-01,  9.46298626e-02,  1.68900056e+00,\n",
       "       -5.99151916e-01, -1.05709857e+00, -5.19878211e-01,  1.94068220e+00,\n",
       "        2.18186395e+00,  1.54284617e+00,  2.28919131e-02, -4.50936162e-01,\n",
       "        7.54037656e-04, -5.60419701e-01, -4.45462968e-01, -8.32044832e-01,\n",
       "        3.84831382e-01,  5.08770258e-02,  4.38777185e-01, -2.14831532e-02,\n",
       "       -3.72487130e-01, -1.82885200e-01,  1.05298511e+00,  9.13916359e-01,\n",
       "       -9.79411371e-01,  8.71891157e-01,  1.01450952e+00, -9.96801965e-01,\n",
       "        4.93908451e-01, -1.55939503e+00, -1.55739965e+00,  5.15054623e-01,\n",
       "       -5.13456185e-01,  1.72007680e+00,  1.10106299e+00,  1.74442442e+00,\n",
       "        1.45858342e+00,  3.51481376e-01,  1.06193319e-01,  1.83118960e+00,\n",
       "        3.64834897e-01,  4.98713167e-01, -5.31388427e-01, -3.04176531e-01,\n",
       "       -1.31849744e+00,  5.24593211e-01, -1.13152417e+00, -2.23470540e-02,\n",
       "       -1.80252546e+00, -1.36538514e-01,  8.41361500e-01, -3.51880578e-01,\n",
       "        3.31164766e-01, -1.16959568e+00,  6.40530527e-01, -2.12592891e-01,\n",
       "       -2.52632527e-01, -2.09429099e-01,  7.59102202e-01,  4.30018639e-02,\n",
       "       -5.20286496e-01,  2.02592491e-02, -1.13070477e-01, -3.68644388e-01,\n",
       "        1.35204988e+00, -9.93603497e-02, -1.15784346e+00, -4.43392685e-01,\n",
       "        6.92671749e-01,  5.35494893e-01,  9.77523818e-01,  4.86377617e-02,\n",
       "       -5.06551965e-01,  6.75430501e-01,  7.53882424e-01,  5.68759317e-01,\n",
       "        2.16706585e+00,  2.10773175e-01,  8.55163434e-01, -3.31205353e-01,\n",
       "        1.79626202e+00,  2.74424408e-01,  3.08493281e-01,  7.90418668e-01,\n",
       "       -3.67923186e-01,  7.99983504e-01,  9.98741674e-01,  1.33695408e+00,\n",
       "        1.31094299e-01, -4.39566612e-01, -6.01750744e-01, -2.23966504e+00,\n",
       "       -7.62538124e-01,  1.62517843e+00,  8.81414754e-01, -3.43723296e-01,\n",
       "       -9.77628789e-01,  3.21093735e-01,  1.35387713e+00, -2.46533739e-01,\n",
       "       -1.42399321e-01, -1.93099237e+00,  8.90598829e-01,  1.51067610e+00,\n",
       "       -3.38265133e-02, -1.20099153e-01,  5.13099597e-01, -1.38605842e+00,\n",
       "       -1.23897663e+00, -3.70859982e-01,  7.34689817e-01, -1.55110674e-01,\n",
       "       -7.42659373e-01,  1.79686255e+00,  1.05403487e+00, -1.00781570e+00,\n",
       "        8.93878840e-01,  1.00674172e+00,  6.35038363e-01, -1.00205175e+00,\n",
       "       -6.62923330e-01,  2.25313673e-01, -1.07444800e+00,  1.37657332e+00,\n",
       "        2.98966150e-01,  1.11207146e+00, -5.07500614e-01, -1.47366098e+00,\n",
       "        9.81543108e-01,  1.71018940e+00,  3.37911204e-01,  2.42005973e-01,\n",
       "       -1.59120300e-01, -6.95473692e-02,  2.05747420e+00,  2.36905754e-01,\n",
       "       -5.24741555e-01, -1.50943951e+00,  2.40118798e-01,  2.05994031e-01,\n",
       "        7.22598380e-01, -1.15221803e+00, -1.23788769e+00, -3.84642902e-01,\n",
       "       -2.54803201e-01,  7.43959979e-01,  6.18736164e-01,  9.30609091e-02,\n",
       "        9.14797629e-01, -7.43836981e-01, -7.60116283e-01,  6.75960108e-01,\n",
       "        1.08716590e-01, -4.84896879e-01, -3.09102257e-01,  8.13605399e-01,\n",
       "        4.72086070e-01,  1.00109047e+00, -1.64122199e-01, -3.12367675e-01,\n",
       "       -5.07014374e-01, -4.23894318e-01,  6.72812915e-01,  5.88677059e-01,\n",
       "        6.38048103e-01,  6.79527511e-01,  4.20199507e-01,  5.37887530e-01,\n",
       "       -1.59197434e+00, -9.16501616e-01,  9.68355985e-01,  1.31064179e+00,\n",
       "        9.99701546e-01,  3.54935373e-02,  1.12417281e+00,  7.38175840e-01,\n",
       "       -1.61823378e-01, -9.92798643e-01,  1.16164545e-01,  1.29273586e+00,\n",
       "       -1.37082464e+00,  1.51288170e+00,  7.25101491e-01, -1.05664006e+00,\n",
       "        6.35924166e-02, -1.48919304e-02, -3.15886993e-01, -1.21419271e+00,\n",
       "       -1.46385201e+00,  1.24846907e-01,  9.29632131e-01, -8.49167618e-01,\n",
       "       -2.16369405e-03,  1.19075807e+00, -7.66426323e-01, -1.13906723e+00,\n",
       "        9.11825427e-01,  4.86601015e-01, -4.09592784e-01,  3.07645361e-01,\n",
       "       -1.35092396e+00,  4.50182676e-01, -2.68867392e+00,  2.99024172e+00,\n",
       "       -6.47980796e-01,  4.59405845e-01,  1.73833032e+00,  2.47234971e-01,\n",
       "        2.67881005e-01,  2.39376336e-01, -1.26409033e+00,  2.35584534e+00,\n",
       "        1.51511121e+00,  6.44134999e-01,  7.00246243e-01,  7.40915835e-01,\n",
       "       -2.23426721e-01,  2.13360769e+00, -5.02511236e-01,  1.50073552e-01,\n",
       "       -1.02091655e+00, -6.49316635e-01,  1.27372012e+00,  3.01775696e-01,\n",
       "       -6.51419085e-01,  1.11737045e-01, -5.03105978e-01, -3.21897636e-03,\n",
       "       -4.26546004e-01,  3.61418678e-02,  4.67595393e-01,  9.59044188e-01,\n",
       "       -3.08815852e-01, -4.58438741e-01, -2.51580121e+00, -1.77773376e-01,\n",
       "       -5.29733328e-01, -3.22618426e-01, -8.72671861e-01,  1.84026257e+00,\n",
       "       -5.70556829e-01,  9.19172916e-02, -3.81568543e-01,  2.02045085e-01,\n",
       "       -2.52078874e-01,  1.16890182e+00,  7.46503390e-01, -1.28427160e+00,\n",
       "       -1.89405006e-01, -7.32248823e-01, -5.04581076e-02,  6.48953322e-01,\n",
       "        1.33480760e+00,  5.72991222e-01, -2.64667077e-01, -5.08444716e-01,\n",
       "        2.33791473e+00, -5.43509011e-01, -6.44376317e-03, -4.05916401e-01,\n",
       "        1.63565599e-01, -1.62183730e-01, -2.50520384e-01, -3.78545997e-01,\n",
       "       -1.60123982e+00,  8.30957513e-01, -1.74166948e+00,  2.11143657e-01,\n",
       "        1.10907221e+00,  3.52742239e-01,  1.54117606e-01,  1.25117481e+00,\n",
       "        1.54850774e+00,  1.34099010e+00,  4.61582840e-01,  6.59010262e-02,\n",
       "        1.00505636e+00,  1.52627437e+00,  8.73983703e-01,  5.64154743e-01,\n",
       "       -5.38334009e-01, -2.58035141e+00,  7.34888126e-01,  1.09351042e+00,\n",
       "       -1.21800997e+00, -7.62903883e-01, -1.45968336e+00, -1.24643483e+00,\n",
       "        7.23811256e-01,  4.93197258e-01,  3.62073219e-01,  7.68727004e-01,\n",
       "        9.28080561e-01, -4.16262658e-01,  6.38513948e-02,  3.85311342e-01,\n",
       "       -1.14050534e-01,  6.51364657e-01,  1.70720635e+00, -1.08861178e+00,\n",
       "        4.96694190e-01,  1.32101223e+00,  5.76641798e-01, -1.58489079e-01,\n",
       "        2.78046808e-01, -1.31405954e+00,  1.72119542e+00,  6.28792033e-02,\n",
       "        7.19061473e-01, -7.62457838e-01,  5.27541090e-01,  1.37127768e+00,\n",
       "       -2.25585369e-01, -8.54436670e-01,  8.95990816e-01,  1.62550442e+00,\n",
       "       -5.13466089e-01,  2.77718404e-01,  3.41104355e-01,  1.49269138e+00,\n",
       "        3.58705879e-02,  1.17040861e+00, -7.80031658e-01, -8.93061322e-01,\n",
       "       -7.44994497e-01, -4.94955172e-01, -5.57260879e-01,  8.66949917e-01,\n",
       "       -3.72961512e-01, -1.00495617e+00,  3.73028647e-01,  1.06566770e+00,\n",
       "       -9.71175089e-01,  5.10445974e-01, -2.15451582e+00, -3.50778147e-01,\n",
       "       -1.77445364e+00, -1.33654360e+00,  3.84488763e-02, -2.51792606e-01,\n",
       "       -3.34228583e-01, -6.97388513e-01, -4.46186588e-01, -1.35193903e-02,\n",
       "       -1.34977050e-01,  1.02749216e+00, -1.64432363e+00, -8.65146650e-01,\n",
       "        9.29825454e-01,  9.00038991e-01,  1.17287144e+00,  4.11502823e-01,\n",
       "       -8.72683672e-01, -1.03024247e+00, -1.58763131e-01,  1.23278322e+00,\n",
       "       -1.37252066e+00, -3.87623582e-02,  7.72985647e-01, -5.06324538e-01,\n",
       "        8.45093288e-01, -3.21971880e+00,  1.47035967e+00, -1.81748998e+00,\n",
       "       -1.95011032e+00,  1.07280296e+00, -1.01820239e-01, -1.42359378e+00,\n",
       "        4.05509653e-01, -2.99091711e-01,  7.97005292e-02, -8.58177314e-01,\n",
       "        1.38284417e+00,  2.40832901e+00,  8.95545572e-01, -2.18832377e+00,\n",
       "        5.74955882e-01,  3.91009768e-01,  7.53646210e-01, -1.56773226e+00,\n",
       "        1.85081560e+00, -1.24814290e-01, -6.00473381e-01,  1.99284471e+00,\n",
       "        9.39208204e-01,  3.75188046e-01, -2.43553172e-01,  1.26046773e-01,\n",
       "        1.27578231e-01,  7.91288192e-01, -1.53539738e-01, -2.63331792e-01,\n",
       "        1.18085737e+00,  6.07021485e-01,  3.46575622e+00,  9.00142001e-02,\n",
       "        1.14588276e+00, -1.84377017e+00, -4.23100162e-01, -1.08563699e+00,\n",
       "       -1.35325970e-01,  7.55694030e-01, -1.57897796e-01, -6.43645867e-01,\n",
       "        2.37725100e+00,  2.71996356e-02, -2.84556185e-01, -1.18566569e-01,\n",
       "       -9.82162352e-01, -1.14814982e+00,  1.86420576e-01,  1.09978886e+00,\n",
       "       -8.34076520e-02,  1.69927818e+00, -1.06432621e+00,  4.43623924e-01,\n",
       "        3.34054482e-01,  4.03900545e-01, -3.23982726e-01, -8.36091028e-01,\n",
       "       -7.70721454e-01,  4.82872849e-01,  6.63032706e-02,  4.59784712e-01,\n",
       "        1.02706201e+00, -6.00994769e-01, -4.16451263e-01,  3.94839010e-02,\n",
       "       -2.03067694e+00,  1.73201625e+00, -5.32925972e-01,  1.58875347e+00,\n",
       "        1.46650160e-02, -9.32531304e-01,  1.06149325e+00, -1.10374204e+00,\n",
       "       -3.85172214e-01,  1.29155581e+00, -3.25979182e-01, -1.47562903e+00,\n",
       "        1.21242096e+00,  1.12890998e+00,  8.16822316e-01,  2.71017633e+00,\n",
       "        7.49137228e-02, -9.25301454e-01,  1.63078043e+00,  1.26772648e+00,\n",
       "       -3.86258736e-01,  7.18411966e-01, -4.40484813e-01,  6.49709217e-01,\n",
       "        1.07012878e+00, -1.53278319e+00, -1.03363559e+00,  7.77691155e-01,\n",
       "       -4.98540472e-01,  7.76129586e-01, -4.04570328e-01, -7.12210131e-01,\n",
       "       -4.94929817e-01,  1.62701833e+00, -1.04446530e+00,  4.68169114e-01,\n",
       "       -1.64567849e-01,  1.08163957e+00, -8.31243871e-03, -3.38117053e-01,\n",
       "       -2.32056472e-01,  1.16413346e-01,  6.33035065e-01, -3.69049798e-01,\n",
       "        4.51147117e-01, -2.77627593e-01,  1.10093807e+00,  6.78201689e-01,\n",
       "        5.22910738e-01, -6.24962286e-01, -1.06868028e+00, -7.30004825e-02,\n",
       "        2.14825396e+00, -3.04206098e-01,  3.75976710e-01,  1.09345384e+00,\n",
       "        3.84339397e-01, -9.77681200e-01, -4.36213943e-01,  1.01767762e+00,\n",
       "       -2.38227112e-01, -7.07072255e-01, -7.91109650e-01, -1.83029875e+00,\n",
       "       -3.41990190e-01, -6.68769809e-01, -3.67057978e-02, -5.96056682e-02,\n",
       "       -1.37308482e+00, -4.16313405e-01,  2.56398407e-01, -8.17117909e-01,\n",
       "        1.09788454e-01, -4.28716866e-01, -2.08902525e+00,  1.10058924e+00,\n",
       "       -1.33158506e+00, -1.16975589e+00, -2.21130406e+00, -5.15858894e-01,\n",
       "        6.42617775e-01, -1.06033550e+00,  8.43735477e-01, -4.12800491e-01,\n",
       "       -8.57633106e-01, -1.31672479e+00, -9.49526817e-01,  7.03209448e-01,\n",
       "        6.59527839e-01, -6.99230809e-01, -7.52881135e-01,  5.63716179e-01,\n",
       "        1.20327810e+00, -1.21505514e+00, -8.82989086e-02, -8.88568524e-01,\n",
       "       -5.75694913e-01, -1.62808411e-01, -8.75625835e-01, -9.84404427e-01,\n",
       "       -1.15527474e+00,  4.53238620e-01,  2.15074934e+00,  1.19268702e-01,\n",
       "        9.26019495e-01, -8.15971522e-01, -1.57739456e-01, -1.40937490e-01,\n",
       "       -4.95940837e-01,  2.08522707e+00,  2.75900550e+00, -1.71621664e+00,\n",
       "       -3.36822113e+00,  1.02115469e+00, -1.53676815e+00, -9.90225638e-01,\n",
       "       -5.21663823e-01,  3.32103102e-01,  2.49173247e-01, -1.98624395e+00,\n",
       "       -7.76071542e-01, -5.94155672e-01,  3.04974065e-01, -4.99303872e-01,\n",
       "       -1.85489838e-01,  3.07965432e-02, -3.45280904e-01, -2.00352748e+00,\n",
       "       -1.27517816e+00, -2.05938633e+00, -9.30031697e-01,  1.23458752e+00,\n",
       "        5.12400346e-01,  1.69870825e+00,  1.79006611e+00,  3.51959053e-01,\n",
       "       -3.31306930e-01, -5.89900870e-01, -1.21324090e-01, -4.08444508e-03,\n",
       "       -8.86792387e-01,  1.33529358e-01, -1.70648886e+00, -1.47312887e+00,\n",
       "       -9.36115006e-02,  7.11908786e-01, -4.21968278e-01,  3.04505644e-01,\n",
       "        3.21157817e-01,  8.60219677e-01, -1.30309449e-01, -2.08438381e-01,\n",
       "        1.92764976e+00,  3.69119922e-01,  1.68563457e-02, -3.12489158e-01,\n",
       "        4.79545964e-01, -1.68557973e-01,  4.60473058e-01, -4.77992930e-01,\n",
       "       -5.82262461e-01,  5.22359233e-01,  1.22057236e+00, -1.14269754e+00,\n",
       "        5.71558753e-01,  3.87033916e-01,  3.98346392e-01, -7.64653815e-01,\n",
       "        1.04976420e+00, -7.33509696e-01,  4.33196039e-01,  4.20511278e-01,\n",
       "       -1.81088101e+00,  5.45089838e-04,  3.76333496e-01, -1.46264707e+00,\n",
       "       -3.58092640e+00, -9.15167049e-01, -1.07786026e+00, -1.72416932e+00,\n",
       "        3.96103915e-01, -1.33025352e+00,  7.55181065e-01, -1.21468072e+00,\n",
       "        3.61120912e-01,  5.80473081e-01,  7.02551295e-01,  9.39081349e-02,\n",
       "        3.79976049e-01, -2.21527220e+00,  9.29152217e-01,  1.70753400e+00,\n",
       "        1.33457937e+00,  2.33096641e-01, -4.72581293e-01,  7.07778721e-02,\n",
       "       -1.03157857e+00,  8.64804708e-02, -1.93511987e-02,  1.66689297e-01,\n",
       "        6.13021336e-01, -1.43952583e+00, -1.76665219e+00,  5.29946286e-02,\n",
       "        1.11539626e+00,  1.92735791e-01,  2.59267914e-01,  4.14793733e-01,\n",
       "       -2.29269174e+00, -8.66794196e-01, -2.43268009e-02,  3.35970300e-01,\n",
       "        1.30740080e-01,  1.06397891e-01, -5.21724605e-01,  1.49687531e+00,\n",
       "       -3.48730849e-01,  2.14171358e+00,  1.45182616e+00, -5.24326435e-01,\n",
       "       -5.48950842e-01, -9.61531189e-01,  3.92015016e-01, -1.22713699e+00,\n",
       "       -3.45768508e-01, -1.71338605e-01,  3.68425119e-01, -7.76616015e-01,\n",
       "        1.82162119e-01, -5.45834317e-01, -2.85280456e-01, -3.38190632e-02,\n",
       "       -7.86869959e-01, -5.83668842e-01,  1.24101725e+00,  1.12053730e+00,\n",
       "       -1.43721591e+00,  4.65110199e-01,  9.83875951e-01, -8.97924398e-01,\n",
       "       -5.93415423e-01, -5.11397471e-01,  1.69514200e-01,  5.18390800e-01,\n",
       "        3.72999223e-01,  6.95944435e-02,  8.70089554e-01,  5.00437732e-01,\n",
       "       -8.09091257e-01,  7.75189079e-02, -1.15902694e+00, -1.03137106e+00,\n",
       "       -1.05086955e+00, -1.74930780e+00, -3.09545805e-01, -7.71011547e-01,\n",
       "        8.42484622e-01, -5.24190615e-01, -1.00592917e+00,  4.22707502e-02,\n",
       "        6.80293271e-01,  5.22468273e-01,  2.37611473e-01, -1.57709244e+00,\n",
       "       -5.13007945e-01,  3.49006468e-01,  2.98904244e-01,  9.41472826e-01,\n",
       "       -2.10265764e-01,  1.77365195e+00, -1.82922291e-02,  9.23103297e-01,\n",
       "       -4.19337202e-01,  2.07700298e-01, -1.36219298e+00, -4.73861755e-01,\n",
       "       -1.03007855e+00, -1.43450412e-01, -3.57195965e-01, -1.85218212e+00,\n",
       "        1.04064597e+00,  8.95384846e-01, -8.45910494e-02,  6.39044156e-02,\n",
       "       -8.51278142e-02, -1.58338197e+00,  1.62267575e+00, -7.31633439e-01,\n",
       "        6.98203578e-02,  2.61874835e-01, -6.03975417e-01, -1.18447352e-01,\n",
       "        1.07384967e+00,  1.48892786e+00, -2.50834318e-01,  6.48966406e-02,\n",
       "        1.59664218e+00,  1.79687778e+00,  3.17589891e-01, -1.15185971e+00,\n",
       "        2.01796206e-01, -1.02619941e+00, -4.46041409e-01, -1.11785717e+00,\n",
       "        2.93011109e-01,  1.24991725e+00,  4.24135361e-01, -7.13276291e-01,\n",
       "       -2.95812904e-02,  4.37416073e-01,  5.88244574e-01, -8.43812747e-01,\n",
       "        1.58068876e+00, -1.89045953e+00,  7.03933475e-01,  8.51712381e-01,\n",
       "       -3.81645887e-02, -1.06891268e+00, -9.41249523e-01,  8.68446231e-01,\n",
       "        1.12204388e+00, -1.73517945e-01,  2.45225052e-01,  1.03311241e+00,\n",
       "       -7.67693031e-01, -5.75131503e-01,  2.36209209e-01, -1.09936561e+00,\n",
       "        9.96979671e-04, -8.64695226e-01,  1.48855033e+00,  2.38776042e-01,\n",
       "        1.03774649e+00, -5.95803329e-01, -1.74291482e+00,  9.66346076e-01,\n",
       "        4.12496359e-01, -5.53255826e-01,  9.21738079e-01,  1.90533941e+00,\n",
       "        6.08035734e-01,  5.05667085e-01, -2.76814172e-01, -1.26265041e+00,\n",
       "        6.72157301e-02, -2.53412486e+00,  3.78721086e-01, -1.74479456e+00,\n",
       "       -3.79054364e-02, -6.69947119e-01,  5.00990525e-01,  2.30462603e-01,\n",
       "       -4.85923429e-01,  7.09344502e-02, -5.96471564e-01,  8.04014493e-01,\n",
       "        1.78250765e+00, -7.72116180e-01, -1.27197002e-01,  1.19922937e+00,\n",
       "       -6.25663743e-01, -4.19867524e-01, -2.85222379e-01,  7.75031526e-01,\n",
       "       -6.91152241e-01, -6.57977044e-01,  6.86982755e-01, -1.13250288e+00,\n",
       "        1.23979671e+00, -3.05446916e-01, -6.45926193e-02, -2.57548703e+00,\n",
       "       -3.22165228e-01,  1.26654020e+00,  1.79713425e-01, -3.76609908e-01,\n",
       "        2.59579667e-02,  6.65434111e-02, -5.14547639e-01,  1.04698110e+00])"
      ]
     },
     "execution_count": 76,
     "metadata": {},
     "output_type": "execute_result"
    }
   ],
   "source": [
    "np.random.normal(0,1,1000)"
   ]
  },
  {
   "cell_type": "markdown",
   "metadata": {},
   "source": [
    "## Question 11\n",
    "\n",
    "Generate binomial distribution data for fair coin flipping of size 100. Assume `0` for head and `1` for tail.\n",
    "\n",
    "[ **Hint:** For fair coin flip `p=0.5` ]"
   ]
  },
  {
   "cell_type": "markdown",
   "metadata": {},
   "source": [
    "#### Binomial Distribution"
   ]
  },
  {
   "cell_type": "markdown",
   "metadata": {},
   "source": [
    "It is defined by 2 parameters: the probability of success and the number of trails. It tells about how likely it is possible to get a given number of successes in n trails."
   ]
  },
  {
   "cell_type": "code",
   "execution_count": 77,
   "metadata": {},
   "outputs": [
    {
     "data": {
      "text/plain": [
       "array([46, 46, 54, 54, 46, 58, 56, 61, 59, 47, 47, 53, 45, 51, 51, 51, 46,\n",
       "       52, 48, 42, 48, 48, 51, 41, 43, 56, 56, 50, 53, 52, 51, 53, 60, 55,\n",
       "       51, 52, 42, 46, 47, 49, 58, 46, 48, 53, 49, 47, 53, 50, 49, 49, 48,\n",
       "       50, 42, 40, 45, 46, 50, 49, 45, 61, 57, 45, 49, 43, 42, 56, 48, 50,\n",
       "       60, 45, 53, 46, 44, 50, 56, 49, 43, 56, 48, 45, 45, 60, 47, 58, 53,\n",
       "       52, 46, 50, 53, 50, 55, 48, 49, 55, 45, 46, 53, 44, 41, 52, 45, 51,\n",
       "       49, 57, 57, 58, 48, 51, 58, 49, 53, 53, 55, 54, 49, 51, 51, 53, 48,\n",
       "       62, 56, 55, 58, 53, 50, 50, 56, 53, 41, 49, 47, 53, 47, 52, 47, 48,\n",
       "       48, 52, 53, 48, 47, 56, 56, 46, 47, 51, 52, 48, 47, 44, 59, 58, 45,\n",
       "       55, 49, 56, 51, 42, 52, 47, 54, 55, 49, 58, 51, 46, 53, 51, 48, 44,\n",
       "       51, 48, 47, 55, 56, 54, 55, 52, 42, 44, 53, 49, 51, 51, 55, 47, 43,\n",
       "       53, 45, 54, 57, 56, 55, 53, 45, 57, 55, 37, 57, 47, 55, 63, 46, 54,\n",
       "       56, 52, 45, 48, 41, 47, 48, 58, 43, 50, 53, 49, 49, 54, 53, 52, 65,\n",
       "       53, 41, 45, 55, 52, 53, 47, 52, 51, 58, 45, 49, 48, 51, 56, 54, 52,\n",
       "       53, 47, 59, 56, 56, 44, 51, 38, 52, 50, 55, 45, 57, 49, 58, 60, 45,\n",
       "       48, 52, 44, 51, 55, 47, 49, 49, 41, 49, 45, 35, 50, 51, 54, 49, 47,\n",
       "       50, 44, 44, 52, 53, 43, 57, 53, 48, 47, 50, 54, 53, 50, 54, 47, 45,\n",
       "       50, 46, 49, 52, 50, 50, 40, 47, 48, 60, 51, 45, 42, 51, 49, 47, 56,\n",
       "       54, 51, 51, 46, 50, 41, 53, 51, 43, 47, 44, 49, 56, 45, 50, 52, 52,\n",
       "       52, 45, 50, 49, 44, 58, 50, 56, 51, 49, 51, 49, 51, 51, 56, 45, 47,\n",
       "       57, 54, 48, 47, 55, 50, 54, 44, 46, 53, 52, 49, 38, 65, 58, 43, 55,\n",
       "       53, 44, 42, 43, 38, 52, 43, 52, 47, 50, 54, 57, 48, 43, 48, 46, 51,\n",
       "       47, 46, 45, 50, 40, 46, 57, 48, 48, 43, 49, 51, 46, 51, 52, 48, 47,\n",
       "       49, 38, 44, 48, 56, 54, 47, 48, 53, 38, 56, 50, 53, 54, 51, 49, 46,\n",
       "       53, 40, 45, 58, 48, 41, 49, 53, 44, 52, 59, 48, 45, 60, 53, 46, 46,\n",
       "       47, 52, 58, 52, 47, 53, 50, 48, 58, 52, 52, 50, 44, 55, 45, 46, 45,\n",
       "       49, 50, 51, 51, 44, 55, 54, 46, 47, 46, 48, 47, 49, 53, 49, 52, 58,\n",
       "       49, 53, 59, 47, 44, 51, 59, 47, 49, 56, 54, 41, 48, 53, 54, 38, 51,\n",
       "       56, 48, 54, 43, 59, 43, 48, 56, 47, 46, 50, 41, 50, 44, 55, 58, 49,\n",
       "       47, 41, 50, 53, 43, 43, 42, 55, 50, 43, 47, 54, 50, 46, 44, 50, 50,\n",
       "       49, 45, 58, 46, 51, 55, 52, 46, 50, 57, 57, 42, 50, 50, 51, 54, 51,\n",
       "       46, 51, 54, 54, 55, 48, 52, 52, 47, 50, 47, 49, 51, 47, 47, 39, 50,\n",
       "       56, 40, 50, 50, 50, 50, 55, 55, 40, 44, 47, 50, 54, 56, 49, 50, 48,\n",
       "       61, 53, 57, 38, 48, 43, 57, 54, 53, 49, 55, 49, 56, 48, 48, 46, 54,\n",
       "       50, 44, 46, 48, 40, 48, 47, 49, 56, 59, 47, 56, 55, 49, 52, 54, 40,\n",
       "       53, 53, 46, 48, 49, 47, 44, 50, 48, 55, 52, 55, 40, 44, 47, 57, 50,\n",
       "       50, 56, 41, 44, 41, 48, 46, 51, 44, 57, 46, 63, 48, 47, 46, 55, 50,\n",
       "       46, 43, 42, 56, 42, 47, 57, 40, 46, 48, 52, 48, 46, 53, 45, 54, 38,\n",
       "       53, 56, 49, 43, 47, 53, 57, 43, 47, 59, 51, 46, 56, 41, 52, 52, 57,\n",
       "       54, 40, 47, 56, 46, 52, 47, 46, 46, 58, 47, 45, 58, 49, 48, 52, 43,\n",
       "       50, 39, 47, 51, 47, 49, 56, 55, 50, 48, 40, 43, 52, 47, 49, 46, 48,\n",
       "       49, 52, 46, 45, 50, 58, 56, 52, 50, 39, 56, 49, 48, 48, 43, 50, 51,\n",
       "       47, 54, 41, 52, 54, 44, 50, 51, 47, 51, 55, 54, 52, 49, 50, 55, 54,\n",
       "       57, 42, 45, 53, 48, 43, 54, 55, 42, 52, 56, 52, 58, 53, 50, 51, 52,\n",
       "       46, 53, 44, 53, 52, 39, 50, 54, 51, 56, 58, 48, 56, 44, 48, 50, 46,\n",
       "       47, 49, 51, 49, 42, 52, 52, 38, 48, 52, 53, 51, 46, 55, 57, 49, 61,\n",
       "       57, 48, 50, 57, 55, 57, 42, 47, 53, 54, 44, 56, 56, 54, 48, 43, 48,\n",
       "       54, 54, 47, 49, 44, 55, 47, 47, 48, 43, 54, 48, 47, 46, 42, 58, 59,\n",
       "       49, 51, 59, 48, 51, 49, 56, 51, 49, 53, 52, 50, 52, 52, 49, 53, 51,\n",
       "       49, 56, 50, 46, 51, 52, 52, 49, 40, 50, 55, 50, 60, 54, 48, 34, 55,\n",
       "       47, 51, 52, 58, 50, 52, 52, 55, 43, 50, 40, 55, 43, 51, 58, 50, 45,\n",
       "       49, 58, 55, 49, 57, 50, 56, 47, 54, 48, 55, 50, 51, 50, 48, 54, 43,\n",
       "       57, 52, 49, 45, 54, 58, 45, 58, 52, 47, 60, 51, 46, 38, 51, 49, 48,\n",
       "       45, 49, 47, 53, 51, 47, 56, 57, 53, 49, 50, 45, 48, 53, 43, 52, 53,\n",
       "       56, 46, 56, 52, 47, 46, 53, 55, 58, 59, 49, 49, 45, 50, 51, 53, 49,\n",
       "       46, 54, 54, 50, 47, 53, 42, 47, 51, 51, 48, 45, 50, 53, 43, 42, 58,\n",
       "       59, 55, 46, 56, 51, 56, 51, 45, 54, 53, 54, 37, 54, 52, 52, 52, 45,\n",
       "       52, 43, 50, 41, 56, 46, 56, 43, 58, 42, 42, 52, 52, 58, 46, 55, 59,\n",
       "       49, 55, 41, 54, 43, 47, 42, 56, 47, 53, 46, 49, 49, 53])"
      ]
     },
     "execution_count": 77,
     "metadata": {},
     "output_type": "execute_result"
    }
   ],
   "source": [
    "np.random.binomial(100,0.5,1000)"
   ]
  },
  {
   "cell_type": "markdown",
   "metadata": {},
   "source": [
    "#### Visualizing Poisson Distribution"
   ]
  },
  {
   "cell_type": "markdown",
   "metadata": {},
   "source": [
    "It models the probability of seeing certain number of successes within a time interval."
   ]
  },
  {
   "cell_type": "code",
   "execution_count": 74,
   "metadata": {},
   "outputs": [
    {
     "data": {
      "text/plain": [
       "array([[<matplotlib.axes._subplots.AxesSubplot object at 0x0000009C8EF0A550>]],\n",
       "      dtype=object)"
      ]
     },
     "execution_count": 74,
     "metadata": {},
     "output_type": "execute_result"
    },
    {
     "data": {
      "image/png": "[encoded data removed]",
      "text/plain": [
       "<Figure size 432x288 with 1 Axes>"
      ]
     },
     "metadata": {
      "needs_background": "light"
     },
     "output_type": "display_data"
    }
   ],
   "source": [
    "poisson_data = stats.poisson.rvs(size=100,mu=10)\n",
    "\n",
    "pd.DataFrame(poisson_data).hist()\n",
    "\n",
    "plt.show()"
   ]
  },
  {
   "cell_type": "code",
   "execution_count": null,
   "metadata": {},
   "outputs": [],
   "source": []
  }
 ],
 "metadata": {
  "kernelspec": {
   "display_name": "Python 3",
   "language": "python",
   "name": "python3"
  },
  "language_info": {
   "codemirror_mode": {
    "name": "ipython",
    "version": 3
   },
   "file_extension": ".py",
   "mimetype": "text/x-python",
   "name": "python",
   "nbconvert_exporter": "python",
   "pygments_lexer": "ipython3",
   "version": "3.7.0"
  }
 },
 "nbformat": 4,
 "nbformat_minor": 2
}
