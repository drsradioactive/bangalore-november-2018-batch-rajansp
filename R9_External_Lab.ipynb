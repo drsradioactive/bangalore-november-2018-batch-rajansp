{
 "cells": [
  {
   "cell_type": "markdown",
   "metadata": {
    "colab_type": "text",
    "id": "WPJHV_CIn6Bg"
   },
   "source": [
    "# U - Net\n",
    "## Problem: \n",
    "\n",
    "Seismic data is collected using reflection seismology, or seismic reflection. The method requires a controlled seismic source of energy, such as compressed air or a seismic vibrator, and sensors record the reflection from rock interfaces within the subsurface. The recorded data is then processed to create a 3D view of earth’s interior. Reflection seismology is similar to X-ray, sonar and echolocation.\n",
    "\n",
    "A seismic image is produced from imaging the reflection coming from rock boundaries. The seismic image shows the boundaries between different rock types. In theory, the strength of reflection is directly proportional to the difference in the physical properties on either sides of the interface. While seismic images show rock boundaries, they don't say much about the rock themselves; some rocks are easy to identify while some are difficult.\n",
    "\n",
    "There are several areas of the world where there are vast quantities of salt in the subsurface. One of the challenges of seismic imaging is to identify the part of subsurface which is salt. Salt has characteristics that makes it both simple and hard to identify. Salt density is usually 2.14 g/cc which is lower than most surrounding rocks. The seismic velocity of salt is 4.5 km/sec, which is usually faster than its surrounding rocks. This difference creates a sharp reflection at the salt-sediment interface. Usually salt is an amorphous rock without much internal structure. This means that there is typically not much reflectivity inside the salt, unless there are sediments trapped inside it. The unusually high seismic velocity of salt can create problems with seismic imaging.\n",
    "\n",
    "### Data\n",
    "The data is a set of images chosen at various locations chosen at random in the subsurface. The images are 101 x 101 pixels and each pixel is classified as either salt or sediment. In addition to the seismic images, the depth of the imaged location is provided for each image. The goal of the competition is to segment regions that contain salt.\n",
    "\n",
    "#### Source: \n",
    "https://www.kaggle.com/c/tgs-salt-identification-challenge\n",
    "\n",
    "\n",
    "### Note: \n",
    "Accept the terms and download data from the above link"
   ]
  },
  {
   "cell_type": "markdown",
   "metadata": {
    "colab_type": "text",
    "id": "3OKrTNUtn-od"
   },
   "source": [
    "### Aim: \n",
    "\n",
    "Implement U-Net neural model architecture in keras to solve this problem.\n",
    "\n",
    "\n",
    "In this, you are asked to segment salt deposits beneath the Earth’s surface. Given a set of seismic images that are 101 x 101 pixels each and each pixel we need to classify as either salt or sediment. Our goal is to segment regions that contain salt. A seismic image is produced from imaging the reflection coming from rock boundaries. The seismic image shows the boundaries between different rock types. "
   ]
  },
  {
   "cell_type": "markdown",
   "metadata": {
    "colab_type": "text",
    "id": "ZUOAF8WWoA1x"
   },
   "source": [
    "### Broad Steps:\n",
    "\n",
    "1. Download the dataset\n",
    "2. Upload to Drive\n",
    "3. Import from drive to colab\n",
    "4. Load the images and create training data.\n",
    "5. Build U-net Model\n",
    "6. Train your model.\n",
    "7. Check the validation accuracy and plot sample."
   ]
  },
  {
   "cell_type": "code",
   "execution_count": 0,
   "metadata": {
    "colab": {},
    "colab_type": "code",
    "id": "b7TLNzB6oDep",
    "outputId": "99aee360-7007-4475-9560-8a6ed48ab608"
   },
   "outputs": [
    {
     "name": "stderr",
     "output_type": "stream",
     "text": [
      "Using TensorFlow backend.\n"
     ]
    }
   ],
   "source": [
    "#Importing necessary libraries\n",
    "import os\n",
    "import random\n",
    "import pandas as pd\n",
    "import numpy as np\n",
    "import matplotlib.pyplot as plt\n",
    "plt.style.use(\"ggplot\")\n",
    "%matplotlib inline\n",
    "\n",
    "from tqdm import tqdm_notebook, tnrange\n",
    "from itertools import chain\n",
    "from skimage.io import imread, imshow, concatenate_images\n",
    "from skimage.transform import resize\n",
    "from skimage.morphology import label\n",
    "from sklearn.model_selection import train_test_split\n",
    "\n",
    "import tensorflow as tf\n",
    "from keras.models import Model, load_model\n",
    "from keras.layers import Input, BatchNormalization, Activation, Dense, Dropout\n",
    "from keras.layers.core import Lambda, RepeatVector, Reshape\n",
    "from keras.layers.convolutional import Conv2D, Conv2DTranspose\n",
    "from keras.layers.pooling import MaxPooling2D, GlobalMaxPool2D\n",
    "from keras.layers.merge import concatenate, add\n",
    "from keras.callbacks import EarlyStopping, ModelCheckpoint, ReduceLROnPlateau\n",
    "from keras.optimizers import Adam\n",
    "from keras.preprocessing.image import ImageDataGenerator, array_to_img, img_to_array, load_img"
   ]
  },
  {
   "cell_type": "code",
   "execution_count": 0,
   "metadata": {
    "colab": {},
    "colab_type": "code",
    "id": "6qiCvW9coD_E"
   },
   "outputs": [],
   "source": [
    "#Mount drive\n",
    "from google.colab import drive\n",
    "drive.mount('/content/drive/')"
   ]
  },
  {
   "cell_type": "markdown",
   "metadata": {
    "colab_type": "text",
    "id": "B4IaUgploION"
   },
   "source": [
    "### 1.Set your project path where you have your data and related files for this lab."
   ]
  },
  {
   "cell_type": "code",
   "execution_count": 0,
   "metadata": {
    "colab": {},
    "colab_type": "code",
    "id": "Gp47Ml1SS991"
   },
   "outputs": [],
   "source": []
  },
  {
   "cell_type": "code",
   "execution_count": 0,
   "metadata": {
    "colab": {},
    "colab_type": "code",
    "id": "Kxy5LexhoLMT"
   },
   "outputs": [],
   "source": []
  },
  {
   "cell_type": "markdown",
   "metadata": {
    "colab_type": "text",
    "id": "g15qSXZSoSuL"
   },
   "source": [
    "### 2. Set the necessary parameters"
   ]
  },
  {
   "cell_type": "markdown",
   "metadata": {
    "colab_type": "text",
    "id": "Dzrz2Or_HdxR"
   },
   "source": [
    "## Setup"
   ]
  },
  {
   "cell_type": "code",
   "execution_count": 0,
   "metadata": {
    "colab": {},
    "colab_type": "code",
    "id": "3IEaEnuzoW2a"
   },
   "outputs": [],
   "source": [
    "im_width = 128      #width of your train image\n",
    "im_height = 128     #hight of your train image\n",
    "#border =        \n",
    "path_train = project_path + 'train/'   #Path for your train data"
   ]
  },
  {
   "cell_type": "code",
   "execution_count": 0,
   "metadata": {
    "colab": {},
    "colab_type": "code",
    "id": "uZQyyn55oKW-"
   },
   "outputs": [],
   "source": []
  },
  {
   "cell_type": "markdown",
   "metadata": {
    "colab_type": "text",
    "id": "Q3IoS6RCoZPh"
   },
   "source": [
    "# 3. Make directory for train data at in your project/lab folder.\n",
    "\n",
    "Hint - use !mkdir function."
   ]
  },
  {
   "cell_type": "code",
   "execution_count": 0,
   "metadata": {
    "colab": {},
    "colab_type": "code",
    "id": "MRPpQ2QrocBQ"
   },
   "outputs": [],
   "source": []
  },
  {
   "cell_type": "code",
   "execution_count": 0,
   "metadata": {
    "colab": {},
    "colab_type": "code",
    "id": "RWATodbkocN9"
   },
   "outputs": [],
   "source": []
  },
  {
   "cell_type": "markdown",
   "metadata": {
    "colab_type": "text",
    "id": "fRbC22DGoeb7"
   },
   "source": [
    "# 4. Extract your train images to the train directory you have just created above. \n",
    "train.zip and test.zip files available at your google drive/local system.\n",
    "\n",
    "As a good practice - Upload or copy the data at your project path folder.\n",
    "\n",
    "Make sure you are providing the right project_path."
   ]
  },
  {
   "cell_type": "code",
   "execution_count": 0,
   "metadata": {
    "colab": {},
    "colab_type": "code",
    "id": "5BtPznFbogjG"
   },
   "outputs": [],
   "source": [
    "#For simplicity we have added the required code here.\n",
    "from zipfile import ZipFile\n",
    "\n",
    "with ZipFile(project_path + 'train.zip', 'r') as zf:\n",
    "  zf.extractall('train/')\n"
   ]
  },
  {
   "cell_type": "code",
   "execution_count": 0,
   "metadata": {
    "colab": {},
    "colab_type": "code",
    "id": "7YZ2prb9oiX4"
   },
   "outputs": [],
   "source": [
    "#The train file have both images and masks with the same names_ids."
   ]
  },
  {
   "cell_type": "code",
   "execution_count": 0,
   "metadata": {
    "colab": {},
    "colab_type": "code",
    "id": "zxQ1u8Bvoj1M"
   },
   "outputs": [],
   "source": []
  },
  {
   "cell_type": "markdown",
   "metadata": {
    "colab_type": "text",
    "id": "iwCH81ZWomLA"
   },
   "source": [
    "### 5. Get the list of names of images and masks and name the list imagelist and masklist.\n",
    "\n",
    "Hint - Use os.listdir() funtions."
   ]
  },
  {
   "cell_type": "code",
   "execution_count": 0,
   "metadata": {
    "colab": {},
    "colab_type": "code",
    "id": "Clt5ya_JoplC"
   },
   "outputs": [],
   "source": []
  },
  {
   "cell_type": "code",
   "execution_count": 0,
   "metadata": {
    "colab": {},
    "colab_type": "code",
    "id": "-vHPQoHVoppK"
   },
   "outputs": [],
   "source": [
    "#Test your list names by printing some of the names as given below.\n",
    "print(imagelist[-1])\n",
    "print(masklist[-1])\n",
    "print(imagelist[10])\n",
    "print(masklist[10])"
   ]
  },
  {
   "cell_type": "code",
   "execution_count": 0,
   "metadata": {
    "colab": {},
    "colab_type": "code",
    "id": "WUZw-kSKoqIr"
   },
   "outputs": [],
   "source": []
  },
  {
   "cell_type": "markdown",
   "metadata": {
    "colab_type": "text",
    "id": "1t8raFq5ous8"
   },
   "source": [
    "# 6. Read and test your images and respective masks.\n",
    "\n",
    "Hint -\n",
    "\n",
    "import  matplotlib.pyplot as plt\n",
    "\n",
    "import cv2\n",
    "\n",
    "plt.imshow(cv2.imread('path of image'))\n",
    "\n",
    "plt.imshow(cv2.imread('path of mask'))\n"
   ]
  },
  {
   "cell_type": "code",
   "execution_count": 0,
   "metadata": {
    "colab": {},
    "colab_type": "code",
    "id": "1gGpCSPpovvH"
   },
   "outputs": [],
   "source": []
  },
  {
   "cell_type": "code",
   "execution_count": 0,
   "metadata": {
    "colab": {},
    "colab_type": "code",
    "id": "9E-McW2toyaR"
   },
   "outputs": [],
   "source": []
  },
  {
   "cell_type": "markdown",
   "metadata": {
    "colab_type": "text",
    "id": "_qFeroMNoylc"
   },
   "source": [
    "# 7. Create your training data.\n",
    "\n",
    "Hints - \n",
    "\n",
    "image_path = os.path.join(project_path +'path of your image directory' +n )\n",
    "\n",
    "mask_path = os.path.join(project_path +'path of your mask directory'+n )"
   ]
  },
  {
   "cell_type": "code",
   "execution_count": 0,
   "metadata": {
    "colab": {},
    "colab_type": "code",
    "id": "gJbRVbL4o1qT"
   },
   "outputs": [],
   "source": [
    "# Get and resize train images and masks\n",
    "def get_data():\n",
    "    X = np.zeros(((len(imagelist), im_height, im_width, 1)), dtype=np.float32) # Create an array for image\n",
    "    y = np.zeros(((len(masklist), im_height, im_width, 1)), dtype=np.float32) #Create an array for mask\n",
    "    \n",
    "    for n in imagelist: \n",
    "        k = imagelist.index(n)\n",
    "        ##Add image_path\n",
    "        image_path =  /*** Add your code here***/\n",
    "        ##Add mask_path\n",
    "        mask_path =                                                            \n",
    "        \n",
    "        # Load images and resize to (128,128,1)\n",
    "        /*** Add your code here***/\n",
    "        \n",
    "        # Load masks and resize to (128,128,1)\n",
    "        /*** Add your code here***/\n",
    "        \n",
    "        # Save images\n",
    "        X[k, ..., 0] = resized_img.squeeze() / 255\n",
    "        y[k] = resized_mask/255\n",
    "    print('Done!')\n",
    "    if train:\n",
    "        return X, y\n",
    "    else:\n",
    "        return X\n",
    "    \n",
    "X, y = get_data()"
   ]
  },
  {
   "cell_type": "code",
   "execution_count": 0,
   "metadata": {
    "colab": {},
    "colab_type": "code",
    "id": "seheYxTBo32V"
   },
   "outputs": [],
   "source": []
  },
  {
   "cell_type": "code",
   "execution_count": 0,
   "metadata": {
    "colab": {},
    "colab_type": "code",
    "id": "kt6zXJPHo35y"
   },
   "outputs": [],
   "source": [
    "# Split train and valid\n",
    "from sklearn.model_selection import train_test_split\n",
    "X_train, X_valid, y_train, y_valid = train_test_split(X, y, test_size=0.15, random_state=2019)"
   ]
  },
  {
   "cell_type": "code",
   "execution_count": 0,
   "metadata": {
    "colab": {},
    "colab_type": "code",
    "id": "mh_SRFGro6wr"
   },
   "outputs": [],
   "source": [
    "## Test your data whether it looks fine - Random check\n",
    "import random \n",
    "# Check if training data looks all right\n",
    "ix = random.randint(0, len(X_train))\n",
    "has_mask = y_train[ix].max() > 0\n",
    "\n",
    "fig, ax = plt.subplots(1, 2, figsize=(10, 10))\n",
    "\n",
    "ax[0].imshow(X_train[ix, ..., 0], cmap='seismic', interpolation='bilinear')\n",
    "if has_mask:\n",
    "    ax[0].contour(y_train[ix].squeeze(), colors='k', levels=[0.5])\n",
    "ax[0].set_title('Seismic')\n",
    "\n",
    "ax[1].imshow(y_train[ix].squeeze(), interpolation='bilinear', cmap='gray')\n",
    "ax[1].set_title('Salt');\n",
    "\n",
    "\n"
   ]
  },
  {
   "cell_type": "code",
   "execution_count": 0,
   "metadata": {
    "colab": {},
    "colab_type": "code",
    "id": "aqMLP_Jwo8K5"
   },
   "outputs": [],
   "source": []
  },
  {
   "cell_type": "code",
   "execution_count": 0,
   "metadata": {
    "colab": {},
    "colab_type": "code",
    "id": "_-JXuxrRo8a6"
   },
   "outputs": [],
   "source": []
  },
  {
   "cell_type": "markdown",
   "metadata": {
    "colab_type": "text",
    "id": "em5jGV93o8qR"
   },
   "source": [
    "### 8. Define loss and dice_coeff function."
   ]
  },
  {
   "cell_type": "code",
   "execution_count": 0,
   "metadata": {
    "colab": {},
    "colab_type": "code",
    "id": "Uyxf8uhQpA78"
   },
   "outputs": [],
   "source": []
  },
  {
   "cell_type": "code",
   "execution_count": 0,
   "metadata": {
    "colab": {},
    "colab_type": "code",
    "id": "EmCjyEUUpA_V"
   },
   "outputs": [],
   "source": []
  },
  {
   "cell_type": "markdown",
   "metadata": {
    "colab_type": "text",
    "id": "-ofKZA-9pDVJ"
   },
   "source": [
    "### 9. Build and compile UNet Model for your data.\n",
    "\n",
    "Hint - \n",
    "You can install and use segmentation models from this github repository.\n",
    "\n",
    "#Install segmentation models\n",
    "\n",
    "!pip install git+https://github.com/qubvel/segmentation_models"
   ]
  },
  {
   "cell_type": "code",
   "execution_count": 0,
   "metadata": {
    "colab": {},
    "colab_type": "code",
    "id": "456utznCpGco"
   },
   "outputs": [],
   "source": [
    "#model = Unet(backbone_name='resnet34', encoder_weights=None, input_shape=(None, None, 1))\n",
    "#compile your model by adding the parameters like optimizer, loss and metrics.\n",
    "\n"
   ]
  },
  {
   "cell_type": "code",
   "execution_count": 0,
   "metadata": {
    "colab": {},
    "colab_type": "code",
    "id": "eL1lRlXDpIHl"
   },
   "outputs": [],
   "source": [
    "#Get the summary of your model\n"
   ]
  },
  {
   "cell_type": "code",
   "execution_count": 0,
   "metadata": {
    "colab": {},
    "colab_type": "code",
    "id": "cA4f4oYYpJA6"
   },
   "outputs": [],
   "source": []
  },
  {
   "cell_type": "markdown",
   "metadata": {
    "colab_type": "text",
    "id": "6UYvb8OdpLV5"
   },
   "source": [
    "### 10. Fit your model using model.fit function.\n",
    "Hint - As it might take long time to run. Run it for only 1 or 2 epochs."
   ]
  },
  {
   "cell_type": "code",
   "execution_count": 0,
   "metadata": {
    "colab": {},
    "colab_type": "code",
    "id": "bFw1Yq06pQbp"
   },
   "outputs": [],
   "source": []
  },
  {
   "cell_type": "markdown",
   "metadata": {
    "colab_type": "text",
    "id": "iH34vMq9pSnh"
   },
   "source": [
    "### 11.Predict on val set using model.predict funtion and store in preds_val variable.\n",
    "\n"
   ]
  },
  {
   "cell_type": "code",
   "execution_count": 0,
   "metadata": {
    "colab": {},
    "colab_type": "code",
    "id": "FymN5QpopXW-"
   },
   "outputs": [],
   "source": []
  },
  {
   "cell_type": "code",
   "execution_count": 0,
   "metadata": {
    "colab": {},
    "colab_type": "code",
    "id": "uKkpE3vEpXi8"
   },
   "outputs": [],
   "source": [
    "#Get the threshold predictions to look at refined results.\n",
    "preds_val_t = (preds_val > 0.5).astype(np.uint8)"
   ]
  },
  {
   "cell_type": "code",
   "execution_count": 0,
   "metadata": {
    "colab": {},
    "colab_type": "code",
    "id": "Pyn3RyCRpaRH"
   },
   "outputs": [],
   "source": [
    "#Plot a sample\n",
    "def plot_sample(X, y, preds, binary_preds, ix=None):\n",
    "    if ix is None:\n",
    "        ix = random.randint(0, len(X))\n",
    "\n",
    "    has_mask = y[ix].max() > 0\n",
    "\n",
    "    fig, ax = plt.subplots(1, 4, figsize=(20, 10))\n",
    "    ax[0].imshow(X[ix, ..., 0], cmap='seismic')\n",
    "    if has_mask:\n",
    "        ax[0].contour(y[ix].squeeze(), colors='k', levels=[0.5])\n",
    "    ax[0].set_title('Seismic')\n",
    "\n",
    "    ax[1].imshow(y[ix].squeeze())\n",
    "    ax[1].set_title('Salt')\n",
    "\n",
    "    ax[2].imshow(preds[ix].squeeze(), vmin=0, vmax=1)\n",
    "    if has_mask:\n",
    "        ax[2].contour(y[ix].squeeze(), colors='k', levels=[0.5])\n",
    "    ax[2].set_title('Salt Predicted')\n",
    "    \n",
    "    ax[3].imshow(binary_preds[ix].squeeze(), vmin=0, vmax=1)\n",
    "    if has_mask:\n",
    "        ax[3].contour(y[ix].squeeze(), colors='k', levels=[0.5])\n",
    "    ax[3].set_title('Salt Predicted binary');"
   ]
  },
  {
   "cell_type": "code",
   "execution_count": 0,
   "metadata": {
    "colab": {},
    "colab_type": "code",
    "id": "s_h5fcgYpbyR"
   },
   "outputs": [],
   "source": [
    "# Check if valid data looks all right\n",
    "plot_sample(X_valid, y_valid, preds_val, preds_val_t, ix=15)"
   ]
  },
  {
   "cell_type": "markdown",
   "metadata": {
    "colab_type": "text",
    "id": "oasnhlaDpeU0"
   },
   "source": [
    "If you are getting good results- Congratulations.\n",
    "If you are not, try to explore what might be the reason."
   ]
  },
  {
   "cell_type": "markdown",
   "metadata": {
    "colab_type": "text",
    "id": "yllJR0PQpm4M"
   },
   "source": [
    "# Text generation using a RNN"
   ]
  },
  {
   "cell_type": "markdown",
   "metadata": {
    "colab_type": "text",
    "id": "2W6g03QsptwG"
   },
   "source": [
    "Given a sequence of words from this data, train a model to predict the next word in the sequence. Longer sequences of text can be generated by calling the model repeatedly."
   ]
  },
  {
   "cell_type": "markdown",
   "metadata": {
    "colab_type": "text",
    "id": "hbd3E0IuHwjz"
   },
   "source": [
    "**Mount your Google Drive**"
   ]
  },
  {
   "cell_type": "code",
   "execution_count": 2,
   "metadata": {
    "colab": {
     "base_uri": "https://localhost:8080/",
     "height": 138
    },
    "colab_type": "code",
    "executionInfo": {
     "elapsed": 25009,
     "status": "ok",
     "timestamp": 1563702044714,
     "user": {
      "displayName": "Jeyakumar Kathiravan",
      "photoUrl": "https://lh6.googleusercontent.com/-ouGpZgD0fvU/AAAAAAAAAAI/AAAAAAAAHcA/MkU8l0m347I/s64/photo.jpg",
      "userId": "01019033696494576564"
     },
     "user_tz": -330
    },
    "id": "Dikrw1ylHtAL",
    "outputId": "31e987bc-ee87-4e2d-da92-de68afea6deb"
   },
   "outputs": [
    {
     "name": "stdout",
     "output_type": "stream",
     "text": [
      "Go to this URL in a browser: https://accounts.google.com/o/oauth2/auth?client_id=947318989803-6bn6qk8qdgf4n4g3pfee6491hc0brc4i.apps.googleusercontent.com&redirect_uri=urn%3Aietf%3Awg%3Aoauth%3A2.0%3Aoob&scope=email%20https%3A%2F%2Fwww.googleapis.com%2Fauth%2Fdocs.test%20https%3A%2F%2Fwww.googleapis.com%2Fauth%2Fdrive%20https%3A%2F%2Fwww.googleapis.com%2Fauth%2Fdrive.photos.readonly%20https%3A%2F%2Fwww.googleapis.com%2Fauth%2Fpeopleapi.readonly&response_type=code\n",
      "\n",
      "Enter your authorization code:\n",
      "··········\n",
      "Mounted at /gdrive\n",
      "/gdrive\n"
     ]
    }
   ],
   "source": [
    "from google.colab import drive\n",
    "drive.mount('/gdrive')\n",
    "%cd /gdrive"
   ]
  },
  {
   "cell_type": "code",
   "execution_count": 0,
   "metadata": {
    "colab": {},
    "colab_type": "code",
    "id": "8_uTQu4nIGzm"
   },
   "outputs": [],
   "source": [
    "project_path = '/gdrive/My Drive/AIML/R9/'"
   ]
  },
  {
   "cell_type": "markdown",
   "metadata": {
    "colab_type": "text",
    "id": "fnIX_mLXHdxS"
   },
   "source": [
    "### Import Keras and other libraries"
   ]
  },
  {
   "cell_type": "code",
   "execution_count": 4,
   "metadata": {
    "colab": {
     "base_uri": "https://localhost:8080/",
     "height": 34
    },
    "colab_type": "code",
    "executionInfo": {
     "elapsed": 2437,
     "status": "ok",
     "timestamp": 1563702051181,
     "user": {
      "displayName": "Jeyakumar Kathiravan",
      "photoUrl": "https://lh6.googleusercontent.com/-ouGpZgD0fvU/AAAAAAAAAAI/AAAAAAAAHcA/MkU8l0m347I/s64/photo.jpg",
      "userId": "01019033696494576564"
     },
     "user_tz": -330
    },
    "id": "0TmrQuvpHdxU",
    "outputId": "a2eb986e-80b1-41c5-fa46-a4e59066cd15"
   },
   "outputs": [
    {
     "name": "stderr",
     "output_type": "stream",
     "text": [
      "Using TensorFlow backend.\n"
     ]
    }
   ],
   "source": [
    "import glob\n",
    "\n",
    "from sklearn.utils import shuffle\n",
    "import numpy as np\n",
    "\n",
    "from keras.preprocessing.text import Tokenizer\n",
    "from keras.models import Sequential, load_model\n",
    "from keras.layers import LSTM, Dense, Dropout, Embedding, Masking, Bidirectional\n",
    "from keras.optimizers import Adam\n",
    "from keras import backend"
   ]
  },
  {
   "cell_type": "markdown",
   "metadata": {
    "colab_type": "text",
    "id": "zKBXQflGlPjG"
   },
   "source": [
    "## Download data\n",
    "Reference: Data is collected from http://www.gutenberg.org\n",
    "\n",
    "For the lab purpose, you can load the dataset provided by Great Learning"
   ]
  },
  {
   "cell_type": "markdown",
   "metadata": {
    "colab_type": "text",
    "id": "s321mV4DHdxZ"
   },
   "source": [
    "### Load the Oscar Wilde dataset\n",
    "\n",
    "Store all the \".txt\" file names in a list"
   ]
  },
  {
   "cell_type": "code",
   "execution_count": 0,
   "metadata": {
    "colab": {},
    "colab_type": "code",
    "id": "VUanlzNJHdxa"
   },
   "outputs": [],
   "source": [
    "namelist = glob.glob(project_path+\"data/data/*.txt\")"
   ]
  },
  {
   "cell_type": "code",
   "execution_count": 6,
   "metadata": {
    "colab": {
     "base_uri": "https://localhost:8080/",
     "height": 54
    },
    "colab_type": "code",
    "executionInfo": {
     "elapsed": 1115,
     "status": "ok",
     "timestamp": 1563702059585,
     "user": {
      "displayName": "Jeyakumar Kathiravan",
      "photoUrl": "https://lh6.googleusercontent.com/-ouGpZgD0fvU/AAAAAAAAAAI/AAAAAAAAHcA/MkU8l0m347I/s64/photo.jpg",
      "userId": "01019033696494576564"
     },
     "user_tz": -330
    },
    "id": "faivpVMgYLh7",
    "outputId": "056bf6cf-8f69-474d-d6ce-3bcba433183c"
   },
   "outputs": [
    {
     "name": "stdout",
     "output_type": "stream",
     "text": [
      "['/gdrive/My Drive/AIML/R9/data/data/A Critic in Pall Mall.txt', '/gdrive/My Drive/AIML/R9/data/data/A House of Pomegranates.txt', '/gdrive/My Drive/AIML/R9/data/data/Impressions of America.txt', '/gdrive/My Drive/AIML/R9/data/data/Charmides and Other Poems.txt', '/gdrive/My Drive/AIML/R9/data/data/A Woman of No Importance a play.txt', '/gdrive/My Drive/AIML/R9/data/data/An Ideal Husband.txt', '/gdrive/My Drive/AIML/R9/data/data/Children in Prison and Other Cruelties of Prison Life.txt', '/gdrive/My Drive/AIML/R9/data/data/For Love of the King.txt', '/gdrive/My Drive/AIML/R9/data/data/Essays and Lectures.txt', '/gdrive/My Drive/AIML/R9/data/data/De Profundis.txt', '/gdrive/My Drive/AIML/R9/data/data/Miscellanies.txt', '/gdrive/My Drive/AIML/R9/data/data/Salomé A tragedy in one act.txt', '/gdrive/My Drive/AIML/R9/data/data/Lord Arthur Savile_s Crime.txt', '/gdrive/My Drive/AIML/R9/data/data/Reviews.txt', '/gdrive/My Drive/AIML/R9/data/data/Poems with the Ballad of Reading Gaol.txt', '/gdrive/My Drive/AIML/R9/data/data/Miscellaneous Aphorisms_ The Soul of Man.txt', '/gdrive/My Drive/AIML/R9/data/data/Lady Windermere_s Fan.txt', '/gdrive/My Drive/AIML/R9/data/data/Oscar Wilde Miscellaneous.txt', '/gdrive/My Drive/AIML/R9/data/data/Rose Leaf and Apple Leaf.txt', '/gdrive/My Drive/AIML/R9/data/data/Intentions.txt', '/gdrive/My Drive/AIML/R9/data/data/Selected poems of oscar wilde including The Ballad of Reading Gaol.txt', '/gdrive/My Drive/AIML/R9/data/data/Shorter Prose Pieces.txt', '/gdrive/My Drive/AIML/R9/data/data/The Importance of Being Earnest.txt', '/gdrive/My Drive/AIML/R9/data/data/The Picture of Dorian Gray.txt', '/gdrive/My Drive/AIML/R9/data/data/The Ballad of Reading Gaol.txt', '/gdrive/My Drive/AIML/R9/data/data/The Happy Prince and other tales.txt', '/gdrive/My Drive/AIML/R9/data/data/Selected prose of oscar wilde with a Preface by Robert Ross.txt', '/gdrive/My Drive/AIML/R9/data/data/The Soul of Man.txt', '/gdrive/My Drive/AIML/R9/data/data/The Duchess of Padua.txt', '/gdrive/My Drive/AIML/R9/data/data/The Canterville Ghost.txt', '/gdrive/My Drive/AIML/R9/data/data/Vera or, The Nihilists.txt']\n"
     ]
    }
   ],
   "source": [
    "print(namelist)"
   ]
  },
  {
   "cell_type": "markdown",
   "metadata": {
    "colab_type": "text",
    "id": "glr4hv6uZkL-"
   },
   "source": [
    "### Read the data\n",
    "\n",
    "Read contents of every file from the list and append the text in a new list"
   ]
  },
  {
   "cell_type": "code",
   "execution_count": 0,
   "metadata": {
    "colab": {},
    "colab_type": "code",
    "id": "zLrMMjrkRt9x"
   },
   "outputs": [],
   "source": [
    "codetext = []\n",
    "bookranges = []\n",
    "for namefile in namelist:\n",
    "    booktext = open(namefile, \"r\")\n",
    "    start = len(codetext)\n",
    "    codetext.append(booktext.read())\n",
    "    end = len(codetext)\n",
    "    bookranges.append({\"start\": start, \"end\": end, \"name\": namefile.rsplit(\"/\", 1)[-1]})\n",
    "    booktext.close()"
   ]
  },
  {
   "cell_type": "markdown",
   "metadata": {
    "colab_type": "text",
    "id": "jMX-Fu-GHdxj"
   },
   "source": [
    "## Process the text\n",
    "Initialize and fit the tokenizer"
   ]
  },
  {
   "cell_type": "code",
   "execution_count": 0,
   "metadata": {
    "colab": {},
    "colab_type": "code",
    "id": "zQf1AV8wHdxl"
   },
   "outputs": [],
   "source": [
    "tokenizer = Tokenizer(lower=True, filters='!\"#$%&()*+,-./:;<=>?@[\\\\]^_`{|}~\\t\\n')\n",
    "tokenizer.fit_on_texts(codetext)"
   ]
  },
  {
   "cell_type": "markdown",
   "metadata": {
    "colab_type": "text",
    "id": "vpZ0A2-xHdxp"
   },
   "source": [
    "### Vectorize the text\n",
    "\n",
    "Before training, we need to map strings to a numerical representation. Create two lookup tables: one mapping words to numbers, and another for numbers to words."
   ]
  },
  {
   "cell_type": "code",
   "execution_count": 0,
   "metadata": {
    "colab": {},
    "colab_type": "code",
    "id": "_Nsq-rSPHdxq"
   },
   "outputs": [],
   "source": [
    "word_idx = tokenizer.word_index\n",
    "idx_word = tokenizer.index_word"
   ]
  },
  {
   "cell_type": "markdown",
   "metadata": {
    "colab_type": "text",
    "id": "YMYdjx4aHdxu"
   },
   "source": [
    "Get the word count for every word and also get the total number of words."
   ]
  },
  {
   "cell_type": "code",
   "execution_count": 0,
   "metadata": {
    "colab": {},
    "colab_type": "code",
    "id": "ioEZ2c21Hdxw"
   },
   "outputs": [],
   "source": [
    "word_counts = tokenizer.word_counts\n",
    "num_words = len(word_idx) + 1"
   ]
  },
  {
   "cell_type": "markdown",
   "metadata": {
    "colab_type": "text",
    "id": "dWUBr9rHHdx0"
   },
   "source": [
    "Convert text to sequence of numbers"
   ]
  },
  {
   "cell_type": "code",
   "execution_count": 0,
   "metadata": {
    "colab": {},
    "colab_type": "code",
    "id": "dwLl0BWKHdx2"
   },
   "outputs": [],
   "source": [
    "sequences = tokenizer.texts_to_sequences(codetext)"
   ]
  },
  {
   "cell_type": "markdown",
   "metadata": {
    "colab_type": "text",
    "id": "GkpK8McUHdx6"
   },
   "source": [
    "### Generate Features and Labels"
   ]
  },
  {
   "cell_type": "code",
   "execution_count": 0,
   "metadata": {
    "colab": {},
    "colab_type": "code",
    "id": "zxhQamjwHdx7"
   },
   "outputs": [],
   "source": [
    "features = []\n",
    "labels = []\n",
    "\n",
    "training_length = 50\n",
    "# Iterate through the sequences of tokens\n",
    "for seq in sequences:\n",
    "    # Create multiple training examples from each sequence\n",
    "    for i in range(training_length, training_length+300):\n",
    "        # Extract the features and label\n",
    "        extract = seq[i - training_length: i - training_length + 20]\n",
    "\n",
    "        # Set the features and label\n",
    "        features.append(extract[:-1])\n",
    "        labels.append(extract[-1])"
   ]
  },
  {
   "cell_type": "markdown",
   "metadata": {
    "colab_type": "text",
    "id": "bbmsf23Bymwe"
   },
   "source": [
    "### The prediction task"
   ]
  },
  {
   "cell_type": "markdown",
   "metadata": {
    "colab_type": "text",
    "id": "wssHQ1oGymwe"
   },
   "source": [
    "Given a word, or a sequence of words, what is the most probable next word? This is the task we're training the model to perform. The input to the model will be a sequence of words, and we train the model to predict the output—the following word at each time step.\n",
    "\n",
    "Since RNNs maintain an internal state that depends on the previously seen elements, given all the words computed until this moment, what is the next word?"
   ]
  },
  {
   "cell_type": "markdown",
   "metadata": {
    "colab_type": "text",
    "id": "T2bsVOl7HdyA"
   },
   "source": [
    "### Generate training and testing data"
   ]
  },
  {
   "cell_type": "code",
   "execution_count": 0,
   "metadata": {
    "colab": {},
    "colab_type": "code",
    "id": "j7-IsvynHdyB"
   },
   "outputs": [],
   "source": [
    "from sklearn.utils import shuffle\n",
    "import numpy as np\n",
    "\n",
    "features, labels = shuffle(features, labels, random_state=1)\n",
    "\n",
    "# Decide on number of samples for training\n",
    "train_end = int(0.7 * len(labels))\n",
    "\n",
    "train_features = np.array(features[:train_end])\n",
    "valid_features = np.array(features[train_end:])\n",
    "\n",
    "train_labels = labels[:train_end]\n",
    "valid_labels = labels[train_end:]\n",
    "\n",
    "# Convert to arrays\n",
    "X_train, X_valid = np.array(train_features), np.array(valid_features)\n",
    "\n",
    "# Using int8 for memory savings\n",
    "y_train = np.zeros((len(train_labels), num_words), dtype=np.int8)\n",
    "y_valid = np.zeros((len(valid_labels), num_words), dtype=np.int8)\n",
    "\n",
    "# One hot encoding of labels\n",
    "for example_index, word_index in enumerate(train_labels):\n",
    "    y_train[example_index, word_index] = 1\n",
    "\n",
    "for example_index, word_index in enumerate(valid_labels):\n",
    "    y_valid[example_index, word_index] = 1"
   ]
  },
  {
   "cell_type": "markdown",
   "metadata": {
    "colab_type": "text",
    "id": "juT1mZrUHdyE"
   },
   "source": [
    "This is just to check the features and labels"
   ]
  },
  {
   "cell_type": "code",
   "execution_count": 14,
   "metadata": {
    "colab": {
     "base_uri": "https://localhost:8080/",
     "height": 151
    },
    "colab_type": "code",
    "executionInfo": {
     "elapsed": 1158,
     "status": "ok",
     "timestamp": 1563702109862,
     "user": {
      "displayName": "Jeyakumar Kathiravan",
      "photoUrl": "https://lh6.googleusercontent.com/-ouGpZgD0fvU/AAAAAAAAAAI/AAAAAAAAHcA/MkU8l0m347I/s64/photo.jpg",
      "userId": "01019033696494576564"
     },
     "user_tz": -330
    },
    "id": "wkdmNbgjHdyF",
    "outputId": "145f30ec-16df-48c3-9e2b-3120f474ffa8"
   },
   "outputs": [
    {
     "name": "stdout",
     "output_type": "stream",
     "text": [
      "Features: above the city on a tall column stood the statue of the happy prince he was gilded all over\n",
      "\n",
      "Label: with\n",
      "\n",
      "Features: by dianna adair paul clark and the online distributed proofreading team at http www pgdp net this file was\n",
      "\n",
      "Label: produced\n",
      "\n"
     ]
    }
   ],
   "source": [
    "for i, sequence in enumerate(X_train[:2]):\n",
    "    text = []\n",
    "#     print(i, sequence)\n",
    "    for idx in sequence:\n",
    "        text.append(idx_word[idx])\n",
    "        \n",
    "    print('Features: ' + ' '.join(text)+'\\n')\n",
    "    print('Label: ' + idx_word[np.argmax(y_train[i])] + '\\n')"
   ]
  },
  {
   "cell_type": "markdown",
   "metadata": {
    "colab_type": "text",
    "id": "r6oUuElIMgVx"
   },
   "source": [
    "## Build The Model"
   ]
  },
  {
   "cell_type": "markdown",
   "metadata": {
    "colab_type": "text",
    "id": "m8gPwEjRzf-Z"
   },
   "source": [
    "Use `keras.Sequential` to define the model. For this simple example three layers are used to define our model:\n",
    "\n",
    "* `keras.layers.Embedding`: The input layer. A trainable lookup table that will map the numbers of each character to a vector with `embedding_dim` dimensions;\n",
    "* `keras.layers.LSTM`: A type of RNN with size `units=rnn_units` (You can also use a GRU layer here.)\n",
    "* `keras.layers.Dense`: The output layer, with `num_words` outputs."
   ]
  },
  {
   "cell_type": "code",
   "execution_count": 15,
   "metadata": {
    "colab": {
     "base_uri": "https://localhost:8080/",
     "height": 591
    },
    "colab_type": "code",
    "executionInfo": {
     "elapsed": 1451,
     "status": "ok",
     "timestamp": 1563702117275,
     "user": {
      "displayName": "Jeyakumar Kathiravan",
      "photoUrl": "https://lh6.googleusercontent.com/-ouGpZgD0fvU/AAAAAAAAAAI/AAAAAAAAHcA/MkU8l0m347I/s64/photo.jpg",
      "userId": "01019033696494576564"
     },
     "user_tz": -330
    },
    "id": "GKpCQFZLHdyN",
    "outputId": "2805f881-a3ea-4491-be3c-295c8ada6f2a"
   },
   "outputs": [
    {
     "name": "stderr",
     "output_type": "stream",
     "text": [
      "WARNING: Logging before flag parsing goes to stderr.\n",
      "W0721 09:41:58.051303 140603634853760 deprecation_wrapper.py:119] From /usr/local/lib/python3.6/dist-packages/keras/backend/tensorflow_backend.py:74: The name tf.get_default_graph is deprecated. Please use tf.compat.v1.get_default_graph instead.\n",
      "\n",
      "W0721 09:41:58.088203 140603634853760 deprecation_wrapper.py:119] From /usr/local/lib/python3.6/dist-packages/keras/backend/tensorflow_backend.py:517: The name tf.placeholder is deprecated. Please use tf.compat.v1.placeholder instead.\n",
      "\n",
      "W0721 09:41:58.094381 140603634853760 deprecation_wrapper.py:119] From /usr/local/lib/python3.6/dist-packages/keras/backend/tensorflow_backend.py:4138: The name tf.random_uniform is deprecated. Please use tf.random.uniform instead.\n",
      "\n",
      "W0721 09:41:58.210411 140603634853760 deprecation_wrapper.py:119] From /usr/local/lib/python3.6/dist-packages/keras/backend/tensorflow_backend.py:133: The name tf.placeholder_with_default is deprecated. Please use tf.compat.v1.placeholder_with_default instead.\n",
      "\n",
      "W0721 09:41:58.221205 140603634853760 deprecation.py:506] From /usr/local/lib/python3.6/dist-packages/keras/backend/tensorflow_backend.py:3445: calling dropout (from tensorflow.python.ops.nn_ops) with keep_prob is deprecated and will be removed in a future version.\n",
      "Instructions for updating:\n",
      "Please use `rate` instead of `keep_prob`. Rate should be set to `rate = 1 - keep_prob`.\n",
      "W0721 09:41:58.631281 140603634853760 deprecation_wrapper.py:119] From /usr/local/lib/python3.6/dist-packages/keras/optimizers.py:790: The name tf.train.Optimizer is deprecated. Please use tf.compat.v1.train.Optimizer instead.\n",
      "\n",
      "W0721 09:41:58.655372 140603634853760 deprecation_wrapper.py:119] From /usr/local/lib/python3.6/dist-packages/keras/backend/tensorflow_backend.py:3295: The name tf.log is deprecated. Please use tf.math.log instead.\n",
      "\n"
     ]
    },
    {
     "name": "stdout",
     "output_type": "stream",
     "text": [
      "_________________________________________________________________\n",
      "Layer (type)                 Output Shape              Param #   \n",
      "=================================================================\n",
      "embedding_1 (Embedding)      (None, None, 100)         3283900   \n",
      "_________________________________________________________________\n",
      "lstm_1 (LSTM)                (None, 64)                42240     \n",
      "_________________________________________________________________\n",
      "dense_1 (Dense)              (None, 64)                4160      \n",
      "_________________________________________________________________\n",
      "dropout_1 (Dropout)          (None, 64)                0         \n",
      "_________________________________________________________________\n",
      "dense_2 (Dense)              (None, 32839)             2134535   \n",
      "=================================================================\n",
      "Total params: 5,464,835\n",
      "Trainable params: 5,464,835\n",
      "Non-trainable params: 0\n",
      "_________________________________________________________________\n"
     ]
    }
   ],
   "source": [
    "model = Sequential()\n",
    "\n",
    "# Embedding layer\n",
    "model.add(\n",
    "    Embedding(\n",
    "        input_dim=len(word_idx) + 1,\n",
    "        output_dim=100,\n",
    "        weights=None,\n",
    "        trainable=True))\n",
    "\n",
    "# Recurrent layer\n",
    "model.add(\n",
    "    LSTM(\n",
    "        64, return_sequences=False, dropout=0.1,\n",
    "        recurrent_dropout=0.1))\n",
    "\n",
    "# Fully connected layer\n",
    "model.add(Dense(64, activation='relu'))\n",
    "\n",
    "# Dropout for regularization\n",
    "model.add(Dropout(0.5))\n",
    "\n",
    "# Output layer\n",
    "model.add(Dense(num_words, activation='softmax'))\n",
    "\n",
    "# Compile the model\n",
    "model.compile(\n",
    "    optimizer='adam', loss='categorical_crossentropy', metrics=['accuracy'])\n",
    "\n",
    "model.summary()"
   ]
  },
  {
   "cell_type": "markdown",
   "metadata": {
    "colab_type": "text",
    "id": "vL3tUp1UHdyS"
   },
   "source": [
    "For each word the model looks up the embedding, runs the LSTM one timestep with the embedding as input, and applies the dense layer to generate logits predicting the log-liklihood of the next word."
   ]
  },
  {
   "cell_type": "markdown",
   "metadata": {
    "colab_type": "text",
    "id": "LJL0Q0YPY6Ee"
   },
   "source": [
    "## Train the model"
   ]
  },
  {
   "cell_type": "code",
   "execution_count": 16,
   "metadata": {
    "colab": {
     "base_uri": "https://localhost:8080/",
     "height": 1000
    },
    "colab_type": "code",
    "executionInfo": {
     "elapsed": 524900,
     "status": "ok",
     "timestamp": 1563702646723,
     "user": {
      "displayName": "Jeyakumar Kathiravan",
      "photoUrl": "https://lh6.googleusercontent.com/-ouGpZgD0fvU/AAAAAAAAAAI/AAAAAAAAHcA/MkU8l0m347I/s64/photo.jpg",
      "userId": "01019033696494576564"
     },
     "user_tz": -330
    },
    "id": "6o84puBcHdyV",
    "outputId": "8ece5659-7258-4d87-b841-d4981406cb30"
   },
   "outputs": [
    {
     "name": "stderr",
     "output_type": "stream",
     "text": [
      "W0721 09:42:04.165867 140603634853760 deprecation.py:323] From /usr/local/lib/python3.6/dist-packages/tensorflow/python/ops/math_grad.py:1250: add_dispatch_support.<locals>.wrapper (from tensorflow.python.ops.array_ops) is deprecated and will be removed in a future version.\n",
      "Instructions for updating:\n",
      "Use tf.where in 2.0, which has the same broadcast rule as np.where\n"
     ]
    },
    {
     "name": "stdout",
     "output_type": "stream",
     "text": [
      "Epoch 1/100\n",
      "6510/6510 [==============================] - 10s 1ms/step - loss: 8.2092 - acc: 0.0539\n",
      "Epoch 2/100\n",
      "6510/6510 [==============================] - 5s 797us/step - loss: 6.7532 - acc: 0.0602\n",
      "Epoch 3/100\n",
      "6510/6510 [==============================] - 5s 802us/step - loss: 6.4560 - acc: 0.0605\n",
      "Epoch 4/100\n",
      "6510/6510 [==============================] - 5s 804us/step - loss: 6.2868 - acc: 0.0582\n",
      "Epoch 5/100\n",
      "6510/6510 [==============================] - 5s 796us/step - loss: 6.1474 - acc: 0.0602\n",
      "Epoch 6/100\n",
      "6510/6510 [==============================] - 5s 795us/step - loss: 6.0073 - acc: 0.0641\n",
      "Epoch 7/100\n",
      "6510/6510 [==============================] - 5s 809us/step - loss: 5.8757 - acc: 0.0736\n",
      "Epoch 8/100\n",
      "6510/6510 [==============================] - 5s 798us/step - loss: 5.7655 - acc: 0.0730\n",
      "Epoch 9/100\n",
      "6510/6510 [==============================] - 5s 793us/step - loss: 5.6795 - acc: 0.0776\n",
      "Epoch 10/100\n",
      "6510/6510 [==============================] - 5s 798us/step - loss: 5.5875 - acc: 0.0803\n",
      "Epoch 11/100\n",
      "6510/6510 [==============================] - 5s 798us/step - loss: 5.4930 - acc: 0.0877\n",
      "Epoch 12/100\n",
      "6510/6510 [==============================] - 5s 795us/step - loss: 5.3806 - acc: 0.0917\n",
      "Epoch 13/100\n",
      "6510/6510 [==============================] - 5s 794us/step - loss: 5.2723 - acc: 0.1025\n",
      "Epoch 14/100\n",
      "6510/6510 [==============================] - 5s 791us/step - loss: 5.1488 - acc: 0.1158\n",
      "Epoch 15/100\n",
      "6510/6510 [==============================] - 5s 792us/step - loss: 5.0226 - acc: 0.1273\n",
      "Epoch 16/100\n",
      "6510/6510 [==============================] - 5s 796us/step - loss: 4.8824 - acc: 0.1472\n",
      "Epoch 17/100\n",
      "6510/6510 [==============================] - 5s 798us/step - loss: 4.7554 - acc: 0.1570\n",
      "Epoch 18/100\n",
      "6510/6510 [==============================] - 5s 802us/step - loss: 4.6217 - acc: 0.1843\n",
      "Epoch 19/100\n",
      "6510/6510 [==============================] - 5s 807us/step - loss: 4.4902 - acc: 0.1968\n",
      "Epoch 20/100\n",
      "6510/6510 [==============================] - 5s 803us/step - loss: 4.3657 - acc: 0.2223\n",
      "Epoch 21/100\n",
      "6510/6510 [==============================] - 5s 807us/step - loss: 4.2708 - acc: 0.2386\n",
      "Epoch 22/100\n",
      "6510/6510 [==============================] - 5s 798us/step - loss: 4.1732 - acc: 0.2490\n",
      "Epoch 23/100\n",
      "6510/6510 [==============================] - 5s 802us/step - loss: 4.0445 - acc: 0.2642\n",
      "Epoch 24/100\n",
      "6510/6510 [==============================] - 5s 797us/step - loss: 3.9489 - acc: 0.2779\n",
      "Epoch 25/100\n",
      "6510/6510 [==============================] - 5s 803us/step - loss: 3.8528 - acc: 0.2869\n",
      "Epoch 26/100\n",
      "6510/6510 [==============================] - 5s 794us/step - loss: 3.7614 - acc: 0.3038\n",
      "Epoch 27/100\n",
      "6510/6510 [==============================] - 5s 806us/step - loss: 3.6917 - acc: 0.3152\n",
      "Epoch 28/100\n",
      "6510/6510 [==============================] - 5s 800us/step - loss: 3.5925 - acc: 0.3186\n",
      "Epoch 29/100\n",
      "6510/6510 [==============================] - 5s 801us/step - loss: 3.5191 - acc: 0.3324\n",
      "Epoch 30/100\n",
      "6510/6510 [==============================] - 5s 795us/step - loss: 3.4398 - acc: 0.3422\n",
      "Epoch 31/100\n",
      "6510/6510 [==============================] - 5s 796us/step - loss: 3.3653 - acc: 0.3452\n",
      "Epoch 32/100\n",
      "6510/6510 [==============================] - 5s 792us/step - loss: 3.3042 - acc: 0.3590\n",
      "Epoch 33/100\n",
      "6510/6510 [==============================] - 5s 801us/step - loss: 3.1996 - acc: 0.3651\n",
      "Epoch 34/100\n",
      "6510/6510 [==============================] - 5s 804us/step - loss: 3.1457 - acc: 0.3793\n",
      "Epoch 35/100\n",
      "6510/6510 [==============================] - 5s 811us/step - loss: 3.0689 - acc: 0.3873\n",
      "Epoch 36/100\n",
      "6510/6510 [==============================] - 5s 796us/step - loss: 3.0121 - acc: 0.3909\n",
      "Epoch 37/100\n",
      "6510/6510 [==============================] - 5s 795us/step - loss: 2.9441 - acc: 0.3960\n",
      "Epoch 38/100\n",
      "6510/6510 [==============================] - 5s 790us/step - loss: 2.8797 - acc: 0.4032\n",
      "Epoch 39/100\n",
      "6510/6510 [==============================] - 5s 796us/step - loss: 2.8448 - acc: 0.4083\n",
      "Epoch 40/100\n",
      "6510/6510 [==============================] - 5s 790us/step - loss: 2.7767 - acc: 0.4257\n",
      "Epoch 41/100\n",
      "6510/6510 [==============================] - 5s 789us/step - loss: 2.6974 - acc: 0.4247\n",
      "Epoch 42/100\n",
      "6510/6510 [==============================] - 5s 791us/step - loss: 2.6646 - acc: 0.4338\n",
      "Epoch 43/100\n",
      "6510/6510 [==============================] - 5s 784us/step - loss: 2.5896 - acc: 0.4338\n",
      "Epoch 44/100\n",
      "6510/6510 [==============================] - 5s 785us/step - loss: 2.5691 - acc: 0.4395\n",
      "Epoch 45/100\n",
      "6510/6510 [==============================] - 5s 792us/step - loss: 2.5040 - acc: 0.4504\n",
      "Epoch 46/100\n",
      "6510/6510 [==============================] - 5s 794us/step - loss: 2.4486 - acc: 0.4588\n",
      "Epoch 47/100\n",
      "6510/6510 [==============================] - 5s 799us/step - loss: 2.4241 - acc: 0.4559\n",
      "Epoch 48/100\n",
      "6510/6510 [==============================] - 5s 831us/step - loss: 2.3949 - acc: 0.4573\n",
      "Epoch 49/100\n",
      "6510/6510 [==============================] - 5s 815us/step - loss: 2.3335 - acc: 0.4768\n",
      "Epoch 50/100\n",
      "6510/6510 [==============================] - 5s 799us/step - loss: 2.2856 - acc: 0.4783\n",
      "Epoch 51/100\n",
      "6510/6510 [==============================] - 5s 794us/step - loss: 2.2460 - acc: 0.4751\n",
      "Epoch 52/100\n",
      "6510/6510 [==============================] - 5s 791us/step - loss: 2.2088 - acc: 0.4909\n",
      "Epoch 53/100\n",
      "6510/6510 [==============================] - 5s 788us/step - loss: 2.1667 - acc: 0.4977\n",
      "Epoch 54/100\n",
      "6510/6510 [==============================] - 5s 793us/step - loss: 2.1438 - acc: 0.4977\n",
      "Epoch 55/100\n",
      "6510/6510 [==============================] - 5s 790us/step - loss: 2.1171 - acc: 0.4971\n",
      "Epoch 56/100\n",
      "6510/6510 [==============================] - 5s 791us/step - loss: 2.0624 - acc: 0.5071\n",
      "Epoch 57/100\n",
      "6510/6510 [==============================] - 5s 789us/step - loss: 2.0117 - acc: 0.5123\n",
      "Epoch 58/100\n",
      "6510/6510 [==============================] - 5s 794us/step - loss: 1.9925 - acc: 0.5171\n",
      "Epoch 59/100\n",
      "6510/6510 [==============================] - 5s 792us/step - loss: 1.9646 - acc: 0.5273\n",
      "Epoch 60/100\n",
      "6510/6510 [==============================] - 5s 793us/step - loss: 1.9449 - acc: 0.5252\n",
      "Epoch 61/100\n",
      "6510/6510 [==============================] - 5s 790us/step - loss: 1.8909 - acc: 0.5402\n",
      "Epoch 62/100\n",
      "6510/6510 [==============================] - 5s 791us/step - loss: 1.8801 - acc: 0.5416\n",
      "Epoch 63/100\n",
      "6510/6510 [==============================] - 5s 793us/step - loss: 1.8510 - acc: 0.5450\n",
      "Epoch 64/100\n",
      "6510/6510 [==============================] - 5s 796us/step - loss: 1.8046 - acc: 0.5585\n",
      "Epoch 65/100\n",
      "6510/6510 [==============================] - 5s 792us/step - loss: 1.7729 - acc: 0.5596\n",
      "Epoch 66/100\n",
      "6510/6510 [==============================] - 5s 809us/step - loss: 1.7431 - acc: 0.5590\n",
      "Epoch 67/100\n",
      "6510/6510 [==============================] - 5s 791us/step - loss: 1.6995 - acc: 0.5700\n",
      "Epoch 68/100\n",
      "6510/6510 [==============================] - 5s 795us/step - loss: 1.6970 - acc: 0.5657\n",
      "Epoch 69/100\n",
      "6510/6510 [==============================] - 5s 787us/step - loss: 1.6482 - acc: 0.5802\n",
      "Epoch 70/100\n",
      "6510/6510 [==============================] - 5s 799us/step - loss: 1.6525 - acc: 0.5739\n",
      "Epoch 71/100\n",
      "6510/6510 [==============================] - 5s 810us/step - loss: 1.6524 - acc: 0.5757\n",
      "Epoch 72/100\n",
      "6510/6510 [==============================] - 5s 840us/step - loss: 1.6116 - acc: 0.5839\n",
      "Epoch 73/100\n",
      "6510/6510 [==============================] - 5s 834us/step - loss: 1.5990 - acc: 0.5929\n",
      "Epoch 74/100\n",
      "6510/6510 [==============================] - 5s 839us/step - loss: 1.5559 - acc: 0.5963\n",
      "Epoch 75/100\n",
      "6510/6510 [==============================] - 5s 843us/step - loss: 1.5381 - acc: 0.6026\n",
      "Epoch 76/100\n",
      "6510/6510 [==============================] - 5s 802us/step - loss: 1.4958 - acc: 0.6115\n",
      "Epoch 77/100\n",
      "6510/6510 [==============================] - 5s 794us/step - loss: 1.5173 - acc: 0.6097\n",
      "Epoch 78/100\n",
      "6510/6510 [==============================] - 5s 790us/step - loss: 1.4913 - acc: 0.6049\n",
      "Epoch 79/100\n",
      "6510/6510 [==============================] - 5s 787us/step - loss: 1.4874 - acc: 0.6074\n",
      "Epoch 80/100\n",
      "6510/6510 [==============================] - 5s 789us/step - loss: 1.4354 - acc: 0.6247\n",
      "Epoch 81/100\n",
      "6510/6510 [==============================] - 5s 790us/step - loss: 1.4105 - acc: 0.6284\n",
      "Epoch 82/100\n",
      "6510/6510 [==============================] - 5s 785us/step - loss: 1.4033 - acc: 0.6223\n",
      "Epoch 83/100\n",
      "6510/6510 [==============================] - 5s 788us/step - loss: 1.3715 - acc: 0.6346\n",
      "Epoch 84/100\n",
      "6510/6510 [==============================] - 5s 785us/step - loss: 1.3828 - acc: 0.6253\n",
      "Epoch 85/100\n",
      "6510/6510 [==============================] - 5s 786us/step - loss: 1.3758 - acc: 0.6261\n",
      "Epoch 86/100\n",
      "6510/6510 [==============================] - 5s 784us/step - loss: 1.3207 - acc: 0.6435\n",
      "Epoch 87/100\n",
      "6510/6510 [==============================] - 5s 782us/step - loss: 1.3440 - acc: 0.6425\n",
      "Epoch 88/100\n",
      "6510/6510 [==============================] - 5s 777us/step - loss: 1.3102 - acc: 0.6488\n",
      "Epoch 89/100\n",
      "6510/6510 [==============================] - 5s 781us/step - loss: 1.3148 - acc: 0.6479\n",
      "Epoch 90/100\n",
      "6510/6510 [==============================] - 5s 783us/step - loss: 1.2788 - acc: 0.6524\n",
      "Epoch 91/100\n",
      "6510/6510 [==============================] - 5s 782us/step - loss: 1.2685 - acc: 0.6565\n",
      "Epoch 92/100\n",
      "6510/6510 [==============================] - 5s 779us/step - loss: 1.2524 - acc: 0.6619\n",
      "Epoch 93/100\n",
      "6510/6510 [==============================] - 5s 782us/step - loss: 1.2491 - acc: 0.6618\n",
      "Epoch 94/100\n",
      "6510/6510 [==============================] - 5s 782us/step - loss: 1.2479 - acc: 0.6576\n",
      "Epoch 95/100\n",
      "6510/6510 [==============================] - 5s 780us/step - loss: 1.2167 - acc: 0.6743\n",
      "Epoch 96/100\n",
      "6510/6510 [==============================] - 5s 785us/step - loss: 1.1885 - acc: 0.6808\n",
      "Epoch 97/100\n",
      "6510/6510 [==============================] - 5s 780us/step - loss: 1.1959 - acc: 0.6693\n",
      "Epoch 98/100\n",
      "6510/6510 [==============================] - 5s 782us/step - loss: 1.1964 - acc: 0.6673\n",
      "Epoch 99/100\n",
      "6510/6510 [==============================] - 5s 775us/step - loss: 1.1708 - acc: 0.6783\n",
      "Epoch 100/100\n",
      "6510/6510 [==============================] - 5s 775us/step - loss: 1.1503 - acc: 0.6819\n"
     ]
    }
   ],
   "source": [
    "h = model.fit(X_train, y_train, epochs = 100, batch_size = 50, \n",
    "          verbose = 1)## Train the model\n",
    "#Due to time constraint I ran with 100 epochs"
   ]
  },
  {
   "cell_type": "markdown",
   "metadata": {
    "colab_type": "text",
    "id": "82716QWAJrXG"
   },
   "source": [
    "### Save Model"
   ]
  },
  {
   "cell_type": "code",
   "execution_count": 0,
   "metadata": {
    "colab": {},
    "colab_type": "code",
    "id": "_8MFkQgYJm-D"
   },
   "outputs": [],
   "source": [
    "# save the model to file\n",
    "model.save(project_path+'data/data/model_100epochs.h5')"
   ]
  },
  {
   "cell_type": "code",
   "execution_count": 18,
   "metadata": {
    "colab": {
     "base_uri": "https://localhost:8080/",
     "height": 34
    },
    "colab_type": "code",
    "executionInfo": {
     "elapsed": 990,
     "status": "ok",
     "timestamp": 1563702657057,
     "user": {
      "displayName": "Jeyakumar Kathiravan",
      "photoUrl": "https://lh6.googleusercontent.com/-ouGpZgD0fvU/AAAAAAAAAAI/AAAAAAAAHcA/MkU8l0m347I/s64/photo.jpg",
      "userId": "01019033696494576564"
     },
     "user_tz": -330
    },
    "id": "VMA7wMtddGjQ",
    "outputId": "58259223-dcd0-4157-cefb-941a1bba6d5a"
   },
   "outputs": [
    {
     "data": {
      "text/plain": [
       "'/gdrive'"
      ]
     },
     "execution_count": 18,
     "metadata": {
      "tags": []
     },
     "output_type": "execute_result"
    }
   ],
   "source": [
    "pwd"
   ]
  },
  {
   "cell_type": "markdown",
   "metadata": {
    "colab_type": "text",
    "id": "4AYVKydVJv5C"
   },
   "source": [
    "## If you have already trained the model and saved it, you can load a pretrained model"
   ]
  },
  {
   "cell_type": "code",
   "execution_count": 0,
   "metadata": {
    "colab": {},
    "colab_type": "code",
    "id": "IqsQUz04J0GP"
   },
   "outputs": [],
   "source": [
    "# load the model\n",
    "model = load_model(project_path+'data/data/model_100epochs.h5')"
   ]
  },
  {
   "cell_type": "markdown",
   "metadata": {
    "colab_type": "text",
    "id": "ZFe2Y0SJJ3Hb"
   },
   "source": [
    "### Note: After loading the model run  model.fit()  to continue training form there, if required."
   ]
  },
  {
   "cell_type": "code",
   "execution_count": 20,
   "metadata": {
    "colab": {
     "base_uri": "https://localhost:8080/",
     "height": 1000
    },
    "colab_type": "code",
    "executionInfo": {
     "elapsed": 520756,
     "status": "ok",
     "timestamp": 1563703183713,
     "user": {
      "displayName": "Jeyakumar Kathiravan",
      "photoUrl": "https://lh6.googleusercontent.com/-ouGpZgD0fvU/AAAAAAAAAAI/AAAAAAAAHcA/MkU8l0m347I/s64/photo.jpg",
      "userId": "01019033696494576564"
     },
     "user_tz": -330
    },
    "id": "e9yLm_xnJ5JV",
    "outputId": "56c9173e-8619-43a9-c3b1-644c81c56970"
   },
   "outputs": [
    {
     "name": "stdout",
     "output_type": "stream",
     "text": [
      "Epoch 1/100\n",
      "6510/6510 [==============================] - 6s 919us/step - loss: 1.1251 - acc: 0.6836\n",
      "Epoch 2/100\n",
      "6510/6510 [==============================] - 5s 786us/step - loss: 1.1357 - acc: 0.6843\n",
      "Epoch 3/100\n",
      "6510/6510 [==============================] - 5s 790us/step - loss: 1.1293 - acc: 0.6876\n",
      "Epoch 4/100\n",
      "6510/6510 [==============================] - 5s 815us/step - loss: 1.1412 - acc: 0.6816\n",
      "Epoch 5/100\n",
      "6510/6510 [==============================] - 5s 820us/step - loss: 1.1165 - acc: 0.6891\n",
      "Epoch 6/100\n",
      "6510/6510 [==============================] - 5s 803us/step - loss: 1.0825 - acc: 0.7009\n",
      "Epoch 7/100\n",
      "6510/6510 [==============================] - 5s 794us/step - loss: 1.0888 - acc: 0.6963\n",
      "Epoch 8/100\n",
      "6510/6510 [==============================] - 5s 790us/step - loss: 1.0813 - acc: 0.6969\n",
      "Epoch 9/100\n",
      "6510/6510 [==============================] - 5s 800us/step - loss: 1.0694 - acc: 0.6989\n",
      "Epoch 10/100\n",
      "6510/6510 [==============================] - 5s 794us/step - loss: 1.0717 - acc: 0.7005\n",
      "Epoch 11/100\n",
      "6510/6510 [==============================] - 5s 787us/step - loss: 1.0402 - acc: 0.7045\n",
      "Epoch 12/100\n",
      "6510/6510 [==============================] - 5s 790us/step - loss: 1.0515 - acc: 0.7003\n",
      "Epoch 13/100\n",
      "6510/6510 [==============================] - 5s 795us/step - loss: 1.0553 - acc: 0.6972\n",
      "Epoch 14/100\n",
      "6510/6510 [==============================] - 5s 786us/step - loss: 0.9961 - acc: 0.7155\n",
      "Epoch 15/100\n",
      "6510/6510 [==============================] - 5s 780us/step - loss: 0.9734 - acc: 0.7286\n",
      "Epoch 16/100\n",
      "6510/6510 [==============================] - 5s 786us/step - loss: 0.9990 - acc: 0.7220\n",
      "Epoch 17/100\n",
      "6510/6510 [==============================] - 5s 790us/step - loss: 0.9820 - acc: 0.7160\n",
      "Epoch 18/100\n",
      "6510/6510 [==============================] - 5s 793us/step - loss: 0.9907 - acc: 0.7209\n",
      "Epoch 19/100\n",
      "6510/6510 [==============================] - 5s 801us/step - loss: 0.9641 - acc: 0.7235\n",
      "Epoch 20/100\n",
      "6510/6510 [==============================] - 5s 832us/step - loss: 0.9757 - acc: 0.7194\n",
      "Epoch 21/100\n",
      "6510/6510 [==============================] - 5s 799us/step - loss: 0.9771 - acc: 0.7177\n",
      "Epoch 22/100\n",
      "6510/6510 [==============================] - 5s 806us/step - loss: 0.9920 - acc: 0.7141\n",
      "Epoch 23/100\n",
      "6510/6510 [==============================] - 5s 796us/step - loss: 0.9591 - acc: 0.7261\n",
      "Epoch 24/100\n",
      "6510/6510 [==============================] - 5s 802us/step - loss: 0.9409 - acc: 0.7240\n",
      "Epoch 25/100\n",
      "6510/6510 [==============================] - 5s 801us/step - loss: 0.9465 - acc: 0.7252\n",
      "Epoch 26/100\n",
      "6510/6510 [==============================] - 5s 792us/step - loss: 0.9331 - acc: 0.7276\n",
      "Epoch 27/100\n",
      "6510/6510 [==============================] - 5s 799us/step - loss: 0.9350 - acc: 0.7281\n",
      "Epoch 28/100\n",
      "6510/6510 [==============================] - 5s 798us/step - loss: 0.9334 - acc: 0.7273\n",
      "Epoch 29/100\n",
      "6510/6510 [==============================] - 5s 796us/step - loss: 0.9196 - acc: 0.7333\n",
      "Epoch 30/100\n",
      "6510/6510 [==============================] - 5s 795us/step - loss: 0.9291 - acc: 0.7290\n",
      "Epoch 31/100\n",
      "6510/6510 [==============================] - 5s 799us/step - loss: 0.9034 - acc: 0.7389\n",
      "Epoch 32/100\n",
      "6510/6510 [==============================] - 5s 802us/step - loss: 0.8942 - acc: 0.7409\n",
      "Epoch 33/100\n",
      "6510/6510 [==============================] - 5s 795us/step - loss: 0.8867 - acc: 0.7401\n",
      "Epoch 34/100\n",
      "6510/6510 [==============================] - 5s 798us/step - loss: 0.8998 - acc: 0.7369\n",
      "Epoch 35/100\n",
      "6510/6510 [==============================] - 5s 800us/step - loss: 0.9175 - acc: 0.7363\n",
      "Epoch 36/100\n",
      "6510/6510 [==============================] - 5s 795us/step - loss: 0.8702 - acc: 0.7465\n",
      "Epoch 37/100\n",
      "6510/6510 [==============================] - 5s 813us/step - loss: 0.8792 - acc: 0.7407\n",
      "Epoch 38/100\n",
      "6510/6510 [==============================] - 5s 819us/step - loss: 0.8443 - acc: 0.7504\n",
      "Epoch 39/100\n",
      "6510/6510 [==============================] - 5s 834us/step - loss: 0.8750 - acc: 0.7424\n",
      "Epoch 40/100\n",
      "6510/6510 [==============================] - 5s 819us/step - loss: 0.8370 - acc: 0.7505\n",
      "Epoch 41/100\n",
      "6510/6510 [==============================] - 5s 798us/step - loss: 0.8278 - acc: 0.7530\n",
      "Epoch 42/100\n",
      "6510/6510 [==============================] - 5s 800us/step - loss: 0.8514 - acc: 0.7476\n",
      "Epoch 43/100\n",
      "6510/6510 [==============================] - 5s 793us/step - loss: 0.8086 - acc: 0.7619\n",
      "Epoch 44/100\n",
      "6510/6510 [==============================] - 5s 792us/step - loss: 0.8485 - acc: 0.7521\n",
      "Epoch 45/100\n",
      "6510/6510 [==============================] - 5s 793us/step - loss: 0.8138 - acc: 0.7627\n",
      "Epoch 46/100\n",
      "6510/6510 [==============================] - 5s 795us/step - loss: 0.8119 - acc: 0.7601\n",
      "Epoch 47/100\n",
      "6510/6510 [==============================] - 5s 794us/step - loss: 0.8199 - acc: 0.7587\n",
      "Epoch 48/100\n",
      "6510/6510 [==============================] - 5s 790us/step - loss: 0.7995 - acc: 0.7642\n",
      "Epoch 49/100\n",
      "6510/6510 [==============================] - 5s 798us/step - loss: 0.8159 - acc: 0.7594\n",
      "Epoch 50/100\n",
      "6510/6510 [==============================] - 5s 791us/step - loss: 0.8077 - acc: 0.7578\n",
      "Epoch 51/100\n",
      "6510/6510 [==============================] - 5s 797us/step - loss: 0.7843 - acc: 0.7645\n",
      "Epoch 52/100\n",
      "6510/6510 [==============================] - 5s 790us/step - loss: 0.7881 - acc: 0.7654\n",
      "Epoch 53/100\n",
      "6510/6510 [==============================] - 5s 793us/step - loss: 0.8024 - acc: 0.7628\n",
      "Epoch 54/100\n",
      "6510/6510 [==============================] - 5s 787us/step - loss: 0.7657 - acc: 0.7765\n",
      "Epoch 55/100\n",
      "6510/6510 [==============================] - 5s 794us/step - loss: 0.7795 - acc: 0.7697\n",
      "Epoch 56/100\n",
      "6510/6510 [==============================] - 5s 790us/step - loss: 0.7788 - acc: 0.7665\n",
      "Epoch 57/100\n",
      "6510/6510 [==============================] - 5s 793us/step - loss: 0.7840 - acc: 0.7639\n",
      "Epoch 58/100\n",
      "6510/6510 [==============================] - 5s 793us/step - loss: 0.7675 - acc: 0.7690\n",
      "Epoch 59/100\n",
      "6510/6510 [==============================] - 5s 789us/step - loss: 0.7585 - acc: 0.7750\n",
      "Epoch 60/100\n",
      "6510/6510 [==============================] - 5s 786us/step - loss: 0.7394 - acc: 0.7777\n",
      "Epoch 61/100\n",
      "6510/6510 [==============================] - 5s 789us/step - loss: 0.7681 - acc: 0.7694\n",
      "Epoch 62/100\n",
      "6510/6510 [==============================] - 5s 796us/step - loss: 0.7460 - acc: 0.7800\n",
      "Epoch 63/100\n",
      "6510/6510 [==============================] - 5s 797us/step - loss: 0.7618 - acc: 0.7700\n",
      "Epoch 64/100\n",
      "6510/6510 [==============================] - 5s 820us/step - loss: 0.7355 - acc: 0.7810\n",
      "Epoch 65/100\n",
      "6510/6510 [==============================] - 5s 818us/step - loss: 0.7252 - acc: 0.7791\n",
      "Epoch 66/100\n",
      "6510/6510 [==============================] - 5s 796us/step - loss: 0.7416 - acc: 0.7805\n",
      "Epoch 67/100\n",
      "6510/6510 [==============================] - 5s 796us/step - loss: 0.7435 - acc: 0.7763\n",
      "Epoch 68/100\n",
      "6510/6510 [==============================] - 5s 791us/step - loss: 0.7216 - acc: 0.7879\n",
      "Epoch 69/100\n",
      "6510/6510 [==============================] - 5s 792us/step - loss: 0.7200 - acc: 0.7856\n",
      "Epoch 70/100\n",
      "6510/6510 [==============================] - 5s 794us/step - loss: 0.7159 - acc: 0.7831\n",
      "Epoch 71/100\n",
      "6510/6510 [==============================] - 5s 796us/step - loss: 0.7219 - acc: 0.7840\n",
      "Epoch 72/100\n",
      "6510/6510 [==============================] - 5s 796us/step - loss: 0.6913 - acc: 0.7954\n",
      "Epoch 73/100\n",
      "6510/6510 [==============================] - 5s 793us/step - loss: 0.6992 - acc: 0.7932\n",
      "Epoch 74/100\n",
      "6510/6510 [==============================] - 5s 788us/step - loss: 0.6897 - acc: 0.7960\n",
      "Epoch 75/100\n",
      "6510/6510 [==============================] - 5s 798us/step - loss: 0.7024 - acc: 0.7866\n",
      "Epoch 76/100\n",
      "6510/6510 [==============================] - 5s 785us/step - loss: 0.7089 - acc: 0.7929\n",
      "Epoch 77/100\n",
      "6510/6510 [==============================] - 5s 787us/step - loss: 0.7214 - acc: 0.7802\n",
      "Epoch 78/100\n",
      "6510/6510 [==============================] - 5s 792us/step - loss: 0.7007 - acc: 0.7937\n",
      "Epoch 79/100\n",
      "6510/6510 [==============================] - 5s 793us/step - loss: 0.6892 - acc: 0.7937\n",
      "Epoch 80/100\n",
      "6510/6510 [==============================] - 5s 804us/step - loss: 0.6913 - acc: 0.7877\n",
      "Epoch 81/100\n",
      "6510/6510 [==============================] - 5s 807us/step - loss: 0.7082 - acc: 0.7869\n",
      "Epoch 82/100\n",
      "6510/6510 [==============================] - 5s 793us/step - loss: 0.6900 - acc: 0.7909\n",
      "Epoch 83/100\n",
      "6510/6510 [==============================] - 5s 792us/step - loss: 0.6797 - acc: 0.7923\n",
      "Epoch 84/100\n",
      "6510/6510 [==============================] - 5s 793us/step - loss: 0.6860 - acc: 0.7909\n",
      "Epoch 85/100\n",
      "6510/6510 [==============================] - 5s 794us/step - loss: 0.6672 - acc: 0.7991\n",
      "Epoch 86/100\n",
      "6510/6510 [==============================] - 5s 801us/step - loss: 0.6971 - acc: 0.7883\n",
      "Epoch 87/100\n",
      "6510/6510 [==============================] - 5s 805us/step - loss: 0.6810 - acc: 0.7909\n",
      "Epoch 88/100\n",
      "6510/6510 [==============================] - 5s 796us/step - loss: 0.6710 - acc: 0.7995\n",
      "Epoch 89/100\n",
      "6510/6510 [==============================] - 5s 802us/step - loss: 0.6659 - acc: 0.8025\n",
      "Epoch 90/100\n",
      "6510/6510 [==============================] - 5s 791us/step - loss: 0.6623 - acc: 0.8023\n",
      "Epoch 91/100\n",
      "6510/6510 [==============================] - 5s 798us/step - loss: 0.6775 - acc: 0.7968\n",
      "Epoch 92/100\n",
      "6510/6510 [==============================] - 5s 797us/step - loss: 0.6469 - acc: 0.8029\n",
      "Epoch 93/100\n",
      "6510/6510 [==============================] - 5s 793us/step - loss: 0.6634 - acc: 0.7928\n",
      "Epoch 94/100\n",
      "6510/6510 [==============================] - 5s 790us/step - loss: 0.6532 - acc: 0.8028\n",
      "Epoch 95/100\n",
      "6510/6510 [==============================] - 5s 797us/step - loss: 0.6562 - acc: 0.8015\n",
      "Epoch 96/100\n",
      "6510/6510 [==============================] - 5s 788us/step - loss: 0.6460 - acc: 0.8046\n",
      "Epoch 97/100\n",
      "6510/6510 [==============================] - 5s 785us/step - loss: 0.6559 - acc: 0.7986\n",
      "Epoch 98/100\n",
      "6510/6510 [==============================] - 5s 816us/step - loss: 0.6385 - acc: 0.8045\n",
      "Epoch 99/100\n",
      "6510/6510 [==============================] - 5s 804us/step - loss: 0.6372 - acc: 0.8057\n",
      "Epoch 100/100\n",
      "6510/6510 [==============================] - 5s 797us/step - loss: 0.6299 - acc: 0.8092\n"
     ]
    },
    {
     "data": {
      "text/plain": [
       "<keras.callbacks.History at 0x7fe0888ee080>"
      ]
     },
     "execution_count": 20,
     "metadata": {
      "tags": []
     },
     "output_type": "execute_result"
    }
   ],
   "source": [
    "model.fit(X_train, y_train, batch_size=50, epochs=100)"
   ]
  },
  {
   "cell_type": "markdown",
   "metadata": {
    "colab_type": "text",
    "id": "EmkaxXdjHdyd"
   },
   "source": [
    "## Evaluation"
   ]
  },
  {
   "cell_type": "code",
   "execution_count": 21,
   "metadata": {
    "colab": {
     "base_uri": "https://localhost:8080/",
     "height": 118
    },
    "colab_type": "code",
    "executionInfo": {
     "elapsed": 6446,
     "status": "ok",
     "timestamp": 1563703191333,
     "user": {
      "displayName": "Jeyakumar Kathiravan",
      "photoUrl": "https://lh6.googleusercontent.com/-ouGpZgD0fvU/AAAAAAAAAAI/AAAAAAAAHcA/MkU8l0m347I/s64/photo.jpg",
      "userId": "01019033696494576564"
     },
     "user_tz": -330
    },
    "id": "7RraFX9YHdye",
    "outputId": "2657d9e9-da13-4046-e332-1b27602922d6"
   },
   "outputs": [
    {
     "name": "stdout",
     "output_type": "stream",
     "text": [
      "6510/6510 [==============================] - 4s 612us/step\n",
      "[0.0843721341052752, 0.9797234974698537]\n",
      "\n",
      "Model Performance: Log Loss and Accuracy on validation data\n",
      "2790/2790 [==============================] - 2s 566us/step\n",
      "[8.180564752189062, 0.38422939165305064]\n"
     ]
    }
   ],
   "source": [
    "print(model.evaluate(X_train, y_train, batch_size = 20))\n",
    "print('\\nModel Performance: Log Loss and Accuracy on validation data')\n",
    "print(model.evaluate(X_valid, y_valid, batch_size = 20))"
   ]
  },
  {
   "cell_type": "markdown",
   "metadata": {
    "colab_type": "text",
    "id": "u5CKxykLHdyj"
   },
   "source": [
    "## Generate text"
   ]
  },
  {
   "cell_type": "code",
   "execution_count": 22,
   "metadata": {
    "colab": {
     "base_uri": "https://localhost:8080/",
     "height": 154
    },
    "colab_type": "code",
    "executionInfo": {
     "elapsed": 2777,
     "status": "ok",
     "timestamp": 1563703202395,
     "user": {
      "displayName": "Jeyakumar Kathiravan",
      "photoUrl": "https://lh6.googleusercontent.com/-ouGpZgD0fvU/AAAAAAAAAAI/AAAAAAAAHcA/MkU8l0m347I/s64/photo.jpg",
      "userId": "01019033696494576564"
     },
     "user_tz": -330
    },
    "id": "4JSW5EwKHdyk",
    "outputId": "ab44fa8a-98bb-406a-cab0-1c42308e829e"
   },
   "outputs": [
    {
     "name": "stderr",
     "output_type": "stream",
     "text": [
      "/usr/local/lib/python3.6/dist-packages/ipykernel_launcher.py:36: RuntimeWarning: divide by zero encountered in log\n"
     ]
    },
    {
     "name": "stdout",
     "output_type": "stream",
     "text": [
      "Original Sequence: \n",
      "shadows and st paul’s loomed like a bubble o’er the town then suddenly arose the clang of waking life the streets were stirred with country waggons and a bird flew to the glistening roofs and sang but one pale woman all alone the daylight kissing her wan hair loitered beneath\n",
      "\n",
      "\n",
      "Generated Sequence: \n",
      "scarcely anyone at all escapes now trying to release miss devour them as it has devoured many coronation and with this volume were for the triumph of american 'humor' the prologue peter sabouroff an iron salomé is for act translated and the title of the library of lord goring’s house\n"
     ]
    }
   ],
   "source": [
    "seed_length=50\n",
    "new_words=50\n",
    "diversity=1\n",
    "n_gen=1\n",
    "\n",
    "import random\n",
    "\n",
    "# Choose a random sequence\n",
    "seq = random.choice(sequences)\n",
    "\n",
    "# print seq\n",
    "\n",
    "# Choose a random starting point\n",
    "seed_idx = random.randint(0, len(seq) - seed_length - 10)\n",
    "# Ending index for seed\n",
    "end_idx = seed_idx + seed_length\n",
    "\n",
    "gen_list = []\n",
    "\n",
    "for n in range(n_gen):\n",
    "    # Extract the seed sequence\n",
    "    seed = seq[seed_idx:end_idx]\n",
    "    original_sequence = [idx_word[i] for i in seed]\n",
    "    generated = seed[:] + ['#']\n",
    "\n",
    "    # Find the actual entire sequence\n",
    "    actual = generated[:] + seq[end_idx:end_idx + new_words]\n",
    "        \n",
    "    # Keep adding new words\n",
    "    for i in range(new_words):\n",
    "\n",
    "        # Make a prediction from the seed\n",
    "        preds = model.predict(np.array(seed).reshape(1, -1))[0].astype(np.float64)\n",
    "\n",
    "        # Diversify\n",
    "        preds = np.log(preds) / diversity\n",
    "        exp_preds = np.exp(preds)\n",
    "\n",
    "        # Softmax\n",
    "        preds = exp_preds / sum(exp_preds)\n",
    "\n",
    "        # Choose the next word\n",
    "        probas = np.random.multinomial(1, preds, 1)[0]\n",
    "\n",
    "        next_idx = np.argmax(probas)\n",
    "\n",
    "        # New seed adds on old word\n",
    "        #             seed = seed[1:] + [next_idx]\n",
    "        seed += [next_idx]\n",
    "        generated.append(next_idx)\n",
    "    # Showing generated and actual abstract\n",
    "    n = []\n",
    "\n",
    "    for i in generated:\n",
    "        n.append(idx_word.get(i, '< --- >'))\n",
    "\n",
    "    gen_list.append(n)\n",
    "\n",
    "a = []\n",
    "\n",
    "for i in actual:\n",
    "    a.append(idx_word.get(i, '< --- >'))\n",
    "\n",
    "a = a[seed_length:]\n",
    "\n",
    "gen_list = [gen[seed_length:seed_length + len(a)] for gen in gen_list]\n",
    "\n",
    "print('Original Sequence: \\n'+' '.join(original_sequence))\n",
    "print(\"\\n\")\n",
    "# print(gen_list)\n",
    "print('Generated Sequence: \\n'+' '.join(gen_list[0][1:]))\n",
    "# print(a)"
   ]
  },
  {
   "cell_type": "code",
   "execution_count": 0,
   "metadata": {
    "colab": {},
    "colab_type": "code",
    "id": "9aXeiz7ZHdyp"
   },
   "outputs": [],
   "source": []
  }
 ],
 "metadata": {
  "accelerator": "GPU",
  "colab": {
   "collapsed_sections": [],
   "name": "R9_External_Lab_Questions.ipynb",
   "provenance": [],
   "version": "0.3.2"
  },
  "kernelspec": {
   "display_name": "Python 3",
   "language": "python",
   "name": "python3"
  },
  "language_info": {
   "codemirror_mode": {
    "name": "ipython",
    "version": 3
   },
   "file_extension": ".py",
   "mimetype": "text/x-python",
   "name": "python",
   "nbconvert_exporter": "python",
   "pygments_lexer": "ipython3",
   "version": "3.7.1"
  }
 },
 "nbformat": 4,
 "nbformat_minor": 1
}
