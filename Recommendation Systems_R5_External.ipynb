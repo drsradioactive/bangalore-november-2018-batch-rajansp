{
 "cells": [
  {
   "cell_type": "markdown",
   "metadata": {
    "colab_type": "text",
    "id": "vQXI7GYKar2N"
   },
   "source": [
    "# Importing Libraries"
   ]
  },
  {
   "cell_type": "code",
   "execution_count": 1,
   "metadata": {
    "colab": {},
    "colab_type": "code",
    "id": "e_X_8DZYlwVc"
   },
   "outputs": [],
   "source": [
    "from IPython.core.interactiveshell import InteractiveShell\n",
    "InteractiveShell.ast_node_interactivity = \"all\"\n",
    "import warnings\n",
    "warnings.filterwarnings(\"ignore\", category=FutureWarning)"
   ]
  },
  {
   "cell_type": "code",
   "execution_count": 2,
   "metadata": {
    "colab": {},
    "colab_type": "code",
    "id": "C9oLaMuQmUVq"
   },
   "outputs": [],
   "source": [
    "%matplotlib inline \n",
    "import math\n",
    "import numpy as np  \n",
    "import pandas as pd "
   ]
  },
  {
   "cell_type": "code",
   "execution_count": 3,
   "metadata": {},
   "outputs": [],
   "source": [
    "import seaborn as sns\n",
    "import matplotlib.pyplot as plt \n",
    "from sklearn import metrics\n",
    "from sklearn.model_selection import train_test_split\n",
    "from sklearn.metrics import mean_squared_error"
   ]
  },
  {
   "cell_type": "code",
   "execution_count": 0,
   "metadata": {
    "colab": {},
    "colab_type": "code",
    "id": "ClQJsDYkmmzx"
   },
   "outputs": [],
   "source": [
    "#from google.colab import drive\n",
    "#drive.mount('/gdrive')"
   ]
  },
  {
   "cell_type": "markdown",
   "metadata": {
    "colab_type": "text",
    "id": "Tcq-ZB32a1z3"
   },
   "source": [
    "# Working on the data"
   ]
  },
  {
   "cell_type": "code",
   "execution_count": 4,
   "metadata": {
    "colab": {},
    "colab_type": "code",
    "id": "4WB2A_fzLaHO"
   },
   "outputs": [],
   "source": [
    "df = pd.read_csv(\"ratings_Electronics.csv\",header=None)"
   ]
  },
  {
   "cell_type": "code",
   "execution_count": 5,
   "metadata": {
    "colab": {
     "base_uri": "https://localhost:8080/",
     "height": 34
    },
    "colab_type": "code",
    "executionInfo": {
     "elapsed": 12016,
     "status": "ok",
     "timestamp": 1556515529154,
     "user": {
      "displayName": "Karthik Palani",
      "photoUrl": "https://lh4.googleusercontent.com/-LkVQikQV3Oc/AAAAAAAAAAI/AAAAAAAAAD8/vEi_BDBdSd4/s64/photo.jpg",
      "userId": "02926145707929474060"
     },
     "user_tz": 240
    },
    "id": "eaKCJzn7L1Xo",
    "outputId": "e3dd8375-2df7-42be-e720-f0d451c97591"
   },
   "outputs": [
    {
     "data": {
      "text/html": [
       "<div>\n",
       "<style scoped>\n",
       "    .dataframe tbody tr th:only-of-type {\n",
       "        vertical-align: middle;\n",
       "    }\n",
       "\n",
       "    .dataframe tbody tr th {\n",
       "        vertical-align: top;\n",
       "    }\n",
       "\n",
       "    .dataframe thead th {\n",
       "        text-align: right;\n",
       "    }\n",
       "</style>\n",
       "<table border=\"1\" class=\"dataframe\">\n",
       "  <thead>\n",
       "    <tr style=\"text-align: right;\">\n",
       "      <th></th>\n",
       "      <th>0</th>\n",
       "      <th>1</th>\n",
       "      <th>2</th>\n",
       "      <th>3</th>\n",
       "    </tr>\n",
       "  </thead>\n",
       "  <tbody>\n",
       "    <tr>\n",
       "      <th>0</th>\n",
       "      <td>AKM1MP6P0OYPR</td>\n",
       "      <td>0132793040</td>\n",
       "      <td>5.0</td>\n",
       "      <td>1365811200</td>\n",
       "    </tr>\n",
       "    <tr>\n",
       "      <th>1</th>\n",
       "      <td>A2CX7LUOHB2NDG</td>\n",
       "      <td>0321732944</td>\n",
       "      <td>5.0</td>\n",
       "      <td>1341100800</td>\n",
       "    </tr>\n",
       "    <tr>\n",
       "      <th>2</th>\n",
       "      <td>A2NWSAGRHCP8N5</td>\n",
       "      <td>0439886341</td>\n",
       "      <td>1.0</td>\n",
       "      <td>1367193600</td>\n",
       "    </tr>\n",
       "    <tr>\n",
       "      <th>3</th>\n",
       "      <td>A2WNBOD3WNDNKT</td>\n",
       "      <td>0439886341</td>\n",
       "      <td>3.0</td>\n",
       "      <td>1374451200</td>\n",
       "    </tr>\n",
       "    <tr>\n",
       "      <th>4</th>\n",
       "      <td>A1GI0U4ZRJA8WN</td>\n",
       "      <td>0439886341</td>\n",
       "      <td>1.0</td>\n",
       "      <td>1334707200</td>\n",
       "    </tr>\n",
       "  </tbody>\n",
       "</table>\n",
       "</div>"
      ],
      "text/plain": [
       "                0           1    2           3\n",
       "0   AKM1MP6P0OYPR  0132793040  5.0  1365811200\n",
       "1  A2CX7LUOHB2NDG  0321732944  5.0  1341100800\n",
       "2  A2NWSAGRHCP8N5  0439886341  1.0  1367193600\n",
       "3  A2WNBOD3WNDNKT  0439886341  3.0  1374451200\n",
       "4  A1GI0U4ZRJA8WN  0439886341  1.0  1334707200"
      ]
     },
     "execution_count": 5,
     "metadata": {},
     "output_type": "execute_result"
    },
    {
     "data": {
      "text/html": [
       "<div>\n",
       "<style scoped>\n",
       "    .dataframe tbody tr th:only-of-type {\n",
       "        vertical-align: middle;\n",
       "    }\n",
       "\n",
       "    .dataframe tbody tr th {\n",
       "        vertical-align: top;\n",
       "    }\n",
       "\n",
       "    .dataframe thead th {\n",
       "        text-align: right;\n",
       "    }\n",
       "</style>\n",
       "<table border=\"1\" class=\"dataframe\">\n",
       "  <thead>\n",
       "    <tr style=\"text-align: right;\">\n",
       "      <th></th>\n",
       "      <th>0</th>\n",
       "      <th>1</th>\n",
       "      <th>2</th>\n",
       "      <th>3</th>\n",
       "    </tr>\n",
       "  </thead>\n",
       "  <tbody>\n",
       "    <tr>\n",
       "      <th>7824477</th>\n",
       "      <td>A2YZI3C9MOHC0L</td>\n",
       "      <td>BT008UKTMW</td>\n",
       "      <td>5.0</td>\n",
       "      <td>1396569600</td>\n",
       "    </tr>\n",
       "    <tr>\n",
       "      <th>7824478</th>\n",
       "      <td>A322MDK0M89RHN</td>\n",
       "      <td>BT008UKTMW</td>\n",
       "      <td>5.0</td>\n",
       "      <td>1313366400</td>\n",
       "    </tr>\n",
       "    <tr>\n",
       "      <th>7824479</th>\n",
       "      <td>A1MH90R0ADMIK0</td>\n",
       "      <td>BT008UKTMW</td>\n",
       "      <td>4.0</td>\n",
       "      <td>1404172800</td>\n",
       "    </tr>\n",
       "    <tr>\n",
       "      <th>7824480</th>\n",
       "      <td>A10M2KEFPEQDHN</td>\n",
       "      <td>BT008UKTMW</td>\n",
       "      <td>4.0</td>\n",
       "      <td>1297555200</td>\n",
       "    </tr>\n",
       "    <tr>\n",
       "      <th>7824481</th>\n",
       "      <td>A2G81TMIOIDEQQ</td>\n",
       "      <td>BT008V9J9U</td>\n",
       "      <td>5.0</td>\n",
       "      <td>1312675200</td>\n",
       "    </tr>\n",
       "  </tbody>\n",
       "</table>\n",
       "</div>"
      ],
      "text/plain": [
       "                      0           1    2           3\n",
       "7824477  A2YZI3C9MOHC0L  BT008UKTMW  5.0  1396569600\n",
       "7824478  A322MDK0M89RHN  BT008UKTMW  5.0  1313366400\n",
       "7824479  A1MH90R0ADMIK0  BT008UKTMW  4.0  1404172800\n",
       "7824480  A10M2KEFPEQDHN  BT008UKTMW  4.0  1297555200\n",
       "7824481  A2G81TMIOIDEQQ  BT008V9J9U  5.0  1312675200"
      ]
     },
     "execution_count": 5,
     "metadata": {},
     "output_type": "execute_result"
    },
    {
     "data": {
      "text/plain": [
       "(7824482, 4)"
      ]
     },
     "execution_count": 5,
     "metadata": {},
     "output_type": "execute_result"
    },
    {
     "data": {
      "text/plain": [
       "0     object\n",
       "1     object\n",
       "2    float64\n",
       "3      int64\n",
       "dtype: object"
      ]
     },
     "execution_count": 5,
     "metadata": {},
     "output_type": "execute_result"
    },
    {
     "data": {
      "text/plain": [
       "<bound method DataFrame.info of                       0           1    2           3\n",
       "0         AKM1MP6P0OYPR  0132793040  5.0  1365811200\n",
       "1        A2CX7LUOHB2NDG  0321732944  5.0  1341100800\n",
       "2        A2NWSAGRHCP8N5  0439886341  1.0  1367193600\n",
       "3        A2WNBOD3WNDNKT  0439886341  3.0  1374451200\n",
       "4        A1GI0U4ZRJA8WN  0439886341  1.0  1334707200\n",
       "5        A1QGNMC6O1VW39  0511189877  5.0  1397433600\n",
       "6        A3J3BRHTDRFJ2G  0511189877  2.0  1397433600\n",
       "7        A2TY0BTJOTENPG  0511189877  5.0  1395878400\n",
       "8        A34ATBPOK6HCHY  0511189877  5.0  1395532800\n",
       "9         A89DO69P0XZ27  0511189877  5.0  1395446400\n",
       "10        AZYNQZ94U6VDB  0511189877  5.0  1401321600\n",
       "11       A1DA3W4GTFXP6O  0528881469  5.0  1405641600\n",
       "12       A29LPQQDG7LD5J  0528881469  1.0  1352073600\n",
       "13        AO94DHGC771SJ  0528881469  5.0  1370131200\n",
       "14        AMO214LNFCEI4  0528881469  1.0  1290643200\n",
       "15       A28B1G1MSJ6OO1  0528881469  4.0  1280016000\n",
       "16       A3N7T0DY83Y4IG  0528881469  3.0  1283990400\n",
       "17       A1H8PY3QHMQQA0  0528881469  2.0  1290556800\n",
       "18        A2CPBQ5W4OGBX  0528881469  2.0  1277078400\n",
       "19       A265MKAR2WEH3Y  0528881469  4.0  1294790400\n",
       "20       A37K02NKUIT68K  0528881469  5.0  1293235200\n",
       "21       A2AW1SSVUIYV9Y  0528881469  4.0  1289001600\n",
       "22       A2AEHUKOV014BP  0528881469  5.0  1284249600\n",
       "23        AMLFNXUIEMN4T  0528881469  1.0  1307836800\n",
       "24       A2O8FIJR9EBU56  0528881469  4.0  1278547200\n",
       "25       A3IQGFB959IR4P  0528881469  1.0  1327363200\n",
       "26        AYTBGUX49LF3W  0528881469  4.0  1398470400\n",
       "27       A24QFSUU00IZ05  0528881469  2.0  1293580800\n",
       "28       A1NG5X8VYZWX0Q  0528881469  1.0  1286582400\n",
       "29       A1E4WG8HRWWK4R  0528881469  5.0  1390867200\n",
       "...                 ...         ...  ...         ...\n",
       "7824452  A3AENU8Y9HLRAQ  B00LMOH8DU  5.0  1405209600\n",
       "7824453   ABX8TXRB2GSKO  B00LMOH8DU  5.0  1405468800\n",
       "7824454  A1QUWXCBPGCQMW  B00LMOH8DU  5.0  1405728000\n",
       "7824455  A37B1XSZUYNSNK  B00LMOH8DU  5.0  1405036800\n",
       "7824456  A3FOXB6244Y5PC  B00LNUH5X6  5.0  1404864000\n",
       "7824457   AELQMX8YAEEYI  B00LOLBBQQ  5.0  1405382400\n",
       "7824458   AG1NNE1V43RWC  B00LOLBBQQ  1.0  1405468800\n",
       "7824459  A2QW4HHHC6XWH4  B00LPQRT34  4.0  1405209600\n",
       "7824460  A2025SOZT6OE6D  B00LS5WBYE  5.0  1405641600\n",
       "7824461  A2DOJYSPCLCQIT  B00LTAUTHE  5.0  1405382400\n",
       "7824462  A1PB6OT0OOPKNQ  B00LXEC8CU  5.0  1405641600\n",
       "7824463  A1MTPZKAYVSES3  BT008G3W52  5.0  1355702400\n",
       "7824464   AS7WVL4JGN1FI  BT008SXQ4C  1.0  1326067200\n",
       "7824465  A3GGII8ILEUI4P  BT008T2BGK  5.0  1320883200\n",
       "7824466   ATK4Q037EM13F  BT008UKTMW  4.0  1356134400\n",
       "7824467   AT10LK8R9MLHT  BT008UKTMW  3.0  1293753600\n",
       "7824468   AKVMJCP7T93X1  BT008UKTMW  5.0  1394928000\n",
       "7824469  A2H4BLBXDNSZ2O  BT008UKTMW  4.0  1316563200\n",
       "7824470  A2DARIL2TWUOLS  BT008UKTMW  2.0  1373328000\n",
       "7824471   A7ETK9SC1HAMP  BT008UKTMW  5.0  1397088000\n",
       "7824472   A5FUA9HEV2O42  BT008UKTMW  5.0  1405987200\n",
       "7824473   A84WRQR47OOKR  BT008UKTMW  1.0  1401753600\n",
       "7824474  A180UGKKYCPDH0  BT008UKTMW  5.0  1369353600\n",
       "7824475  A2R6Q6KJCYSVH7  BT008UKTMW  3.0  1343520000\n",
       "7824476  A2IGIIABRZ5LAB  BT008UKTMW  5.0  1356739200\n",
       "7824477  A2YZI3C9MOHC0L  BT008UKTMW  5.0  1396569600\n",
       "7824478  A322MDK0M89RHN  BT008UKTMW  5.0  1313366400\n",
       "7824479  A1MH90R0ADMIK0  BT008UKTMW  4.0  1404172800\n",
       "7824480  A10M2KEFPEQDHN  BT008UKTMW  4.0  1297555200\n",
       "7824481  A2G81TMIOIDEQQ  BT008V9J9U  5.0  1312675200\n",
       "\n",
       "[7824482 rows x 4 columns]>"
      ]
     },
     "execution_count": 5,
     "metadata": {},
     "output_type": "execute_result"
    }
   ],
   "source": [
    "df.head()\n",
    "df.tail()\n",
    "df.shape\n",
    "df.dtypes\n",
    "df.info"
   ]
  },
  {
   "cell_type": "code",
   "execution_count": 6,
   "metadata": {
    "colab": {},
    "colab_type": "code",
    "id": "_fJ9-QJqNTcq"
   },
   "outputs": [],
   "source": [
    "df.columns = [\"user_id\",\"product_id\",\"rating\",\"timestamp\"]"
   ]
  },
  {
   "cell_type": "code",
   "execution_count": 7,
   "metadata": {
    "colab": {
     "base_uri": "https://localhost:8080/",
     "height": 34
    },
    "colab_type": "code",
    "executionInfo": {
     "elapsed": 11964,
     "status": "ok",
     "timestamp": 1556515529160,
     "user": {
      "displayName": "Karthik Palani",
      "photoUrl": "https://lh4.googleusercontent.com/-LkVQikQV3Oc/AAAAAAAAAAI/AAAAAAAAAD8/vEi_BDBdSd4/s64/photo.jpg",
      "userId": "02926145707929474060"
     },
     "user_tz": 240
    },
    "id": "fxSpLionNfA9",
    "outputId": "8a6d8979-0693-4f14-adfd-3da18e35e424"
   },
   "outputs": [
    {
     "data": {
      "text/plain": [
       "Index(['user_id', 'product_id', 'rating', 'timestamp'], dtype='object')"
      ]
     },
     "execution_count": 7,
     "metadata": {},
     "output_type": "execute_result"
    }
   ],
   "source": [
    "df.columns"
   ]
  },
  {
   "cell_type": "code",
   "execution_count": 8,
   "metadata": {
    "colab": {
     "base_uri": "https://localhost:8080/",
     "height": 102
    },
    "colab_type": "code",
    "executionInfo": {
     "elapsed": 13179,
     "status": "ok",
     "timestamp": 1556515530391,
     "user": {
      "displayName": "Karthik Palani",
      "photoUrl": "https://lh4.googleusercontent.com/-LkVQikQV3Oc/AAAAAAAAAAI/AAAAAAAAAD8/vEi_BDBdSd4/s64/photo.jpg",
      "userId": "02926145707929474060"
     },
     "user_tz": 240
    },
    "id": "BVyXgZn5Nl7p",
    "outputId": "b496ade8-327d-49b1-e1ef-a717b2f72206"
   },
   "outputs": [
    {
     "data": {
      "text/plain": [
       "False"
      ]
     },
     "execution_count": 8,
     "metadata": {},
     "output_type": "execute_result"
    },
    {
     "data": {
      "text/plain": [
       "0"
      ]
     },
     "execution_count": 8,
     "metadata": {},
     "output_type": "execute_result"
    },
    {
     "data": {
      "text/plain": [
       "False"
      ]
     },
     "execution_count": 8,
     "metadata": {},
     "output_type": "execute_result"
    },
    {
     "data": {
      "text/plain": [
       "0"
      ]
     },
     "execution_count": 8,
     "metadata": {},
     "output_type": "execute_result"
    },
    {
     "data": {
      "text/html": [
       "<div>\n",
       "<style scoped>\n",
       "    .dataframe tbody tr th:only-of-type {\n",
       "        vertical-align: middle;\n",
       "    }\n",
       "\n",
       "    .dataframe tbody tr th {\n",
       "        vertical-align: top;\n",
       "    }\n",
       "\n",
       "    .dataframe thead th {\n",
       "        text-align: right;\n",
       "    }\n",
       "</style>\n",
       "<table border=\"1\" class=\"dataframe\">\n",
       "  <thead>\n",
       "    <tr style=\"text-align: right;\">\n",
       "      <th></th>\n",
       "      <th>rating</th>\n",
       "      <th>timestamp</th>\n",
       "    </tr>\n",
       "  </thead>\n",
       "  <tbody>\n",
       "    <tr>\n",
       "      <th>count</th>\n",
       "      <td>7.824482e+06</td>\n",
       "      <td>7.824482e+06</td>\n",
       "    </tr>\n",
       "    <tr>\n",
       "      <th>mean</th>\n",
       "      <td>4.012337e+00</td>\n",
       "      <td>1.338178e+09</td>\n",
       "    </tr>\n",
       "    <tr>\n",
       "      <th>std</th>\n",
       "      <td>1.380910e+00</td>\n",
       "      <td>6.900426e+07</td>\n",
       "    </tr>\n",
       "    <tr>\n",
       "      <th>min</th>\n",
       "      <td>1.000000e+00</td>\n",
       "      <td>9.127296e+08</td>\n",
       "    </tr>\n",
       "    <tr>\n",
       "      <th>25%</th>\n",
       "      <td>3.000000e+00</td>\n",
       "      <td>1.315354e+09</td>\n",
       "    </tr>\n",
       "    <tr>\n",
       "      <th>50%</th>\n",
       "      <td>5.000000e+00</td>\n",
       "      <td>1.361059e+09</td>\n",
       "    </tr>\n",
       "    <tr>\n",
       "      <th>75%</th>\n",
       "      <td>5.000000e+00</td>\n",
       "      <td>1.386115e+09</td>\n",
       "    </tr>\n",
       "    <tr>\n",
       "      <th>max</th>\n",
       "      <td>5.000000e+00</td>\n",
       "      <td>1.406074e+09</td>\n",
       "    </tr>\n",
       "  </tbody>\n",
       "</table>\n",
       "</div>"
      ],
      "text/plain": [
       "             rating     timestamp\n",
       "count  7.824482e+06  7.824482e+06\n",
       "mean   4.012337e+00  1.338178e+09\n",
       "std    1.380910e+00  6.900426e+07\n",
       "min    1.000000e+00  9.127296e+08\n",
       "25%    3.000000e+00  1.315354e+09\n",
       "50%    5.000000e+00  1.361059e+09\n",
       "75%    5.000000e+00  1.386115e+09\n",
       "max    5.000000e+00  1.406074e+09"
      ]
     },
     "execution_count": 8,
     "metadata": {},
     "output_type": "execute_result"
    },
    {
     "data": {
      "text/html": [
       "<div>\n",
       "<style scoped>\n",
       "    .dataframe tbody tr th:only-of-type {\n",
       "        vertical-align: middle;\n",
       "    }\n",
       "\n",
       "    .dataframe tbody tr th {\n",
       "        vertical-align: top;\n",
       "    }\n",
       "\n",
       "    .dataframe thead th {\n",
       "        text-align: right;\n",
       "    }\n",
       "</style>\n",
       "<table border=\"1\" class=\"dataframe\">\n",
       "  <thead>\n",
       "    <tr style=\"text-align: right;\">\n",
       "      <th></th>\n",
       "      <th>count</th>\n",
       "      <th>mean</th>\n",
       "      <th>std</th>\n",
       "      <th>min</th>\n",
       "      <th>25%</th>\n",
       "      <th>50%</th>\n",
       "      <th>75%</th>\n",
       "      <th>max</th>\n",
       "    </tr>\n",
       "  </thead>\n",
       "  <tbody>\n",
       "    <tr>\n",
       "      <th>rating</th>\n",
       "      <td>7824482.0</td>\n",
       "      <td>4.012337e+00</td>\n",
       "      <td>1.380910e+00</td>\n",
       "      <td>1.0</td>\n",
       "      <td>3.000000e+00</td>\n",
       "      <td>5.000000e+00</td>\n",
       "      <td>5.000000e+00</td>\n",
       "      <td>5.000000e+00</td>\n",
       "    </tr>\n",
       "    <tr>\n",
       "      <th>timestamp</th>\n",
       "      <td>7824482.0</td>\n",
       "      <td>1.338178e+09</td>\n",
       "      <td>6.900426e+07</td>\n",
       "      <td>912729600.0</td>\n",
       "      <td>1.315354e+09</td>\n",
       "      <td>1.361059e+09</td>\n",
       "      <td>1.386115e+09</td>\n",
       "      <td>1.406074e+09</td>\n",
       "    </tr>\n",
       "  </tbody>\n",
       "</table>\n",
       "</div>"
      ],
      "text/plain": [
       "               count          mean           std          min           25%  \\\n",
       "rating     7824482.0  4.012337e+00  1.380910e+00          1.0  3.000000e+00   \n",
       "timestamp  7824482.0  1.338178e+09  6.900426e+07  912729600.0  1.315354e+09   \n",
       "\n",
       "                    50%           75%           max  \n",
       "rating     5.000000e+00  5.000000e+00  5.000000e+00  \n",
       "timestamp  1.361059e+09  1.386115e+09  1.406074e+09  "
      ]
     },
     "execution_count": 8,
     "metadata": {},
     "output_type": "execute_result"
    }
   ],
   "source": [
    "df.isnull().values.any()\n",
    "df.isnull().sum().sum()\n",
    "df.isna().values.any()\n",
    "df.isna().sum().sum()\n",
    "df.describe()\n",
    "df.describe().transpose()"
   ]
  },
  {
   "cell_type": "code",
   "execution_count": 9,
   "metadata": {
    "colab": {},
    "colab_type": "code",
    "id": "eD1eeQdzP_Of"
   },
   "outputs": [],
   "source": [
    "df.drop(columns = \"timestamp\",inplace =True,axis =1)"
   ]
  },
  {
   "cell_type": "code",
   "execution_count": 10,
   "metadata": {
    "colab": {},
    "colab_type": "code",
    "id": "ZHFD0EYWN-yJ"
   },
   "outputs": [],
   "source": [
    "df_users=df.groupby(['user_id']).count()"
   ]
  },
  {
   "cell_type": "markdown",
   "metadata": {
    "colab_type": "text",
    "id": "qlroH3KSbCkG"
   },
   "source": [
    "**Trying to sort the data based on the users who have rated more than 50 times**"
   ]
  },
  {
   "cell_type": "code",
   "execution_count": 11,
   "metadata": {
    "colab": {
     "base_uri": "https://localhost:8080/",
     "height": 34
    },
    "colab_type": "code",
    "executionInfo": {
     "elapsed": 36264,
     "status": "ok",
     "timestamp": 1556515553557,
     "user": {
      "displayName": "Karthik Palani",
      "photoUrl": "https://lh4.googleusercontent.com/-LkVQikQV3Oc/AAAAAAAAAAI/AAAAAAAAAD8/vEi_BDBdSd4/s64/photo.jpg",
      "userId": "02926145707929474060"
     },
     "user_tz": 240
    },
    "id": "JeVk6BaiPDB_",
    "outputId": "a4f53cf3-70a8-4cc9-84e8-0e48d50a13bd"
   },
   "outputs": [
    {
     "data": {
      "text/plain": [
       "4201696"
      ]
     },
     "execution_count": 11,
     "metadata": {},
     "output_type": "execute_result"
    }
   ],
   "source": [
    "(df_users.rating > 50).count()"
   ]
  },
  {
   "cell_type": "code",
   "execution_count": 16,
   "metadata": {
    "colab": {},
    "colab_type": "code",
    "id": "LFLfV-fTPQT-"
   },
   "outputs": [],
   "source": [
    "final_df= df_users.loc[df_users[\"rating\"]>=50]"
   ]
  },
  {
   "cell_type": "code",
   "execution_count": 17,
   "metadata": {
    "colab": {
     "base_uri": "https://localhost:8080/",
     "height": 204
    },
    "colab_type": "code",
    "executionInfo": {
     "elapsed": 36247,
     "status": "ok",
     "timestamp": 1556515553561,
     "user": {
      "displayName": "Karthik Palani",
      "photoUrl": "https://lh4.googleusercontent.com/-LkVQikQV3Oc/AAAAAAAAAAI/AAAAAAAAAD8/vEi_BDBdSd4/s64/photo.jpg",
      "userId": "02926145707929474060"
     },
     "user_tz": 240
    },
    "id": "FxPfG6oGQk9j",
    "outputId": "1dcbba5b-1e4c-4ae3-8c81-2bf896357a72"
   },
   "outputs": [
    {
     "data": {
      "text/html": [
       "<div>\n",
       "<style scoped>\n",
       "    .dataframe tbody tr th:only-of-type {\n",
       "        vertical-align: middle;\n",
       "    }\n",
       "\n",
       "    .dataframe tbody tr th {\n",
       "        vertical-align: top;\n",
       "    }\n",
       "\n",
       "    .dataframe thead th {\n",
       "        text-align: right;\n",
       "    }\n",
       "</style>\n",
       "<table border=\"1\" class=\"dataframe\">\n",
       "  <thead>\n",
       "    <tr style=\"text-align: right;\">\n",
       "      <th></th>\n",
       "      <th>product_id</th>\n",
       "      <th>rating</th>\n",
       "    </tr>\n",
       "    <tr>\n",
       "      <th>user_id</th>\n",
       "      <th></th>\n",
       "      <th></th>\n",
       "    </tr>\n",
       "  </thead>\n",
       "  <tbody>\n",
       "    <tr>\n",
       "      <th>A100UD67AHFODS</th>\n",
       "      <td>116</td>\n",
       "      <td>116</td>\n",
       "    </tr>\n",
       "    <tr>\n",
       "      <th>A100WO06OQR8BQ</th>\n",
       "      <td>132</td>\n",
       "      <td>132</td>\n",
       "    </tr>\n",
       "    <tr>\n",
       "      <th>A105S56ODHGJEK</th>\n",
       "      <td>68</td>\n",
       "      <td>68</td>\n",
       "    </tr>\n",
       "    <tr>\n",
       "      <th>A105TOJ6LTVMBG</th>\n",
       "      <td>71</td>\n",
       "      <td>71</td>\n",
       "    </tr>\n",
       "    <tr>\n",
       "      <th>A10AFVU66A79Y1</th>\n",
       "      <td>65</td>\n",
       "      <td>65</td>\n",
       "    </tr>\n",
       "  </tbody>\n",
       "</table>\n",
       "</div>"
      ],
      "text/plain": [
       "                product_id  rating\n",
       "user_id                           \n",
       "A100UD67AHFODS         116     116\n",
       "A100WO06OQR8BQ         132     132\n",
       "A105S56ODHGJEK          68      68\n",
       "A105TOJ6LTVMBG          71      71\n",
       "A10AFVU66A79Y1          65      65"
      ]
     },
     "execution_count": 17,
     "metadata": {},
     "output_type": "execute_result"
    }
   ],
   "source": [
    "final_df.head()"
   ]
  },
  {
   "cell_type": "code",
   "execution_count": 18,
   "metadata": {
    "colab": {},
    "colab_type": "code",
    "id": "EVibsGmtPua7"
   },
   "outputs": [
    {
     "data": {
      "text/plain": [
       "(1540, 2)"
      ]
     },
     "execution_count": 18,
     "metadata": {},
     "output_type": "execute_result"
    }
   ],
   "source": [
    "final_df.shape"
   ]
  },
  {
   "cell_type": "code",
   "execution_count": 21,
   "metadata": {
    "colab": {},
    "colab_type": "code",
    "id": "l1fA1cKMSBE7"
   },
   "outputs": [
    {
     "name": "stderr",
     "output_type": "stream",
     "text": [
      "C:\\Users\\rajan\\Anaconda3\\lib\\site-packages\\pandas\\core\\generic.py:4405: SettingWithCopyWarning: \n",
      "A value is trying to be set on a copy of a slice from a DataFrame.\n",
      "Try using .loc[row_indexer,col_indexer] = value instead\n",
      "\n",
      "See the caveats in the documentation: http://pandas.pydata.org/pandas-docs/stable/indexing.html#indexing-view-versus-copy\n",
      "  self[name] = value\n"
     ]
    }
   ],
   "source": [
    "final_df.rating = final_df.rating.astype('int64') \n"
   ]
  },
  {
   "cell_type": "markdown",
   "metadata": {
    "colab_type": "text",
    "id": "HKr6GZpGbMqc"
   },
   "source": [
    "**Histogram of the Final data showing the ratings**"
   ]
  },
  {
   "cell_type": "code",
   "execution_count": 22,
   "metadata": {
    "colab": {
     "base_uri": "https://localhost:8080/",
     "height": 424
    },
    "colab_type": "code",
    "executionInfo": {
     "elapsed": 44389,
     "status": "ok",
     "timestamp": 1556515561794,
     "user": {
      "displayName": "Karthik Palani",
      "photoUrl": "https://lh4.googleusercontent.com/-LkVQikQV3Oc/AAAAAAAAAAI/AAAAAAAAAD8/vEi_BDBdSd4/s64/photo.jpg",
      "userId": "02926145707929474060"
     },
     "user_tz": 240
    },
    "id": "RfulTlzGSLbW",
    "outputId": "d625d17c-ef5c-4a5a-ade7-8b2485915e8e"
   },
   "outputs": [
    {
     "data": {
      "text/plain": [
       "array([[<matplotlib.axes._subplots.AxesSubplot object at 0x00000194010093C8>]],\n",
       "      dtype=object)"
      ]
     },
     "execution_count": 22,
     "metadata": {},
     "output_type": "execute_result"
    },
    {
     "data": {
      "image/png": "[encoded data removed]",
      "text/plain": [
       "<Figure size 1080x432 with 1 Axes>"
      ]
     },
     "metadata": {
      "needs_background": "light"
     },
     "output_type": "display_data"
    }
   ],
   "source": [
    "final_df.hist(column=\"rating\",grid = True,figsize = (15,6))\n",
    "plt.show()"
   ]
  },
  {
   "cell_type": "markdown",
   "metadata": {
    "colab_type": "text",
    "id": "UVlgANxhbR8p"
   },
   "source": [
    "**Train - Test Split **"
   ]
  },
  {
   "cell_type": "code",
   "execution_count": 23,
   "metadata": {
    "colab": {},
    "colab_type": "code",
    "id": "RLeaz17cSMEB"
   },
   "outputs": [],
   "source": [
    "X_train, X_test = train_test_split(final_df, test_size = 0.3, random_state = 1)"
   ]
  },
  {
   "cell_type": "markdown",
   "metadata": {
    "colab_type": "text",
    "id": "z9S3enJkbng0"
   },
   "source": [
    "# Popularity Recommender model"
   ]
  },
  {
   "cell_type": "markdown",
   "metadata": {
    "colab_type": "text",
    "id": "qhcg-kfcXRKz"
   },
   "source": [
    "**Top 5 Products based on the ratings of all data available.**"
   ]
  },
  {
   "cell_type": "code",
   "execution_count": 24,
   "metadata": {
    "colab": {
     "base_uri": "https://localhost:8080/",
     "height": 136
    },
    "colab_type": "code",
    "executionInfo": {
     "elapsed": 44366,
     "status": "ok",
     "timestamp": 1556515561804,
     "user": {
      "displayName": "Karthik Palani",
      "photoUrl": "https://lh4.googleusercontent.com/-LkVQikQV3Oc/AAAAAAAAAAI/AAAAAAAAAD8/vEi_BDBdSd4/s64/photo.jpg",
      "userId": "02926145707929474060"
     },
     "user_tz": 240
    },
    "id": "qwmHU7gwSl1q",
    "outputId": "b71dfec3-06de-4e17-f53d-5ba3d7f56af2"
   },
   "outputs": [
    {
     "data": {
      "text/plain": [
       "product_id\n",
       "520    520\n",
       "501    501\n",
       "498    498\n",
       "431    431\n",
       "406    406\n",
       "Name: rating, dtype: int64"
      ]
     },
     "execution_count": 24,
     "metadata": {},
     "output_type": "execute_result"
    }
   ],
   "source": [
    "final_df.groupby(by='product_id')['rating'].mean().sort_values(ascending=False).head(5)"
   ]
  },
  {
   "cell_type": "markdown",
   "metadata": {
    "colab_type": "text",
    "id": "iwEcI9GQbWWn"
   },
   "source": [
    "**Trying to make a prediction based on Popularity**"
   ]
  },
  {
   "cell_type": "code",
   "execution_count": 25,
   "metadata": {
    "colab": {},
    "colab_type": "code",
    "id": "2RrG-p0pW-B5"
   },
   "outputs": [],
   "source": [
    "train_rated=X_train.groupby(by='product_id')['rating'].mean().sort_values(ascending=False)"
   ]
  },
  {
   "cell_type": "code",
   "execution_count": 26,
   "metadata": {
    "colab": {},
    "colab_type": "code",
    "id": "Y5MXX4B0XevU"
   },
   "outputs": [],
   "source": [
    "test_rated=X_test.groupby(by='product_id')['rating'].mean().sort_values(ascending=False)"
   ]
  },
  {
   "cell_type": "code",
   "execution_count": 27,
   "metadata": {
    "colab": {},
    "colab_type": "code",
    "id": "PAQpk2JpXsCW"
   },
   "outputs": [],
   "source": [
    "train_rated=train_rated.reset_index(name = 'rating')"
   ]
  },
  {
   "cell_type": "code",
   "execution_count": 28,
   "metadata": {
    "colab": {},
    "colab_type": "code",
    "id": "3XjxM5x7YAGB"
   },
   "outputs": [],
   "source": [
    "test_rated=test_rated.reset_index(name = 'rating')"
   ]
  },
  {
   "cell_type": "code",
   "execution_count": 29,
   "metadata": {
    "colab": {},
    "colab_type": "code",
    "id": "h3JZ_4C5Xxax"
   },
   "outputs": [],
   "source": [
    "rated_products = pd.merge(test_rated, train_rated, on='product_id', how='inner')"
   ]
  },
  {
   "cell_type": "markdown",
   "metadata": {
    "colab_type": "text",
    "id": "Rk5o6ArEbhYl"
   },
   "source": [
    "**RMSE Value of a Popularity Based Model**"
   ]
  },
  {
   "cell_type": "code",
   "execution_count": 37,
   "metadata": {
    "colab": {
     "base_uri": "https://localhost:8080/",
     "height": 34
    },
    "colab_type": "code",
    "executionInfo": {
     "elapsed": 44624,
     "status": "ok",
     "timestamp": 1556515562342,
     "user": {
      "displayName": "Karthik Palani",
      "photoUrl": "https://lh4.googleusercontent.com/-LkVQikQV3Oc/AAAAAAAAAAI/AAAAAAAAAD8/vEi_BDBdSd4/s64/photo.jpg",
      "userId": "02926145707929474060"
     },
     "user_tz": 240
    },
    "id": "zE6RmnpoZUaS",
    "outputId": "08bfe54c-da3d-4d74-ec48-1dd08e163a70"
   },
   "outputs": [
    {
     "name": "stdout",
     "output_type": "stream",
     "text": [
      "RMSE value 1.0987517295955944\n"
     ]
    }
   ],
   "source": [
    "print(\"RMSE value\",np.sqrt(mean_squared_error(rated_products[\"rating_y\"],rated_products[\"rating_x\"])))"
   ]
  },
  {
   "cell_type": "markdown",
   "metadata": {
    "colab_type": "text",
    "id": "gEdNGGgbbuhw"
   },
   "source": [
    "# Collaborative Filtering model"
   ]
  },
  {
   "cell_type": "code",
   "execution_count": 38,
   "metadata": {
    "colab": {
     "base_uri": "https://localhost:8080/",
     "height": 119
    },
    "colab_type": "code",
    "executionInfo": {
     "elapsed": 48709,
     "status": "ok",
     "timestamp": 1556515566444,
     "user": {
      "displayName": "Karthik Palani",
      "photoUrl": "https://lh4.googleusercontent.com/-LkVQikQV3Oc/AAAAAAAAAAI/AAAAAAAAAD8/vEi_BDBdSd4/s64/photo.jpg",
      "userId": "02926145707929474060"
     },
     "user_tz": 240
    },
    "id": "csJ5Za3LcY2G",
    "outputId": "08cb6899-71aa-45b8-c5db-109e919f69b8"
   },
   "outputs": [
    {
     "name": "stdout",
     "output_type": "stream",
     "text": [
      "Requirement already satisfied: surprise in /usr/local/lib/python3.6/dist-packages (0.1)\n",
      "Requirement already satisfied: scikit-surprise in /usr/local/lib/python3.6/dist-packages (from surprise) (1.0.6)\n",
      "Requirement already satisfied: six>=1.10.0 in /usr/local/lib/python3.6/dist-packages (from scikit-surprise->surprise) (1.12.0)\n",
      "Requirement already satisfied: scipy>=1.0.0 in /usr/local/lib/python3.6/dist-packages (from scikit-surprise->surprise) (1.2.1)\n",
      "Requirement already satisfied: numpy>=1.11.2 in /usr/local/lib/python3.6/dist-packages (from scikit-surprise->surprise) (1.16.3)\n",
      "Requirement already satisfied: joblib>=0.11 in /usr/local/lib/python3.6/dist-packages (from scikit-surprise->surprise) (0.12.5)\n"
     ]
    }
   ],
   "source": [
    "!pip install surprise"
   ]
  },
  {
   "cell_type": "code",
   "execution_count": 39,
   "metadata": {
    "colab": {
     "base_uri": "https://localhost:8080/",
     "height": 34
    },
    "colab_type": "code",
    "executionInfo": {
     "elapsed": 48690,
     "status": "ok",
     "timestamp": 1556515566452,
     "user": {
      "displayName": "Karthik Palani",
      "photoUrl": "https://lh4.googleusercontent.com/-LkVQikQV3Oc/AAAAAAAAAAI/AAAAAAAAAD8/vEi_BDBdSd4/s64/photo.jpg",
      "userId": "02926145707929474060"
     },
     "user_tz": 240
    },
    "id": "yCbz-a-kZvV9",
    "outputId": "1833bdca-860c-4fe0-8e3e-c11334a21164"
   },
   "outputs": [
    {
     "data": {
      "text/plain": [
       "(125871, 3)"
      ]
     },
     "execution_count": 39,
     "metadata": {
      "tags": []
     },
     "output_type": "execute_result"
    }
   ],
   "source": [
    "final_df.shape"
   ]
  },
  {
   "cell_type": "markdown",
   "metadata": {
    "colab_type": "text",
    "id": "w3ss4gc7jBqs"
   },
   "source": [
    "Converting Pandas Dataframe to Surpise format"
   ]
  },
  {
   "cell_type": "code",
   "execution_count": 45,
   "metadata": {
    "colab": {
     "base_uri": "https://localhost:8080/",
     "height": 34
    },
    "colab_type": "code",
    "executionInfo": {
     "elapsed": 49521,
     "status": "ok",
     "timestamp": 1556515567365,
     "user": {
      "displayName": "Karthik Palani",
      "photoUrl": "https://lh4.googleusercontent.com/-LkVQikQV3Oc/AAAAAAAAAAI/AAAAAAAAAD8/vEi_BDBdSd4/s64/photo.jpg",
      "userId": "02926145707929474060"
     },
     "user_tz": 240
    },
    "id": "1paSzv9jc4PX",
    "outputId": "d23d5809-98f5-4149-e84c-9e40562e97b7"
   },
   "outputs": [
    {
     "name": "stdout",
     "output_type": "stream",
     "text": [
      "No of unique users: 1540\n"
     ]
    }
   ],
   "source": [
    "final_df.user_id=final_df.user_id.astype(str)\n",
    "final_df.product_id=final_df.product_id.astype(str)\n",
    "\n",
    "from surprise import Dataset,Reader\n",
    "reader = Reader(rating_scale=(1, 5))\n",
    "data = Dataset.load_from_df(final_df[['user_id', 'product_id', 'rating']], reader)\n",
    "\n",
    "from surprise.model_selection import train_test_split\n",
    "train, test = train_test_split(data, test_size=.30,random_state=123)\n",
    "\n",
    "\n",
    "from surprise import KNNWithMeans\n",
    "from surprise import accuracy\n",
    "from surprise import Prediction\n",
    "\n",
    "print('No of unique users:',len(final_df[\"user_id\"].unique()))\n"
   ]
  },
  {
   "cell_type": "code",
   "execution_count": 46,
   "metadata": {
    "colab": {
     "base_uri": "https://localhost:8080/",
     "height": 34
    },
    "colab_type": "code",
    "executionInfo": {
     "elapsed": 49512,
     "status": "ok",
     "timestamp": 1556515567366,
     "user": {
      "displayName": "Karthik Palani",
      "photoUrl": "https://lh4.googleusercontent.com/-LkVQikQV3Oc/AAAAAAAAAAI/AAAAAAAAAD8/vEi_BDBdSd4/s64/photo.jpg",
      "userId": "02926145707929474060"
     },
     "user_tz": 240
    },
    "id": "6m2ehZa4c-1D",
    "outputId": "5cd7481d-6786-4b4e-cc38-837418224400"
   },
   "outputs": [
    {
     "name": "stdout",
     "output_type": "stream",
     "text": [
      "No of unique products: 48190\n"
     ]
    }
   ],
   "source": [
    "print('No of unique products:',len(final_df[\"product_id\"].unique()))"
   ]
  },
  {
   "cell_type": "markdown",
   "metadata": {
    "colab_type": "text",
    "id": "FhykJkuGdS51"
   },
   "source": [
    "Since the no of unique users are lesser than the unique produsct, it is better to build to Used Based Collaborative Filter"
   ]
  },
  {
   "cell_type": "markdown",
   "metadata": {
    "colab_type": "text",
    "id": "Zls4vpRydnOd"
   },
   "source": [
    "**Grid Search Model**"
   ]
  },
  {
   "cell_type": "code",
   "execution_count": 49,
   "metadata": {
    "colab": {
     "base_uri": "https://localhost:8080/",
     "height": 1071
    },
    "colab_type": "code",
    "executionInfo": {
     "elapsed": 87516,
     "status": "ok",
     "timestamp": 1556515605405,
     "user": {
      "displayName": "Karthik Palani",
      "photoUrl": "https://lh4.googleusercontent.com/-LkVQikQV3Oc/AAAAAAAAAAI/AAAAAAAAAD8/vEi_BDBdSd4/s64/photo.jpg",
      "userId": "02926145707929474060"
     },
     "user_tz": 240
    },
    "id": "3XCO0OIDdmAD",
    "outputId": "c1e31585-95b6-4521-fe5b-b531133c6919"
   },
   "outputs": [
    {
     "name": "stdout",
     "output_type": "stream",
     "text": [
      "Computing the msd similarity matrix...\n",
      "Done computing similarity matrix.\n",
      "Computing the msd similarity matrix...\n",
      "Done computing similarity matrix.\n",
      "Computing the msd similarity matrix...\n",
      "Done computing similarity matrix.\n",
      "Computing the msd similarity matrix...\n",
      "Done computing similarity matrix.\n",
      "Computing the msd similarity matrix...\n",
      "Done computing similarity matrix.\n",
      "Computing the cosine similarity matrix...\n",
      "Done computing similarity matrix.\n",
      "Computing the cosine similarity matrix...\n",
      "Done computing similarity matrix.\n",
      "Computing the cosine similarity matrix...\n",
      "Done computing similarity matrix.\n",
      "Computing the cosine similarity matrix...\n",
      "Done computing similarity matrix.\n",
      "Computing the cosine similarity matrix...\n",
      "Done computing similarity matrix.\n",
      "Computing the pearson similarity matrix...\n",
      "Done computing similarity matrix.\n",
      "Computing the pearson similarity matrix...\n",
      "Done computing similarity matrix.\n",
      "Computing the pearson similarity matrix...\n",
      "Done computing similarity matrix.\n",
      "Computing the pearson similarity matrix...\n",
      "Done computing similarity matrix.\n",
      "Computing the pearson similarity matrix...\n",
      "Done computing similarity matrix.\n",
      "Computing the msd similarity matrix...\n",
      "Done computing similarity matrix.\n",
      "Computing the msd similarity matrix...\n",
      "Done computing similarity matrix.\n",
      "Computing the msd similarity matrix...\n",
      "Done computing similarity matrix.\n",
      "Computing the msd similarity matrix...\n",
      "Done computing similarity matrix.\n",
      "Computing the msd similarity matrix...\n",
      "Done computing similarity matrix.\n",
      "Computing the cosine similarity matrix...\n",
      "Done computing similarity matrix.\n",
      "Computing the cosine similarity matrix...\n",
      "Done computing similarity matrix.\n",
      "Computing the cosine similarity matrix...\n",
      "Done computing similarity matrix.\n",
      "Computing the cosine similarity matrix...\n",
      "Done computing similarity matrix.\n",
      "Computing the cosine similarity matrix...\n",
      "Done computing similarity matrix.\n",
      "Computing the pearson similarity matrix...\n",
      "Done computing similarity matrix.\n",
      "Computing the pearson similarity matrix...\n",
      "Done computing similarity matrix.\n",
      "Computing the pearson similarity matrix...\n",
      "Done computing similarity matrix.\n",
      "Computing the pearson similarity matrix...\n",
      "Done computing similarity matrix.\n",
      "Computing the pearson similarity matrix...\n",
      "Done computing similarity matrix.\n",
      "1.0498906925910714\n",
      "{'k': 50, 'sim_options': {'name': 'pearson', 'user_based': True}}\n"
     ]
    }
   ],
   "source": [
    "from surprise.model_selection import GridSearchCV\n",
    "\n",
    "param_grid = {'k': [1, 50],\n",
    "              'sim_options': {'name': ['msd', 'cosine','pearson'],\n",
    "                              'user_based': [True]}\n",
    "             }\n",
    "\n",
    "gs = GridSearchCV(KNNWithMeans, param_grid, measures=['rmse', 'mae'], cv=5)\n",
    "gs.fit(data)\n",
    "print(gs.best_score['rmse'])\n",
    "print(gs.best_params['rmse'])"
   ]
  },
  {
   "cell_type": "markdown",
   "metadata": {
    "colab_type": "text",
    "id": "dG0X1WKuhV0F"
   },
   "source": [
    "Best Params were k=50 and name=pearson"
   ]
  },
  {
   "cell_type": "markdown",
   "metadata": {
    "colab_type": "text",
    "id": "CYzgvkEqhNG1"
   },
   "source": [
    "**Model building using best params from Grid Search model**"
   ]
  },
  {
   "cell_type": "code",
   "execution_count": 50,
   "metadata": {
    "colab": {
     "base_uri": "https://localhost:8080/",
     "height": 68
    },
    "colab_type": "code",
    "executionInfo": {
     "elapsed": 87863,
     "status": "ok",
     "timestamp": 1556515605762,
     "user": {
      "displayName": "Karthik Palani",
      "photoUrl": "https://lh4.googleusercontent.com/-LkVQikQV3Oc/AAAAAAAAAAI/AAAAAAAAAD8/vEi_BDBdSd4/s64/photo.jpg",
      "userId": "02926145707929474060"
     },
     "user_tz": 240
    },
    "id": "xKKZzuqKfsWA",
    "outputId": "3480903f-7b0d-46d7-a325-d669ad389930"
   },
   "outputs": [
    {
     "name": "stdout",
     "output_type": "stream",
     "text": [
      "Computing the pearson similarity matrix...\n",
      "Done computing similarity matrix.\n"
     ]
    },
    {
     "data": {
      "text/plain": [
       "<surprise.prediction_algorithms.knns.KNNWithMeans at 0x7fe10266eda0>"
      ]
     },
     "execution_count": 50,
     "metadata": {
      "tags": []
     },
     "output_type": "execute_result"
    }
   ],
   "source": [
    "model = KNNWithMeans(k=50, sim_options={'name': 'pearson', 'user_based': True})\n",
    "model.fit(train)\n",
    "test_pred = model.test(test)"
   ]
  },
  {
   "cell_type": "markdown",
   "metadata": {
    "colab_type": "text",
    "id": "dK8NPY86hHK6"
   },
   "source": [
    "**RMSE Score**"
   ]
  },
  {
   "cell_type": "code",
   "execution_count": 52,
   "metadata": {
    "colab": {
     "base_uri": "https://localhost:8080/",
     "height": 51
    },
    "colab_type": "code",
    "executionInfo": {
     "elapsed": 89439,
     "status": "ok",
     "timestamp": 1556515607360,
     "user": {
      "displayName": "Karthik Palani",
      "photoUrl": "https://lh4.googleusercontent.com/-LkVQikQV3Oc/AAAAAAAAAAI/AAAAAAAAAD8/vEi_BDBdSd4/s64/photo.jpg",
      "userId": "02926145707929474060"
     },
     "user_tz": 240
    },
    "id": "H_kf5Gh_hDhT",
    "outputId": "15de975a-d92a-4376-9333-98969ecb1f07"
   },
   "outputs": [
    {
     "name": "stdout",
     "output_type": "stream",
     "text": [
      "RMSE: 1.0473\n"
     ]
    },
    {
     "data": {
      "text/plain": [
       "1.0472963586706814"
      ]
     },
     "execution_count": 52,
     "metadata": {
      "tags": []
     },
     "output_type": "execute_result"
    }
   ],
   "source": [
    "accuracy.rmse(test_pred)"
   ]
  },
  {
   "cell_type": "code",
   "execution_count": 53,
   "metadata": {
    "colab": {
     "base_uri": "https://localhost:8080/",
     "height": 17054
    },
    "colab_type": "code",
    "executionInfo": {
     "elapsed": 89429,
     "status": "ok",
     "timestamp": 1556515607361,
     "user": {
      "displayName": "Karthik Palani",
      "photoUrl": "https://lh4.googleusercontent.com/-LkVQikQV3Oc/AAAAAAAAAAI/AAAAAAAAAD8/vEi_BDBdSd4/s64/photo.jpg",
      "userId": "02926145707929474060"
     },
     "user_tz": 240
    },
    "id": "JShjVZL1hFw0",
    "outputId": "de6151c8-43ec-4f03-d815-53bd14ae782f"
   },
   "outputs": [
    {
     "data": {
      "text/plain": [
       "[Prediction(uid='A22CW0ZHY3NJH8', iid='B005FDXZJU', r_ui=5.0, est=4.720331496101592, details={'actual_k': 3, 'was_impossible': False}),\n",
       " Prediction(uid='A7FDGFK0KN7QG', iid='B005058B6A', r_ui=5.0, est=4.666666666666667, details={'actual_k': 0, 'was_impossible': False}),\n",
       " Prediction(uid='AMZCZBK1EF1PV', iid='B002C73WR2', r_ui=5.0, est=4.261051651931131, details={'was_impossible': True, 'reason': 'User and/or item is unkown.'}),\n",
       " Prediction(uid='A213J54E63SYOP', iid='B007JPOX8O', r_ui=4.0, est=3.838709677419355, details={'actual_k': 0, 'was_impossible': False}),\n",
       " Prediction(uid='A1H7Y5XKPGT0OS', iid='B005X64MN2', r_ui=5.0, est=4.15, details={'actual_k': 0, 'was_impossible': False}),\n",
       " Prediction(uid='A2X3L31KCXBHCL', iid='B00EOI2SYK', r_ui=5.0, est=4.298245614035087, details={'actual_k': 0, 'was_impossible': False}),\n",
       " Prediction(uid='A34C9AFFZOI45T', iid='B003QA5LA0', r_ui=1.0, est=4.8352941176470585, details={'actual_k': 0, 'was_impossible': False}),\n",
       " Prediction(uid='A3D1TZH619NKHN', iid='B007Q8GOHM', r_ui=4.0, est=3.3486475295548037, details={'actual_k': 6, 'was_impossible': False}),\n",
       " Prediction(uid='A11T807LX2EF00', iid='B00GRNUO2I', r_ui=5.0, est=4.591292748874996, details={'actual_k': 4, 'was_impossible': False}),\n",
       " Prediction(uid='ATOKT8QYK967L', iid='B009JP461G', r_ui=4.0, est=4.162790697674419, details={'actual_k': 0, 'was_impossible': False}),\n",
       " Prediction(uid='A2IFKH3TJ10387', iid='B00JP12170', r_ui=4.0, est=3.5007411940536484, details={'actual_k': 3, 'was_impossible': False}),\n",
       " Prediction(uid='A3DGJMO6VPG6FJ', iid='B003M0NT1M', r_ui=4.0, est=3.9491525423728815, details={'actual_k': 0, 'was_impossible': False}),\n",
       " Prediction(uid='A3IK2VCQ007CJ', iid='B0013Q1XTM', r_ui=5.0, est=4.3, details={'actual_k': 0, 'was_impossible': False}),\n",
       " Prediction(uid='A259MPG6SOL02P', iid='B002SP2X5U', r_ui=2.0, est=4.261051651931131, details={'was_impossible': True, 'reason': 'User and/or item is unkown.'}),\n",
       " Prediction(uid='A2RS66Y79Q8X0W', iid='B007PJ4Q4A', r_ui=1.0, est=4.588235294117647, details={'actual_k': 0, 'was_impossible': False}),\n",
       " Prediction(uid='A2FRKEXDXDN1KI', iid='B0088CJT4U', r_ui=5.0, est=4.439149431614537, details={'actual_k': 9, 'was_impossible': False}),\n",
       " Prediction(uid='A3J2YU2D9BH2J7', iid='B007U1YGOS', r_ui=4.0, est=4.261051651931131, details={'was_impossible': True, 'reason': 'User and/or item is unkown.'}),\n",
       " Prediction(uid='A3CMO216CWOF5N', iid='B0001OHH0Q', r_ui=5.0, est=3.9761904761904763, details={'actual_k': 0, 'was_impossible': False}),\n",
       " Prediction(uid='A1IBKN1GXYJ3K4', iid='B0029ZA4ZK', r_ui=5.0, est=4.261051651931131, details={'was_impossible': True, 'reason': 'User and/or item is unkown.'}),\n",
       " Prediction(uid='A16RL0RMRF974O', iid='B00232YR3E', r_ui=5.0, est=4.472222222222222, details={'actual_k': 0, 'was_impossible': False}),\n",
       " Prediction(uid='A1KD8NJPZ01R37', iid='B003N0XDT4', r_ui=1.0, est=3.3442622950819674, details={'actual_k': 0, 'was_impossible': False}),\n",
       " Prediction(uid='A3QRW0UJPKIAX7', iid='B00AQ2BRXQ', r_ui=3.0, est=1, details={'actual_k': 1, 'was_impossible': False}),\n",
       " Prediction(uid='A30C8WHQ2CYFO4', iid='B002YP314Q', r_ui=5.0, est=4.261051651931131, details={'was_impossible': True, 'reason': 'User and/or item is unkown.'}),\n",
       " Prediction(uid='A1PS4OYWUB0VX', iid='B00DVFLJDS', r_ui=5.0, est=5, details={'actual_k': 2, 'was_impossible': False}),\n",
       " Prediction(uid='A2I357I10ZY7CI', iid='B000CBLYVG', r_ui=4.0, est=4.457142857142857, details={'actual_k': 0, 'was_impossible': False}),\n",
       " Prediction(uid='A2Y4H3PXB07WQI', iid='B003OYDX7G', r_ui=4.0, est=4.261051651931131, details={'was_impossible': True, 'reason': 'User and/or item is unkown.'}),\n",
       " Prediction(uid='A1EH2S92FHWZRP', iid='B00003CWDO', r_ui=4.0, est=4.261051651931131, details={'was_impossible': True, 'reason': 'User and/or item is unkown.'}),\n",
       " Prediction(uid='A1VJ0V58N0698J', iid='B007C1KKW8', r_ui=2.0, est=4.261051651931131, details={'was_impossible': True, 'reason': 'User and/or item is unkown.'}),\n",
       " Prediction(uid='A18U49406IPPIJ', iid='B00GJFGDUQ', r_ui=5.0, est=4.958333333333333, details={'actual_k': 0, 'was_impossible': False}),\n",
       " Prediction(uid='ACJT8MUC0LRF0', iid='B0061GQ7PO', r_ui=5.0, est=5, details={'actual_k': 2, 'was_impossible': False}),\n",
       " Prediction(uid='ATFBVUXDIRXT6', iid='B006SVV6HG', r_ui=3.0, est=4.380952380952381, details={'actual_k': 0, 'was_impossible': False}),\n",
       " Prediction(uid='A25UZ7MA72SMKM', iid='B0079R8IYW', r_ui=4.0, est=4.073170731707317, details={'actual_k': 0, 'was_impossible': False}),\n",
       " Prediction(uid='A20OBCQWBKCGZT', iid='B000RQSGYO', r_ui=5.0, est=4.265822784810126, details={'actual_k': 0, 'was_impossible': False}),\n",
       " Prediction(uid='A54SG05AV6S4H', iid='B0037YSSXW', r_ui=5.0, est=4.261051651931131, details={'was_impossible': True, 'reason': 'User and/or item is unkown.'}),\n",
       " Prediction(uid='A3284KYDZ00BZA', iid='B0030MIU16', r_ui=5.0, est=3.546678837650906, details={'actual_k': 4, 'was_impossible': False}),\n",
       " Prediction(uid='AW6J9IILGOZY3', iid='B00CI3BIWQ', r_ui=5.0, est=4.320754716981132, details={'actual_k': 0, 'was_impossible': False}),\n",
       " Prediction(uid='A3HPCRD9RX351S', iid='B000T6NTLW', r_ui=5.0, est=4.261051651931131, details={'was_impossible': True, 'reason': 'User and/or item is unkown.'}),\n",
       " Prediction(uid='AKSFZ4G1AXYFC', iid='B004DP2TC0', r_ui=5.0, est=4.2, details={'actual_k': 0, 'was_impossible': False}),\n",
       " Prediction(uid='A2XRMQA6PJ5ZJ8', iid='B0052SCU8U', r_ui=5.0, est=4.988547375702699, details={'actual_k': 2, 'was_impossible': False}),\n",
       " Prediction(uid='A2LEIANN1UZTHP', iid='B000EOCG6I', r_ui=4.0, est=4.261051651931131, details={'was_impossible': True, 'reason': 'User and/or item is unkown.'}),\n",
       " Prediction(uid='A3V2EZ6MA32FF6', iid='B00BT8XX9C', r_ui=5.0, est=4.637931034482759, details={'actual_k': 0, 'was_impossible': False}),\n",
       " Prediction(uid='A2KOV8XWZOZ0FQ', iid='B00829THEG', r_ui=4.0, est=4.415444980918949, details={'actual_k': 7, 'was_impossible': False}),\n",
       " Prediction(uid='A9ELHLPXF7JKD', iid='B000HATNH4', r_ui=5.0, est=4.387755102040816, details={'actual_k': 0, 'was_impossible': False}),\n",
       " Prediction(uid='A1NQFT941TOTT7', iid='B002MU1ZRS', r_ui=5.0, est=3.0, details={'actual_k': 0, 'was_impossible': False}),\n",
       " Prediction(uid='A1N5FSCYN4796F', iid='B005AZ7B4S', r_ui=4.0, est=3.765957446808511, details={'actual_k': 0, 'was_impossible': False}),\n",
       " Prediction(uid='A2KYRPDKVBI2R4', iid='B004W86GQS', r_ui=2.0, est=4.780487804878049, details={'actual_k': 0, 'was_impossible': False}),\n",
       " Prediction(uid='AGGAQLXPVGM5D', iid='B001FWKA7A', r_ui=5.0, est=4.54054054054054, details={'actual_k': 0, 'was_impossible': False}),\n",
       " Prediction(uid='A1Q5P5ML3176C0', iid='B002K8UBTK', r_ui=4.0, est=4.261051651931131, details={'was_impossible': True, 'reason': 'User and/or item is unkown.'}),\n",
       " Prediction(uid='AMUP8DYE7EAN2', iid='B00CO0DE0W', r_ui=2.0, est=1.6126315789473677, details={'actual_k': 1, 'was_impossible': False}),\n",
       " Prediction(uid='A2SH6A32BE6NEV', iid='B005NGOPSY', r_ui=3.0, est=4.246376811594203, details={'actual_k': 0, 'was_impossible': False}),\n",
       " Prediction(uid='ATS2855497V0I', iid='B00EL8NIJC', r_ui=3.0, est=4.747137254901961, details={'actual_k': 1, 'was_impossible': False}),\n",
       " Prediction(uid='A3EZFFPVS34AMO', iid='B000I1YIDQ', r_ui=5.0, est=4.569620253164557, details={'actual_k': 0, 'was_impossible': False}),\n",
       " Prediction(uid='A2NSXY5L42ZUGO', iid='B000068NYF', r_ui=5.0, est=4.509433962264151, details={'actual_k': 0, 'was_impossible': False}),\n",
       " Prediction(uid='A15G70V9OBTOVO', iid='B00004ZCDO', r_ui=2.0, est=4.261051651931131, details={'was_impossible': True, 'reason': 'User and/or item is unkown.'}),\n",
       " Prediction(uid='AFR9GYKAHM37U', iid='B0016GX21G', r_ui=5.0, est=4.261051651931131, details={'was_impossible': True, 'reason': 'User and/or item is unkown.'}),\n",
       " Prediction(uid='AKX9EQ37PAYMY', iid='B000P41DVG', r_ui=5.0, est=4.261051651931131, details={'was_impossible': True, 'reason': 'User and/or item is unkown.'}),\n",
       " Prediction(uid='A1LA4K5JF78BER', iid='B000JZA4N4', r_ui=5.0, est=4.261051651931131, details={'was_impossible': True, 'reason': 'User and/or item is unkown.'}),\n",
       " Prediction(uid='A3S0DBBR693O06', iid='B0002BA570', r_ui=5.0, est=4.702702702702703, details={'actual_k': 0, 'was_impossible': False}),\n",
       " Prediction(uid='A1A535TCGNMVPI', iid='B002BDU95A', r_ui=2.0, est=1.3167738164815894, details={'actual_k': 1, 'was_impossible': False}),\n",
       " Prediction(uid='A1IBKN1GXYJ3K4', iid='B00FQ1NO9W', r_ui=5.0, est=4.276595744680851, details={'actual_k': 0, 'was_impossible': False}),\n",
       " Prediction(uid='A34CSXOGVYF94S', iid='B00JGGUZRC', r_ui=5.0, est=3.96183395291202, details={'actual_k': 1, 'was_impossible': False}),\n",
       " Prediction(uid='A3DOPYDOS49I3T', iid='B005DVJJWQ', r_ui=5.0, est=4.868852459016393, details={'actual_k': 0, 'was_impossible': False}),\n",
       " Prediction(uid='A3DWO5RJDA430F', iid='B00931DHKM', r_ui=3.0, est=4.089108910891089, details={'actual_k': 0, 'was_impossible': False}),\n",
       " Prediction(uid='A24HWYHR28JJ7A', iid='B00B7Y7HF4', r_ui=5.0, est=4.5058823529411764, details={'actual_k': 0, 'was_impossible': False}),\n",
       " Prediction(uid='A1QNYLBG73QRNF', iid='B00829TIEK', r_ui=5.0, est=4.966493730827851, details={'actual_k': 6, 'was_impossible': False}),\n",
       " Prediction(uid='A1T1YSCDW0PD25', iid='B000BKJZ9Q', r_ui=5.0, est=5, details={'actual_k': 1, 'was_impossible': False}),\n",
       " Prediction(uid='A5GPH59NDWJRB', iid='B0002KK620', r_ui=3.0, est=4.261051651931131, details={'was_impossible': True, 'reason': 'User and/or item is unkown.'}),\n",
       " Prediction(uid='A32O5FZH994CNY', iid='B00BI4JX2I', r_ui=4.0, est=4.364485981308412, details={'actual_k': 0, 'was_impossible': False}),\n",
       " Prediction(uid='A2W9GX82SLKROQ', iid='B005FVNGRI', r_ui=4.0, est=4.551315789473684, details={'actual_k': 1, 'was_impossible': False}),\n",
       " Prediction(uid='A3KCKECEO3E2AN', iid='B002C1BHIO', r_ui=5.0, est=1.82282826974153, details={'actual_k': 1, 'was_impossible': False}),\n",
       " Prediction(uid='AEAFHD09X8044', iid='B000E8SY5Q', r_ui=5.0, est=4.261051651931131, details={'was_impossible': True, 'reason': 'User and/or item is unkown.'}),\n",
       " Prediction(uid='A31N0XY2UTB25C', iid='B002RCNX8K', r_ui=5.0, est=4.748466257668712, details={'actual_k': 0, 'was_impossible': False}),\n",
       " Prediction(uid='A11KZ906QD08C5', iid='B002VX0GJY', r_ui=1.0, est=4.370860927152318, details={'actual_k': 0, 'was_impossible': False}),\n",
       " Prediction(uid='A3N4I2KRSMACW8', iid='B009X8E9D4', r_ui=5.0, est=4.261051651931131, details={'was_impossible': True, 'reason': 'User and/or item is unkown.'}),\n",
       " Prediction(uid='A1GYEGLX3P2Y7P', iid='B003IT6Z6I', r_ui=4.0, est=4.319148936170213, details={'actual_k': 0, 'was_impossible': False}),\n",
       " Prediction(uid='A2WB7LZ595CR50', iid='B000WOIFGU', r_ui=5.0, est=3.905982905982906, details={'actual_k': 0, 'was_impossible': False}),\n",
       " Prediction(uid='A105S56ODHGJEK', iid='B006I5MKZY', r_ui=4.0, est=2.6275191934002935, details={'actual_k': 6, 'was_impossible': False}),\n",
       " Prediction(uid='A2NSXY5L42ZUGO', iid='B0058ML1BM', r_ui=5.0, est=4.261051651931131, details={'was_impossible': True, 'reason': 'User and/or item is unkown.'}),\n",
       " Prediction(uid='A4H4KYSM2KQ85', iid='B00AY1K50U', r_ui=5.0, est=4.261051651931131, details={'was_impossible': True, 'reason': 'User and/or item is unkown.'}),\n",
       " Prediction(uid='A37IRE9GZ0CZ7I', iid='B001LP40KY', r_ui=1.0, est=4.261051651931131, details={'was_impossible': True, 'reason': 'User and/or item is unkown.'}),\n",
       " Prediction(uid='AGEWOMQ90BV8R', iid='B004X80BI6', r_ui=1.0, est=4.261051651931131, details={'was_impossible': True, 'reason': 'User and/or item is unkown.'}),\n",
       " Prediction(uid='A250AXLRBVYKB4', iid='B0030DL37I', r_ui=5.0, est=4.213414634146342, details={'actual_k': 0, 'was_impossible': False}),\n",
       " Prediction(uid='A377LPVLLAI42D', iid='B002SN7974', r_ui=5.0, est=4.261051651931131, details={'was_impossible': True, 'reason': 'User and/or item is unkown.'}),\n",
       " Prediction(uid='A2OT3PDH1AWLTG', iid='B001RJMN5S', r_ui=5.0, est=4.261051651931131, details={'was_impossible': True, 'reason': 'User and/or item is unkown.'}),\n",
       " Prediction(uid='A26BDXG9KVH7SU', iid='B002K9IHGI', r_ui=3.0, est=4.125645075399984, details={'actual_k': 5, 'was_impossible': False}),\n",
       " Prediction(uid='AT09WGFUM934H', iid='B00HSC0D3W', r_ui=5.0, est=4.261051651931131, details={'was_impossible': True, 'reason': 'User and/or item is unkown.'}),\n",
       " Prediction(uid='A2HRHF83I3NDGT', iid='B005DIRI6I', r_ui=5.0, est=4.730337078651686, details={'actual_k': 0, 'was_impossible': False}),\n",
       " Prediction(uid='AJEOFP6ZWY0MK', iid='B001DZ2NQK', r_ui=3.0, est=4.261051651931131, details={'was_impossible': True, 'reason': 'User and/or item is unkown.'}),\n",
       " Prediction(uid='AL5CUWBFBMWYQ', iid='B006ZP8UOW', r_ui=4.0, est=4.237373737373737, details={'actual_k': 1, 'was_impossible': False}),\n",
       " Prediction(uid='A17O9AHKHK66AI', iid='B0014GVYCC', r_ui=1.0, est=4.261051651931131, details={'was_impossible': True, 'reason': 'User and/or item is unkown.'}),\n",
       " Prediction(uid='A1X3ESYZ79H59E', iid='B007BY0MIS', r_ui=4.0, est=3.7962318202899485, details={'actual_k': 9, 'was_impossible': False}),\n",
       " Prediction(uid='A3H4S6YO9VNGDZ', iid='B000Q8UAWY', r_ui=5.0, est=4.4846223428312975, details={'actual_k': 1, 'was_impossible': False}),\n",
       " Prediction(uid='A386LG0LRWKJZP', iid='B004N625AK', r_ui=3.0, est=2.659090909090909, details={'actual_k': 0, 'was_impossible': False}),\n",
       " Prediction(uid='A19UTUEBWKIZFT', iid='B00FDK6IVM', r_ui=5.0, est=4.606060606060606, details={'actual_k': 0, 'was_impossible': False}),\n",
       " Prediction(uid='A3R1WFO4KIUQXZ', iid='B007RFW1NA', r_ui=4.0, est=4.282416700120434, details={'actual_k': 1, 'was_impossible': False}),\n",
       " Prediction(uid='AN9CP6J4JF91X', iid='B002HGVV4O', r_ui=1.0, est=4.641025641025641, details={'actual_k': 0, 'was_impossible': False}),\n",
       " Prediction(uid='A3L1VJMHFWONCB', iid='B00273W0LU', r_ui=5.0, est=4.261051651931131, details={'was_impossible': True, 'reason': 'User and/or item is unkown.'}),\n",
       " Prediction(uid='ASJSX783R5HTZ', iid='B001GCVA0U', r_ui=5.0, est=3.9036144578313254, details={'actual_k': 0, 'was_impossible': False}),\n",
       " Prediction(uid='A11D1KHM7DVOQK', iid='B00006483U', r_ui=2.0, est=4.261051651931131, details={'was_impossible': True, 'reason': 'User and/or item is unkown.'}),\n",
       " Prediction(uid='AIJQU979J6UFY', iid='B001U0O5QE', r_ui=3.0, est=3.494823282183471, details={'actual_k': 2, 'was_impossible': False}),\n",
       " Prediction(uid='AUK79PXTAOJP9', iid='B000I94FAE', r_ui=5.0, est=4.638888888888889, details={'actual_k': 0, 'was_impossible': False}),\n",
       " Prediction(uid='A11D1KHM7DVOQK', iid='B000FONSEQ', r_ui=3.0, est=4.261051651931131, details={'was_impossible': True, 'reason': 'User and/or item is unkown.'}),\n",
       " Prediction(uid='A3D7BGK0P5QY0X', iid='B007ZT2K9I', r_ui=4.0, est=4.146341463414634, details={'actual_k': 0, 'was_impossible': False}),\n",
       " Prediction(uid='A3R19YKNL641X3', iid='B00AGBVVI8', r_ui=4.0, est=4.2592592592592595, details={'actual_k': 0, 'was_impossible': False}),\n",
       " Prediction(uid='AATWFX0ZZSE6C', iid='B006OOKT3Y', r_ui=5.0, est=4.325, details={'actual_k': 0, 'was_impossible': False}),\n",
       " Prediction(uid='A19XMHRB3G4DIR', iid='B003JQLI9O', r_ui=4.0, est=4.320605829196894, details={'actual_k': 1, 'was_impossible': False}),\n",
       " Prediction(uid='A1CMWB7AWQUQH4', iid='B008GGH4VI', r_ui=4.0, est=3.9302325581395348, details={'actual_k': 0, 'was_impossible': False}),\n",
       " Prediction(uid='AQIJ3ZEEVCIKU', iid='B0014GVZS0', r_ui=5.0, est=4.261051651931131, details={'was_impossible': True, 'reason': 'User and/or item is unkown.'}),\n",
       " Prediction(uid='ABE5E8B3J7MKY', iid='B000LB0M8S', r_ui=5.0, est=4.833333333333333, details={'actual_k': 0, 'was_impossible': False}),\n",
       " Prediction(uid='A1BXVZSQOJE6UE', iid='B003VANO7C', r_ui=5.0, est=3.668918918918919, details={'actual_k': 1, 'was_impossible': False}),\n",
       " Prediction(uid='A2N75ADJSRW0AH', iid='B006TF3746', r_ui=4.0, est=4.164546899841017, details={'actual_k': 1, 'was_impossible': False}),\n",
       " Prediction(uid='A2UTZ4O5E2W4DK', iid='B005TGKX9S', r_ui=5.0, est=4.676056338028169, details={'actual_k': 0, 'was_impossible': False}),\n",
       " Prediction(uid='AMO1MLSIJSQOF', iid='B00CHR46JA', r_ui=4.0, est=4.433333333333334, details={'actual_k': 0, 'was_impossible': False}),\n",
       " Prediction(uid='A2QI2NTDTMK2FV', iid='B00192KCAG', r_ui=4.0, est=5, details={'actual_k': 1, 'was_impossible': False}),\n",
       " Prediction(uid='AP53MVRC8ZEW2', iid='B0040V5438', r_ui=3.0, est=4.261051651931131, details={'was_impossible': True, 'reason': 'User and/or item is unkown.'}),\n",
       " Prediction(uid='A195EZSQDW3E21', iid='B0090EC5MS', r_ui=5.0, est=4.194805194805195, details={'actual_k': 0, 'was_impossible': False}),\n",
       " Prediction(uid='A2S26YGSVXBCFL', iid='B00ATZ9I90', r_ui=5.0, est=3.8806363318556603, details={'actual_k': 4, 'was_impossible': False}),\n",
       " Prediction(uid='A30J7WQV0ZNRXG', iid='B00EL8NII8', r_ui=3.0, est=4.166666666666667, details={'actual_k': 0, 'was_impossible': False}),\n",
       " Prediction(uid='A141R97FHSSUQ0', iid='B003VYB1KK', r_ui=4.0, est=4.382352941176471, details={'actual_k': 0, 'was_impossible': False}),\n",
       " Prediction(uid='A3N4VTNFPMTHEF', iid='B0079T724W', r_ui=4.0, est=4.509523293672701, details={'actual_k': 2, 'was_impossible': False}),\n",
       " Prediction(uid='AWPODHOB4GFWL', iid='B00CAXC986', r_ui=5.0, est=5, details={'actual_k': 2, 'was_impossible': False}),\n",
       " Prediction(uid='A362FM6FYA1SYS', iid='B008KW62WA', r_ui=4.0, est=4.261051651931131, details={'was_impossible': True, 'reason': 'User and/or item is unkown.'}),\n",
       " Prediction(uid='AT8V3JOZD3KWK', iid='B0012S4APK', r_ui=5.0, est=4.326086956521739, details={'actual_k': 0, 'was_impossible': False}),\n",
       " Prediction(uid='A3AYSYSLHU26U9', iid='B005NGLTZQ', r_ui=4.0, est=4.313186813186813, details={'actual_k': 0, 'was_impossible': False}),\n",
       " Prediction(uid='AL1XV4L25FZ2S', iid='B000TME35W', r_ui=4.0, est=4.128205128205129, details={'actual_k': 0, 'was_impossible': False}),\n",
       " Prediction(uid='A2B7BUH8834Y6M', iid='B000FOLR1C', r_ui=5.0, est=4.261051651931131, details={'was_impossible': True, 'reason': 'User and/or item is unkown.'}),\n",
       " Prediction(uid='AEJAGHLC675A7', iid='B003Z4G3I6', r_ui=5.0, est=5, details={'actual_k': 1, 'was_impossible': False}),\n",
       " Prediction(uid='A365PBEOWM7EI7', iid='B001DVZXC0', r_ui=3.0, est=3.6486486486486487, details={'actual_k': 0, 'was_impossible': False}),\n",
       " Prediction(uid='A1T1YSCDW0PD25', iid='B00AE09HFA', r_ui=5.0, est=4.317647058823529, details={'actual_k': 0, 'was_impossible': False}),\n",
       " Prediction(uid='AJX9A4Q19UTJU', iid='B008RW6QHY', r_ui=5.0, est=5, details={'actual_k': 1, 'was_impossible': False}),\n",
       " Prediction(uid='A3A4ZAIBQWKOZS', iid='B00BDS3N1G', r_ui=4.0, est=4.132118758434548, details={'actual_k': 1, 'was_impossible': False}),\n",
       " Prediction(uid='ABMF4UC4Z00NT', iid='B00392CI7E', r_ui=5.0, est=4.285714285714286, details={'actual_k': 0, 'was_impossible': False}),\n",
       " Prediction(uid='A2G563AC1HME2R', iid='B0098TAGHQ', r_ui=5.0, est=4.261051651931131, details={'was_impossible': True, 'reason': 'User and/or item is unkown.'}),\n",
       " Prediction(uid='A11KZ906QD08C5', iid='B00ET0H9R4', r_ui=5.0, est=4.261051651931131, details={'was_impossible': True, 'reason': 'User and/or item is unkown.'}),\n",
       " Prediction(uid='A3DWO5RJDA430F', iid='B005HNNQ6U', r_ui=5.0, est=4.089108910891089, details={'actual_k': 0, 'was_impossible': False}),\n",
       " Prediction(uid='A15J71JLC29KPW', iid='B00AVST3GS', r_ui=5.0, est=4.097560975609756, details={'actual_k': 0, 'was_impossible': False}),\n",
       " Prediction(uid='A1B4MIXYVIKMU2', iid='B00480P67K', r_ui=4.0, est=4.298701298701299, details={'actual_k': 0, 'was_impossible': False}),\n",
       " Prediction(uid='A2K6CDQ9HZ359G', iid='B00275SUVM', r_ui=4.0, est=4.261051651931131, details={'was_impossible': True, 'reason': 'User and/or item is unkown.'}),\n",
       " Prediction(uid='A1Z16630QMH8Q6', iid='B007J7V2GS', r_ui=5.0, est=4.261051651931131, details={'was_impossible': True, 'reason': 'User and/or item is unkown.'}),\n",
       " Prediction(uid='A3UW0PQLDUACMH', iid='B00BPHH8MA', r_ui=5.0, est=3.698529411764706, details={'actual_k': 1, 'was_impossible': False}),\n",
       " Prediction(uid='A1E3OB6QMBKRYZ', iid='B008U3038I', r_ui=4.0, est=3.75, details={'actual_k': 0, 'was_impossible': False}),\n",
       " Prediction(uid='ASJZT7DM51QEM', iid='B009HPC21Y', r_ui=4.0, est=4.09375, details={'actual_k': 0, 'was_impossible': False}),\n",
       " Prediction(uid='A1F0KPA232MTYC', iid='B003S6CO9I', r_ui=4.0, est=4.03125, details={'actual_k': 0, 'was_impossible': False}),\n",
       " Prediction(uid='A2ALRZ0ENQLYY5', iid='B0067I4Z6O', r_ui=4.0, est=4.72972972972973, details={'actual_k': 0, 'was_impossible': False}),\n",
       " Prediction(uid='A1E1LEVQ9VQNK', iid='B002FYL7PG', r_ui=5.0, est=4.891472868217054, details={'actual_k': 0, 'was_impossible': False}),\n",
       " Prediction(uid='AGR1V15L6FLMA', iid='B000ID7QNI', r_ui=5.0, est=4.456521739130435, details={'actual_k': 0, 'was_impossible': False}),\n",
       " Prediction(uid='A3BVN2QBNPBHCR', iid='B001FSIT9K', r_ui=4.0, est=4.675324675324675, details={'actual_k': 0, 'was_impossible': False}),\n",
       " Prediction(uid='A3NOBH42C7UI5M', iid='B002653KNQ', r_ui=5.0, est=3.7916666666666665, details={'actual_k': 0, 'was_impossible': False}),\n",
       " Prediction(uid='A2MIP3AQVSF2SS', iid='B007MW73C2', r_ui=4.0, est=4.527777777777778, details={'actual_k': 0, 'was_impossible': False}),\n",
       " Prediction(uid='A2WB7LZ595CR50', iid='B000B5TXQQ', r_ui=5.0, est=3.905982905982906, details={'actual_k': 0, 'was_impossible': False}),\n",
       " Prediction(uid='A3HC7NWLKCPX4X', iid='B004PFQX7K', r_ui=1.0, est=4.261051651931131, details={'was_impossible': True, 'reason': 'User and/or item is unkown.'}),\n",
       " Prediction(uid='A1EVV74UQYVKRY', iid='B0084Y47SK', r_ui=5.0, est=4.625, details={'actual_k': 0, 'was_impossible': False}),\n",
       " Prediction(uid='A3NKRH3TJ4DPVI', iid='B002Y2NI4M', r_ui=5.0, est=4.571428571428571, details={'actual_k': 0, 'was_impossible': False}),\n",
       " Prediction(uid='A3EK2KTYHJCPB9', iid='B00EZL1IQA', r_ui=4.0, est=4.304347826086956, details={'actual_k': 0, 'was_impossible': False}),\n",
       " Prediction(uid='A3QRW0UJPKIAX7', iid='B0058SRNZ4', r_ui=5.0, est=3.926829268292683, details={'actual_k': 0, 'was_impossible': False}),\n",
       " Prediction(uid='A18FLOC8YQY0P8', iid='B0041EL7JY', r_ui=5.0, est=4.261051651931131, details={'was_impossible': True, 'reason': 'User and/or item is unkown.'}),\n",
       " Prediction(uid='A1RPTVW5VEOSI', iid='B001AG9T1Y', r_ui=4.0, est=3.9734513274336285, details={'actual_k': 0, 'was_impossible': False}),\n",
       " Prediction(uid='A27M75LRSJ788H', iid='B0083I7Y8W', r_ui=5.0, est=4.942028985507246, details={'actual_k': 0, 'was_impossible': False}),\n",
       " Prediction(uid='A206CGM6J75UJY', iid='B003G2ZJTG', r_ui=5.0, est=4.2894736842105265, details={'actual_k': 0, 'was_impossible': False}),\n",
       " Prediction(uid='ACY9QYNDFLVBI', iid='B002CZAPUQ', r_ui=5.0, est=4.44, details={'actual_k': 0, 'was_impossible': False}),\n",
       " Prediction(uid='AWNBZSEZ9P8BE', iid='B00BE68UZ6', r_ui=3.0, est=3.8285714285714287, details={'actual_k': 0, 'was_impossible': False}),\n",
       " Prediction(uid='A2GMZZ6TDYOHY7', iid='B003O1UYHG', r_ui=5.0, est=4.631578947368421, details={'actual_k': 0, 'was_impossible': False}),\n",
       " Prediction(uid='A2KIJBT9HRIOM8', iid='B000FFISV8', r_ui=5.0, est=4.416666666666667, details={'actual_k': 0, 'was_impossible': False}),\n",
       " Prediction(uid='A1P3DDFL423B3C', iid='B0010CDSLU', r_ui=5.0, est=3.6444444444444444, details={'actual_k': 0, 'was_impossible': False}),\n",
       " Prediction(uid='A206CGM6J75UJY', iid='B003XIJ3MW', r_ui=3.0, est=4.2894736842105265, details={'actual_k': 0, 'was_impossible': False}),\n",
       " Prediction(uid='A2J8T58Z4X15IO', iid='B0053TDCH6', r_ui=5.0, est=4.261051651931131, details={'was_impossible': True, 'reason': 'User and/or item is unkown.'}),\n",
       " Prediction(uid='A1143YEAZYMYHJ', iid='B005D2JE2A', r_ui=5.0, est=4.387096774193548, details={'actual_k': 0, 'was_impossible': False}),\n",
       " Prediction(uid='A23E9QQHJLNGUI', iid='B0023APPCI', r_ui=4.0, est=4.846153846153846, details={'actual_k': 0, 'was_impossible': False}),\n",
       " Prediction(uid='A38KK0SZYEH5UD', iid='B00018MSNI', r_ui=5.0, est=4.410071942446043, details={'actual_k': 0, 'was_impossible': False}),\n",
       " Prediction(uid='A3HPCRD9RX351S', iid='B0002MQGKE', r_ui=3.0, est=4.292307692307692, details={'actual_k': 0, 'was_impossible': False}),\n",
       " Prediction(uid='A1PVJICI412IN4', iid='B0028Y4DAO', r_ui=5.0, est=3.826923076923077, details={'actual_k': 0, 'was_impossible': False}),\n",
       " Prediction(uid='AKT8TGIT6VVZ5', iid='B000MQKTUS', r_ui=5.0, est=4.261051651931131, details={'was_impossible': True, 'reason': 'User and/or item is unkown.'}),\n",
       " Prediction(uid='A2WCFDOCS73PNB', iid='B003EEMDMC', r_ui=5.0, est=4.384615384615385, details={'actual_k': 0, 'was_impossible': False}),\n",
       " Prediction(uid='AL1XV4L25FZ2S', iid='B00378KLYC', r_ui=5.0, est=4.128205128205129, details={'actual_k': 0, 'was_impossible': False}),\n",
       " Prediction(uid='AVPNQUVZWMDSX', iid='B00ADG5FLK', r_ui=3.0, est=3.8525395230822066, details={'actual_k': 3, 'was_impossible': False}),\n",
       " Prediction(uid='A1HBEQWSMVQEWJ', iid='B000QUUFRW', r_ui=5.0, est=3.891891891891892, details={'actual_k': 0, 'was_impossible': False}),\n",
       " Prediction(uid='A2WBVO6X3KPMDT', iid='B00965D0SE', r_ui=5.0, est=4.261051651931131, details={'was_impossible': True, 'reason': 'User and/or item is unkown.'}),\n",
       " Prediction(uid='A17BUUBOU0598B', iid='B000FZVQ62', r_ui=4.0, est=4.261051651931131, details={'was_impossible': True, 'reason': 'User and/or item is unkown.'}),\n",
       " Prediction(uid='A3V6Z4RCDGRC44', iid='B00829TIA4', r_ui=5.0, est=5, details={'actual_k': 2, 'was_impossible': False}),\n",
       " Prediction(uid='A3GVXKCTFN3YDN', iid='B000UBUW66', r_ui=5.0, est=4.261051651931131, details={'was_impossible': True, 'reason': 'User and/or item is unkown.'}),\n",
       " Prediction(uid='A38V76R24EJSHA', iid='B005OP1FI2', r_ui=4.0, est=4.261051651931131, details={'was_impossible': True, 'reason': 'User and/or item is unkown.'}),\n",
       " Prediction(uid='AFQBS241UKPAZ', iid='B0007QQJX4', r_ui=4.0, est=4.090909090909091, details={'actual_k': 0, 'was_impossible': False}),\n",
       " Prediction(uid='A3S5WYWYKSAI9C', iid='B002DEMAWM', r_ui=4.0, est=3.840909090909091, details={'actual_k': 0, 'was_impossible': False}),\n",
       " Prediction(uid='A2VJ5ALN1BIV3B', iid='B0051G5SBY', r_ui=5.0, est=4.54, details={'actual_k': 0, 'was_impossible': False}),\n",
       " Prediction(uid='A1T9MILRRZ00F8', iid='B004INGZCM', r_ui=4.0, est=3.864864864864865, details={'actual_k': 0, 'was_impossible': False}),\n",
       " Prediction(uid='A18HE80910BTZI', iid='B005GM1Q1O', r_ui=3.0, est=2.9187865538663327, details={'actual_k': 7, 'was_impossible': False}),\n",
       " Prediction(uid='A7EU2BWLLCJY2', iid='B00CU8CJSQ', r_ui=5.0, est=4.261051651931131, details={'was_impossible': True, 'reason': 'User and/or item is unkown.'}),\n",
       " Prediction(uid='A1HBEQWSMVQEWJ', iid='B005HKIDF2', r_ui=5.0, est=3.891891891891892, details={'actual_k': 0, 'was_impossible': False}),\n",
       " Prediction(uid='A2NX6MFZP8TM6S', iid='B00834SJSK', r_ui=5.0, est=4.69290465631929, details={'actual_k': 1, 'was_impossible': False}),\n",
       " Prediction(uid='A25HBO5V8S8SEA', iid='B00008W2LR', r_ui=5.0, est=4.261051651931131, details={'was_impossible': True, 'reason': 'User and/or item is unkown.'}),\n",
       " Prediction(uid='AEJAGHLC675A7', iid='B00009VQJZ', r_ui=5.0, est=4.78698224852071, details={'actual_k': 0, 'was_impossible': False}),\n",
       " Prediction(uid='A1ZCSSCAGBCD49', iid='B00DTPYQBM', r_ui=3.0, est=4.343937614167723, details={'actual_k': 5, 'was_impossible': False}),\n",
       " Prediction(uid='A1BJOHHLG0D965', iid='B003VNKKUS', r_ui=5.0, est=4.166666666666667, details={'actual_k': 0, 'was_impossible': False}),\n",
       " Prediction(uid='AHF4I1FSIHABC', iid='B006TT91TW', r_ui=1.0, est=4.63265306122449, details={'actual_k': 0, 'was_impossible': False}),\n",
       " Prediction(uid='A1QVFHPY8418HC', iid='B000F31TI4', r_ui=5.0, est=4.421052631578948, details={'actual_k': 0, 'was_impossible': False}),\n",
       " Prediction(uid='A1PI8VBCXXSGC7', iid='B00JC5Y6WM', r_ui=5.0, est=4.505116161900714, details={'actual_k': 4, 'was_impossible': False}),\n",
       " Prediction(uid='ASCBJEPXTOU0V', iid='B00ARB5E8A', r_ui=5.0, est=4.261051651931131, details={'was_impossible': True, 'reason': 'User and/or item is unkown.'}),\n",
       " Prediction(uid='A1GYEGLX3P2Y7P', iid='B002R5AM7C', r_ui=5.0, est=4.711591558399123, details={'actual_k': 8, 'was_impossible': False}),\n",
       " Prediction(uid='A3FBM0RMCMAABV', iid='B005OB1TU0', r_ui=5.0, est=5, details={'actual_k': 1, 'was_impossible': False}),\n",
       " Prediction(uid='A2WPL6Y08K6ZQH', iid='B00F3F0EIU', r_ui=5.0, est=4.856639839034206, details={'actual_k': 2, 'was_impossible': False}),\n",
       " Prediction(uid='AC1YLEFC9AN5X', iid='B003DZ0TRI', r_ui=5.0, est=3.935, details={'actual_k': 1, 'was_impossible': False}),\n",
       " Prediction(uid='A17RFKCYS69M3Y', iid='B0007L7E4M', r_ui=1.0, est=4.261051651931131, details={'was_impossible': True, 'reason': 'User and/or item is unkown.'}),\n",
       " Prediction(uid='A1UTM65Y3G9HUL', iid='B007T9WGMA', r_ui=4.0, est=4.261051651931131, details={'was_impossible': True, 'reason': 'User and/or item is unkown.'}),\n",
       " Prediction(uid='A1Y051MQ2SVPFI', iid='B000F7JCRA', r_ui=4.0, est=4.162162162162162, details={'actual_k': 0, 'was_impossible': False}),\n",
       " Prediction(uid='A33SX0AD5PYD9B', iid='B003ES5ZUU', r_ui=4.0, est=4.6614718614718615, details={'actual_k': 1, 'was_impossible': False}),\n",
       " Prediction(uid='A1YN5I4FINMBTI', iid='B001SJVU24', r_ui=5.0, est=4.590909090909091, details={'actual_k': 0, 'was_impossible': False}),\n",
       " Prediction(uid='A23ONMGKEWDG4M', iid='B0002Y5WXE', r_ui=5.0, est=4.238095238095238, details={'actual_k': 0, 'was_impossible': False}),\n",
       " Prediction(uid='A2F4HP0J5VNOYR', iid='B00316263Y', r_ui=4.0, est=4.575757575757576, details={'actual_k': 0, 'was_impossible': False}),\n",
       " Prediction(uid='A1JWSDDIH5Z7DV', iid='B0001U6RNI', r_ui=5.0, est=4.261051651931131, details={'was_impossible': True, 'reason': 'User and/or item is unkown.'}),\n",
       " Prediction(uid='A2J96FILPQA01', iid='B005XCYZJC', r_ui=5.0, est=4.261051651931131, details={'was_impossible': True, 'reason': 'User and/or item is unkown.'}),\n",
       " Prediction(uid='AA3FTJYJYX55C', iid='B006BCKDGW', r_ui=5.0, est=4.205128205128205, details={'actual_k': 0, 'was_impossible': False}),\n",
       " Prediction(uid='A2L9OPJAAEK08Q', iid='B006LVZDSQ', r_ui=2.0, est=3.5714285714285716, details={'actual_k': 0, 'was_impossible': False}),\n",
       " Prediction(uid='A7QMQBGJ2TCQG', iid='B00017LTFC', r_ui=5.0, est=4.261051651931131, details={'was_impossible': True, 'reason': 'User and/or item is unkown.'}),\n",
       " Prediction(uid='AN81JUYW2SL24', iid='B001LNO722', r_ui=2.0, est=4.53070714160379, details={'actual_k': 1, 'was_impossible': False}),\n",
       " Prediction(uid='ABQWMANK4AR63', iid='B003X26LXW', r_ui=5.0, est=3.7008392458566983, details={'actual_k': 4, 'was_impossible': False}),\n",
       " Prediction(uid='A35W3JQYP0M655', iid='B0041Q38NU', r_ui=5.0, est=4.224137931034483, details={'actual_k': 0, 'was_impossible': False}),\n",
       " Prediction(uid='A2TA40MV2H4O6F', iid='B006JILARE', r_ui=5.0, est=4.704545454545454, details={'actual_k': 0, 'was_impossible': False}),\n",
       " Prediction(uid='A32482Z7XIKDQX', iid='B000F4C2AM', r_ui=5.0, est=4.54054054054054, details={'actual_k': 0, 'was_impossible': False}),\n",
       " Prediction(uid='A3284KYDZ00BZA', iid='B000ODN7VM', r_ui=5.0, est=4.083333333333333, details={'actual_k': 0, 'was_impossible': False}),\n",
       " Prediction(uid='A25HBO5V8S8SEA', iid='B0000630TK', r_ui=5.0, est=4.261051651931131, details={'was_impossible': True, 'reason': 'User and/or item is unkown.'}),\n",
       " Prediction(uid='A2SL5IW096Z2BL', iid='B002U3XG1U', r_ui=3.0, est=4.261051651931131, details={'was_impossible': True, 'reason': 'User and/or item is unkown.'}),\n",
       " Prediction(uid='A1SC5OXLQNGPLN', iid='B0047DVVZO', r_ui=4.0, est=4.483870967741935, details={'actual_k': 0, 'was_impossible': False}),\n",
       " Prediction(uid='ASJLXOX1VD4DF', iid='B007ZI1SGA', r_ui=4.0, est=4.261051651931131, details={'was_impossible': True, 'reason': 'User and/or item is unkown.'}),\n",
       " Prediction(uid='A26CPEEWB2WKRE', iid='B005P91CQM', r_ui=4.0, est=3.8333333333333335, details={'actual_k': 0, 'was_impossible': False}),\n",
       " Prediction(uid='A3IOQ7NVVLAUEE', iid='B0043SIX4A', r_ui=5.0, est=4.2405063291139244, details={'actual_k': 0, 'was_impossible': False}),\n",
       " Prediction(uid='A3VTOLNB5N6FVP', iid='B006RG0QC8', r_ui=4.0, est=3.6757518796992485, details={'actual_k': 1, 'was_impossible': False}),\n",
       " Prediction(uid='A2WLNSZ9U0T1S3', iid='B003ULNA3K', r_ui=5.0, est=5, details={'actual_k': 4, 'was_impossible': False}),\n",
       " Prediction(uid='A28J3123I1QDKI', iid='B002DYIWIS', r_ui=5.0, est=4.261051651931131, details={'was_impossible': True, 'reason': 'User and/or item is unkown.'}),\n",
       " Prediction(uid='A2S26YGSVXBCFL', iid='B000FKKWVM', r_ui=5.0, est=3.96, details={'actual_k': 0, 'was_impossible': False}),\n",
       " Prediction(uid='A2MOD50IHEDH3G', iid='B003ELVLKU', r_ui=5.0, est=4.384615384615385, details={'actual_k': 0, 'was_impossible': False}),\n",
       " Prediction(uid='A3R1WFO4KIUQXZ', iid='B004WOBCXO', r_ui=3.0, est=3.1486808510638298, details={'actual_k': 1, 'was_impossible': False}),\n",
       " Prediction(uid='A3Q1J68QY1MZQ9', iid='B0000DBMKK', r_ui=5.0, est=4.261051651931131, details={'was_impossible': True, 'reason': 'User and/or item is unkown.'}),\n",
       " Prediction(uid='A2PZXXPGLXXKZU', iid='B00KHA5G6G', r_ui=4.0, est=3.8688524590163933, details={'actual_k': 0, 'was_impossible': False}),\n",
       " Prediction(uid='AD8DLOGHAXL', iid='B00007L3NJ', r_ui=5.0, est=4.261051651931131, details={'was_impossible': True, 'reason': 'User and/or item is unkown.'}),\n",
       " Prediction(uid='A34C9AFFZOI45T', iid='B003O1UYHG', r_ui=5.0, est=4.8352941176470585, details={'actual_k': 0, 'was_impossible': False}),\n",
       " Prediction(uid='A3AYSYSLHU26U9', iid='B00A3WRM5G', r_ui=4.0, est=4.174056378404204, details={'actual_k': 1, 'was_impossible': False}),\n",
       " Prediction(uid='AG5WSXI52FPKH', iid='B002RM08RE', r_ui=2.0, est=4.0256410256410255, details={'actual_k': 0, 'was_impossible': False}),\n",
       " Prediction(uid='A37CEYB95LK6R6', iid='B00283VWK4', r_ui=5.0, est=4.261051651931131, details={'was_impossible': True, 'reason': 'User and/or item is unkown.'}),\n",
       " Prediction(uid='A2OOLI2WFY4L2', iid='B001O2SEQK', r_ui=3.0, est=3.795918367346939, details={'actual_k': 0, 'was_impossible': False}),\n",
       " Prediction(uid='A2IT7S59GSASN7', iid='B0001W05DY', r_ui=1.0, est=4.261051651931131, details={'was_impossible': True, 'reason': 'User and/or item is unkown.'}),\n",
       " Prediction(uid='AD9ZL63H0VKCZ', iid='B007NLPB9O', r_ui=5.0, est=4.261051651931131, details={'was_impossible': True, 'reason': 'User and/or item is unkown.'}),\n",
       " Prediction(uid='A19W47CXJJP1MI', iid='B0007XJSQC', r_ui=3.0, est=4.535211267605634, details={'actual_k': 0, 'was_impossible': False}),\n",
       " Prediction(uid='A2858RV2VLI14X', iid='B004H4XE6W', r_ui=4.0, est=4.261051651931131, details={'was_impossible': True, 'reason': 'User and/or item is unkown.'}),\n",
       " Prediction(uid='A680RUE1FDO8B', iid='B0041OSQ9I', r_ui=5.0, est=5, details={'actual_k': 4, 'was_impossible': False}),\n",
       " Prediction(uid='A3NOBH42C7UI5M', iid='B009X00E18', r_ui=3.0, est=3.7916666666666665, details={'actual_k': 0, 'was_impossible': False}),\n",
       " Prediction(uid='A3MU9G6YWKTGTA', iid='B000J43HJ8', r_ui=5.0, est=4.358974358974359, details={'actual_k': 0, 'was_impossible': False}),\n",
       " Prediction(uid='A3QD59N3M7O7KB', iid='B002GYTPAE', r_ui=4.0, est=4.212121212121212, details={'actual_k': 0, 'was_impossible': False}),\n",
       " Prediction(uid='AMVXR3NPL0GWX', iid='B001D60LG8', r_ui=5.0, est=4.314285714285714, details={'actual_k': 0, 'was_impossible': False}),\n",
       " Prediction(uid='A3A4ZAIBQWKOZS', iid='B001W28L2Y', r_ui=5.0, est=4.67948717948718, details={'actual_k': 0, 'was_impossible': False}),\n",
       " Prediction(uid='AQIJ3ZEEVCIKU', iid='B004CLYEDC', r_ui=5.0, est=4.368519551662885, details={'actual_k': 15, 'was_impossible': False}),\n",
       " Prediction(uid='A2TN0U8173HM7A', iid='B006SLV25C', r_ui=5.0, est=4.261051651931131, details={'was_impossible': True, 'reason': 'User and/or item is unkown.'}),\n",
       " Prediction(uid='ARXU3FESTWMJJ', iid='B0002DOXKI', r_ui=5.0, est=4.261051651931131, details={'was_impossible': True, 'reason': 'User and/or item is unkown.'}),\n",
       " Prediction(uid='A2WBVO6X3KPMDT', iid='B0030DDO48', r_ui=5.0, est=4.261051651931131, details={'was_impossible': True, 'reason': 'User and/or item is unkown.'}),\n",
       " Prediction(uid='A2L9OPJAAEK08Q', iid='B00FC2R7ZC', r_ui=4.0, est=3.5714285714285716, details={'actual_k': 0, 'was_impossible': False}),\n",
       " Prediction(uid='A3HR0ZZOFKQ97N', iid='B00IAKLM54', r_ui=4.0, est=4.619718309859155, details={'actual_k': 0, 'was_impossible': False}),\n",
       " Prediction(uid='A1IG1I6MR3HAWA', iid='B00004ZCDD', r_ui=3.0, est=4.66, details={'actual_k': 0, 'was_impossible': False}),\n",
       " Prediction(uid='A680RUE1FDO8B', iid='B004I43F9C', r_ui=2.0, est=4.023274410774411, details={'actual_k': 1, 'was_impossible': False}),\n",
       " Prediction(uid='A23NSKTMSPPBTR', iid='B00576ETIQ', r_ui=2.0, est=4.261051651931131, details={'was_impossible': True, 'reason': 'User and/or item is unkown.'}),\n",
       " Prediction(uid='A1XXMNLOLKNO0I', iid='B008NFWAO8', r_ui=5.0, est=4.824324324324325, details={'actual_k': 0, 'was_impossible': False}),\n",
       " Prediction(uid='A2U3OEIK1CUPIK', iid='B001NGPAIW', r_ui=2.0, est=4.261051651931131, details={'was_impossible': True, 'reason': 'User and/or item is unkown.'}),\n",
       " Prediction(uid='A1FDSZISWIXH1A', iid='B00426C57O', r_ui=5.0, est=4.413043478260869, details={'actual_k': 0, 'was_impossible': False}),\n",
       " Prediction(uid='A8CKH8XB33XGN', iid='B007P71IM0', r_ui=5.0, est=4.333333333333333, details={'actual_k': 0, 'was_impossible': False}),\n",
       " Prediction(uid='A2EF8N7ZE7ONWX', iid='B009GPY97A', r_ui=5.0, est=4.261051651931131, details={'was_impossible': True, 'reason': 'User and/or item is unkown.'}),\n",
       " Prediction(uid='A2QI2NTDTMK2FV', iid='B0064XAIZY', r_ui=5.0, est=4.621146065469604, details={'actual_k': 4, 'was_impossible': False}),\n",
       " Prediction(uid='AYB4ELCS5AM8P', iid='B000KO0GY6', r_ui=5.0, est=5, details={'actual_k': 4, 'was_impossible': False}),\n",
       " Prediction(uid='A3AYSYSLHU26U9', iid='B00CMJZAOI', r_ui=5.0, est=4.91475940727598, details={'actual_k': 3, 'was_impossible': False}),\n",
       " Prediction(uid='A1NGFGBX2VCQS8', iid='B0034XFG86', r_ui=5.0, est=4.011111111111111, details={'actual_k': 0, 'was_impossible': False}),\n",
       " Prediction(uid='ADLVFFE4VBT8', iid='B003ES5ZUU', r_ui=5.0, est=4.867600779172568, details={'actual_k': 22, 'was_impossible': False}),\n",
       " Prediction(uid='AG6TX1ZJHLMO7', iid='B000NLSGA2', r_ui=4.0, est=4.4, details={'actual_k': 0, 'was_impossible': False}),\n",
       " Prediction(uid='A17O9AHKHK66AI', iid='B000FNFSPY', r_ui=5.0, est=4.014705882352941, details={'actual_k': 0, 'was_impossible': False}),\n",
       " Prediction(uid='A141OPVE376YFI', iid='B002WE6D44', r_ui=5.0, est=4.529411764705882, details={'actual_k': 0, 'was_impossible': False}),\n",
       " Prediction(uid='A2R6RA8FRBS608', iid='B001V9LA44', r_ui=5.0, est=4.383720930232558, details={'actual_k': 0, 'was_impossible': False}),\n",
       " Prediction(uid='A23QII83UGZP5U', iid='B00AQUO5RI', r_ui=4.0, est=3.982142857142857, details={'actual_k': 0, 'was_impossible': False}),\n",
       " Prediction(uid='A314KKDIJWCNMV', iid='B005DL2OVE', r_ui=5.0, est=4.747126436781609, details={'actual_k': 1, 'was_impossible': False}),\n",
       " Prediction(uid='A2VCXIAWCPQ13P', iid='B0012YLTR6', r_ui=4.0, est=3.7567567567567566, details={'actual_k': 0, 'was_impossible': False}),\n",
       " Prediction(uid='A20VG5W98SX99L', iid='B005GM1Q1O', r_ui=2.0, est=3.3640053399558116, details={'actual_k': 7, 'was_impossible': False}),\n",
       " Prediction(uid='A15QYHQH80W30L', iid='B000CRUBAA', r_ui=5.0, est=4.171428571428572, details={'actual_k': 0, 'was_impossible': False}),\n",
       " Prediction(uid='AT53ZTTO707MB', iid='B00ISFNSBW', r_ui=5.0, est=5, details={'actual_k': 4, 'was_impossible': False}),\n",
       " Prediction(uid='A1XB7JGJ459ERP', iid='B00CJKIAFG', r_ui=5.0, est=4.261051651931131, details={'was_impossible': True, 'reason': 'User and/or item is unkown.'}),\n",
       " Prediction(uid='A1EH2S92FHWZRP', iid='B003WQ8EX4', r_ui=2.0, est=3.3258084225410527, details={'actual_k': 3, 'was_impossible': False}),\n",
       " Prediction(uid='A2UWPPU5GZLMQZ', iid='B008RW6R9Q', r_ui=4.0, est=3.9583063994828693, details={'actual_k': 1, 'was_impossible': False}),\n",
       " Prediction(uid='A2R6RA8FRBS608', iid='B0009RNYQG', r_ui=4.0, est=4.261051651931131, details={'was_impossible': True, 'reason': 'User and/or item is unkown.'}),\n",
       " Prediction(uid='A2UQK3DAZ8NO2T', iid='B000EMWBV0', r_ui=5.0, est=4.254901960784314, details={'actual_k': 0, 'was_impossible': False}),\n",
       " Prediction(uid='A23GFTVIETX7DS', iid='B003Z4G3I6', r_ui=5.0, est=4.319940476190476, details={'actual_k': 1, 'was_impossible': False}),\n",
       " Prediction(uid='AD9ZL63H0VKCZ', iid='B0054RJ9EW', r_ui=4.0, est=4.261051651931131, details={'was_impossible': True, 'reason': 'User and/or item is unkown.'}),\n",
       " Prediction(uid='A1CMD08Z49PGKQ', iid='B009GU9MTU', r_ui=5.0, est=4.261051651931131, details={'was_impossible': True, 'reason': 'User and/or item is unkown.'}),\n",
       " Prediction(uid='A2DS9DLMSU2M2Z', iid='B002VDNEFW', r_ui=5.0, est=4.261051651931131, details={'was_impossible': True, 'reason': 'User and/or item is unkown.'}),\n",
       " Prediction(uid='A1J75JJ0Q2OEJN', iid='B008H9BXMK', r_ui=5.0, est=3.281826242092336, details={'actual_k': 11, 'was_impossible': False}),\n",
       " Prediction(uid='AW6A4PPENVZY3', iid='B005H4Y6U4', r_ui=5.0, est=4.446808510638298, details={'actual_k': 0, 'was_impossible': False}),\n",
       " Prediction(uid='A357B3PUHSVQA', iid='B00BMGTAQ6', r_ui=4.0, est=3.078638051182275, details={'actual_k': 2, 'was_impossible': False}),\n",
       " Prediction(uid='A1ODOGXEYECQQ8', iid='B00KYMCJF8', r_ui=5.0, est=4.304832713754647, details={'actual_k': 0, 'was_impossible': False}),\n",
       " Prediction(uid='A3PD8JD9L4WEII', iid='B004W82I1U', r_ui=4.0, est=4.261051651931131, details={'was_impossible': True, 'reason': 'User and/or item is unkown.'}),\n",
       " Prediction(uid='A1PM7HH4F77NEH', iid='B0055QYJIS', r_ui=5.0, est=4.133333333333334, details={'actual_k': 0, 'was_impossible': False}),\n",
       " Prediction(uid='A3T7V207KRDE2O', iid='B000FIQBNW', r_ui=4.0, est=4.2748091603053435, details={'actual_k': 0, 'was_impossible': False}),\n",
       " Prediction(uid='A1F9Z42CFF9IAY', iid='B007M52EXM', r_ui=3.0, est=3.452054794520548, details={'actual_k': 0, 'was_impossible': False}),\n",
       " Prediction(uid='A2D0CO1OA6DSWY', iid='B000Q8621C', r_ui=5.0, est=4.333333333333333, details={'actual_k': 0, 'was_impossible': False}),\n",
       " Prediction(uid='AL1XV4L25FZ2S', iid='B000KZ5VNQ', r_ui=4.0, est=4.261051651931131, details={'was_impossible': True, 'reason': 'User and/or item is unkown.'}),\n",
       " Prediction(uid='A1QNYLBG73QRNF', iid='B006B7R3Y2', r_ui=4.0, est=4.261051651931131, details={'was_impossible': True, 'reason': 'User and/or item is unkown.'}),\n",
       " Prediction(uid='A2XX2A4OJCDNLZ', iid='B0082E9K7U', r_ui=5.0, est=5, details={'actual_k': 3, 'was_impossible': False}),\n",
       " Prediction(uid='A2J0IBS4PFRO2C', iid='B003YKG2XM', r_ui=4.0, est=3.7058823529411766, details={'actual_k': 0, 'was_impossible': False}),\n",
       " Prediction(uid='A2SNE4QQGVP13U', iid='B001NJ0D0Y', r_ui=3.0, est=4.2631578947368425, details={'actual_k': 0, 'was_impossible': False}),\n",
       " Prediction(uid='ABMN74TBW5UWE', iid='B002ZIMEMW', r_ui=4.0, est=5, details={'actual_k': 1, 'was_impossible': False}),\n",
       " Prediction(uid='A3MUSWDCTZINQZ', iid='B009O7XUL6', r_ui=4.0, est=3.748763778141004, details={'actual_k': 3, 'was_impossible': False}),\n",
       " Prediction(uid='A11FX8HL2ANK6T', iid='B00CDHJ6SU', r_ui=5.0, est=4.261051651931131, details={'was_impossible': True, 'reason': 'User and/or item is unkown.'}),\n",
       " Prediction(uid='ADPKRJ2BSFJ0I', iid='B001BX3ZXE', r_ui=5.0, est=4.261051651931131, details={'was_impossible': True, 'reason': 'User and/or item is unkown.'}),\n",
       " Prediction(uid='A3MU9G6YWKTGTA', iid='B001GOUBCQ', r_ui=4.0, est=4.261051651931131, details={'was_impossible': True, 'reason': 'User and/or item is unkown.'}),\n",
       " Prediction(uid='APOGXH3A74CM3', iid='B0006HDFYK', r_ui=5.0, est=4.261051651931131, details={'was_impossible': True, 'reason': 'User and/or item is unkown.'}),\n",
       " Prediction(uid='A1LD5SE8IZ1H70', iid='B00BCGRTFK', r_ui=3.0, est=4.346153846153846, details={'actual_k': 0, 'was_impossible': False}),\n",
       " Prediction(uid='A1F9Z42CFF9IAY', iid='B00858I4F2', r_ui=4.0, est=3.452054794520548, details={'actual_k': 0, 'was_impossible': False}),\n",
       " Prediction(uid='A2LCE1D0TW2XY0', iid='B004K9PH1O', r_ui=1.0, est=4.111111111111111, details={'actual_k': 0, 'was_impossible': False}),\n",
       " Prediction(uid='A31BD4RXCON7QO', iid='B000VUIXOO', r_ui=5.0, est=4.035714285714286, details={'actual_k': 0, 'was_impossible': False}),\n",
       " Prediction(uid='AN81JUYW2SL24', iid='B005CLPP84', r_ui=4.0, est=4.239425684645529, details={'actual_k': 10, 'was_impossible': False}),\n",
       " Prediction(uid='A11KZ906QD08C5', iid='B0057CL3D4', r_ui=5.0, est=4.261051651931131, details={'was_impossible': True, 'reason': 'User and/or item is unkown.'}),\n",
       " Prediction(uid='A7QMQBGJ2TCQG', iid='B000VDF5RO', r_ui=5.0, est=4.353658536585366, details={'actual_k': 0, 'was_impossible': False}),\n",
       " Prediction(uid='A20OBCQWBKCGZT', iid='B00FJWKYP0', r_ui=5.0, est=4.265822784810126, details={'actual_k': 0, 'was_impossible': False}),\n",
       " Prediction(uid='A2WLNSZ9U0T1S3', iid='B000F7QRTG', r_ui=5.0, est=4.753195937569004, details={'actual_k': 4, 'was_impossible': False}),\n",
       " Prediction(uid='AV8MDYLHHTUOY', iid='B00062RGRM', r_ui=2.0, est=4.261051651931131, details={'was_impossible': True, 'reason': 'User and/or item is unkown.'}),\n",
       " Prediction(uid='A1Y051MQ2SVPFI', iid='B00385XUG0', r_ui=4.0, est=4.162162162162162, details={'actual_k': 0, 'was_impossible': False}),\n",
       " Prediction(uid='A20OBCQWBKCGZT', iid='B004BZN9DA', r_ui=4.0, est=2.7658227848101262, details={'actual_k': 1, 'was_impossible': False}),\n",
       " Prediction(uid='AFM7FK7NFEKFZ', iid='B0041686QY', r_ui=5.0, est=4.764705882352941, details={'actual_k': 0, 'was_impossible': False}),\n",
       " Prediction(uid='A3MUSWDCTZINQZ', iid='B00A7FS3AW', r_ui=4.0, est=4.59775514968228, details={'actual_k': 3, 'was_impossible': False}),\n",
       " Prediction(uid='A2RU4U1JZ3DMP5', iid='B0028R3NCU', r_ui=5.0, est=4.174603174603175, details={'actual_k': 0, 'was_impossible': False}),\n",
       " Prediction(uid='AS2II0671KT2C', iid='B000M7YZHU', r_ui=3.0, est=4.261051651931131, details={'was_impossible': True, 'reason': 'User and/or item is unkown.'}),\n",
       " Prediction(uid='A22MANL4US4RMY', iid='B00AF5N0F2', r_ui=5.0, est=4.261051651931131, details={'was_impossible': True, 'reason': 'User and/or item is unkown.'}),\n",
       " Prediction(uid='A2NXRD80LWHUOP', iid='B00168Q248', r_ui=4.0, est=2.8421052631578947, details={'actual_k': 0, 'was_impossible': False}),\n",
       " Prediction(uid='A1QOK9LU90ACF7', iid='B0088PUEPK', r_ui=5.0, est=3.7511627906976743, details={'actual_k': 1, 'was_impossible': False}),\n",
       " Prediction(uid='A1VR1HIOVQWN09', iid='B007ZTQW9M', r_ui=5.0, est=4.261051651931131, details={'was_impossible': True, 'reason': 'User and/or item is unkown.'}),\n",
       " Prediction(uid='A5JLAU2ARJ0BO', iid='B00005T3RC', r_ui=5.0, est=3.9291784702549575, details={'actual_k': 0, 'was_impossible': False}),\n",
       " Prediction(uid='A25KKXUQQ0OLWB', iid='B004IV8Y50', r_ui=5.0, est=4.261051651931131, details={'was_impossible': True, 'reason': 'User and/or item is unkown.'}),\n",
       " Prediction(uid='A25HBO5V8S8SEA', iid='B00006HW3P', r_ui=5.0, est=4.261051651931131, details={'was_impossible': True, 'reason': 'User and/or item is unkown.'}),\n",
       " Prediction(uid='A11I1I9QLMAM1A', iid='B0012MMW7E', r_ui=5.0, est=4.940491696515793, details={'actual_k': 1, 'was_impossible': False}),\n",
       " Prediction(uid='A25HBO5V8S8SEA', iid='B00006HMRW', r_ui=5.0, est=4.261051651931131, details={'was_impossible': True, 'reason': 'User and/or item is unkown.'}),\n",
       " Prediction(uid='A2SNE4QQGVP13U', iid='B0093H8GQG', r_ui=5.0, est=4.2631578947368425, details={'actual_k': 0, 'was_impossible': False}),\n",
       " Prediction(uid='A31HOWJKEIY037', iid='B001O4EPHA', r_ui=5.0, est=4.305555555555555, details={'actual_k': 0, 'was_impossible': False}),\n",
       " Prediction(uid='A28I5UM0FT3I6T', iid='B004I3VZBS', r_ui=3.0, est=4.261051651931131, details={'was_impossible': True, 'reason': 'User and/or item is unkown.'}),\n",
       " Prediction(uid='A3DQWFWINN3V5A', iid='B00AA5YVKU', r_ui=5.0, est=4.261051651931131, details={'was_impossible': True, 'reason': 'User and/or item is unkown.'}),\n",
       " Prediction(uid='A3AGQAXTX6VRJ3', iid='B0001CNMFM', r_ui=5.0, est=4.125, details={'actual_k': 0, 'was_impossible': False}),\n",
       " Prediction(uid='A3BI8BKIHESDNQ', iid='B002IKKF0A', r_ui=5.0, est=4.261051651931131, details={'was_impossible': True, 'reason': 'User and/or item is unkown.'}),\n",
       " Prediction(uid='A13QOK3SKIT9QL', iid='B000EWJYYW', r_ui=5.0, est=3.727272727272727, details={'actual_k': 0, 'was_impossible': False}),\n",
       " Prediction(uid='A233TZONT1OGR0', iid='B0036WS4CA', r_ui=5.0, est=4.116279069767442, details={'actual_k': 0, 'was_impossible': False}),\n",
       " Prediction(uid='AL1XV4L25FZ2S', iid='B003EYV224', r_ui=4.0, est=4.128205128205129, details={'actual_k': 0, 'was_impossible': False}),\n",
       " Prediction(uid='A2BLFCOPSMBOZ9', iid='B00KWWY1PQ', r_ui=5.0, est=4.6580119933669835, details={'actual_k': 2, 'was_impossible': False}),\n",
       " Prediction(uid='A27GITTN6AVW5I', iid='B005JU936S', r_ui=4.0, est=4.261051651931131, details={'was_impossible': True, 'reason': 'User and/or item is unkown.'}),\n",
       " Prediction(uid='A1E55W6ES0FY17', iid='B00DJ6AGBU', r_ui=4.0, est=3.4827586206896552, details={'actual_k': 0, 'was_impossible': False}),\n",
       " Prediction(uid='A3CW0ZLUO5X2B1', iid='B002M78JA2', r_ui=5.0, est=4.279503105590062, details={'actual_k': 0, 'was_impossible': False}),\n",
       " Prediction(uid='AY4EXFOO43C3S', iid='B00AW48DS0', r_ui=3.0, est=3.90625, details={'actual_k': 0, 'was_impossible': False}),\n",
       " Prediction(uid='A35HOUWHAYZZN6', iid='B003GAMO6Y', r_ui=4.0, est=3.802816901408451, details={'actual_k': 1, 'was_impossible': False}),\n",
       " Prediction(uid='A1E1LEVQ9VQNK', iid='B006FLENJC', r_ui=5.0, est=5, details={'actual_k': 1, 'was_impossible': False}),\n",
       " Prediction(uid='A2WC9NFLG57W4H', iid='B009HQCARY', r_ui=5.0, est=4.28596676554686, details={'actual_k': 8, 'was_impossible': False}),\n",
       " Prediction(uid='ABMF4UC4Z00NT', iid='B001PIBE8I', r_ui=5.0, est=4.285714285714286, details={'actual_k': 0, 'was_impossible': False}),\n",
       " Prediction(uid='AI8EMB0HUC6Z5', iid='B002VPE1XE', r_ui=4.0, est=4.348837209302325, details={'actual_k': 0, 'was_impossible': False}),\n",
       " Prediction(uid='A680RUE1FDO8B', iid='B007RFW1NA', r_ui=5.0, est=2.9505262490097053, details={'actual_k': 2, 'was_impossible': False}),\n",
       " Prediction(uid='ALDAF4VVLFRHP', iid='B006IMM1RE', r_ui=5.0, est=4.261051651931131, details={'was_impossible': True, 'reason': 'User and/or item is unkown.'}),\n",
       " Prediction(uid='A30KPB2ILF6K6J', iid='B00829THVO', r_ui=5.0, est=4.434782608695652, details={'actual_k': 0, 'was_impossible': False}),\n",
       " Prediction(uid='A1TQZUSOU22E9M', iid='B001OI2YNS', r_ui=5.0, est=5, details={'actual_k': 2, 'was_impossible': False}),\n",
       " Prediction(uid='A4S2WAQVQR6PI', iid='B000I20B86', r_ui=5.0, est=4.261051651931131, details={'was_impossible': True, 'reason': 'User and/or item is unkown.'}),\n",
       " Prediction(uid='A3R1WFO4KIUQXZ', iid='B00099I0EK', r_ui=5.0, est=4.261051651931131, details={'was_impossible': True, 'reason': 'User and/or item is unkown.'}),\n",
       " Prediction(uid='A2JXS1JII6SAUD', iid='B005UDITPK', r_ui=5.0, est=4.618181818181818, details={'actual_k': 0, 'was_impossible': False}),\n",
       " Prediction(uid='A1LD5SE8IZ1H70', iid='B004Q7IABO', r_ui=4.0, est=4.261051651931131, details={'was_impossible': True, 'reason': 'User and/or item is unkown.'}),\n",
       " Prediction(uid='A2503LT8PZIHAD', iid='B002V8C3W2', r_ui=3.0, est=4.115384615384615, details={'actual_k': 0, 'was_impossible': False}),\n",
       " Prediction(uid='A2SR7S6ZJJDGNB', iid='B009SJ9PIM', r_ui=5.0, est=4.5588235294117645, details={'actual_k': 0, 'was_impossible': False}),\n",
       " Prediction(uid='A2ARDVMUGDFED6', iid='B000U8Y88M', r_ui=5.0, est=4.318681318681318, details={'actual_k': 0, 'was_impossible': False}),\n",
       " Prediction(uid='A27B1U3OWCU14J', iid='B000EDK8V4', r_ui=5.0, est=4.178571428571429, details={'actual_k': 0, 'was_impossible': False}),\n",
       " Prediction(uid='ACP9S40H3SHY1', iid='B001DO2XWA', r_ui=5.0, est=4.892857142857143, details={'actual_k': 0, 'was_impossible': False}),\n",
       " Prediction(uid='A19XMHRB3G4DIR', iid='B0009WG6KM', r_ui=5.0, est=4.506172839506172, details={'actual_k': 0, 'was_impossible': False}),\n",
       " Prediction(uid='A38NELQT98S4H8', iid='B005KJJKVG', r_ui=2.0, est=3.265350877192983, details={'actual_k': 1, 'was_impossible': False}),\n",
       " Prediction(uid='A2FSOHSM9X13JT', iid='B0039LBL2I', r_ui=5.0, est=4.261051651931131, details={'was_impossible': True, 'reason': 'User and/or item is unkown.'}),\n",
       " Prediction(uid='ABSYIF0ONC2AF', iid='B004WOBCXO', r_ui=4.0, est=3.738095238095238, details={'actual_k': 0, 'was_impossible': False}),\n",
       " Prediction(uid='A3SVYWA9O1KUQV', iid='B0006IHLQ2', r_ui=5.0, est=4.261051651931131, details={'was_impossible': True, 'reason': 'User and/or item is unkown.'}),\n",
       " Prediction(uid='A1PN2U0AWXGVML', iid='B001FA1NIC', r_ui=4.0, est=4.261051651931131, details={'was_impossible': True, 'reason': 'User and/or item is unkown.'}),\n",
       " Prediction(uid='A2RWHTNM5P3I8Y', iid='B00G53GJA6', r_ui=5.0, est=4.035087719298246, details={'actual_k': 0, 'was_impossible': False}),\n",
       " Prediction(uid='A2FRKEXDXDN1KI', iid='B0009STJIW', r_ui=5.0, est=4.303030303030303, details={'actual_k': 0, 'was_impossible': False}),\n",
       " Prediction(uid='AL1XV4L25FZ2S', iid='B000VW2QRM', r_ui=3.0, est=4.128205128205129, details={'actual_k': 0, 'was_impossible': False}),\n",
       " Prediction(uid='A3LZA698SQPCXE', iid='B00COYOAYW', r_ui=4.0, est=4.3584905660377355, details={'actual_k': 0, 'was_impossible': False}),\n",
       " Prediction(uid='ALUNVOQRXOZIA', iid='B00B8YBDN0', r_ui=1.0, est=4.261051651931131, details={'was_impossible': True, 'reason': 'User and/or item is unkown.'}),\n",
       " Prediction(uid='AXU3VKZE848IY', iid='B005UD73SO', r_ui=5.0, est=4.261051651931131, details={'was_impossible': True, 'reason': 'User and/or item is unkown.'}),\n",
       " Prediction(uid='AI8EMB0HUC6Z5', iid='B003ES5ZUU', r_ui=5.0, est=5, details={'actual_k': 5, 'was_impossible': False}),\n",
       " Prediction(uid='A7Z2J9V37ABCO', iid='B002V88HFE', r_ui=5.0, est=4.564102564102564, details={'actual_k': 0, 'was_impossible': False}),\n",
       " Prediction(uid='A1RL1OTV8IJMVD', iid='B001DJ9GOS', r_ui=5.0, est=5, details={'actual_k': 2, 'was_impossible': False}),\n",
       " Prediction(uid='ABMF4UC4Z00NT', iid='B003B20F54', r_ui=5.0, est=4.285714285714286, details={'actual_k': 0, 'was_impossible': False}),\n",
       " Prediction(uid='A3D0UM4ZD2CMAW', iid='B00453P7K6', r_ui=5.0, est=4.261051651931131, details={'was_impossible': True, 'reason': 'User and/or item is unkown.'}),\n",
       " Prediction(uid='A10Y058K7B96C6', iid='B008X9Z9ZQ', r_ui=4.0, est=4.324193582039487, details={'actual_k': 7, 'was_impossible': False}),\n",
       " Prediction(uid='A3TCMJ6GKZJFBQ', iid='B00393THEK', r_ui=1.0, est=4.208333333333333, details={'actual_k': 0, 'was_impossible': False}),\n",
       " Prediction(uid='A3SOJO7Z7R9WIA', iid='B005341PFW', r_ui=1.0, est=4.261051651931131, details={'was_impossible': True, 'reason': 'User and/or item is unkown.'}),\n",
       " Prediction(uid='A2SGAJWXG65464', iid='B0010DJZBQ', r_ui=5.0, est=4.261051651931131, details={'was_impossible': True, 'reason': 'User and/or item is unkown.'}),\n",
       " Prediction(uid='A1VQBEW0G4IH1J', iid='B008TO3X4Y', r_ui=4.0, est=3.7083333333333335, details={'actual_k': 0, 'was_impossible': False}),\n",
       " Prediction(uid='ACY9QYNDFLVBI', iid='B007SZ0E1K', r_ui=5.0, est=4.44, details={'actual_k': 0, 'was_impossible': False}),\n",
       " Prediction(uid='A2V5M5EJPOD2IU', iid='B001T9NUJE', r_ui=5.0, est=4.662650602409639, details={'actual_k': 0, 'was_impossible': False}),\n",
       " Prediction(uid='AYB4ELCS5AM8P', iid='B009WZRCO6', r_ui=4.0, est=4.2264799239851545, details={'actual_k': 2, 'was_impossible': False}),\n",
       " Prediction(uid='AS2II0671KT2C', iid='B00722JCMQ', r_ui=4.0, est=4.794871794871795, details={'actual_k': 0, 'was_impossible': False}),\n",
       " Prediction(uid='A3LSEIG2PIJYBL', iid='B004G87FLY', r_ui=4.0, est=4.261051651931131, details={'was_impossible': True, 'reason': 'User and/or item is unkown.'}),\n",
       " Prediction(uid='A2PREU4LOFQRB1', iid='B006DEBYWU', r_ui=5.0, est=3.9184137291522796, details={'actual_k': 5, 'was_impossible': False}),\n",
       " Prediction(uid='AFR9GYKAHM37U', iid='B000P1O73A', r_ui=5.0, est=5, details={'actual_k': 1, 'was_impossible': False}),\n",
       " Prediction(uid='A1P0JSFW184ZXJ', iid='B002J9HCV0', r_ui=5.0, est=4.5473684210526315, details={'actual_k': 0, 'was_impossible': False}),\n",
       " Prediction(uid='A14JBDSWKPKTZA', iid='B0078GCLU6', r_ui=5.0, est=4.671232876712328, details={'actual_k': 0, 'was_impossible': False}),\n",
       " Prediction(uid='AJL3U764D7NI3', iid='B002G1YPH0', r_ui=5.0, est=4.723404255319149, details={'actual_k': 0, 'was_impossible': False}),\n",
       " Prediction(uid='A1P4XD7IORSEFN', iid='B003GAJ67Y', r_ui=3.0, est=3.9411764705882355, details={'actual_k': 0, 'was_impossible': False}),\n",
       " Prediction(uid='A1A306IAZ3TM1', iid='B000I5JMYW', r_ui=3.0, est=3.0, details={'actual_k': 0, 'was_impossible': False}),\n",
       " Prediction(uid='A20OBCQWBKCGZT', iid='B00B1HV7YO', r_ui=2.0, est=4.265822784810126, details={'actual_k': 0, 'was_impossible': False}),\n",
       " Prediction(uid='A3SRDVCD2ATIIS', iid='B004J4VYG2', r_ui=4.0, est=4.666666666666667, details={'actual_k': 0, 'was_impossible': False}),\n",
       " Prediction(uid='A1F1A0QQP2XVH5', iid='B001RB24L4', r_ui=4.0, est=4.261051651931131, details={'was_impossible': True, 'reason': 'User and/or item is unkown.'}),\n",
       " Prediction(uid='A3OA4DV4L81N1D', iid='B0002CZRUO', r_ui=3.0, est=4.261051651931131, details={'was_impossible': True, 'reason': 'User and/or item is unkown.'}),\n",
       " Prediction(uid='A4U27URFECK1U', iid='B00C9TECFO', r_ui=5.0, est=4.076923076923077, details={'actual_k': 0, 'was_impossible': False}),\n",
       " Prediction(uid='A2ULZRSHXS3HL7', iid='B009I32Y6S', r_ui=3.0, est=4.2631578947368425, details={'actual_k': 0, 'was_impossible': False}),\n",
       " Prediction(uid='A1L64KDYO5BOJA', iid='B001S0I1M0', r_ui=5.0, est=4.5125, details={'actual_k': 0, 'was_impossible': False}),\n",
       " Prediction(uid='AOVTLYTHVDNUX', iid='B00A81ICCE', r_ui=3.0, est=4.815707011359185, details={'actual_k': 1, 'was_impossible': False}),\n",
       " Prediction(uid='A1V4A5U5O3TMMD', iid='B000F2BLTM', r_ui=5.0, est=3.9565217391304346, details={'actual_k': 0, 'was_impossible': False}),\n",
       " Prediction(uid='A209G57KXCBF4C', iid='B00385XYU2', r_ui=2.0, est=4.261051651931131, details={'was_impossible': True, 'reason': 'User and/or item is unkown.'}),\n",
       " Prediction(uid='A28UMA3GW9L124', iid='B00I3YKEKG', r_ui=3.0, est=3.321060304276985, details={'actual_k': 5, 'was_impossible': False}),\n",
       " Prediction(uid='A15QYHQH80W30L', iid='B0014DNS06', r_ui=5.0, est=4.261051651931131, details={'was_impossible': True, 'reason': 'User and/or item is unkown.'}),\n",
       " Prediction(uid='A1WXG10FJ353K0', iid='B003HLVW9M', r_ui=5.0, est=4.385964912280702, details={'actual_k': 0, 'was_impossible': False}),\n",
       " Prediction(uid='A2B7BUH8834Y6M', iid='B0002I71LG', r_ui=4.0, est=4.4921875, details={'actual_k': 0, 'was_impossible': False}),\n",
       " Prediction(uid='A17RFKCYS69M3Y', iid='B00008WM9J', r_ui=1.0, est=4.261051651931131, details={'was_impossible': True, 'reason': 'User and/or item is unkown.'}),\n",
       " Prediction(uid='A1F9Z42CFF9IAY', iid='B002SFDJMQ', r_ui=5.0, est=3.452054794520548, details={'actual_k': 0, 'was_impossible': False}),\n",
       " Prediction(uid='A100WO06OQR8BQ', iid='B0028ACYEK', r_ui=1.0, est=1, details={'actual_k': 2, 'was_impossible': False}),\n",
       " Prediction(uid='ACY9QYNDFLVBI', iid='B0041RSPRS', r_ui=4.0, est=4.44, details={'actual_k': 0, 'was_impossible': False}),\n",
       " Prediction(uid='AFH97KY1SBP2C', iid='B004BOATWK', r_ui=4.0, est=4.261051651931131, details={'was_impossible': True, 'reason': 'User and/or item is unkown.'}),\n",
       " Prediction(uid='A33HIV8RXRDM88', iid='B00079SWNQ', r_ui=5.0, est=4.152941176470589, details={'actual_k': 0, 'was_impossible': False}),\n",
       " Prediction(uid='A24QFMD1RXLJMB', iid='B00007IFED', r_ui=5.0, est=4.2105263157894735, details={'actual_k': 0, 'was_impossible': False}),\n",
       " Prediction(uid='A2XIOXRRYX0KZY', iid='B0097CXWUW', r_ui=4.0, est=4.480077364093607, details={'actual_k': 8, 'was_impossible': False}),\n",
       " Prediction(uid='A2NX6PABLIJLP1', iid='B000PBE1JU', r_ui=5.0, est=4.261051651931131, details={'was_impossible': True, 'reason': 'User and/or item is unkown.'}),\n",
       " Prediction(uid='ARX0KOX5Q01BJ', iid='B003WE9WQO', r_ui=5.0, est=3.6222222222222222, details={'actual_k': 0, 'was_impossible': False}),\n",
       " Prediction(uid='A3EZEP0FX5BC1P', iid='B00CL8F98W', r_ui=2.0, est=3.5799349700793197, details={'actual_k': 7, 'was_impossible': False}),\n",
       " Prediction(uid='A3BKNXX8QFIXIV', iid='B0035FZ14M', r_ui=5.0, est=4.45945945945946, details={'actual_k': 0, 'was_impossible': False}),\n",
       " Prediction(uid='A2IXK5LB4Y0NYV', iid='B002IY598O', r_ui=5.0, est=4.261051651931131, details={'was_impossible': True, 'reason': 'User and/or item is unkown.'}),\n",
       " Prediction(uid='A3QJU4FEN8PQSZ', iid='B004DMNT2W', r_ui=4.0, est=4.363495456263208, details={'actual_k': 2, 'was_impossible': False}),\n",
       " Prediction(uid='A35HNL2VEDK9Z1', iid='B000VDCTCI', r_ui=4.0, est=4.34, details={'actual_k': 0, 'was_impossible': False}),\n",
       " Prediction(uid='A1CN1P7147QDJC', iid='B005D5JGUM', r_ui=5.0, est=4.261051651931131, details={'was_impossible': True, 'reason': 'User and/or item is unkown.'}),\n",
       " Prediction(uid='A2Z9S2RQD542CP', iid='B000V0IE6G', r_ui=5.0, est=5, details={'actual_k': 1, 'was_impossible': False}),\n",
       " Prediction(uid='A3077MQTAKOVFZ', iid='B009G9JI0O', r_ui=5.0, est=4.261051651931131, details={'was_impossible': True, 'reason': 'User and/or item is unkown.'}),\n",
       " Prediction(uid='A2NOIWPJDD7WIQ', iid='B00APLXDQC', r_ui=3.0, est=4.261051651931131, details={'was_impossible': True, 'reason': 'User and/or item is unkown.'}),\n",
       " Prediction(uid='A15CL28ALB7MTZ', iid='B00IMFP4EM', r_ui=5.0, est=4.3478260869565215, details={'actual_k': 0, 'was_impossible': False}),\n",
       " Prediction(uid='A1C47ROOK7BSVL', iid='B0023NVS30', r_ui=5.0, est=2.980769230769231, details={'actual_k': 0, 'was_impossible': False}),\n",
       " Prediction(uid='A1Z4GII5CHCDG7', iid='B005OUQXD4', r_ui=5.0, est=4.285714285714286, details={'actual_k': 0, 'was_impossible': False}),\n",
       " Prediction(uid='A87CILADRIZW0', iid='B000B74TR2', r_ui=5.0, est=4.828571428571428, details={'actual_k': 0, 'was_impossible': False}),\n",
       " Prediction(uid='AR1T36GLLAFFX', iid='B00E055H5O', r_ui=2.0, est=4.394736842105263, details={'actual_k': 0, 'was_impossible': False}),\n",
       " Prediction(uid='A2DS9DLMSU2M2Z', iid='B00CR6DXEA', r_ui=4.0, est=4.523809523809524, details={'actual_k': 0, 'was_impossible': False}),\n",
       " Prediction(uid='A1F0KPA232MTYC', iid='B001QUA6RA', r_ui=5.0, est=4.03125, details={'actual_k': 0, 'was_impossible': False}),\n",
       " Prediction(uid='A1PAGHECG401K1', iid='B0097CZHAU', r_ui=4.0, est=4.25, details={'actual_k': 0, 'was_impossible': False}),\n",
       " Prediction(uid='A37D1ZP8GBHE38', iid='B00F6E8OUS', r_ui=5.0, est=4.22631320994061, details={'actual_k': 2, 'was_impossible': False}),\n",
       " Prediction(uid='A96JD9312DHWC', iid='B00005N6KG', r_ui=5.0, est=4.551724137931035, details={'actual_k': 0, 'was_impossible': False}),\n",
       " Prediction(uid='A11I1I9QLMAM1A', iid='B00316WHJ2', r_ui=5.0, est=1.6043177323665132, details={'actual_k': 1, 'was_impossible': False}),\n",
       " Prediction(uid='A1L64KDYO5BOJA', iid='B00166F8YU', r_ui=3.0, est=4.5125, details={'actual_k': 0, 'was_impossible': False}),\n",
       " Prediction(uid='A18GJ9MYYO6GCQ', iid='B000E65HXA', r_ui=5.0, est=4.615384615384615, details={'actual_k': 0, 'was_impossible': False}),\n",
       " Prediction(uid='A1X2LENOF84LCQ', iid='B009O7XUW0', r_ui=4.0, est=3.934285714285714, details={'actual_k': 1, 'was_impossible': False}),\n",
       " Prediction(uid='A3FOSLM5G1BO63', iid='B0007R75MW', r_ui=2.0, est=4.261051651931131, details={'was_impossible': True, 'reason': 'User and/or item is unkown.'}),\n",
       " Prediction(uid='A781ITP3HE2N5', iid='B0012Y2LLE', r_ui=5.0, est=5, details={'actual_k': 1, 'was_impossible': False}),\n",
       " Prediction(uid='A2MR696ZU17F12', iid='B002JH3TW8', r_ui=5.0, est=3.441860465116279, details={'actual_k': 0, 'was_impossible': False}),\n",
       " Prediction(uid='A5KMMY627T3W', iid='B00004THCZ', r_ui=5.0, est=3.2131831455986646, details={'actual_k': 1, 'was_impossible': False}),\n",
       " Prediction(uid='A22I55P15NSAOX', iid='B009WG6LLA', r_ui=5.0, est=4.454455129601361, details={'actual_k': 2, 'was_impossible': False}),\n",
       " Prediction(uid='A2B7BUH8834Y6M', iid='B00005S0M5', r_ui=5.0, est=4.261051651931131, details={'was_impossible': True, 'reason': 'User and/or item is unkown.'}),\n",
       " Prediction(uid='ALDAF4VVLFRHP', iid='B004SKBIH2', r_ui=5.0, est=4.533898305084746, details={'actual_k': 0, 'was_impossible': False}),\n",
       " Prediction(uid='A105TOJ6LTVMBG', iid='B004FV67XY', r_ui=4.0, est=4.261051651931131, details={'was_impossible': True, 'reason': 'User and/or item is unkown.'}),\n",
       " Prediction(uid='A3J2YU2D9BH2J7', iid='B007ZW548E', r_ui=5.0, est=4.528301886792453, details={'actual_k': 0, 'was_impossible': False}),\n",
       " Prediction(uid='AA8RBTN3J2F5H', iid='B0000YNR4W', r_ui=4.0, est=4.261051651931131, details={'was_impossible': True, 'reason': 'User and/or item is unkown.'}),\n",
       " Prediction(uid='AMUP8DYE7EAN2', iid='B001DJ64D4', r_ui=5.0, est=5, details={'actual_k': 2, 'was_impossible': False}),\n",
       " Prediction(uid='AUBEFRFHJR64Y', iid='B005ES0YYA', r_ui=5.0, est=4.125, details={'actual_k': 0, 'was_impossible': False}),\n",
       " Prediction(uid='A2VCXIAWCPQ13P', iid='B000JFJZGG', r_ui=3.0, est=3.7567567567567566, details={'actual_k': 0, 'was_impossible': False}),\n",
       " Prediction(uid='A1EXGL6L0QQ0M5', iid='B00HV6KIEY', r_ui=4.0, est=4.305555555555555, details={'actual_k': 0, 'was_impossible': False}),\n",
       " Prediction(uid='A2EHYCA29NSQLU', iid='B007EM7N70', r_ui=5.0, est=4.261051651931131, details={'was_impossible': True, 'reason': 'User and/or item is unkown.'}),\n",
       " Prediction(uid='A1W4F91DH3XPB2', iid='B002PK13B8', r_ui=2.0, est=4.1891891891891895, details={'actual_k': 0, 'was_impossible': False}),\n",
       " Prediction(uid='AIFLY2HF8NS8U', iid='B008EQZ25K', r_ui=5.0, est=4.491228070175438, details={'actual_k': 0, 'was_impossible': False}),\n",
       " Prediction(uid='A3FEGTOLCWXSV4', iid='B001TH7T2U', r_ui=5.0, est=4.961957418944921, details={'actual_k': 2, 'was_impossible': False}),\n",
       " Prediction(uid='A30J7WQV0ZNRXG', iid='B008OHNZI0', r_ui=5.0, est=4.166666666666667, details={'actual_k': 0, 'was_impossible': False}),\n",
       " Prediction(uid='AZMY6E8B52L2T', iid='B00E362W9O', r_ui=5.0, est=4.304034015002566, details={'actual_k': 2, 'was_impossible': False}),\n",
       " Prediction(uid='A3H4S6YO9VNGDZ', iid='B0044DEDCA', r_ui=4.0, est=4.46969696969697, details={'actual_k': 0, 'was_impossible': False}),\n",
       " Prediction(uid='AWH2AY17ZU7W2', iid='B004UEPUVG', r_ui=4.0, est=4.16, details={'actual_k': 0, 'was_impossible': False}),\n",
       " Prediction(uid='A21Q9JVG4SII51', iid='B0001OHH5G', r_ui=5.0, est=4.625, details={'actual_k': 0, 'was_impossible': False}),\n",
       " Prediction(uid='A3223W5IROMYTY', iid='B00BEZZBFO', r_ui=5.0, est=4.261051651931131, details={'was_impossible': True, 'reason': 'User and/or item is unkown.'}),\n",
       " Prediction(uid='ARC5ASW9CUAGP', iid='B005T3GPXE', r_ui=5.0, est=4.314285714285714, details={'actual_k': 0, 'was_impossible': False}),\n",
       " Prediction(uid='A3MFORLOKIOEQY', iid='B000WKPGVG', r_ui=5.0, est=4.261051651931131, details={'was_impossible': True, 'reason': 'User and/or item is unkown.'}),\n",
       " Prediction(uid='A362FM6FYA1SYS', iid='B003Y2WUJ0', r_ui=5.0, est=4.711111111111111, details={'actual_k': 0, 'was_impossible': False}),\n",
       " Prediction(uid='A35HUT8MQMT21L', iid='B006B07MT0', r_ui=5.0, est=4.261051651931131, details={'was_impossible': True, 'reason': 'User and/or item is unkown.'}),\n",
       " Prediction(uid='AGX2K0FMS0IVL', iid='B0002Y5WW0', r_ui=5.0, est=4.261051651931131, details={'was_impossible': True, 'reason': 'User and/or item is unkown.'}),\n",
       " Prediction(uid='A1MFVAHTT2BHM0', iid='B00005T3G0', r_ui=5.0, est=4.081967213114754, details={'actual_k': 0, 'was_impossible': False}),\n",
       " Prediction(uid='AS7J4952JB5XR', iid='B0013HAC0C', r_ui=5.0, est=4.261051651931131, details={'was_impossible': True, 'reason': 'User and/or item is unkown.'}),\n",
       " Prediction(uid='AFR9GYKAHM37U', iid='B005J7YA4G', r_ui=5.0, est=4.666666666666667, details={'actual_k': 0, 'was_impossible': False}),\n",
       " Prediction(uid='A35HOUWHAYZZN6', iid='B005GM1Q1O', r_ui=2.0, est=3.796875, details={'actual_k': 1, 'was_impossible': False}),\n",
       " Prediction(uid='A12DQZKRKTNF5E', iid='B00DHKKI16', r_ui=5.0, est=4.261051651931131, details={'was_impossible': True, 'reason': 'User and/or item is unkown.'}),\n",
       " Prediction(uid='A2PK64OVZA1U8Z', iid='B004I44F50', r_ui=3.0, est=4.462962962962963, details={'actual_k': 0, 'was_impossible': False}),\n",
       " Prediction(uid='A274MXTX3DYLUV', iid='B0012MI7O6', r_ui=5.0, est=4.261051651931131, details={'was_impossible': True, 'reason': 'User and/or item is unkown.'}),\n",
       " Prediction(uid='AZ515FFZ7I2P7', iid='B009YE461C', r_ui=4.0, est=4.973675932038891, details={'actual_k': 2, 'was_impossible': False}),\n",
       " Prediction(uid='A2NOW4U7W3F7RI', iid='B000HZDF8W', r_ui=5.0, est=4.511111111111111, details={'actual_k': 1, 'was_impossible': False}),\n",
       " Prediction(uid='AB094YABX21WQ', iid='B002V88HFE', r_ui=5.0, est=4.479166666666667, details={'actual_k': 0, 'was_impossible': False}),\n",
       " Prediction(uid='ARIDN94LOCQFD', iid='B0031WFFBI', r_ui=4.0, est=4.261051651931131, details={'was_impossible': True, 'reason': 'User and/or item is unkown.'}),\n",
       " Prediction(uid='A145B8OHVNNFAJ', iid='B009UNZ5WQ', r_ui=4.0, est=4.3061224489795915, details={'actual_k': 0, 'was_impossible': False}),\n",
       " Prediction(uid='A3G007LQX6KGOD', iid='B004RO9L4Q', r_ui=5.0, est=4.128205128205129, details={'actual_k': 0, 'was_impossible': False}),\n",
       " Prediction(uid='A3QJU4FEN8PQSZ', iid='B00CD8ADKO', r_ui=5.0, est=3.765326778484673, details={'actual_k': 1, 'was_impossible': False}),\n",
       " Prediction(uid='A25FL6VLD7S23S', iid='B007ECI7MA', r_ui=4.0, est=4.261051651931131, details={'was_impossible': True, 'reason': 'User and/or item is unkown.'}),\n",
       " Prediction(uid='A2W2ODLRQ2L8LE', iid='B000HVVHEU', r_ui=4.0, est=4.261051651931131, details={'was_impossible': True, 'reason': 'User and/or item is unkown.'}),\n",
       " Prediction(uid='A3NOBH42C7UI5M', iid='B0000DBJUB', r_ui=4.0, est=4.261051651931131, details={'was_impossible': True, 'reason': 'User and/or item is unkown.'}),\n",
       " Prediction(uid='A1CN1P7147QDJC', iid='B00CGUMR2Q', r_ui=5.0, est=4.394736842105263, details={'actual_k': 0, 'was_impossible': False}),\n",
       " Prediction(uid='A3U029B8Z5WGI2', iid='B0041OSQ9I', r_ui=5.0, est=4.55, details={'actual_k': 0, 'was_impossible': False}),\n",
       " Prediction(uid='A3AYSYSLHU26U9', iid='B000R9BMVU', r_ui=5.0, est=4.313186813186813, details={'actual_k': 0, 'was_impossible': False}),\n",
       " Prediction(uid='AYOMAHLWRQHUG', iid='B003CJTQJC', r_ui=5.0, est=4.232558139534884, details={'actual_k': 0, 'was_impossible': False}),\n",
       " Prediction(uid='A1G3DKT38DNZJP', iid='B006V72AHC', r_ui=1.0, est=4.476190476190476, details={'actual_k': 0, 'was_impossible': False}),\n",
       " Prediction(uid='AONUCJBC85BL', iid='B0030QUU4M', r_ui=5.0, est=3.94, details={'actual_k': 0, 'was_impossible': False}),\n",
       " Prediction(uid='A1ILWPH1GHUXE2', iid='B004431UBM', r_ui=3.0, est=5, details={'actual_k': 1, 'was_impossible': False}),\n",
       " Prediction(uid='A28X0LT2100RL1', iid='B00004TBLW', r_ui=2.0, est=4.378378378378378, details={'actual_k': 0, 'was_impossible': False}),\n",
       " Prediction(uid='AVPNQUVZWMDSX', iid='B004D4R9VC', r_ui=4.0, est=5, details={'actual_k': 1, 'was_impossible': False}),\n",
       " Prediction(uid='A3M7BCQKSQAK4L', iid='B005EIGUD4', r_ui=4.0, est=4.346252465483234, details={'actual_k': 1, 'was_impossible': False}),\n",
       " Prediction(uid='A1QOK9LU90ACF7', iid='B003X26VV4', r_ui=3.0, est=4.1, details={'actual_k': 0, 'was_impossible': False}),\n",
       " Prediction(uid='AGGAQLXPVGM5D', iid='B00CAN88VI', r_ui=4.0, est=4.54054054054054, details={'actual_k': 0, 'was_impossible': False}),\n",
       " Prediction(uid='AQB4DH57MSZSC', iid='B000BKJZ9Q', r_ui=3.0, est=4.622222222222222, details={'actual_k': 0, 'was_impossible': False}),\n",
       " Prediction(uid='A38NELQT98S4H8', iid='B001GMXIBY', r_ui=5.0, est=4.140350877192983, details={'actual_k': 0, 'was_impossible': False}),\n",
       " Prediction(uid='A2HRHF83I3NDGT', iid='B000WYVBR0', r_ui=5.0, est=4.730337078651686, details={'actual_k': 0, 'was_impossible': False}),\n",
       " Prediction(uid='AAK6SOEJY30YG', iid='B0002ZSFTG', r_ui=3.0, est=3.6944444444444446, details={'actual_k': 0, 'was_impossible': False}),\n",
       " Prediction(uid='ARBKYIVNYWK3C', iid='B0015IMZVS', r_ui=5.0, est=4.4, details={'actual_k': 0, 'was_impossible': False}),\n",
       " Prediction(uid='AVPNQUVZWMDSX', iid='B001TOD7ME', r_ui=5.0, est=4.626774846601758, details={'actual_k': 6, 'was_impossible': False}),\n",
       " Prediction(uid='A6FIAB28IS79', iid='B0000513SA', r_ui=5.0, est=4.261051651931131, details={'was_impossible': True, 'reason': 'User and/or item is unkown.'}),\n",
       " Prediction(uid='AEZJTA4KDIWY8', iid='B002ZCXJZE', r_ui=4.0, est=3.45954415954416, details={'actual_k': 1, 'was_impossible': False}),\n",
       " Prediction(uid='A8X478DM3KAWM', iid='B0075W9QD8', r_ui=5.0, est=4.261051651931131, details={'was_impossible': True, 'reason': 'User and/or item is unkown.'}),\n",
       " Prediction(uid='A1PPS91NLI7KEH', iid='B00BL9IONE', r_ui=1.0, est=4.261051651931131, details={'was_impossible': True, 'reason': 'User and/or item is unkown.'}),\n",
       " Prediction(uid='AT2J7H5TRZM8Z', iid='B000067BEG', r_ui=5.0, est=4.097560975609756, details={'actual_k': 0, 'was_impossible': False}),\n",
       " Prediction(uid='A2JMJVNTBL7K7E', iid='B002J9HBIO', r_ui=4.0, est=3.3039215686274512, details={'actual_k': 1, 'was_impossible': False}),\n",
       " Prediction(uid='A22MANL4US4RMY', iid='B0061ZP01M', r_ui=5.0, est=4.261051651931131, details={'was_impossible': True, 'reason': 'User and/or item is unkown.'}),\n",
       " Prediction(uid='A36K2N527TXXJN', iid='B00JDN86EM', r_ui=5.0, est=4.912444933920705, details={'actual_k': 1, 'was_impossible': False}),\n",
       " Prediction(uid='A1Q5P5ML3176C0', iid='B00009R6LS', r_ui=5.0, est=4.261051651931131, details={'was_impossible': True, 'reason': 'User and/or item is unkown.'}),\n",
       " Prediction(uid='A3NOBH42C7UI5M', iid='B001P5CAQ6', r_ui=3.0, est=4.261051651931131, details={'was_impossible': True, 'reason': 'User and/or item is unkown.'}),\n",
       " Prediction(uid='A1ZCSSCAGBCD49', iid='B000UKMZ94', r_ui=5.0, est=4.220574782483943, details={'actual_k': 3, 'was_impossible': False}),\n",
       " Prediction(uid='A197T2N6RU7K56', iid='B008G2GBN4', r_ui=5.0, est=4.6103896103896105, details={'actual_k': 0, 'was_impossible': False}),\n",
       " Prediction(uid='ARC5ASW9CUAGP', iid='B003D02UYI', r_ui=5.0, est=4.261051651931131, details={'was_impossible': True, 'reason': 'User and/or item is unkown.'}),\n",
       " Prediction(uid='AFNG8O2DXRCUV', iid='B004BZA5XC', r_ui=3.0, est=4.261051651931131, details={'was_impossible': True, 'reason': 'User and/or item is unkown.'}),\n",
       " Prediction(uid='A23WPWLYT3P1CZ', iid='B000TYR5R8', r_ui=5.0, est=5, details={'actual_k': 0, 'was_impossible': False}),\n",
       " Prediction(uid='A10O7THJ2O20AG', iid='B0008JHB14', r_ui=5.0, est=4.261051651931131, details={'was_impossible': True, 'reason': 'User and/or item is unkown.'}),\n",
       " Prediction(uid='A2HRHF83I3NDGT', iid='B00000J1V5', r_ui=5.0, est=4.730337078651686, details={'actual_k': 0, 'was_impossible': False}),\n",
       " Prediction(uid='A3094EPI56GKZ6', iid='B0082YNR0Q', r_ui=5.0, est=4.9, details={'actual_k': 0, 'was_impossible': False}),\n",
       " Prediction(uid='ARBKYIVNYWK3C', iid='B004SBBD8U', r_ui=5.0, est=4.888549618320611, details={'actual_k': 1, 'was_impossible': False}),\n",
       " Prediction(uid='A6FIAB28IS79', iid='B00005LB8P', r_ui=5.0, est=4.179401993355482, details={'actual_k': 0, 'was_impossible': False}),\n",
       " Prediction(uid='AX7317G153T8W', iid='B00F3F0EIU', r_ui=5.0, est=3.9824649090158544, details={'actual_k': 2, 'was_impossible': False}),\n",
       " Prediction(uid='A3CG93783LP0FO', iid='B00DQHZXLK', r_ui=5.0, est=4.261051651931131, details={'was_impossible': True, 'reason': 'User and/or item is unkown.'}),\n",
       " Prediction(uid='A1C82BC5GNABOA', iid='B000BV9HR0', r_ui=5.0, est=4.261051651931131, details={'was_impossible': True, 'reason': 'User and/or item is unkown.'}),\n",
       " Prediction(uid='AAR7CEPXYJA0T', iid='B001F42MKG', r_ui=2.0, est=3.703125, details={'actual_k': 0, 'was_impossible': False}),\n",
       " Prediction(uid='A1435P5AMCPB3X', iid='B00009UT3C', r_ui=5.0, est=4.261051651931131, details={'was_impossible': True, 'reason': 'User and/or item is unkown.'}),\n",
       " Prediction(uid='ABH9D1TEOJ56E', iid='B000087BX8', r_ui=4.0, est=4.559523809523809, details={'actual_k': 1, 'was_impossible': False}),\n",
       " Prediction(uid='A3BVN2QBNPBHCR', iid='B00AR95ENW', r_ui=5.0, est=4.675324675324675, details={'actual_k': 0, 'was_impossible': False}),\n",
       " Prediction(uid='A1RCGK44YXNBBB', iid='B000FDTNZA', r_ui=5.0, est=4.261051651931131, details={'was_impossible': True, 'reason': 'User and/or item is unkown.'}),\n",
       " Prediction(uid='AH3LF9RAD1O2V', iid='B000NJD13G', r_ui=3.0, est=4.261051651931131, details={'was_impossible': True, 'reason': 'User and/or item is unkown.'}),\n",
       " Prediction(uid='AQIJ3ZEEVCIKU', iid='B008H9BXMK', r_ui=4.0, est=3.351683159546621, details={'actual_k': 5, 'was_impossible': False}),\n",
       " Prediction(uid='AU3GYRAKBUAEU', iid='B004DI7CWE', r_ui=3.0, est=3.062555066079295, details={'actual_k': 1, 'was_impossible': False}),\n",
       " Prediction(uid='AVFJ327UXPXLF', iid='B003LSTD3S', r_ui=4.0, est=4.223684210526316, details={'actual_k': 0, 'was_impossible': False}),\n",
       " Prediction(uid='A7Y6AVS576M03', iid='B0001GYAA4', r_ui=4.0, est=4.729166666666667, details={'actual_k': 0, 'was_impossible': False}),\n",
       " Prediction(uid='A1FR68QH6Z4YZM', iid='B0002Y6DGO', r_ui=4.0, est=5, details={'actual_k': 1, 'was_impossible': False}),\n",
       " Prediction(uid='A3FOSLM5G1BO63', iid='B00A7FS3AW', r_ui=4.0, est=3.447453809872532, details={'actual_k': 2, 'was_impossible': False}),\n",
       " Prediction(uid='A1EH2S92FHWZRP', iid='B00BQ5RYI4', r_ui=3.0, est=3.9834150725745383, details={'actual_k': 2, 'was_impossible': False}),\n",
       " Prediction(uid='A5MCDQ60DWUEV', iid='B002NEGTT2', r_ui=2.0, est=4.543478260869565, details={'actual_k': 0, 'was_impossible': False}),\n",
       " Prediction(uid='A3FKQQTSMHOCE0', iid='B001U0OFKU', r_ui=5.0, est=4.696969696969697, details={'actual_k': 0, 'was_impossible': False}),\n",
       " Prediction(uid='A2Q204DY2L7YRP', iid='B001F7AJKI', r_ui=4.0, est=4.6, details={'actual_k': 0, 'was_impossible': False}),\n",
       " Prediction(uid='A1ITRGMT80D5TK', iid='B001BM5XB2', r_ui=5.0, est=4.083333333333333, details={'actual_k': 0, 'was_impossible': False}),\n",
       " Prediction(uid='A2Q204DY2L7YRP', iid='B004BFZHO4', r_ui=5.0, est=4.6, details={'actual_k': 0, 'was_impossible': False}),\n",
       " Prediction(uid='A3EX8ZFNVDHGPM', iid='B003L4P872', r_ui=5.0, est=4.333333333333333, details={'actual_k': 0, 'was_impossible': False}),\n",
       " Prediction(uid='A3U5HKDHPYBAK3', iid='B00ALN54KM', r_ui=3.0, est=4.105263157894737, details={'actual_k': 0, 'was_impossible': False}),\n",
       " Prediction(uid='A2TMFC9O3ZCNKE', iid='B006379D0W', r_ui=4.0, est=4.261051651931131, details={'was_impossible': True, 'reason': 'User and/or item is unkown.'}),\n",
       " Prediction(uid='A1JZFGZEZVWQPY', iid='B000X1TS54', r_ui=4.0, est=4.032258064516129, details={'actual_k': 0, 'was_impossible': False}),\n",
       " Prediction(uid='A20951I210L0IB', iid='B004TLH7C0', r_ui=5.0, est=3.657142857142857, details={'actual_k': 0, 'was_impossible': False}),\n",
       " Prediction(uid='AFHYEO3Y1IIDD', iid='B003FG7IDI', r_ui=5.0, est=3.9583333333333335, details={'actual_k': 0, 'was_impossible': False}),\n",
       " Prediction(uid='A100UD67AHFODS', iid='B00FISD9DO', r_ui=4.0, est=4.662337662337662, details={'actual_k': 0, 'was_impossible': False}),\n",
       " Prediction(uid='A20WUUD9EDWY4N', iid='B00004ZCJE', r_ui=5.0, est=4.044477028347996, details={'actual_k': 1, 'was_impossible': False}),\n",
       " Prediction(uid='A1M7HP5CHDXXOU', iid='B008ALA6DW', r_ui=5.0, est=4.957142857142856, details={'actual_k': 1, 'was_impossible': False}),\n",
       " Prediction(uid='A23ONMGKEWDG4M', iid='B000SA7I0M', r_ui=5.0, est=4.238095238095238, details={'actual_k': 0, 'was_impossible': False}),\n",
       " Prediction(uid='A3NVZTGPORNPRW', iid='B007R21K9E', r_ui=3.0, est=4.261051651931131, details={'was_impossible': True, 'reason': 'User and/or item is unkown.'}),\n",
       " Prediction(uid='A2NYK9KWFMJV4Y', iid='B00L21HC7A', r_ui=5.0, est=4.810457516339869, details={'actual_k': 0, 'was_impossible': False}),\n",
       " Prediction(uid='A34LQ791ACZ0JC', iid='B002W4M0DW', r_ui=5.0, est=4.689655172413793, details={'actual_k': 0, 'was_impossible': False}),\n",
       " Prediction(uid='A6XLG77BC9R8R', iid='B00064V6P8', r_ui=5.0, est=4.261051651931131, details={'was_impossible': True, 'reason': 'User and/or item is unkown.'}),\n",
       " Prediction(uid='A1R377IPZOKLMM', iid='B000J1CCGA', r_ui=3.0, est=4.578125, details={'actual_k': 0, 'was_impossible': False}),\n",
       " Prediction(uid='A3HC7NWLKCPX4X', iid='B003ZM7YTA', r_ui=5.0, est=3.566666666666667, details={'actual_k': 0, 'was_impossible': False}),\n",
       " Prediction(uid='A2NOIWPJDD7WIQ', iid='B006OBGEHW', r_ui=3.0, est=3.658536585365854, details={'actual_k': 0, 'was_impossible': False}),\n",
       " Prediction(uid='A15QYHQH80W30L', iid='B001U02JZ8', r_ui=5.0, est=4.171428571428572, details={'actual_k': 0, 'was_impossible': False}),\n",
       " Prediction(uid='ADLVFFE4VBT8', iid='B004TPJKEY', r_ui=5.0, est=4.197200122734482, details={'actual_k': 12, 'was_impossible': False}),\n",
       " Prediction(uid='A2SL5IW096Z2BL', iid='B003U8HV4M', r_ui=5.0, est=4.3, details={'actual_k': 0, 'was_impossible': False}),\n",
       " Prediction(uid='A3CKI6VEH0HBMJ', iid='B003LZYXYU', r_ui=5.0, est=4.675675675675675, details={'actual_k': 0, 'was_impossible': False}),\n",
       " Prediction(uid='A1BT6TL7UCIC5Y', iid='B0035JCI6M', r_ui=1.0, est=3.1951437844845367, details={'actual_k': 3, 'was_impossible': False}),\n",
       " Prediction(uid='A27B1U3OWCU14J', iid='B005HSDLCO', r_ui=5.0, est=4.178571428571429, details={'actual_k': 0, 'was_impossible': False}),\n",
       " Prediction(uid='A15QYHQH80W30L', iid='B000144I2G', r_ui=5.0, est=4.261051651931131, details={'was_impossible': True, 'reason': 'User and/or item is unkown.'}),\n",
       " Prediction(uid='A1F5O1USOUOOXI', iid='B00FFJ0HUE', r_ui=4.0, est=4.487804878048781, details={'actual_k': 0, 'was_impossible': False}),\n",
       " Prediction(uid='A2GKMXRLI7KLFP', iid='B0035FIS2O', r_ui=5.0, est=4.261051651931131, details={'was_impossible': True, 'reason': 'User and/or item is unkown.'}),\n",
       " Prediction(uid='A2L9OPJAAEK08Q', iid='B000089GN3', r_ui=4.0, est=3.5714285714285716, details={'actual_k': 0, 'was_impossible': False}),\n",
       " Prediction(uid='A1ZU55TM45Y2R8', iid='B000UVM0ES', r_ui=1.0, est=4.008130081300813, details={'actual_k': 0, 'was_impossible': False}),\n",
       " Prediction(uid='AAEVGE52KL0DJ', iid='B000QUUFRW', r_ui=5.0, est=4.6, details={'actual_k': 0, 'was_impossible': False}),\n",
       " Prediction(uid='A3J8A5L5AF5TX9', iid='B0023RRNJY', r_ui=2.0, est=3.8151260504201683, details={'actual_k': 0, 'was_impossible': False}),\n",
       " Prediction(uid='A27ADCSD15F3GL', iid='B00CU4L4XG', r_ui=5.0, est=4.261051651931131, details={'was_impossible': True, 'reason': 'User and/or item is unkown.'}),\n",
       " Prediction(uid='AWZR0O65DL2Q', iid='B003LY3IJC', r_ui=5.0, est=4.023809523809524, details={'actual_k': 0, 'was_impossible': False}),\n",
       " Prediction(uid='A6VPK7X53QNAQ', iid='B00EVIBN26', r_ui=2.0, est=1, details={'actual_k': 2, 'was_impossible': False}),\n",
       " Prediction(uid='A3D0UM4ZD2CMAW', iid='B008PA1TPM', r_ui=5.0, est=4.261051651931131, details={'was_impossible': True, 'reason': 'User and/or item is unkown.'}),\n",
       " Prediction(uid='A1D27BCSYV7VWH', iid='B0043BPZWA', r_ui=5.0, est=4.261051651931131, details={'was_impossible': True, 'reason': 'User and/or item is unkown.'}),\n",
       " Prediction(uid='A21I62TCDL4754', iid='B0018SBNI6', r_ui=3.0, est=4.261051651931131, details={'was_impossible': True, 'reason': 'User and/or item is unkown.'}),\n",
       " Prediction(uid='A12DQZKRKTNF5E', iid='B004H1PV2A', r_ui=5.0, est=3.8455991124260356, details={'actual_k': 1, 'was_impossible': False}),\n",
       " Prediction(uid='A1EVV74UQYVKRY', iid='B00JIJU4WI', r_ui=5.0, est=4.261051651931131, details={'was_impossible': True, 'reason': 'User and/or item is unkown.'}),\n",
       " Prediction(uid='A2YHXGPCTENZY3', iid='B000BNP2KE', r_ui=1.0, est=2.62, details={'actual_k': 0, 'was_impossible': False}),\n",
       " Prediction(uid='A3EZEP0FX5BC1P', iid='B0051G5SBY', r_ui=4.0, est=4.0625, details={'actual_k': 0, 'was_impossible': False}),\n",
       " Prediction(uid='A3EXWV8FNSSFL6', iid='B000CAJ8II', r_ui=5.0, est=4.558974358974359, details={'actual_k': 0, 'was_impossible': False}),\n",
       " Prediction(uid='A1N3EH28S4DI8L', iid='B000NP46K2', r_ui=4.0, est=4.048780487804878, details={'actual_k': 0, 'was_impossible': False}),\n",
       " Prediction(uid='A3J6Q0Y0SKY7AR', iid='B00336EH8Y', r_ui=5.0, est=4.261051651931131, details={'was_impossible': True, 'reason': 'User and/or item is unkown.'}),\n",
       " Prediction(uid='A1GWG5CWLKJ7ET', iid='B005KAK2FI', r_ui=5.0, est=5, details={'actual_k': 1, 'was_impossible': False}),\n",
       " Prediction(uid='A1ODOGXEYECQQ8', iid='B000O8WE66', r_ui=4.0, est=4.705700350714401, details={'actual_k': 5, 'was_impossible': False}),\n",
       " Prediction(uid='APBB297H3ZA5E', iid='B000FAJQHS', r_ui=5.0, est=4.261051651931131, details={'was_impossible': True, 'reason': 'User and/or item is unkown.'}),\n",
       " Prediction(uid='A35SNSDRNE9P8Q', iid='B002U03KQO', r_ui=5.0, est=4.696969696969697, details={'actual_k': 0, 'was_impossible': False}),\n",
       " Prediction(uid='ATFBVUXDIRXT6', iid='B004N6259G', r_ui=5.0, est=1.4214929214929217, details={'actual_k': 1, 'was_impossible': False}),\n",
       " Prediction(uid='A2Y4H3PXB07WQI', iid='B000R5LWRI', r_ui=4.0, est=4.321428571428571, details={'actual_k': 0, 'was_impossible': False}),\n",
       " Prediction(uid='AD8DLOGHAXL', iid='B000V6Y41E', r_ui=3.0, est=4.261051651931131, details={'was_impossible': True, 'reason': 'User and/or item is unkown.'}),\n",
       " Prediction(uid='A2MR696ZU17F12', iid='B000UMRWCC', r_ui=1.0, est=4.261051651931131, details={'was_impossible': True, 'reason': 'User and/or item is unkown.'}),\n",
       " Prediction(uid='A1U4GOVZWL8ZTL', iid='B005LS2GPI', r_ui=5.0, est=4.6716417910447765, details={'actual_k': 0, 'was_impossible': False}),\n",
       " Prediction(uid='A1PVJICI412IN4', iid='B0014J1P64', r_ui=5.0, est=4.261051651931131, details={'was_impossible': True, 'reason': 'User and/or item is unkown.'}),\n",
       " Prediction(uid='A3F3B6HY9RJI04', iid='B000EPLP3C', r_ui=3.0, est=4.037337662337662, details={'actual_k': 1, 'was_impossible': False}),\n",
       " Prediction(uid='A31N0XY2UTB25C', iid='B002N2EHVQ', r_ui=5.0, est=4.748466257668712, details={'actual_k': 0, 'was_impossible': False}),\n",
       " Prediction(uid='A28UMA3GW9L124', iid='B00024BK2G', r_ui=1.0, est=3.625, details={'actual_k': 0, 'was_impossible': False}),\n",
       " Prediction(uid='A1N5FSCYN4796F', iid='B005FE72YI', r_ui=1.0, est=4.261051651931131, details={'was_impossible': True, 'reason': 'User and/or item is unkown.'}),\n",
       " Prediction(uid='A1XEQGYY1IL8CD', iid='B002WGJFMY', r_ui=5.0, est=4.261051651931131, details={'was_impossible': True, 'reason': 'User and/or item is unkown.'}),\n",
       " Prediction(uid='AGEKVD8JPZQMT', iid='B00HRQB28Y', r_ui=4.0, est=3.874853801169591, details={'actual_k': 1, 'was_impossible': False}),\n",
       " Prediction(uid='A1Y85GQ09Y95JL', iid='B00H09GORW', r_ui=5.0, est=3.13953488372093, details={'actual_k': 0, 'was_impossible': False}),\n",
       " Prediction(uid='A1ITRGMT80D5TK', iid='B0016PCPNS', r_ui=4.0, est=4.083333333333333, details={'actual_k': 0, 'was_impossible': False}),\n",
       " Prediction(uid='A3AGQAXTX6VRJ3', iid='B00391Z83G', r_ui=5.0, est=4.261051651931131, details={'was_impossible': True, 'reason': 'User and/or item is unkown.'}),\n",
       " Prediction(uid='A2EZTM9WY5B5IL', iid='B00603RU9A', r_ui=4.0, est=3.676521739130435, details={'actual_k': 1, 'was_impossible': False}),\n",
       " Prediction(uid='A231WM2Z2JL0U3', iid='B00005A9WZ', r_ui=5.0, est=4.261051651931131, details={'was_impossible': True, 'reason': 'User and/or item is unkown.'}),\n",
       " Prediction(uid='A3QQGPI3CTV9SX', iid='B0001W7TU6', r_ui=4.0, est=4.261051651931131, details={'was_impossible': True, 'reason': 'User and/or item is unkown.'}),\n",
       " Prediction(uid='A2SKEQT0WTB954', iid='B003VXI8UC', r_ui=5.0, est=4.261051651931131, details={'was_impossible': True, 'reason': 'User and/or item is unkown.'}),\n",
       " Prediction(uid='A3REK3OFONWB1Q', iid='B0002SKSYS', r_ui=5.0, est=4.261051651931131, details={'was_impossible': True, 'reason': 'User and/or item is unkown.'}),\n",
       " Prediction(uid='A2YHXGPCTENZY3', iid='B00004R8VM', r_ui=2.0, est=4.261051651931131, details={'was_impossible': True, 'reason': 'User and/or item is unkown.'}),\n",
       " Prediction(uid='A19W47CXJJP1MI', iid='B003DZ122O', r_ui=1.0, est=4.535211267605634, details={'actual_k': 0, 'was_impossible': False}),\n",
       " Prediction(uid='A1I96OYAUJ3HQE', iid='B005CDSMQE', r_ui=5.0, est=4.7727272727272725, details={'actual_k': 0, 'was_impossible': False}),\n",
       " Prediction(uid='A11YOTONCPRQ9S', iid='B003Z6AB0A', r_ui=3.0, est=3.56, details={'actual_k': 0, 'was_impossible': False}),\n",
       " Prediction(uid='A1ITRGMT80D5TK', iid='B005LAIEN4', r_ui=4.0, est=4.934397163120567, details={'actual_k': 1, 'was_impossible': False}),\n",
       " Prediction(uid='AM3XNQU9TZBD8', iid='B00EI4V3X2', r_ui=4.0, est=4.62962962962963, details={'actual_k': 0, 'was_impossible': False}),\n",
       " Prediction(uid='A3A4ZAIBQWKOZS', iid='B0035FZ13I', r_ui=5.0, est=4.67948717948718, details={'actual_k': 0, 'was_impossible': False}),\n",
       " Prediction(uid='AN9WA4C5E7YY5', iid='B000BK42WG', r_ui=4.0, est=4.261051651931131, details={'was_impossible': True, 'reason': 'User and/or item is unkown.'}),\n",
       " Prediction(uid='A21INUA35HX4XQ', iid='B00B7FLPBU', r_ui=2.0, est=3.4999999999999996, details={'actual_k': 1, 'was_impossible': False}),\n",
       " Prediction(uid='A259MPG6SOL02P', iid='B000E71EW2', r_ui=5.0, est=4.261051651931131, details={'was_impossible': True, 'reason': 'User and/or item is unkown.'}),\n",
       " Prediction(uid='A2ME89MSWVG9NF', iid='B003WOLOLU', r_ui=1.0, est=4.261051651931131, details={'was_impossible': True, 'reason': 'User and/or item is unkown.'}),\n",
       " Prediction(uid='A781ITP3HE2N5', iid='B002ZIN9DU', r_ui=5.0, est=4.511111111111111, details={'actual_k': 0, 'was_impossible': False}),\n",
       " Prediction(uid='A2SYAQXJGRY3XE', iid='B003TM600U', r_ui=4.0, est=4.120689655172414, details={'actual_k': 0, 'was_impossible': False}),\n",
       " Prediction(uid='A1DTCJV6KOMJOA', iid='B007QWF9GK', r_ui=5.0, est=4.127659574468085, details={'actual_k': 0, 'was_impossible': False}),\n",
       " Prediction(uid='A19XMHRB3G4DIR', iid='B000271OX8', r_ui=5.0, est=4.506172839506172, details={'actual_k': 0, 'was_impossible': False}),\n",
       " Prediction(uid='A2N3JSOIQ6ZNFL', iid='B000OGX5AM', r_ui=5.0, est=4.538461538461538, details={'actual_k': 0, 'was_impossible': False}),\n",
       " Prediction(uid='AETQIN7OH0RL9', iid='B0062XB9FE', r_ui=3.0, est=3.5555555555555554, details={'actual_k': 0, 'was_impossible': False}),\n",
       " Prediction(uid='A2SH6A32BE6NEV', iid='B0025EWXEU', r_ui=5.0, est=4.246376811594203, details={'actual_k': 0, 'was_impossible': False}),\n",
       " Prediction(uid='A2HXE29CU1I24Y', iid='B000TQU352', r_ui=4.0, est=4.261051651931131, details={'was_impossible': True, 'reason': 'User and/or item is unkown.'}),\n",
       " Prediction(uid='ADPKRJ2BSFJ0I', iid='B004H4H1CU', r_ui=5.0, est=4.724137931034483, details={'actual_k': 0, 'was_impossible': False}),\n",
       " Prediction(uid='A2W9I628I6SE1U', iid='B001YIJB84', r_ui=5.0, est=4.261051651931131, details={'was_impossible': True, 'reason': 'User and/or item is unkown.'}),\n",
       " Prediction(uid='A2IMLOJ2Z2QEU2', iid='B0002WPSBC', r_ui=2.0, est=4.714245594545349, details={'actual_k': 3, 'was_impossible': False}),\n",
       " Prediction(uid='A3CEUT263RNUDO', iid='B00AO1L1RG', r_ui=4.0, est=4.226415094339623, details={'actual_k': 0, 'was_impossible': False}),\n",
       " Prediction(uid='AUK79PXTAOJP9', iid='B004C8I88W', r_ui=5.0, est=4.261051651931131, details={'was_impossible': True, 'reason': 'User and/or item is unkown.'}),\n",
       " Prediction(uid='A1PN2U0AWXGVML', iid='B0009RP2JS', r_ui=5.0, est=4.261051651931131, details={'was_impossible': True, 'reason': 'User and/or item is unkown.'}),\n",
       " Prediction(uid='A3U41ZL33SS92P', iid='B003FGF2MC', r_ui=5.0, est=3.5652173913043477, details={'actual_k': 0, 'was_impossible': False}),\n",
       " Prediction(uid='AT53ZTTO707MB', iid='B007OY5V68', r_ui=5.0, est=4.9135416167477555, details={'actual_k': 3, 'was_impossible': False}),\n",
       " Prediction(uid='A23ZXHFLC6TBLD', iid='B005H8MWU6', r_ui=5.0, est=4.261051651931131, details={'was_impossible': True, 'reason': 'User and/or item is unkown.'}),\n",
       " Prediction(uid='A25TQLMIAPI1T6', iid='B003DS4Z6Q', r_ui=4.0, est=4.261051651931131, details={'was_impossible': True, 'reason': 'User and/or item is unkown.'}),\n",
       " Prediction(uid='A21GW4L8FO307V', iid='B00170KSBI', r_ui=5.0, est=4.261051651931131, details={'was_impossible': True, 'reason': 'User and/or item is unkown.'}),\n",
       " Prediction(uid='A1MFAPVBW9BEGD', iid='B0000BZL3H', r_ui=4.0, est=4.261051651931131, details={'was_impossible': True, 'reason': 'User and/or item is unkown.'}),\n",
       " Prediction(uid='A3SL0HA6422W4M', iid='B0060HGVGY', r_ui=5.0, est=4.261051651931131, details={'was_impossible': True, 'reason': 'User and/or item is unkown.'}),\n",
       " Prediction(uid='A3N4VTNFPMTHEF', iid='B00DCM91WQ', r_ui=4.0, est=4.345679012345679, details={'actual_k': 0, 'was_impossible': False}),\n",
       " Prediction(uid='AG2YXYIQ8TLTA', iid='B0077SAYY0', r_ui=5.0, est=4.121951219512195, details={'actual_k': 0, 'was_impossible': False}),\n",
       " Prediction(uid='A2ALRZ0ENQLYY5', iid='B006IKH0EA', r_ui=5.0, est=4.72972972972973, details={'actual_k': 0, 'was_impossible': False}),\n",
       " Prediction(uid='AR6APXLK7TJU2', iid='B000AO3L84', r_ui=5.0, est=4.352941176470588, details={'actual_k': 0, 'was_impossible': False}),\n",
       " Prediction(uid='A3T8WOFS5RD2IR', iid='B000WBQOZW', r_ui=3.0, est=4.642857142857143, details={'actual_k': 0, 'was_impossible': False}),\n",
       " Prediction(uid='A38C12950IM24P', iid='B00C5B1844', r_ui=5.0, est=4.261051651931131, details={'was_impossible': True, 'reason': 'User and/or item is unkown.'}),\n",
       " Prediction(uid='A3T7V207KRDE2O', iid='B0038QS2NU', r_ui=5.0, est=4.261051651931131, details={'was_impossible': True, 'reason': 'User and/or item is unkown.'}),\n",
       " Prediction(uid='A2O6HZ2B9YSRXR', iid='B002VKVZ1A', r_ui=4.0, est=4.4, details={'actual_k': 0, 'was_impossible': False}),\n",
       " Prediction(uid='A1JZFGZEZVWQPY', iid='B003IHUHGE', r_ui=4.0, est=4.032258064516129, details={'actual_k': 0, 'was_impossible': False}),\n",
       " Prediction(uid='A1GBT4UN2RW7XY', iid='B007JGBD2M', r_ui=3.0, est=4.271428571428571, details={'actual_k': 0, 'was_impossible': False}),\n",
       " Prediction(uid='AMVXR3NPL0GWX', iid='B00746O3X8', r_ui=5.0, est=4.314285714285714, details={'actual_k': 0, 'was_impossible': False}),\n",
       " Prediction(uid='AGFSSC5DBY2HU', iid='B003FMVCRU', r_ui=3.0, est=4.9452710410157215, details={'actual_k': 2, 'was_impossible': False}),\n",
       " Prediction(uid='A31N0XY2UTB25C', iid='B003XM1WE0', r_ui=5.0, est=4.748466257668712, details={'actual_k': 0, 'was_impossible': False}),\n",
       " Prediction(uid='A3AYSYSLHU26U9', iid='B000RIFFJ6', r_ui=5.0, est=4.261051651931131, details={'was_impossible': True, 'reason': 'User and/or item is unkown.'}),\n",
       " Prediction(uid='A2XRMQA6PJ5ZJ8', iid='B00DZYEXPQ', r_ui=5.0, est=4.575418994413408, details={'actual_k': 0, 'was_impossible': False}),\n",
       " Prediction(uid='A3EK2KTYHJCPB9', iid='B0047H2KZK', r_ui=5.0, est=4.304347826086956, details={'actual_k': 0, 'was_impossible': False}),\n",
       " Prediction(uid='A38KK0SZYEH5UD', iid='B005NFG1MS', r_ui=4.0, est=5, details={'actual_k': 2, 'was_impossible': False}),\n",
       " Prediction(uid='A203OCQQ12MAVT', iid='B0009KF9BQ', r_ui=1.0, est=4.261051651931131, details={'was_impossible': True, 'reason': 'User and/or item is unkown.'}),\n",
       " Prediction(uid='A1NNMOD9H36Q8E', iid='B00093IIRA', r_ui=5.0, est=3.8529411764705883, details={'actual_k': 0, 'was_impossible': False}),\n",
       " Prediction(uid='AI2AOCTC8BQVZ', iid='B008MS9YEU', r_ui=5.0, est=4.261051651931131, details={'was_impossible': True, 'reason': 'User and/or item is unkown.'}),\n",
       " Prediction(uid='A2XRIU3SOYZ0ZC', iid='B009HQCAPQ', r_ui=4.0, est=4.482905982905983, details={'actual_k': 1, 'was_impossible': False}),\n",
       " Prediction(uid='A5QDZEOIMQ4LW', iid='B00AQOC7NS', r_ui=5.0, est=4.261051651931131, details={'was_impossible': True, 'reason': 'User and/or item is unkown.'}),\n",
       " Prediction(uid='A12DQZKRKTNF5E', iid='B00603S1SY', r_ui=3.0, est=4.261051651931131, details={'was_impossible': True, 'reason': 'User and/or item is unkown.'}),\n",
       " Prediction(uid='A1O229NVVDJUX2', iid='B005UNFRU0', r_ui=4.0, est=4.236363636363636, details={'actual_k': 0, 'was_impossible': False}),\n",
       " Prediction(uid='A1KXJCXS6HFRQZ', iid='B0002MQGOK', r_ui=1.0, est=4.638647954767684, details={'actual_k': 3, 'was_impossible': False}),\n",
       " Prediction(uid='A17HMM1M7T9PJ1', iid='B002ZIMEMW', r_ui=4.0, est=4.263636363636364, details={'actual_k': 0, 'was_impossible': False}),\n",
       " Prediction(uid='A2X78O6G89CB30', iid='B000RQSGYO', r_ui=4.0, est=4.633333333333334, details={'actual_k': 0, 'was_impossible': False}),\n",
       " Prediction(uid='A1NAA1R38JSNHV', iid='B002JIEPNY', r_ui=5.0, est=4.261051651931131, details={'was_impossible': True, 'reason': 'User and/or item is unkown.'}),\n",
       " Prediction(uid='A3UR2N0ATGBCU8', iid='B0068PVBLS', r_ui=5.0, est=4.261051651931131, details={'was_impossible': True, 'reason': 'User and/or item is unkown.'}),\n",
       " Prediction(uid='A1DO9LRCO23EOM', iid='B000O1QZW2', r_ui=5.0, est=4.261051651931131, details={'was_impossible': True, 'reason': 'User and/or item is unkown.'}),\n",
       " Prediction(uid='AOEDWQLH2WKKW', iid='B001F514F4', r_ui=5.0, est=4.261051651931131, details={'was_impossible': True, 'reason': 'User and/or item is unkown.'}),\n",
       " Prediction(uid='A96JD9312DHWC', iid='B00KC7VY3S', r_ui=5.0, est=4.551724137931035, details={'actual_k': 0, 'was_impossible': False}),\n",
       " Prediction(uid='A23ZNGL704AW7O', iid='B004T9RR6I', r_ui=2.0, est=4.135795671345277, details={'actual_k': 8, 'was_impossible': False}),\n",
       " Prediction(uid='AWNBZSEZ9P8BE', iid='B004GUT1QO', r_ui=5.0, est=4.408724100327154, details={'actual_k': 1, 'was_impossible': False}),\n",
       " Prediction(uid='A10X9ME6R66JDX', iid='B005PZR65C', r_ui=3.0, est=4.261051651931131, details={'was_impossible': True, 'reason': 'User and/or item is unkown.'}),\n",
       " Prediction(uid='A2JAEZ0FMAMJVW', iid='B006ZS5ATM', r_ui=5.0, est=4.344262295081967, details={'actual_k': 0, 'was_impossible': False}),\n",
       " Prediction(uid='A17O9AHKHK66AI', iid='B005M1777G', r_ui=3.0, est=4.014705882352941, details={'actual_k': 0, 'was_impossible': False}),\n",
       " Prediction(uid='A6VPK7X53QNAQ', iid='B00HNJWVO4', r_ui=4.0, est=3.990990990990991, details={'actual_k': 0, 'was_impossible': False}),\n",
       " Prediction(uid='A1B6O7SAIYG2N0', iid='B0085YTDBA', r_ui=3.0, est=3.118291761148904, details={'actual_k': 1, 'was_impossible': False}),\n",
       " Prediction(uid='A4UGMKUSX9XHI', iid='B003CIHOOM', r_ui=4.0, est=4.261051651931131, details={'was_impossible': True, 'reason': 'User and/or item is unkown.'}),\n",
       " Prediction(uid='AAR7CEPXYJA0T', iid='B0001VGFKW', r_ui=2.0, est=3.703125, details={'actual_k': 0, 'was_impossible': False}),\n",
       " Prediction(uid='AZNUHQSHZHSUE', iid='B0043T7FXE', r_ui=5.0, est=4.175, details={'actual_k': 0, 'was_impossible': False}),\n",
       " Prediction(uid='A28BX3MM90A6FI', iid='B004GIKP1G', r_ui=4.0, est=4.261051651931131, details={'was_impossible': True, 'reason': 'User and/or item is unkown.'}),\n",
       " Prediction(uid='A28UMA3GW9L124', iid='B000CR78C4', r_ui=3.0, est=3.2727272727272725, details={'actual_k': 1, 'was_impossible': False}),\n",
       " Prediction(uid='AA95DWUI3ODU', iid='B007O0IB6O', r_ui=5.0, est=4.03125, details={'actual_k': 0, 'was_impossible': False}),\n",
       " Prediction(uid='A1ASWDAEDTTY5I', iid='B0044YU60M', r_ui=5.0, est=3.8666666666666667, details={'actual_k': 0, 'was_impossible': False}),\n",
       " Prediction(uid='A3S3R88HA0HZG3', iid='B00B5I9282', r_ui=5.0, est=4.467971641884685, details={'actual_k': 1, 'was_impossible': False}),\n",
       " Prediction(uid='AS2II0671KT2C', iid='B00A35WYBA', r_ui=5.0, est=4.794871794871795, details={'actual_k': 0, 'was_impossible': False}),\n",
       " Prediction(uid='AR18DH5SL9F73', iid='B000FIDTYG', r_ui=5.0, est=3.9361702127659575, details={'actual_k': 0, 'was_impossible': False}),\n",
       " Prediction(uid='A2GOHNFBHUU3UI', iid='B001MSF1FI', r_ui=2.0, est=4.269230769230769, details={'actual_k': 0, 'was_impossible': False}),\n",
       " Prediction(uid='A1FR68QH6Z4YZM', iid='B00005LE77', r_ui=5.0, est=4.724713242961418, details={'actual_k': 1, 'was_impossible': False}),\n",
       " Prediction(uid='A2A4X545ERLS7H', iid='B0097BEFYA', r_ui=5.0, est=4.488372093023256, details={'actual_k': 0, 'was_impossible': False}),\n",
       " Prediction(uid='AEL6CQNQXONBX', iid='B000ETVLVO', r_ui=4.0, est=4.261051651931131, details={'was_impossible': True, 'reason': 'User and/or item is unkown.'}),\n",
       " Prediction(uid='A3P69DTOXII004', iid='B00DDFESKC', r_ui=4.0, est=4.261051651931131, details={'was_impossible': True, 'reason': 'User and/or item is unkown.'}),\n",
       " Prediction(uid='A3J8A5L5AF5TX9', iid='B003ELYQGG', r_ui=4.0, est=4.620004099200656, details={'actual_k': 1, 'was_impossible': False}),\n",
       " Prediction(uid='A20DZX38KRBIT8', iid='B002VUCCVW', r_ui=1.0, est=2.408450704225352, details={'actual_k': 0, 'was_impossible': False}),\n",
       " Prediction(uid='A18NDN2CIG2TKR', iid='B00A2IB6VW', r_ui=5.0, est=4.261051651931131, details={'was_impossible': True, 'reason': 'User and/or item is unkown.'}),\n",
       " Prediction(uid='A38RMU1Y5TDP9', iid='B001VIFV4K', r_ui=2.0, est=4.261051651931131, details={'was_impossible': True, 'reason': 'User and/or item is unkown.'}),\n",
       " Prediction(uid='A1HBEQWSMVQEWJ', iid='B004DUMQVY', r_ui=5.0, est=3.891891891891892, details={'actual_k': 0, 'was_impossible': False}),\n",
       " Prediction(uid='A1KY5G5FP31F2F', iid='B002USHTWM', r_ui=4.0, est=4.261051651931131, details={'was_impossible': True, 'reason': 'User and/or item is unkown.'}),\n",
       " Prediction(uid='A3KTWUXXB8KKC7', iid='B0009MFTSW', r_ui=4.0, est=4.105263157894737, details={'actual_k': 0, 'was_impossible': False}),\n",
       " Prediction(uid='A313H6238N589', iid='B004VSTYI6', r_ui=4.0, est=4.261051651931131, details={'was_impossible': True, 'reason': 'User and/or item is unkown.'}),\n",
       " Prediction(uid='A11EXFO14WEJM1', iid='B00006I5I2', r_ui=5.0, est=4.2631578947368425, details={'actual_k': 0, 'was_impossible': False}),\n",
       " Prediction(uid='A3S3R88HA0HZG3', iid='B0002IYOXY', r_ui=5.0, est=4.261051651931131, details={'was_impossible': True, 'reason': 'User and/or item is unkown.'}),\n",
       " Prediction(uid='A18YMFFJW974QS', iid='B00F9ZQQ8Q', r_ui=4.0, est=4.654494382022472, details={'actual_k': 1, 'was_impossible': False}),\n",
       " Prediction(uid='A1PAGHECG401K1', iid='B008ULPE70', r_ui=5.0, est=4.25, details={'actual_k': 0, 'was_impossible': False}),\n",
       " Prediction(uid='A2DIQTZPF26T1L', iid='B00HN2Y2MA', r_ui=5.0, est=4.7317073170731705, details={'actual_k': 0, 'was_impossible': False}),\n",
       " Prediction(uid='AA95DWUI3ODU', iid='B003XLQX8G', r_ui=5.0, est=4.261051651931131, details={'was_impossible': True, 'reason': 'User and/or item is unkown.'}),\n",
       " Prediction(uid='A36K2N527TXXJN', iid='B00E44B18I', r_ui=5.0, est=4.537444933920705, details={'actual_k': 0, 'was_impossible': False}),\n",
       " Prediction(uid='A3CEUT263RNUDO', iid='B00009UTXR', r_ui=5.0, est=4.261051651931131, details={'was_impossible': True, 'reason': 'User and/or item is unkown.'}),\n",
       " Prediction(uid='A1L64KDYO5BOJA', iid='B001BP42GG', r_ui=3.0, est=4.261051651931131, details={'was_impossible': True, 'reason': 'User and/or item is unkown.'}),\n",
       " Prediction(uid='A3N4VTNFPMTHEF', iid='B000IE1KZC', r_ui=5.0, est=4.261051651931131, details={'was_impossible': True, 'reason': 'User and/or item is unkown.'}),\n",
       " Prediction(uid='AG7EF0SVBQOUX', iid='B0032CSA6O', r_ui=5.0, est=4.261051651931131, details={'was_impossible': True, 'reason': 'User and/or item is unkown.'}),\n",
       " Prediction(uid='A1L64KDYO5BOJA', iid='B00009XVCZ', r_ui=5.0, est=4.5125, details={'actual_k': 0, 'was_impossible': False}),\n",
       " Prediction(uid='A1BZIM4WGZ6DZP', iid='B0055OLY88', r_ui=5.0, est=4.902439024390244, details={'actual_k': 0, 'was_impossible': False}),\n",
       " Prediction(uid='AYOTEJ617O60K', iid='B0032OE610', r_ui=5.0, est=4.261051651931131, details={'was_impossible': True, 'reason': 'User and/or item is unkown.'}),\n",
       " Prediction(uid='A1B6O7SAIYG2N0', iid='B004VFRUZI', r_ui=4.0, est=4.261051651931131, details={'was_impossible': True, 'reason': 'User and/or item is unkown.'}),\n",
       " Prediction(uid='A3D0UM4ZD2CMAW', iid='B004I763AW', r_ui=5.0, est=4.261051651931131, details={'was_impossible': True, 'reason': 'User and/or item is unkown.'}),\n",
       " Prediction(uid='A31HOWJKEIY037', iid='B003E2XU6W', r_ui=5.0, est=4.261051651931131, details={'was_impossible': True, 'reason': 'User and/or item is unkown.'}),\n",
       " Prediction(uid='A2KYRPDKVBI2R4', iid='B00AO1XFM0', r_ui=5.0, est=4.780487804878049, details={'actual_k': 0, 'was_impossible': False}),\n",
       " Prediction(uid='A1UQBFCERIP7VJ', iid='B0012LUPD8', r_ui=5.0, est=4.261051651931131, details={'was_impossible': True, 'reason': 'User and/or item is unkown.'}),\n",
       " Prediction(uid='A2FZQF0MH29VYN', iid='B002HWRJY4', r_ui=4.0, est=4.705882352941177, details={'actual_k': 0, 'was_impossible': False}),\n",
       " Prediction(uid='ARXU3FESTWMJJ', iid='B00HA236FC', r_ui=5.0, est=4.261051651931131, details={'was_impossible': True, 'reason': 'User and/or item is unkown.'}),\n",
       " Prediction(uid='A19FRW264WZTGP', iid='B009Z7KMUM', r_ui=5.0, est=4.428571428571429, details={'actual_k': 0, 'was_impossible': False}),\n",
       " Prediction(uid='A11P105WVK5240', iid='B000093UPO', r_ui=5.0, est=4.261051651931131, details={'was_impossible': True, 'reason': 'User and/or item is unkown.'}),\n",
       " Prediction(uid='ABE5E8B3J7MKY', iid='B003SQ1JTY', r_ui=5.0, est=4.833333333333333, details={'actual_k': 0, 'was_impossible': False}),\n",
       " Prediction(uid='A2Q2A6JKY95RTP', iid='B00B4OCWE8', r_ui=4.0, est=3.6361149110807114, details={'actual_k': 1, 'was_impossible': False}),\n",
       " Prediction(uid='AGFSSC5DBY2HU', iid='B000M3LSOM', r_ui=5.0, est=4.261051651931131, details={'was_impossible': True, 'reason': 'User and/or item is unkown.'}),\n",
       " Prediction(uid='A3QNQQKJTL76H0', iid='B0000775AA', r_ui=5.0, est=4.261051651931131, details={'was_impossible': True, 'reason': 'User and/or item is unkown.'}),\n",
       " Prediction(uid='A19W47CXJJP1MI', iid='B00426D9KQ', r_ui=5.0, est=2.326877934272301, details={'actual_k': 1, 'was_impossible': False}),\n",
       " Prediction(uid='A3A4ZAIBQWKOZS', iid='B00G6IJ5NI', r_ui=5.0, est=5, details={'actual_k': 1, 'was_impossible': False}),\n",
       " Prediction(uid='A32AK8FOAZEPE2', iid='B003B4AVRE', r_ui=2.0, est=2.875, details={'actual_k': 0, 'was_impossible': False}),\n",
       " Prediction(uid='A3DWO5RJDA430F', iid='B0067WURIK', r_ui=4.0, est=4.261051651931131, details={'was_impossible': True, 'reason': 'User and/or item is unkown.'}),\n",
       " Prediction(uid='A6FIAB28IS79', iid='B002TLTGM6', r_ui=3.0, est=4.740906900661916, details={'actual_k': 2, 'was_impossible': False}),\n",
       " Prediction(uid='AZMY6E8B52L2T', iid='B00FMTIUD8', r_ui=5.0, est=4.3989226609864, details={'actual_k': 1, 'was_impossible': False}),\n",
       " Prediction(uid='A3PD8JD9L4WEII', iid='B000AZE9JI', r_ui=4.0, est=4.261051651931131, details={'was_impossible': True, 'reason': 'User and/or item is unkown.'}),\n",
       " Prediction(uid='AA95DWUI3ODU', iid='B005P124ZI', r_ui=4.0, est=4.261051651931131, details={'was_impossible': True, 'reason': 'User and/or item is unkown.'}),\n",
       " Prediction(uid='A3NVZTGPORNPRW', iid='B0065MMKTG', r_ui=5.0, est=4.261051651931131, details={'was_impossible': True, 'reason': 'User and/or item is unkown.'}),\n",
       " Prediction(uid='A3PU3EDJ2FG1AW', iid='B004H1VSRW', r_ui=5.0, est=4.261051651931131, details={'was_impossible': True, 'reason': 'User and/or item is unkown.'}),\n",
       " Prediction(uid='A250AXLRBVYKB4', iid='B00009XVZH', r_ui=3.0, est=4.261051651931131, details={'was_impossible': True, 'reason': 'User and/or item is unkown.'}),\n",
       " Prediction(uid='A1MRPX3RM48T2I', iid='B003KGBBRW', r_ui=5.0, est=4.5473684210526315, details={'actual_k': 0, 'was_impossible': False}),\n",
       " Prediction(uid='A3NOBH42C7UI5M', iid='B001QTXL82', r_ui=4.0, est=3.7916666666666665, details={'actual_k': 0, 'was_impossible': False}),\n",
       " Prediction(uid='AXU3VKZE848IY', iid='B00DDN0PBA', r_ui=5.0, est=3.8392857142857144, details={'actual_k': 0, 'was_impossible': False}),\n",
       " Prediction(uid='A3EZEP0FX5BC1P', iid='B00008SCFL', r_ui=4.0, est=3.331818181818182, details={'actual_k': 2, 'was_impossible': False}),\n",
       " Prediction(uid='A2WJ5XSE4I9F55', iid='B006OGNLNC', r_ui=4.0, est=4.261051651931131, details={'was_impossible': True, 'reason': 'User and/or item is unkown.'}),\n",
       " Prediction(uid='AT6CZDCP4TRGA', iid='B006MNH818', r_ui=5.0, est=4.261051651931131, details={'was_impossible': True, 'reason': 'User and/or item is unkown.'}),\n",
       " Prediction(uid='AT09WGFUM934H', iid='B0057GNDBA', r_ui=5.0, est=4.371794871794871, details={'actual_k': 0, 'was_impossible': False}),\n",
       " Prediction(uid='A2NJQF2UI60VGT', iid='B003ZDEHXA', r_ui=4.0, est=4.261051651931131, details={'was_impossible': True, 'reason': 'User and/or item is unkown.'}),\n",
       " Prediction(uid='A3OXHLG6DIBRW8', iid='B000UV4EU6', r_ui=4.0, est=3.2660943468070505, details={'actual_k': 2, 'was_impossible': False}),\n",
       " Prediction(uid='A1D9V11QUHXENQ', iid='B008O2HVIK', r_ui=4.0, est=4.216216216216216, details={'actual_k': 0, 'was_impossible': False}),\n",
       " Prediction(uid='A31N0XY2UTB25C', iid='B0040NGWOQ', r_ui=5.0, est=5, details={'actual_k': 1, 'was_impossible': False}),\n",
       " Prediction(uid='A2RU4U1JZ3DMP5', iid='B002C76W4C', r_ui=4.0, est=4.174603174603175, details={'actual_k': 0, 'was_impossible': False}),\n",
       " Prediction(uid='A7Y6AVS576M03', iid='B00004RG85', r_ui=5.0, est=4.261051651931131, details={'was_impossible': True, 'reason': 'User and/or item is unkown.'}),\n",
       " Prediction(uid='A3M7BCQKSQAK4L', iid='B00D68ZVY8', r_ui=4.0, est=4.37636815920398, details={'actual_k': 1, 'was_impossible': False}),\n",
       " Prediction(uid='A20G074MWH9U7O', iid='B004285MF4', r_ui=5.0, est=4.261051651931131, details={'was_impossible': True, 'reason': 'User and/or item is unkown.'}),\n",
       " Prediction(uid='A2FXBWR4T4OFQ', iid='B009H0XQQY', r_ui=5.0, est=4.796296296296297, details={'actual_k': 0, 'was_impossible': False}),\n",
       " Prediction(uid='AAA0TUKS5VBSA', iid='B00E3PFW9C', r_ui=5.0, est=4.242857142857143, details={'actual_k': 0, 'was_impossible': False}),\n",
       " Prediction(uid='A19HT7YC1UW3D6', iid='B0064I1NRG', r_ui=5.0, est=4.518518518518518, details={'actual_k': 0, 'was_impossible': False}),\n",
       " Prediction(uid='A19RGDJPNZ7NZ', iid='B000H7MHFC', r_ui=5.0, est=4.285714285714286, details={'actual_k': 0, 'was_impossible': False}),\n",
       " Prediction(uid='A1EVV74UQYVKRY', iid='B004I5FL1G', r_ui=4.0, est=5, details={'actual_k': 3, 'was_impossible': False}),\n",
       " Prediction(uid='A1DSRM2P0WGQNS', iid='B006VFASAA', r_ui=2.0, est=4.261051651931131, details={'was_impossible': True, 'reason': 'User and/or item is unkown.'}),\n",
       " Prediction(uid='ABIVKBMSIPEDY', iid='B00429N16A', r_ui=4.0, est=4.750612745098039, details={'actual_k': 1, 'was_impossible': False}),\n",
       " Prediction(uid='A11FX8HL2ANK6T', iid='B00AXZXUAY', r_ui=5.0, est=4.261051651931131, details={'was_impossible': True, 'reason': 'User and/or item is unkown.'}),\n",
       " Prediction(uid='A3F9CMU8KNAY1M', iid='B001N85NMI', r_ui=4.0, est=4.171875, details={'actual_k': 0, 'was_impossible': False}),\n",
       " Prediction(uid='ADLVFFE4VBT8', iid='B004YI9NTS', r_ui=2.0, est=4.042747091107899, details={'actual_k': 5, 'was_impossible': False}),\n",
       " Prediction(uid='A3IUW081KXD3PE', iid='B001PIBE8I', r_ui=4.0, est=4.434782608695652, details={'actual_k': 0, 'was_impossible': False}),\n",
       " Prediction(uid='ABVYGB2TKBO8F', iid='B00AQRUW4Q', r_ui=4.0, est=4.406593406593407, details={'actual_k': 0, 'was_impossible': False}),\n",
       " Prediction(uid='ACHTDPEQYSEQL', iid='B0006GWY4I', r_ui=1.0, est=4.261051651931131, details={'was_impossible': True, 'reason': 'User and/or item is unkown.'}),\n",
       " Prediction(uid='A17RFKCYS69M3Y', iid='B0002ER3BS', r_ui=1.0, est=4.261051651931131, details={'was_impossible': True, 'reason': 'User and/or item is unkown.'}),\n",
       " Prediction(uid='A3QRR8PSCBI07C', iid='B0068ALVAO', r_ui=3.0, est=4.5675675675675675, details={'actual_k': 0, 'was_impossible': False}),\n",
       " Prediction(uid='A3A4ZAIBQWKOZS', iid='B00D4MFPLA', r_ui=5.0, est=5, details={'actual_k': 5, 'was_impossible': False}),\n",
       " Prediction(uid='A1A535TCGNMVPI', iid='B007H3L24Q', r_ui=4.0, est=4.627118644067797, details={'actual_k': 0, 'was_impossible': False}),\n",
       " Prediction(uid='A1GBT4UN2RW7XY', iid='B000O2KIMO', r_ui=3.0, est=4.271428571428571, details={'actual_k': 0, 'was_impossible': False}),\n",
       " Prediction(uid='APG2BHOAXPNEQ', iid='B00EUVHMR4', r_ui=5.0, est=4.261051651931131, details={'was_impossible': True, 'reason': 'User and/or item is unkown.'}),\n",
       " Prediction(uid='A3NHUQ33CFH3VM', iid='B003V42O6K', r_ui=4.0, est=4.401459854014599, details={'actual_k': 0, 'was_impossible': False}),\n",
       " Prediction(uid='A2LF07KCXDR70D', iid='B00CTUIT20', r_ui=5.0, est=3.763157894736842, details={'actual_k': 0, 'was_impossible': False}),\n",
       " Prediction(uid='A3LGT6UZL99IW1', iid='B00IVPU59W', r_ui=5.0, est=4.686229422434331, details={'actual_k': 4, 'was_impossible': False}),\n",
       " Prediction(uid='AQCJWSMSURQI2', iid='B00BIY7WNA', r_ui=3.0, est=3.7472826086956523, details={'actual_k': 1, 'was_impossible': False}),\n",
       " Prediction(uid='A257X1MQJO82P2', iid='B006M76GWG', r_ui=5.0, est=4.818181818181818, details={'actual_k': 0, 'was_impossible': False}),\n",
       " Prediction(uid='A3J8A5L5AF5TX9', iid='B003L18RZU', r_ui=5.0, est=4.066659792751457, details={'actual_k': 1, 'was_impossible': False}),\n",
       " Prediction(uid='A2JXS1JII6SAUD', iid='B003YL412A', r_ui=4.0, est=4.618181818181818, details={'actual_k': 0, 'was_impossible': False}),\n",
       " Prediction(uid='A2PSD2R9A1CXG7', iid='B0000AI1FB', r_ui=5.0, est=4.261051651931131, details={'was_impossible': True, 'reason': 'User and/or item is unkown.'}),\n",
       " Prediction(uid='A2LXX47A0KMJVX', iid='B002JWUU2A', r_ui=4.0, est=4.261051651931131, details={'was_impossible': True, 'reason': 'User and/or item is unkown.'}),\n",
       " Prediction(uid='A2HRHF83I3NDGT', iid='B003690Q42', r_ui=5.0, est=4.730337078651686, details={'actual_k': 0, 'was_impossible': False}),\n",
       " Prediction(uid='A13EQE9EY2ET93', iid='B00CMREMBC', r_ui=3.0, est=3.921985815602837, details={'actual_k': 1, 'was_impossible': False}),\n",
       " Prediction(uid='ABQWMANK4AR63', iid='B004H1PV4S', r_ui=5.0, est=3.9844961240310077, details={'actual_k': 0, 'was_impossible': False}),\n",
       " Prediction(uid='A3OXHLG6DIBRW8', iid='B006FLENJC', r_ui=5.0, est=4.973286967738133, details={'actual_k': 5, 'was_impossible': False}),\n",
       " Prediction(uid='A2L36AGL8CKY3D', iid='B004HZE7FI', r_ui=5.0, est=4.261051651931131, details={'was_impossible': True, 'reason': 'User and/or item is unkown.'}),\n",
       " Prediction(uid='AT28RL25Q2OLK', iid='B00ABDIIW8', r_ui=5.0, est=3.7853521126760556, details={'actual_k': 1, 'was_impossible': False}),\n",
       " Prediction(uid='ANW6EGY12V5XS', iid='B001TH7GUU', r_ui=5.0, est=4.010204081632653, details={'actual_k': 0, 'was_impossible': False}),\n",
       " Prediction(uid='A2O6HZ2B9YSRXR', iid='B004QF0VGS', r_ui=4.0, est=4.261051651931131, details={'was_impossible': True, 'reason': 'User and/or item is unkown.'}),\n",
       " Prediction(uid='A12DQZKRKTNF5E', iid='B002PY7OLM', r_ui=4.0, est=3.7651066881836117, details={'actual_k': 1, 'was_impossible': False}),\n",
       " Prediction(uid='A2EF8N7ZE7ONWX', iid='B005M21TBA', r_ui=2.0, est=4.040816326530612, details={'actual_k': 0, 'was_impossible': False}),\n",
       " Prediction(uid='AT8V3JOZD3KWK', iid='B002LARBZE', r_ui=5.0, est=4.326086956521739, details={'actual_k': 0, 'was_impossible': False}),\n",
       " Prediction(uid='A2CL818RN52NWN', iid='B000ACAWZ6', r_ui=1.0, est=4.261051651931131, details={'was_impossible': True, 'reason': 'User and/or item is unkown.'}),\n",
       " Prediction(uid='AGEWOMQ90BV8R', iid='B00374IBCK', r_ui=5.0, est=4.261051651931131, details={'was_impossible': True, 'reason': 'User and/or item is unkown.'}),\n",
       " Prediction(uid='A2F2F7N94SR1KQ', iid='B002GU5XJA', r_ui=5.0, est=4.261051651931131, details={'was_impossible': True, 'reason': 'User and/or item is unkown.'}),\n",
       " Prediction(uid='A3LDLV1GWQJLEQ', iid='B00DQEB1V4', r_ui=3.0, est=4.586956521739131, details={'actual_k': 0, 'was_impossible': False}),\n",
       " Prediction(uid='A1MRRMHGV3PN5W', iid='B00861DI4U', r_ui=4.0, est=4.15, details={'actual_k': 0, 'was_impossible': False}),\n",
       " Prediction(uid='A1PVX61PRPVX27', iid='B000VRJQOI', r_ui=5.0, est=4.261051651931131, details={'was_impossible': True, 'reason': 'User and/or item is unkown.'}),\n",
       " Prediction(uid='A2NXRD80LWHUOP', iid='B00691WMJG', r_ui=5.0, est=2.8421052631578947, details={'actual_k': 0, 'was_impossible': False}),\n",
       " Prediction(uid='AYB4ELCS5AM8P', iid='B006TR0FCQ', r_ui=5.0, est=4.801724137931035, details={'actual_k': 0, 'was_impossible': False}),\n",
       " Prediction(uid='A3U41ZL33SS92P', iid='B002R5AM7C', r_ui=5.0, est=3.628992416204972, details={'actual_k': 19, 'was_impossible': False}),\n",
       " Prediction(uid='A3OA4DV4L81N1D', iid='B0015MHY6K', r_ui=5.0, est=4.532894736842105, details={'actual_k': 0, 'was_impossible': False}),\n",
       " Prediction(uid='A1C5TCCR2IGKBU', iid='B002YKU2E8', r_ui=5.0, est=4.261051651931131, details={'was_impossible': True, 'reason': 'User and/or item is unkown.'}),\n",
       " Prediction(uid='A1RPTVW5VEOSI', iid='B004H8FNCQ', r_ui=3.0, est=3.9734513274336285, details={'actual_k': 0, 'was_impossible': False}),\n",
       " Prediction(uid='AXR3CV6A4FMBG', iid='B00IORDBPC', r_ui=4.0, est=3.7736842105263158, details={'actual_k': 1, 'was_impossible': False}),\n",
       " Prediction(uid='A2PSD2R9A1CXG7', iid='B00014K2W6', r_ui=5.0, est=4.086956521739131, details={'actual_k': 0, 'was_impossible': False}),\n",
       " Prediction(uid='A3VVMIMMTYQV5F', iid='B0098NTFRO', r_ui=5.0, est=4.261051651931131, details={'was_impossible': True, 'reason': 'User and/or item is unkown.'}),\n",
       " Prediction(uid='A3NEAETOSXDBOM', iid='B000Q8UAWY', r_ui=5.0, est=4.849112719341727, details={'actual_k': 1, 'was_impossible': False}),\n",
       " Prediction(uid='A35W3JQYP0M655', iid='B00176T9OO', r_ui=5.0, est=4.261051651931131, details={'was_impossible': True, 'reason': 'User and/or item is unkown.'}),\n",
       " Prediction(uid='A3GQY0TFRG0MPZ', iid='B00FOU3KYE', r_ui=5.0, est=4.261051651931131, details={'was_impossible': True, 'reason': 'User and/or item is unkown.'}),\n",
       " Prediction(uid='A3EZFFPVS34AMO', iid='B00009KH63', r_ui=5.0, est=4.569620253164557, details={'actual_k': 0, 'was_impossible': False}),\n",
       " Prediction(uid='A2L9OPJAAEK08Q', iid='B004MMEI8W', r_ui=4.0, est=3.5714285714285716, details={'actual_k': 0, 'was_impossible': False}),\n",
       " Prediction(uid='APQQK1V695AUE', iid='B0019M4FUY', r_ui=3.0, est=4.261051651931131, details={'was_impossible': True, 'reason': 'User and/or item is unkown.'}),\n",
       " Prediction(uid='A3CG93783LP0FO', iid='B008DWCRQW', r_ui=2.0, est=3.9701404266227507, details={'actual_k': 14, 'was_impossible': False}),\n",
       " Prediction(uid='A23D13HKTA95WX', iid='B0000AZK4D', r_ui=5.0, est=4.261051651931131, details={'was_impossible': True, 'reason': 'User and/or item is unkown.'}),\n",
       " Prediction(uid='A3NOBH42C7UI5M', iid='B000XZCIX4', r_ui=4.0, est=3.7916666666666665, details={'actual_k': 0, 'was_impossible': False}),\n",
       " Prediction(uid='A1VEELTKS8NLZB', iid='B0067C9CBI', r_ui=4.0, est=4.261051651931131, details={'was_impossible': True, 'reason': 'User and/or item is unkown.'}),\n",
       " Prediction(uid='AG6TX1ZJHLMO7', iid='B002SBB0SU', r_ui=4.0, est=4.261051651931131, details={'was_impossible': True, 'reason': 'User and/or item is unkown.'}),\n",
       " Prediction(uid='A257X1MQJO82P2', iid='B001KBZ3P0', r_ui=5.0, est=4.261051651931131, details={'was_impossible': True, 'reason': 'User and/or item is unkown.'}),\n",
       " Prediction(uid='A3NCIN6TNL0MGA', iid='B0009I94LE', r_ui=4.0, est=4.261051651931131, details={'was_impossible': True, 'reason': 'User and/or item is unkown.'}),\n",
       " Prediction(uid='A3W4D8XOGLWUN5', iid='B003AM8S3G', r_ui=4.0, est=3.690909090909091, details={'actual_k': 0, 'was_impossible': False}),\n",
       " Prediction(uid='A1ODOGXEYECQQ8', iid='B006421IRW', r_ui=5.0, est=4.304832713754647, details={'actual_k': 0, 'was_impossible': False}),\n",
       " Prediction(uid='A30C8WHQ2CYFO4', iid='B000053HBB', r_ui=4.0, est=4.0, details={'actual_k': 0, 'was_impossible': False}),\n",
       " Prediction(uid='A2PB325LKXYDOL', iid='B005H4HER6', r_ui=5.0, est=4.261051651931131, details={'was_impossible': True, 'reason': 'User and/or item is unkown.'}),\n",
       " Prediction(uid='AEIB3UR05OP7A', iid='B003VVH8Y6', r_ui=5.0, est=4.853658536585366, details={'actual_k': 0, 'was_impossible': False}),\n",
       " Prediction(uid='A2RTVGR9B1M600', iid='B0058N1U12', r_ui=5.0, est=4.193548387096774, details={'actual_k': 0, 'was_impossible': False}),\n",
       " Prediction(uid='A3QDY9I0CNMD2W', iid='B000NK5Z8Y', r_ui=4.0, est=4.375, details={'actual_k': 0, 'was_impossible': False}),\n",
       " Prediction(uid='A28P7V9KI7MXP', iid='B00HETABZY', r_ui=5.0, est=4.261051651931131, details={'was_impossible': True, 'reason': 'User and/or item is unkown.'}),\n",
       " Prediction(uid='A3T7V207KRDE2O', iid='B000U39VSY', r_ui=3.0, est=4.2748091603053435, details={'actual_k': 0, 'was_impossible': False}),\n",
       " Prediction(uid='ADLVFFE4VBT8', iid='B004E8Z8Q0', r_ui=4.0, est=4.261051651931131, details={'was_impossible': True, 'reason': 'User and/or item is unkown.'}),\n",
       " Prediction(uid='A15XI2BEGGFEOW', iid='B005HSG3BA', r_ui=5.0, est=4.25, details={'actual_k': 0, 'was_impossible': False}),\n",
       " Prediction(uid='A1EKSETIBS9ETQ', iid='B000G1Q494', r_ui=4.0, est=4.261051651931131, details={'was_impossible': True, 'reason': 'User and/or item is unkown.'}),\n",
       " Prediction(uid='A2ZY3S7SD3QO8Z', iid='B0035FZ11K', r_ui=4.0, est=3.2040650406504065, details={'actual_k': 1, 'was_impossible': False}),\n",
       " Prediction(uid='A3LGT6UZL99IW1', iid='B000023VUL', r_ui=5.0, est=4.1182266009852215, details={'actual_k': 0, 'was_impossible': False}),\n",
       " Prediction(uid='A1G650TTTHEAL5', iid='B008F05Q2E', r_ui=5.0, est=5, details={'actual_k': 1, 'was_impossible': False}),\n",
       " Prediction(uid='A1T1YSCDW0PD25', iid='B00BFXKYD4', r_ui=5.0, est=4.261051651931131, details={'was_impossible': True, 'reason': 'User and/or item is unkown.'}),\n",
       " Prediction(uid='A6FIAB28IS79', iid='B0002DG9XW', r_ui=5.0, est=4.179401993355482, details={'actual_k': 0, 'was_impossible': False}),\n",
       " Prediction(uid='A19X4BF861LQST', iid='B001H5T7LK', r_ui=4.0, est=4.178427159432746, details={'actual_k': 1, 'was_impossible': False}),\n",
       " Prediction(uid='A9ELHLPXF7JKD', iid='B0040723AE', r_ui=5.0, est=4.387755102040816, details={'actual_k': 0, 'was_impossible': False}),\n",
       " Prediction(uid='AT09WGFUM934H', iid='B002SAA42Y', r_ui=5.0, est=4.371794871794871, details={'actual_k': 0, 'was_impossible': False}),\n",
       " Prediction(uid='A30R8VFR16RE32', iid='B009QV3NBM', r_ui=4.0, est=4.071428571428571, details={'actual_k': 0, 'was_impossible': False}),\n",
       " Prediction(uid='A22CW0ZHY3NJH8', iid='B00HZ9GNGY', r_ui=5.0, est=4.519271154217787, details={'actual_k': 2, 'was_impossible': False}),\n",
       " Prediction(uid='A64LEAZ2QF8L2', iid='B000EVLS42', r_ui=5.0, est=4.914893617021277, details={'actual_k': 0, 'was_impossible': False}),\n",
       " Prediction(uid='A3DGJMO6VPG6FJ', iid='B007JPCL88', r_ui=5.0, est=4.261051651931131, details={'was_impossible': True, 'reason': 'User and/or item is unkown.'}),\n",
       " Prediction(uid='ANTN61S4L7WG9', iid='B003FMVPFY', r_ui=5.0, est=1.1222826086956523, details={'actual_k': 1, 'was_impossible': False}),\n",
       " Prediction(uid='A3QQCEQ33O0GJU', iid='B007Z3HZIA', r_ui=5.0, est=4.261051651931131, details={'was_impossible': True, 'reason': 'User and/or item is unkown.'}),\n",
       " Prediction(uid='A21INUA35HX4XQ', iid='B005MIZYPQ', r_ui=5.0, est=3.9, details={'actual_k': 0, 'was_impossible': False}),\n",
       " Prediction(uid='A3S3R88HA0HZG3', iid='B00BF37SKG', r_ui=5.0, est=4.747474747474747, details={'actual_k': 0, 'was_impossible': False}),\n",
       " Prediction(uid='A3FEGTOLCWXSV4', iid='B003RRYAXQ', r_ui=4.0, est=3.568978959453046, details={'actual_k': 5, 'was_impossible': False}),\n",
       " Prediction(uid='A1YEPFLLH42OU1', iid='B002IO2UM2', r_ui=5.0, est=4.818910256410256, details={'actual_k': 1, 'was_impossible': False}),\n",
       " Prediction(uid='A19UTUEBWKIZFT', iid='B009YC3Y08', r_ui=5.0, est=4.606060606060606, details={'actual_k': 0, 'was_impossible': False}),\n",
       " Prediction(uid='A1GYEGLX3P2Y7P', iid='B0028JE3T0', r_ui=4.0, est=4.261051651931131, details={'was_impossible': True, 'reason': 'User and/or item is unkown.'}),\n",
       " Prediction(uid='A2OBDNQ5ZYU1L8', iid='B002SG7MEG', r_ui=5.0, est=4.23943661971831, details={'actual_k': 0, 'was_impossible': False}),\n",
       " Prediction(uid='A35HUT8MQMT21L', iid='B0012Y2LLE', r_ui=5.0, est=4.083333333333333, details={'actual_k': 0, 'was_impossible': False}),\n",
       " Prediction(uid='A3P4T1DKRWTL36', iid='B007KMJT7G', r_ui=5.0, est=4.261051651931131, details={'was_impossible': True, 'reason': 'User and/or item is unkown.'}),\n",
       " Prediction(uid='A28BX3MM90A6FI', iid='B001XB7WOC', r_ui=3.0, est=4.261051651931131, details={'was_impossible': True, 'reason': 'User and/or item is unkown.'}),\n",
       " Prediction(uid='ASRA2UZ3JV87B', iid='B000EDO2PW', r_ui=3.0, est=4.261051651931131, details={'was_impossible': True, 'reason': 'User and/or item is unkown.'}),\n",
       " Prediction(uid='A28BX3MM90A6FI', iid='B001GAOYCS', r_ui=5.0, est=4.416666666666667, details={'actual_k': 0, 'was_impossible': False}),\n",
       " Prediction(uid='AGXV8E7XK9J6H', iid='B00009R88K', r_ui=5.0, est=4.155555555555556, details={'actual_k': 0, 'was_impossible': False}),\n",
       " Prediction(uid='A1MJMYLRTZ76ZX', iid='B00006J6RN', r_ui=5.0, est=4.396825396825397, details={'actual_k': 0, 'was_impossible': False}),\n",
       " Prediction(uid='A231WM2Z2JL0U3', iid='B00005UE92', r_ui=5.0, est=4.261051651931131, details={'was_impossible': True, 'reason': 'User and/or item is unkown.'}),\n",
       " Prediction(uid='ASF3J4UYV34KA', iid='B0037FR47C', r_ui=4.0, est=4.261051651931131, details={'was_impossible': True, 'reason': 'User and/or item is unkown.'}),\n",
       " Prediction(uid='A1MFPAM9TTRTXN', iid='B000I23TTE', r_ui=5.0, est=5, details={'actual_k': 0, 'was_impossible': False}),\n",
       " Prediction(uid='A24J2Y1O22JYZX', iid='B00122FCRG', r_ui=5.0, est=4.239130434782608, details={'actual_k': 0, 'was_impossible': False}),\n",
       " Prediction(uid='A2T3S3VTW65VO5', iid='B007X4Y430', r_ui=5.0, est=4.261051651931131, details={'was_impossible': True, 'reason': 'User and/or item is unkown.'}),\n",
       " Prediction(uid='AOVTLYTHVDNUX', iid='B004YG7JV4', r_ui=5.0, est=4.239130434782608, details={'actual_k': 0, 'was_impossible': False}),\n",
       " Prediction(uid='A200RY2ELZL2Q3', iid='B004D2AZ06', r_ui=5.0, est=3.641025641025641, details={'actual_k': 0, 'was_impossible': False}),\n",
       " Prediction(uid='A3OXHLG6DIBRW8', iid='B00DJL8V9E', r_ui=5.0, est=4.424242424242424, details={'actual_k': 0, 'was_impossible': False}),\n",
       " Prediction(uid='AAR7CEPXYJA0T', iid='B0032AMXEG', r_ui=5.0, est=4.593368902439025, details={'actual_k': 1, 'was_impossible': False}),\n",
       " Prediction(uid='AYLLSFYS3UP1H', iid='B007HO55DO', r_ui=4.0, est=4.261051651931131, details={'was_impossible': True, 'reason': 'User and/or item is unkown.'}),\n",
       " Prediction(uid='A1T1YSCDW0PD25', iid='B005PSQ5TM', r_ui=5.0, est=4.317647058823529, details={'actual_k': 0, 'was_impossible': False}),\n",
       " Prediction(uid='A2J96FILPQA01', iid='B005CPGHAA', r_ui=5.0, est=4.794871794871795, details={'actual_k': 0, 'was_impossible': False}),\n",
       " Prediction(uid='A34BZM6S9L7QI4', iid='B008ULPCB8', r_ui=5.0, est=4.205224949480919, details={'actual_k': 7, 'was_impossible': False}),\n",
       " Prediction(uid='A26LD9FQHTM8ZH', iid='B006K551TO', r_ui=2.0, est=3.913170731707317, details={'actual_k': 1, 'was_impossible': False}),\n",
       " Prediction(uid='A213J54E63SYOP', iid='B004NJD97A', r_ui=4.0, est=4.261051651931131, details={'was_impossible': True, 'reason': 'User and/or item is unkown.'}),\n",
       " Prediction(uid='A2JP9E1H0SF392', iid='B001WGX15W', r_ui=5.0, est=4.36231884057971, details={'actual_k': 0, 'was_impossible': False}),\n",
       " Prediction(uid='A377LPVLLAI42D', iid='B0002XQJFA', r_ui=5.0, est=3.5319148936170213, details={'actual_k': 0, 'was_impossible': False}),\n",
       " Prediction(uid='A1IU7S4HCK1XK0', iid='B000031KIM', r_ui=4.0, est=4.377551020408164, details={'actual_k': 0, 'was_impossible': False}),\n",
       " Prediction(uid='A2S26YGSVXBCFL', iid='B0021L9BZG', r_ui=4.0, est=3.96, details={'actual_k': 0, 'was_impossible': False}),\n",
       " Prediction(uid='A2T3S3VTW65VO5', iid='B001CZSW9I', r_ui=5.0, est=4.261051651931131, details={'was_impossible': True, 'reason': 'User and/or item is unkown.'}),\n",
       " Prediction(uid='A23ONMGKEWDG4M', iid='B003N3BLAO', r_ui=5.0, est=4.238095238095238, details={'actual_k': 0, 'was_impossible': False}),\n",
       " Prediction(uid='AGXV8E7XK9J6H', iid='B000EPHR0C', r_ui=5.0, est=4.155555555555556, details={'actual_k': 0, 'was_impossible': False}),\n",
       " Prediction(uid='A1F1A0QQP2XVH5', iid='B002RWJD7A', r_ui=3.0, est=5, details={'actual_k': 1, 'was_impossible': False}),\n",
       " Prediction(uid='A35X2JJI49OBZP', iid='B003L1ZYZ6', r_ui=5.0, est=4.533333333333333, details={'actual_k': 0, 'was_impossible': False}),\n",
       " Prediction(uid='A3977M5S0GIG5H', iid='B005CWHZP4', r_ui=5.0, est=4.636363636363637, details={'actual_k': 0, 'was_impossible': False}),\n",
       " Prediction(uid='AWNJAY0M5UI70', iid='B001NLV4TQ', r_ui=5.0, est=4.616438356164384, details={'actual_k': 0, 'was_impossible': False}),\n",
       " Prediction(uid='A23WPWLYT3P1CZ', iid='B003E2TRXW', r_ui=5.0, est=4.261051651931131, details={'was_impossible': True, 'reason': 'User and/or item is unkown.'}),\n",
       " Prediction(uid='A2PSD2R9A1CXG7', iid='B003K1EYM6', r_ui=5.0, est=4.07584541062802, details={'actual_k': 1, 'was_impossible': False}),\n",
       " Prediction(uid='A6VXZ1EEPRTLV', iid='B00009R89G', r_ui=5.0, est=4.043478260869565, details={'actual_k': 0, 'was_impossible': False}),\n",
       " Prediction(uid='A1KY5G5FP31F2F', iid='B005SXT6TA', r_ui=5.0, est=4.616666666666666, details={'actual_k': 0, 'was_impossible': False}),\n",
       " Prediction(uid='A19X4BF861LQST', iid='B0028RXI6G', r_ui=5.0, est=4.261051651931131, details={'was_impossible': True, 'reason': 'User and/or item is unkown.'}),\n",
       " Prediction(uid='ARBKYIVNYWK3C', iid='B002R5AM7C', r_ui=3.0, est=4.383144801588164, details={'actual_k': 9, 'was_impossible': False}),\n",
       " Prediction(uid='A3MUSWDCTZINQZ', iid='B0035AN31A', r_ui=4.0, est=4.058032528597117, details={'actual_k': 2, 'was_impossible': False}),\n",
       " Prediction(uid='A1NMM0RDRF6R84', iid='B007K94I2U', r_ui=4.0, est=4.421052631578948, details={'actual_k': 0, 'was_impossible': False}),\n",
       " Prediction(uid='A3D5B2CBFNJB0K', iid='B003XMAD22', r_ui=5.0, est=4.073170731707317, details={'actual_k': 0, 'was_impossible': False}),\n",
       " Prediction(uid='A3HR0ZZOFKQ97N', iid='B007RMAS1K', r_ui=5.0, est=4.619718309859155, details={'actual_k': 0, 'was_impossible': False}),\n",
       " Prediction(uid='A203OCQQ12MAVT', iid='B000MSZQ4K', r_ui=5.0, est=4.261051651931131, details={'was_impossible': True, 'reason': 'User and/or item is unkown.'}),\n",
       " Prediction(uid='A3S3R88HA0HZG3', iid='B0037ATHF4', r_ui=5.0, est=4.747474747474747, details={'actual_k': 0, 'was_impossible': False}),\n",
       " Prediction(uid='A18U49406IPPIJ', iid='B00ESUXXZM', r_ui=5.0, est=4.261051651931131, details={'was_impossible': True, 'reason': 'User and/or item is unkown.'}),\n",
       " Prediction(uid='A1ZCSSCAGBCD49', iid='B0016O8HP4', r_ui=4.0, est=3.224224841597292, details={'actual_k': 5, 'was_impossible': False}),\n",
       " Prediction(uid='A23GFTVIETX7DS', iid='B00E1CZRHY', r_ui=5.0, est=4.392857142857143, details={'actual_k': 0, 'was_impossible': False}),\n",
       " Prediction(uid='A23ZXHFLC6TBLD', iid='B0026ZPFCK', r_ui=4.0, est=4.607843137254902, details={'actual_k': 0, 'was_impossible': False}),\n",
       " Prediction(uid='A2MOJANFPX353G', iid='B002HWRJY4', r_ui=5.0, est=4.384615384615385, details={'actual_k': 0, 'was_impossible': False}),\n",
       " Prediction(uid='A3TAS1AG6FMBQW', iid='B003GTSHY8', r_ui=5.0, est=4.721311475409836, details={'actual_k': 0, 'was_impossible': False}),\n",
       " Prediction(uid='A2DG63DN704LOI', iid='B00FFZD51Q', r_ui=5.0, est=4.184895758840594, details={'actual_k': 6, 'was_impossible': False}),\n",
       " Prediction(uid='A2ZY49IDE6TY5I', iid='B009X3V8EW', r_ui=4.0, est=4.180722891566265, details={'actual_k': 0, 'was_impossible': False}),\n",
       " Prediction(uid='AMWL7XIWIPXEZ', iid='B005WMCZCC', r_ui=3.0, est=4.261051651931131, details={'was_impossible': True, 'reason': 'User and/or item is unkown.'}),\n",
       " Prediction(uid='A361M14PU2GUEG', iid='B00698ZUHK', r_ui=2.0, est=4.5777777777777775, details={'actual_k': 0, 'was_impossible': False}),\n",
       " Prediction(uid='A2R1HUYHXV7H18', iid='B003XU78PE', r_ui=5.0, est=4.575, details={'actual_k': 0, 'was_impossible': False}),\n",
       " Prediction(uid='A2J7FHZFKOKGZ6', iid='B003M2YT96', r_ui=4.0, est=3.642857142857143, details={'actual_k': 0, 'was_impossible': False}),\n",
       " Prediction(uid='A31RZMVAFMLB8B', iid='B0002KVQBA', r_ui=5.0, est=3.935483870967742, details={'actual_k': 0, 'was_impossible': False}),\n",
       " Prediction(uid='A21S26XYPGXJZX', iid='B0001GRTK2', r_ui=5.0, est=4.514285714285714, details={'actual_k': 0, 'was_impossible': False}),\n",
       " Prediction(uid='AUITG1DJ3QUGK', iid='B004HO59M4', r_ui=4.0, est=4.015151515151516, details={'actual_k': 0, 'was_impossible': False}),\n",
       " Prediction(uid='A31HE83MU98GBV', iid='B007FPIQZ4', r_ui=5.0, est=4.615384615384615, details={'actual_k': 0, 'was_impossible': False}),\n",
       " Prediction(uid='A35A2RWUMC737N', iid='B005GI2VMG', r_ui=5.0, est=4.333333333333333, details={'actual_k': 0, 'was_impossible': False}),\n",
       " Prediction(uid='A2PSD2R9A1CXG7', iid='B0000C4GCU', r_ui=2.0, est=4.261051651931131, details={'was_impossible': True, 'reason': 'User and/or item is unkown.'}),\n",
       " Prediction(uid='A1MZL91Z44RN06', iid='B0012MI7N2', r_ui=4.0, est=4.566265060240964, details={'actual_k': 0, 'was_impossible': False}),\n",
       " Prediction(uid='A2YYHSORXIHZCS', iid='B005TX3M62', r_ui=5.0, est=4.261051651931131, details={'was_impossible': True, 'reason': 'User and/or item is unkown.'}),\n",
       " Prediction(uid='A19XPAWSWDRI3B', iid='B003VVH8Y6', r_ui=4.0, est=4.479166666666667, details={'actual_k': 0, 'was_impossible': False}),\n",
       " Prediction(uid='A2QNS95WGN35G9', iid='B002HWRJY4', r_ui=5.0, est=4.511627906976744, details={'actual_k': 0, 'was_impossible': False}),\n",
       " Prediction(uid='A3MUSWDCTZINQZ', iid='B0057UUB1G', r_ui=4.0, est=5, details={'actual_k': 3, 'was_impossible': False}),\n",
       " Prediction(uid='A2JXS1JII6SAUD', iid='B000ZGX3P8', r_ui=5.0, est=4.618181818181818, details={'actual_k': 0, 'was_impossible': False}),\n",
       " Prediction(uid='A3F9CMU8KNAY1M', iid='B003ZSHKJ8', r_ui=4.0, est=4.171875, details={'actual_k': 0, 'was_impossible': False}),\n",
       " Prediction(uid='AUCISQA1YXX86', iid='B002NKLREI', r_ui=2.0, est=2.717391304347826, details={'actual_k': 0, 'was_impossible': False}),\n",
       " Prediction(uid='A195EZSQDW3E21', iid='B005IY2OD4', r_ui=5.0, est=4.194805194805195, details={'actual_k': 0, 'was_impossible': False}),\n",
       " Prediction(uid='A1Z7U9K6X3FEOU', iid='B00009R8EK', r_ui=2.0, est=4.261051651931131, details={'was_impossible': True, 'reason': 'User and/or item is unkown.'}),\n",
       " Prediction(uid='A35HNL2VEDK9Z1', iid='B000QYBLOY', r_ui=4.0, est=4.261051651931131, details={'was_impossible': True, 'reason': 'User and/or item is unkown.'}),\n",
       " Prediction(uid='A20WUUD9EDWY4N', iid='B0058RECO0', r_ui=5.0, est=4.261051651931131, details={'was_impossible': True, 'reason': 'User and/or item is unkown.'}),\n",
       " Prediction(uid='A2RU4U1JZ3DMP5', iid='B002JCSV8A', r_ui=5.0, est=4.5335775335775335, details={'actual_k': 1, 'was_impossible': False}),\n",
       " Prediction(uid='AM9APPMIE1BHZ', iid='B00I2N6NVC', r_ui=5.0, est=4.225, details={'actual_k': 0, 'was_impossible': False}),\n",
       " Prediction(uid='AGVWTYW0ULXHT', iid='B002PHLZXC', r_ui=4.0, est=3.8049843461701585, details={'actual_k': 3, 'was_impossible': False}),\n",
       " Prediction(uid='A1143YEAZYMYHJ', iid='B001EYV9TM', r_ui=5.0, est=4.387096774193548, details={'actual_k': 0, 'was_impossible': False}),\n",
       " Prediction(uid='A2W9GX82SLKROQ', iid='B005ARQV6U', r_ui=5.0, est=3.9263157894736844, details={'actual_k': 0, 'was_impossible': False}),\n",
       " Prediction(uid='A3QJU4FEN8PQSZ', iid='B008Y1KK6Q', r_ui=4.0, est=3.6699328107502796, details={'actual_k': 1, 'was_impossible': False}),\n",
       " Prediction(uid='A3977M5S0GIG5H', iid='B005FYNSPK', r_ui=5.0, est=4.636363636363637, details={'actual_k': 0, 'was_impossible': False}),\n",
       " Prediction(uid='A1XB7JGJ459ERP', iid='B00005LB8P', r_ui=4.0, est=4.2727272727272725, details={'actual_k': 0, 'was_impossible': False}),\n",
       " Prediction(uid='A9DYWY9VOSP1P', iid='B00061IYJC', r_ui=5.0, est=4.194444444444445, details={'actual_k': 0, 'was_impossible': False}),\n",
       " Prediction(uid='A1F1A0QQP2XVH5', iid='B0064X5Q5Q', r_ui=4.0, est=3.7063896103896106, details={'actual_k': 1, 'was_impossible': False}),\n",
       " Prediction(uid='A5JLAU2ARJ0BO', iid='B000M17AVO', r_ui=5.0, est=4.214447978780111, details={'actual_k': 3, 'was_impossible': False}),\n",
       " Prediction(uid='AHR86ZEYETLJI', iid='B0049WBZ1I', r_ui=5.0, est=4.261051651931131, details={'was_impossible': True, 'reason': 'User and/or item is unkown.'}),\n",
       " Prediction(uid='A2I2KPNJDQ9SL0', iid='B000V0GXR8', r_ui=5.0, est=4.38, details={'actual_k': 0, 'was_impossible': False}),\n",
       " Prediction(uid='A1F0KPA232MTYC', iid='B000CRFOMK', r_ui=5.0, est=4.302083333333333, details={'actual_k': 1, 'was_impossible': False}),\n",
       " Prediction(uid='A3QNQQKJTL76H0', iid='B007R8U5R6', r_ui=5.0, est=4.139130434782609, details={'actual_k': 0, 'was_impossible': False}),\n",
       " Prediction(uid='A2HRHF83I3NDGT', iid='B008XV7VTG', r_ui=5.0, est=4.730337078651686, details={'actual_k': 0, 'was_impossible': False}),\n",
       " Prediction(uid='A3OXHLG6DIBRW8', iid='B000JMJWV2', r_ui=5.0, est=4.661538120816624, details={'actual_k': 16, 'was_impossible': False}),\n",
       " Prediction(uid='A2BX8DDQGCCG2J', iid='B007YJIGPQ', r_ui=5.0, est=4.753623188405797, details={'actual_k': 0, 'was_impossible': False}),\n",
       " Prediction(uid='A8WEXFRWX1ZHH', iid='B000BI2CIO', r_ui=5.0, est=3.566649511065363, details={'actual_k': 1, 'was_impossible': False}),\n",
       " Prediction(uid='A1T1YSCDW0PD25', iid='B00DI7AR0A', r_ui=5.0, est=4.261051651931131, details={'was_impossible': True, 'reason': 'User and/or item is unkown.'}),\n",
       " Prediction(uid='A1P0JSFW184ZXJ', iid='B002VPE1YS', r_ui=5.0, est=4.531143080028824, details={'actual_k': 2, 'was_impossible': False}),\n",
       " Prediction(uid='A2BX8DDQGCCG2J', iid='B0040702IE', r_ui=2.0, est=4.261051651931131, details={'was_impossible': True, 'reason': 'User and/or item is unkown.'}),\n",
       " Prediction(uid='ADOR3TR7GDF68', iid='B00005T3G0', r_ui=5.0, est=4.450385812914579, details={'actual_k': 1, 'was_impossible': False}),\n",
       " Prediction(uid='AFM2J3HJNPIHV', iid='B004U403XQ', r_ui=5.0, est=4.09375, details={'actual_k': 0, 'was_impossible': False}),\n",
       " Prediction(uid='A2VC48WIMY6L6E', iid='B00009R90C', r_ui=5.0, est=4.261051651931131, details={'was_impossible': True, 'reason': 'User and/or item is unkown.'}),\n",
       " Prediction(uid='A34BZM6S9L7QI4', iid='B0081OY95E', r_ui=5.0, est=4.740161928073809, details={'actual_k': 1, 'was_impossible': False}),\n",
       " Prediction(uid='AJEOFP6ZWY0MK', iid='B007WTAJTO', r_ui=5.0, est=5, details={'actual_k': 1, 'was_impossible': False}),\n",
       " Prediction(uid='A1BZIM4WGZ6DZP', iid='B001HU4ASU', r_ui=5.0, est=4.902439024390244, details={'actual_k': 0, 'was_impossible': False}),\n",
       " Prediction(uid='A3PD8JD9L4WEII', iid='B009WE65EA', r_ui=5.0, est=4.306878306878307, details={'actual_k': 0, 'was_impossible': False}),\n",
       " Prediction(uid='A3SMD3T0QTN109', iid='B000CRKB32', r_ui=2.0, est=4.261051651931131, details={'was_impossible': True, 'reason': 'User and/or item is unkown.'}),\n",
       " Prediction(uid='A1NJHKPHD4YWZV', iid='B0018O9JIG', r_ui=5.0, est=3.9375, details={'actual_k': 0, 'was_impossible': False}),\n",
       " Prediction(uid='A3PCEB9ND82AGE', iid='B00A9NE84C', r_ui=5.0, est=4.96078431372549, details={'actual_k': 0, 'was_impossible': False}),\n",
       " Prediction(uid='AX05DBU8IRUWY', iid='B00C57P2BI', r_ui=5.0, est=4.714420398542961, details={'actual_k': 1, 'was_impossible': False}),\n",
       " Prediction(uid='A38QEATH3NODFM', iid='B000E168E2', r_ui=5.0, est=4.261051651931131, details={'was_impossible': True, 'reason': 'User and/or item is unkown.'}),\n",
       " Prediction(uid='A1FR68QH6Z4YZM', iid='B0002XZQHM', r_ui=3.0, est=4.571428571428571, details={'actual_k': 0, 'was_impossible': False}),\n",
       " Prediction(uid='A3IJL9A50KVVZ1', iid='B001GCUC6S', r_ui=5.0, est=4.829268292682927, details={'actual_k': 0, 'was_impossible': False}),\n",
       " Prediction(uid='A15J9K7O10A3M6', iid='B0081UEAH0', r_ui=5.0, est=4.261051651931131, details={'was_impossible': True, 'reason': 'User and/or item is unkown.'}),\n",
       " Prediction(uid='AYMD77ITD15PT', iid='B0064XAIZY', r_ui=5.0, est=4.288135593220339, details={'actual_k': 0, 'was_impossible': False}),\n",
       " Prediction(uid='A3L9E0YI7C5G0W', iid='B000K9KRH2', r_ui=5.0, est=4.411764705882353, details={'actual_k': 0, 'was_impossible': False}),\n",
       " Prediction(uid='A1CYTBE7LLUQ8F', iid='B000IVDIL4', r_ui=5.0, est=4.605263157894737, details={'actual_k': 0, 'was_impossible': False}),\n",
       " Prediction(uid='A1V4VVBQBFXRHC', iid='B001M4XCHQ', r_ui=5.0, est=4.623655913978495, details={'actual_k': 0, 'was_impossible': False}),\n",
       " Prediction(uid='A3Q4TYJVAM4IRM', iid='B002O3W2OI', r_ui=2.0, est=4.481132075471698, details={'actual_k': 0, 'was_impossible': False}),\n",
       " Prediction(uid='A2QNS95WGN35G9', iid='B003AVM8PQ', r_ui=5.0, est=4.261051651931131, details={'was_impossible': True, 'reason': 'User and/or item is unkown.'}),\n",
       " Prediction(uid='A1O229NVVDJUX2', iid='B001TK3ACA', r_ui=5.0, est=3.8319473154229162, details={'actual_k': 4, 'was_impossible': False}),\n",
       " Prediction(uid='A28LUOEY0ECT9G', iid='B0045DNX48', r_ui=5.0, est=4.261051651931131, details={'was_impossible': True, 'reason': 'User and/or item is unkown.'}),\n",
       " Prediction(uid='A9ELHLPXF7JKD', iid='B004YIZXEC', r_ui=5.0, est=4.387755102040816, details={'actual_k': 0, 'was_impossible': False}),\n",
       " Prediction(uid='A15U64VGUV6RBF', iid='B000GBO9IM', r_ui=5.0, est=4.853658536585366, details={'actual_k': 0, 'was_impossible': False}),\n",
       " Prediction(uid='A3VVMIMMTYQV5F', iid='B000H4CLXS', r_ui=4.0, est=4.166666666666667, details={'actual_k': 0, 'was_impossible': False}),\n",
       " Prediction(uid='AV9PIER7NE448', iid='B003XM73P2', r_ui=5.0, est=4.771428571428571, details={'actual_k': 0, 'was_impossible': False}),\n",
       " Prediction(uid='A3QJU4FEN8PQSZ', iid='B003FMVCRU', r_ui=5.0, est=2.7049012898676947, details={'actual_k': 2, 'was_impossible': False}),\n",
       " Prediction(uid='A2LB4FLRZG6CUV', iid='B0058M5R62', r_ui=3.0, est=4.261051651931131, details={'was_impossible': True, 'reason': 'User and/or item is unkown.'}),\n",
       " Prediction(uid='A5KMMY627T3W', iid='B00IYU7XTE', r_ui=5.0, est=2.0494535810672683, details={'actual_k': 2, 'was_impossible': False}),\n",
       " Prediction(uid='A3UKWQS8SRW6IO', iid='B002S53LJ2', r_ui=4.0, est=5, details={'actual_k': 1, 'was_impossible': False}),\n",
       " Prediction(uid='A781ITP3HE2N5', iid='B003UT2E8E', r_ui=5.0, est=4.511111111111111, details={'actual_k': 0, 'was_impossible': False}),\n",
       " Prediction(uid='A1PVJICI412IN4', iid='B00466X9SY', r_ui=5.0, est=3.826923076923077, details={'actual_k': 0, 'was_impossible': False}),\n",
       " Prediction(uid='A6VXZ1EEPRTLV', iid='B001TOD3KU', r_ui=4.0, est=4.261051651931131, details={'was_impossible': True, 'reason': 'User and/or item is unkown.'}),\n",
       " Prediction(uid='A2RW587355CMVA', iid='B0002K6Y9E', r_ui=5.0, est=4.261051651931131, details={'was_impossible': True, 'reason': 'User and/or item is unkown.'}),\n",
       " Prediction(uid='A3R4794K2RVU1S', iid='B0017Q4ZXO', r_ui=5.0, est=4.571428571428571, details={'actual_k': 0, 'was_impossible': False}),\n",
       " Prediction(uid='ALUNVOQRXOZIA', iid='B00007KDVJ', r_ui=5.0, est=3.392405063291139, details={'actual_k': 0, 'was_impossible': False}),\n",
       " Prediction(uid='ADLVFFE4VBT8', iid='B009X3UW2G', r_ui=5.0, est=4.270194986072424, details={'actual_k': 0, 'was_impossible': False}),\n",
       " Prediction(uid='A1BVE2ZIBKJ7YI', iid='B000YEMKGY', r_ui=4.0, est=3.357142857142857, details={'actual_k': 0, 'was_impossible': False}),\n",
       " ...]"
      ]
     },
     "execution_count": 53,
     "metadata": {
      "tags": []
     },
     "output_type": "execute_result"
    }
   ],
   "source": [
    "test_pred\n",
    "predictions = pd.DataFrame([[x.uid,x.iid,x.est] for x in test_pred])"
   ]
  },
  {
   "cell_type": "code",
   "execution_count": 55,
   "metadata": {
    "colab": {
     "base_uri": "https://localhost:8080/",
     "height": 204
    },
    "colab_type": "code",
    "executionInfo": {
     "elapsed": 89411,
     "status": "ok",
     "timestamp": 1556515607369,
     "user": {
      "displayName": "Karthik Palani",
      "photoUrl": "https://lh4.googleusercontent.com/-LkVQikQV3Oc/AAAAAAAAAAI/AAAAAAAAAD8/vEi_BDBdSd4/s64/photo.jpg",
      "userId": "02926145707929474060"
     },
     "user_tz": 240
    },
    "id": "UMLamkYZhtkK",
    "outputId": "270e2062-e982-428a-ec71-9558bfe6d924"
   },
   "outputs": [
    {
     "data": {
      "text/html": [
       "<div>\n",
       "<style scoped>\n",
       "    .dataframe tbody tr th:only-of-type {\n",
       "        vertical-align: middle;\n",
       "    }\n",
       "\n",
       "    .dataframe tbody tr th {\n",
       "        vertical-align: top;\n",
       "    }\n",
       "\n",
       "    .dataframe thead th {\n",
       "        text-align: right;\n",
       "    }\n",
       "</style>\n",
       "<table border=\"1\" class=\"dataframe\">\n",
       "  <thead>\n",
       "    <tr style=\"text-align: right;\">\n",
       "      <th></th>\n",
       "      <th>0</th>\n",
       "      <th>1</th>\n",
       "      <th>2</th>\n",
       "    </tr>\n",
       "  </thead>\n",
       "  <tbody>\n",
       "    <tr>\n",
       "      <th>0</th>\n",
       "      <td>A22CW0ZHY3NJH8</td>\n",
       "      <td>B005FDXZJU</td>\n",
       "      <td>4.720331</td>\n",
       "    </tr>\n",
       "    <tr>\n",
       "      <th>1</th>\n",
       "      <td>A7FDGFK0KN7QG</td>\n",
       "      <td>B005058B6A</td>\n",
       "      <td>4.666667</td>\n",
       "    </tr>\n",
       "    <tr>\n",
       "      <th>2</th>\n",
       "      <td>AMZCZBK1EF1PV</td>\n",
       "      <td>B002C73WR2</td>\n",
       "      <td>4.261052</td>\n",
       "    </tr>\n",
       "    <tr>\n",
       "      <th>3</th>\n",
       "      <td>A213J54E63SYOP</td>\n",
       "      <td>B007JPOX8O</td>\n",
       "      <td>3.838710</td>\n",
       "    </tr>\n",
       "    <tr>\n",
       "      <th>4</th>\n",
       "      <td>A1H7Y5XKPGT0OS</td>\n",
       "      <td>B005X64MN2</td>\n",
       "      <td>4.150000</td>\n",
       "    </tr>\n",
       "  </tbody>\n",
       "</table>\n",
       "</div>"
      ],
      "text/plain": [
       "                0           1         2\n",
       "0  A22CW0ZHY3NJH8  B005FDXZJU  4.720331\n",
       "1   A7FDGFK0KN7QG  B005058B6A  4.666667\n",
       "2   AMZCZBK1EF1PV  B002C73WR2  4.261052\n",
       "3  A213J54E63SYOP  B007JPOX8O  3.838710\n",
       "4  A1H7Y5XKPGT0OS  B005X64MN2  4.150000"
      ]
     },
     "execution_count": 55,
     "metadata": {
      "tags": []
     },
     "output_type": "execute_result"
    }
   ],
   "source": [
    "predictions.head()"
   ]
  },
  {
   "cell_type": "code",
   "execution_count": 59,
   "metadata": {
    "colab": {
     "base_uri": "https://localhost:8080/",
     "height": 51
    },
    "colab_type": "code",
    "executionInfo": {
     "elapsed": 89394,
     "status": "ok",
     "timestamp": 1556515607393,
     "user": {
      "displayName": "Karthik Palani",
      "photoUrl": "https://lh4.googleusercontent.com/-LkVQikQV3Oc/AAAAAAAAAAI/AAAAAAAAAD8/vEi_BDBdSd4/s64/photo.jpg",
      "userId": "02926145707929474060"
     },
     "user_tz": 240
    },
    "id": "4KZ0UoxPi10C",
    "outputId": "ef7acc74-6207-451b-f8ec-7b5d274f74a3"
   },
   "outputs": [
    {
     "data": {
      "text/plain": [
       "51102    A3IOQ7NVVLAUEE\n",
       "Name: user_id, dtype: object"
      ]
     },
     "execution_count": 59,
     "metadata": {
      "tags": []
     },
     "output_type": "execute_result"
    }
   ],
   "source": [
    "final_df.user_id.sample()"
   ]
  },
  {
   "cell_type": "markdown",
   "metadata": {
    "colab_type": "text",
    "id": "mlsZGOHZjVz1"
   },
   "source": [
    "Top 5 Recommendations for all users groups"
   ]
  },
  {
   "cell_type": "code",
   "execution_count": 62,
   "metadata": {
    "colab": {
     "base_uri": "https://localhost:8080/",
     "height": 1969
    },
    "colab_type": "code",
    "executionInfo": {
     "elapsed": 90098,
     "status": "ok",
     "timestamp": 1556515608222,
     "user": {
      "displayName": "Karthik Palani",
      "photoUrl": "https://lh4.googleusercontent.com/-LkVQikQV3Oc/AAAAAAAAAAI/AAAAAAAAAD8/vEi_BDBdSd4/s64/photo.jpg",
      "userId": "02926145707929474060"
     },
     "user_tz": 240
    },
    "id": "rXsE6XopiKGp",
    "outputId": "c507731d-e46b-40a4-971b-d3767fd03770"
   },
   "outputs": [
    {
     "data": {
      "text/html": [
       "<div>\n",
       "<style scoped>\n",
       "    .dataframe tbody tr th:only-of-type {\n",
       "        vertical-align: middle;\n",
       "    }\n",
       "\n",
       "    .dataframe tbody tr th {\n",
       "        vertical-align: top;\n",
       "    }\n",
       "\n",
       "    .dataframe thead th {\n",
       "        text-align: right;\n",
       "    }\n",
       "</style>\n",
       "<table border=\"1\" class=\"dataframe\">\n",
       "  <thead>\n",
       "    <tr style=\"text-align: right;\">\n",
       "      <th></th>\n",
       "      <th>user_id</th>\n",
       "      <th>product_id</th>\n",
       "      <th>est_rating</th>\n",
       "    </tr>\n",
       "  </thead>\n",
       "  <tbody>\n",
       "    <tr>\n",
       "      <th>0</th>\n",
       "      <td>AZOK5STV85FBJ</td>\n",
       "      <td>B006MPRFJQ</td>\n",
       "      <td>4.756757</td>\n",
       "    </tr>\n",
       "    <tr>\n",
       "      <th>1</th>\n",
       "      <td>AZOK5STV85FBJ</td>\n",
       "      <td>B000O5N5AI</td>\n",
       "      <td>4.756757</td>\n",
       "    </tr>\n",
       "    <tr>\n",
       "      <th>2</th>\n",
       "      <td>AZOK5STV85FBJ</td>\n",
       "      <td>B00003006E</td>\n",
       "      <td>4.756757</td>\n",
       "    </tr>\n",
       "    <tr>\n",
       "      <th>3</th>\n",
       "      <td>AZOK5STV85FBJ</td>\n",
       "      <td>B0088LXTTM</td>\n",
       "      <td>4.756757</td>\n",
       "    </tr>\n",
       "    <tr>\n",
       "      <th>4</th>\n",
       "      <td>AZOK5STV85FBJ</td>\n",
       "      <td>B00B25P27S</td>\n",
       "      <td>4.756757</td>\n",
       "    </tr>\n",
       "    <tr>\n",
       "      <th>5</th>\n",
       "      <td>AZNUHQSHZHSUE</td>\n",
       "      <td>B000N99BBC</td>\n",
       "      <td>4.500345</td>\n",
       "    </tr>\n",
       "    <tr>\n",
       "      <th>6</th>\n",
       "      <td>AZNUHQSHZHSUE</td>\n",
       "      <td>B000FJEYZI</td>\n",
       "      <td>4.261052</td>\n",
       "    </tr>\n",
       "    <tr>\n",
       "      <th>7</th>\n",
       "      <td>AZNUHQSHZHSUE</td>\n",
       "      <td>B000X27U44</td>\n",
       "      <td>4.261052</td>\n",
       "    </tr>\n",
       "    <tr>\n",
       "      <th>8</th>\n",
       "      <td>AZNUHQSHZHSUE</td>\n",
       "      <td>B009M3PP7O</td>\n",
       "      <td>4.261052</td>\n",
       "    </tr>\n",
       "    <tr>\n",
       "      <th>9</th>\n",
       "      <td>AZNUHQSHZHSUE</td>\n",
       "      <td>B0032HI3HU</td>\n",
       "      <td>4.261052</td>\n",
       "    </tr>\n",
       "    <tr>\n",
       "      <th>10</th>\n",
       "      <td>AZMY6E8B52L2T</td>\n",
       "      <td>B0032OX1N4</td>\n",
       "      <td>5.000000</td>\n",
       "    </tr>\n",
       "    <tr>\n",
       "      <th>11</th>\n",
       "      <td>AZMY6E8B52L2T</td>\n",
       "      <td>B002J46IYW</td>\n",
       "      <td>5.000000</td>\n",
       "    </tr>\n",
       "    <tr>\n",
       "      <th>12</th>\n",
       "      <td>AZMY6E8B52L2T</td>\n",
       "      <td>B00CBD2X5E</td>\n",
       "      <td>5.000000</td>\n",
       "    </tr>\n",
       "    <tr>\n",
       "      <th>13</th>\n",
       "      <td>AZMY6E8B52L2T</td>\n",
       "      <td>B001TH7GUK</td>\n",
       "      <td>5.000000</td>\n",
       "    </tr>\n",
       "    <tr>\n",
       "      <th>14</th>\n",
       "      <td>AZMY6E8B52L2T</td>\n",
       "      <td>B00E3FHXYO</td>\n",
       "      <td>4.777645</td>\n",
       "    </tr>\n",
       "    <tr>\n",
       "      <th>15</th>\n",
       "      <td>AZCE11PSTCH1L</td>\n",
       "      <td>B00003CWDH</td>\n",
       "      <td>4.511628</td>\n",
       "    </tr>\n",
       "    <tr>\n",
       "      <th>16</th>\n",
       "      <td>AZCE11PSTCH1L</td>\n",
       "      <td>B006EWUO22</td>\n",
       "      <td>4.511628</td>\n",
       "    </tr>\n",
       "    <tr>\n",
       "      <th>17</th>\n",
       "      <td>AZCE11PSTCH1L</td>\n",
       "      <td>B001KN8V2U</td>\n",
       "      <td>4.511628</td>\n",
       "    </tr>\n",
       "    <tr>\n",
       "      <th>18</th>\n",
       "      <td>AZCE11PSTCH1L</td>\n",
       "      <td>B000BQ7GW8</td>\n",
       "      <td>4.511628</td>\n",
       "    </tr>\n",
       "    <tr>\n",
       "      <th>19</th>\n",
       "      <td>AZCE11PSTCH1L</td>\n",
       "      <td>B0040JHMIU</td>\n",
       "      <td>4.511628</td>\n",
       "    </tr>\n",
       "    <tr>\n",
       "      <th>20</th>\n",
       "      <td>AZBXKUH4AIW3X</td>\n",
       "      <td>B002HK867A</td>\n",
       "      <td>4.261052</td>\n",
       "    </tr>\n",
       "    <tr>\n",
       "      <th>21</th>\n",
       "      <td>AZBXKUH4AIW3X</td>\n",
       "      <td>B000CP1552</td>\n",
       "      <td>4.261052</td>\n",
       "    </tr>\n",
       "    <tr>\n",
       "      <th>22</th>\n",
       "      <td>AZBXKUH4AIW3X</td>\n",
       "      <td>B00008OTE1</td>\n",
       "      <td>4.261052</td>\n",
       "    </tr>\n",
       "    <tr>\n",
       "      <th>23</th>\n",
       "      <td>AZBXKUH4AIW3X</td>\n",
       "      <td>B0000932A9</td>\n",
       "      <td>4.261052</td>\n",
       "    </tr>\n",
       "    <tr>\n",
       "      <th>24</th>\n",
       "      <td>AZBXKUH4AIW3X</td>\n",
       "      <td>B001LNJDQM</td>\n",
       "      <td>4.261052</td>\n",
       "    </tr>\n",
       "    <tr>\n",
       "      <th>25</th>\n",
       "      <td>AZAC8O310IK4E</td>\n",
       "      <td>B00CGWNK2U</td>\n",
       "      <td>5.000000</td>\n",
       "    </tr>\n",
       "    <tr>\n",
       "      <th>26</th>\n",
       "      <td>AZAC8O310IK4E</td>\n",
       "      <td>B0016BFZBQ</td>\n",
       "      <td>5.000000</td>\n",
       "    </tr>\n",
       "    <tr>\n",
       "      <th>27</th>\n",
       "      <td>AZAC8O310IK4E</td>\n",
       "      <td>B003ZSHNGS</td>\n",
       "      <td>5.000000</td>\n",
       "    </tr>\n",
       "    <tr>\n",
       "      <th>28</th>\n",
       "      <td>AZAC8O310IK4E</td>\n",
       "      <td>B002MRRU6G</td>\n",
       "      <td>4.977428</td>\n",
       "    </tr>\n",
       "    <tr>\n",
       "      <th>29</th>\n",
       "      <td>AZAC8O310IK4E</td>\n",
       "      <td>B00426C57O</td>\n",
       "      <td>4.776844</td>\n",
       "    </tr>\n",
       "    <tr>\n",
       "      <th>...</th>\n",
       "      <td>...</td>\n",
       "      <td>...</td>\n",
       "      <td>...</td>\n",
       "    </tr>\n",
       "    <tr>\n",
       "      <th>7670</th>\n",
       "      <td>A10H24TDLK2VDP</td>\n",
       "      <td>B00EOE4G4E</td>\n",
       "      <td>4.985387</td>\n",
       "    </tr>\n",
       "    <tr>\n",
       "      <th>7671</th>\n",
       "      <td>A10H24TDLK2VDP</td>\n",
       "      <td>B00JC5Y6YA</td>\n",
       "      <td>4.454545</td>\n",
       "    </tr>\n",
       "    <tr>\n",
       "      <th>7672</th>\n",
       "      <td>A10H24TDLK2VDP</td>\n",
       "      <td>B00DQEB1V4</td>\n",
       "      <td>4.454545</td>\n",
       "    </tr>\n",
       "    <tr>\n",
       "      <th>7673</th>\n",
       "      <td>A10H24TDLK2VDP</td>\n",
       "      <td>B005SXT6TA</td>\n",
       "      <td>4.454545</td>\n",
       "    </tr>\n",
       "    <tr>\n",
       "      <th>7674</th>\n",
       "      <td>A10H24TDLK2VDP</td>\n",
       "      <td>B0074BW614</td>\n",
       "      <td>4.454545</td>\n",
       "    </tr>\n",
       "    <tr>\n",
       "      <th>7675</th>\n",
       "      <td>A10AFVU66A79Y1</td>\n",
       "      <td>B009NHWVIA</td>\n",
       "      <td>4.953411</td>\n",
       "    </tr>\n",
       "    <tr>\n",
       "      <th>7676</th>\n",
       "      <td>A10AFVU66A79Y1</td>\n",
       "      <td>B00INNP5VU</td>\n",
       "      <td>4.795022</td>\n",
       "    </tr>\n",
       "    <tr>\n",
       "      <th>7677</th>\n",
       "      <td>A10AFVU66A79Y1</td>\n",
       "      <td>B007B64ND6</td>\n",
       "      <td>4.687666</td>\n",
       "    </tr>\n",
       "    <tr>\n",
       "      <th>7678</th>\n",
       "      <td>A10AFVU66A79Y1</td>\n",
       "      <td>B00CT0BWHE</td>\n",
       "      <td>4.261052</td>\n",
       "    </tr>\n",
       "    <tr>\n",
       "      <th>7679</th>\n",
       "      <td>A10AFVU66A79Y1</td>\n",
       "      <td>B004AS3ZQO</td>\n",
       "      <td>4.261052</td>\n",
       "    </tr>\n",
       "    <tr>\n",
       "      <th>7680</th>\n",
       "      <td>A105TOJ6LTVMBG</td>\n",
       "      <td>B004FV67XY</td>\n",
       "      <td>4.261052</td>\n",
       "    </tr>\n",
       "    <tr>\n",
       "      <th>7681</th>\n",
       "      <td>A105TOJ6LTVMBG</td>\n",
       "      <td>B000TXK9KE</td>\n",
       "      <td>4.261052</td>\n",
       "    </tr>\n",
       "    <tr>\n",
       "      <th>7682</th>\n",
       "      <td>A105TOJ6LTVMBG</td>\n",
       "      <td>B000I4RFO2</td>\n",
       "      <td>4.261052</td>\n",
       "    </tr>\n",
       "    <tr>\n",
       "      <th>7683</th>\n",
       "      <td>A105TOJ6LTVMBG</td>\n",
       "      <td>B003MG9DR0</td>\n",
       "      <td>4.261052</td>\n",
       "    </tr>\n",
       "    <tr>\n",
       "      <th>7684</th>\n",
       "      <td>A105TOJ6LTVMBG</td>\n",
       "      <td>B008UW35MA</td>\n",
       "      <td>4.261052</td>\n",
       "    </tr>\n",
       "    <tr>\n",
       "      <th>7685</th>\n",
       "      <td>A105S56ODHGJEK</td>\n",
       "      <td>B002MCZJ78</td>\n",
       "      <td>4.583410</td>\n",
       "    </tr>\n",
       "    <tr>\n",
       "      <th>7686</th>\n",
       "      <td>A105S56ODHGJEK</td>\n",
       "      <td>B00HQ883T4</td>\n",
       "      <td>4.490675</td>\n",
       "    </tr>\n",
       "    <tr>\n",
       "      <th>7687</th>\n",
       "      <td>A105S56ODHGJEK</td>\n",
       "      <td>B00IVFDZBC</td>\n",
       "      <td>4.483800</td>\n",
       "    </tr>\n",
       "    <tr>\n",
       "      <th>7688</th>\n",
       "      <td>A105S56ODHGJEK</td>\n",
       "      <td>B004R9OVEG</td>\n",
       "      <td>4.261052</td>\n",
       "    </tr>\n",
       "    <tr>\n",
       "      <th>7689</th>\n",
       "      <td>A105S56ODHGJEK</td>\n",
       "      <td>B00829TIA4</td>\n",
       "      <td>4.258564</td>\n",
       "    </tr>\n",
       "    <tr>\n",
       "      <th>7690</th>\n",
       "      <td>A100WO06OQR8BQ</td>\n",
       "      <td>B002VFWY9M</td>\n",
       "      <td>4.823125</td>\n",
       "    </tr>\n",
       "    <tr>\n",
       "      <th>7691</th>\n",
       "      <td>A100WO06OQR8BQ</td>\n",
       "      <td>B004CLYE8C</td>\n",
       "      <td>4.812174</td>\n",
       "    </tr>\n",
       "    <tr>\n",
       "      <th>7692</th>\n",
       "      <td>A100WO06OQR8BQ</td>\n",
       "      <td>B000HPV3RW</td>\n",
       "      <td>4.588505</td>\n",
       "    </tr>\n",
       "    <tr>\n",
       "      <th>7693</th>\n",
       "      <td>A100WO06OQR8BQ</td>\n",
       "      <td>B002IC0YLS</td>\n",
       "      <td>4.355714</td>\n",
       "    </tr>\n",
       "    <tr>\n",
       "      <th>7694</th>\n",
       "      <td>A100WO06OQR8BQ</td>\n",
       "      <td>B008ABO6EM</td>\n",
       "      <td>4.261052</td>\n",
       "    </tr>\n",
       "    <tr>\n",
       "      <th>7695</th>\n",
       "      <td>A100UD67AHFODS</td>\n",
       "      <td>B00BUACE8K</td>\n",
       "      <td>5.000000</td>\n",
       "    </tr>\n",
       "    <tr>\n",
       "      <th>7696</th>\n",
       "      <td>A100UD67AHFODS</td>\n",
       "      <td>B00HHRP11C</td>\n",
       "      <td>5.000000</td>\n",
       "    </tr>\n",
       "    <tr>\n",
       "      <th>7697</th>\n",
       "      <td>A100UD67AHFODS</td>\n",
       "      <td>B0054JJ0QW</td>\n",
       "      <td>5.000000</td>\n",
       "    </tr>\n",
       "    <tr>\n",
       "      <th>7698</th>\n",
       "      <td>A100UD67AHFODS</td>\n",
       "      <td>B00FISD9DO</td>\n",
       "      <td>4.662338</td>\n",
       "    </tr>\n",
       "    <tr>\n",
       "      <th>7699</th>\n",
       "      <td>A100UD67AHFODS</td>\n",
       "      <td>B000H0K8VY</td>\n",
       "      <td>4.662338</td>\n",
       "    </tr>\n",
       "  </tbody>\n",
       "</table>\n",
       "<p>7700 rows × 3 columns</p>\n",
       "</div>"
      ],
      "text/plain": [
       "             user_id  product_id  est_rating\n",
       "0      AZOK5STV85FBJ  B006MPRFJQ    4.756757\n",
       "1      AZOK5STV85FBJ  B000O5N5AI    4.756757\n",
       "2      AZOK5STV85FBJ  B00003006E    4.756757\n",
       "3      AZOK5STV85FBJ  B0088LXTTM    4.756757\n",
       "4      AZOK5STV85FBJ  B00B25P27S    4.756757\n",
       "5      AZNUHQSHZHSUE  B000N99BBC    4.500345\n",
       "6      AZNUHQSHZHSUE  B000FJEYZI    4.261052\n",
       "7      AZNUHQSHZHSUE  B000X27U44    4.261052\n",
       "8      AZNUHQSHZHSUE  B009M3PP7O    4.261052\n",
       "9      AZNUHQSHZHSUE  B0032HI3HU    4.261052\n",
       "10     AZMY6E8B52L2T  B0032OX1N4    5.000000\n",
       "11     AZMY6E8B52L2T  B002J46IYW    5.000000\n",
       "12     AZMY6E8B52L2T  B00CBD2X5E    5.000000\n",
       "13     AZMY6E8B52L2T  B001TH7GUK    5.000000\n",
       "14     AZMY6E8B52L2T  B00E3FHXYO    4.777645\n",
       "15     AZCE11PSTCH1L  B00003CWDH    4.511628\n",
       "16     AZCE11PSTCH1L  B006EWUO22    4.511628\n",
       "17     AZCE11PSTCH1L  B001KN8V2U    4.511628\n",
       "18     AZCE11PSTCH1L  B000BQ7GW8    4.511628\n",
       "19     AZCE11PSTCH1L  B0040JHMIU    4.511628\n",
       "20     AZBXKUH4AIW3X  B002HK867A    4.261052\n",
       "21     AZBXKUH4AIW3X  B000CP1552    4.261052\n",
       "22     AZBXKUH4AIW3X  B00008OTE1    4.261052\n",
       "23     AZBXKUH4AIW3X  B0000932A9    4.261052\n",
       "24     AZBXKUH4AIW3X  B001LNJDQM    4.261052\n",
       "25     AZAC8O310IK4E  B00CGWNK2U    5.000000\n",
       "26     AZAC8O310IK4E  B0016BFZBQ    5.000000\n",
       "27     AZAC8O310IK4E  B003ZSHNGS    5.000000\n",
       "28     AZAC8O310IK4E  B002MRRU6G    4.977428\n",
       "29     AZAC8O310IK4E  B00426C57O    4.776844\n",
       "...              ...         ...         ...\n",
       "7670  A10H24TDLK2VDP  B00EOE4G4E    4.985387\n",
       "7671  A10H24TDLK2VDP  B00JC5Y6YA    4.454545\n",
       "7672  A10H24TDLK2VDP  B00DQEB1V4    4.454545\n",
       "7673  A10H24TDLK2VDP  B005SXT6TA    4.454545\n",
       "7674  A10H24TDLK2VDP  B0074BW614    4.454545\n",
       "7675  A10AFVU66A79Y1  B009NHWVIA    4.953411\n",
       "7676  A10AFVU66A79Y1  B00INNP5VU    4.795022\n",
       "7677  A10AFVU66A79Y1  B007B64ND6    4.687666\n",
       "7678  A10AFVU66A79Y1  B00CT0BWHE    4.261052\n",
       "7679  A10AFVU66A79Y1  B004AS3ZQO    4.261052\n",
       "7680  A105TOJ6LTVMBG  B004FV67XY    4.261052\n",
       "7681  A105TOJ6LTVMBG  B000TXK9KE    4.261052\n",
       "7682  A105TOJ6LTVMBG  B000I4RFO2    4.261052\n",
       "7683  A105TOJ6LTVMBG  B003MG9DR0    4.261052\n",
       "7684  A105TOJ6LTVMBG  B008UW35MA    4.261052\n",
       "7685  A105S56ODHGJEK  B002MCZJ78    4.583410\n",
       "7686  A105S56ODHGJEK  B00HQ883T4    4.490675\n",
       "7687  A105S56ODHGJEK  B00IVFDZBC    4.483800\n",
       "7688  A105S56ODHGJEK  B004R9OVEG    4.261052\n",
       "7689  A105S56ODHGJEK  B00829TIA4    4.258564\n",
       "7690  A100WO06OQR8BQ  B002VFWY9M    4.823125\n",
       "7691  A100WO06OQR8BQ  B004CLYE8C    4.812174\n",
       "7692  A100WO06OQR8BQ  B000HPV3RW    4.588505\n",
       "7693  A100WO06OQR8BQ  B002IC0YLS    4.355714\n",
       "7694  A100WO06OQR8BQ  B008ABO6EM    4.261052\n",
       "7695  A100UD67AHFODS  B00BUACE8K    5.000000\n",
       "7696  A100UD67AHFODS  B00HHRP11C    5.000000\n",
       "7697  A100UD67AHFODS  B0054JJ0QW    5.000000\n",
       "7698  A100UD67AHFODS  B00FISD9DO    4.662338\n",
       "7699  A100UD67AHFODS  B000H0K8VY    4.662338\n",
       "\n",
       "[7700 rows x 3 columns]"
      ]
     },
     "execution_count": 62,
     "metadata": {
      "tags": []
     },
     "output_type": "execute_result"
    }
   ],
   "source": [
    "top_5_recos = predictions.groupby(\"user_id\").head(5).reset_index(drop=True)\n",
    "top_5_recos"
   ]
  },
  {
   "cell_type": "code",
   "execution_count": 68,
   "metadata": {
    "colab": {
     "base_uri": "https://localhost:8080/",
     "height": 204
    },
    "colab_type": "code",
    "executionInfo": {
     "elapsed": 984,
     "status": "ok",
     "timestamp": 1556515736718,
     "user": {
      "displayName": "Karthik Palani",
      "photoUrl": "https://lh4.googleusercontent.com/-LkVQikQV3Oc/AAAAAAAAAAI/AAAAAAAAAD8/vEi_BDBdSd4/s64/photo.jpg",
      "userId": "02926145707929474060"
     },
     "user_tz": 240
    },
    "id": "GCD9TR0JiC8j",
    "outputId": "a74b3ca6-d990-4837-8e28-c2db0621c2c1",
    "scrolled": true
   },
   "outputs": [
    {
     "data": {
      "text/html": [
       "<div>\n",
       "<style scoped>\n",
       "    .dataframe tbody tr th:only-of-type {\n",
       "        vertical-align: middle;\n",
       "    }\n",
       "\n",
       "    .dataframe tbody tr th {\n",
       "        vertical-align: top;\n",
       "    }\n",
       "\n",
       "    .dataframe thead th {\n",
       "        text-align: right;\n",
       "    }\n",
       "</style>\n",
       "<table border=\"1\" class=\"dataframe\">\n",
       "  <thead>\n",
       "    <tr style=\"text-align: right;\">\n",
       "      <th></th>\n",
       "      <th>user_id</th>\n",
       "      <th>product_id</th>\n",
       "      <th>est_rating</th>\n",
       "    </tr>\n",
       "  </thead>\n",
       "  <tbody>\n",
       "    <tr>\n",
       "      <th>4374</th>\n",
       "      <td>A3IOQ7NVVLAUEE</td>\n",
       "      <td>B004577K7U</td>\n",
       "      <td>4.261052</td>\n",
       "    </tr>\n",
       "    <tr>\n",
       "      <th>4616</th>\n",
       "      <td>A3IOQ7NVVLAUEE</td>\n",
       "      <td>B0051SVVX6</td>\n",
       "      <td>4.261052</td>\n",
       "    </tr>\n",
       "    <tr>\n",
       "      <th>5490</th>\n",
       "      <td>A3IOQ7NVVLAUEE</td>\n",
       "      <td>B003RAMKNU</td>\n",
       "      <td>4.261052</td>\n",
       "    </tr>\n",
       "    <tr>\n",
       "      <th>6322</th>\n",
       "      <td>A3IOQ7NVVLAUEE</td>\n",
       "      <td>B00C99MUHQ</td>\n",
       "      <td>4.261052</td>\n",
       "    </tr>\n",
       "    <tr>\n",
       "      <th>6989</th>\n",
       "      <td>A3IOQ7NVVLAUEE</td>\n",
       "      <td>B00AK5YJFC</td>\n",
       "      <td>4.261052</td>\n",
       "    </tr>\n",
       "  </tbody>\n",
       "</table>\n",
       "</div>"
      ],
      "text/plain": [
       "             user_id  product_id  est_rating\n",
       "4374  A3IOQ7NVVLAUEE  B004577K7U    4.261052\n",
       "4616  A3IOQ7NVVLAUEE  B0051SVVX6    4.261052\n",
       "5490  A3IOQ7NVVLAUEE  B003RAMKNU    4.261052\n",
       "6322  A3IOQ7NVVLAUEE  B00C99MUHQ    4.261052\n",
       "6989  A3IOQ7NVVLAUEE  B00AK5YJFC    4.261052"
      ]
     },
     "execution_count": 68,
     "metadata": {
      "tags": []
     },
     "output_type": "execute_result"
    }
   ],
   "source": [
    "top_five('A3IOQ7NVVLAUEE')"
   ]
  },
  {
   "cell_type": "markdown",
   "metadata": {},
   "source": [
    "The user AZOK5STV85FBJ average rating is the highest among all"
   ]
  }
 ],
 "metadata": {
  "colab": {
   "collapsed_sections": [],
   "name": "Recommendation Systems_R5_Project_Amazon Electronics Recommendations.ipynb",
   "provenance": [],
   "version": "0.3.2"
  },
  "kernelspec": {
   "display_name": "Python 3",
   "language": "python",
   "name": "python3"
  },
  "language_info": {
   "codemirror_mode": {
    "name": "ipython",
    "version": 3
   },
   "file_extension": ".py",
   "mimetype": "text/x-python",
   "name": "python",
   "nbconvert_exporter": "python",
   "pygments_lexer": "ipython3",
   "version": "3.7.1"
  }
 },
 "nbformat": 4,
 "nbformat_minor": 1
}
