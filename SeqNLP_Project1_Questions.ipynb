{
 "cells": [
  {
   "cell_type": "markdown",
   "metadata": {
    "colab_type": "text",
    "id": "xT7MKZuMRaCg"
   },
   "source": [
    "# Sentiment Classification\n",
    "\n",
    "\n",
    "### Generate Word Embeddings and retrieve outputs of each layer with Keras based on Classification task\n",
    "\n",
    "Word embeddings are a type of word representation that allows words with similar meaning to have a similar representation.\n",
    "\n",
    "It is a distributed representation for text that is perhaps one of the key breakthroughs for the impressive performance of deep learning methods on challenging natural language processing problems.\n",
    "\n",
    "We willl use the imdb dataset to learn word embeddings as we train our dataset. This dataset contains 25,000 movie reviews from IMDB, labeled with sentiment (positive or negative). \n",
    "\n",
    "\n",
    "\n",
    "### Dataset\n",
    "\n",
    "`from keras.datasets import imdb`\n",
    "\n",
    "Dataset of 25,000 movies reviews from IMDB, labeled by sentiment (positive/negative). Reviews have been preprocessed, and each review is encoded as a sequence of word indexes (integers). For convenience, the words are indexed by their frequency in the dataset, meaning the for that has index 1 is the most frequent word. Use the first 20 words from each review to speed up training, using a max vocab size of 10,000.\n",
    "\n",
    "As a convention, \"0\" does not stand for a specific word, but instead is used to encode any unknown word.\n",
    "\n",
    "\n",
    "### Aim\n",
    "\n",
    "1. Import test and train data  \n",
    "2. Import the labels ( train and test) \n",
    "3. Get the word index and then Create key value pair for word and word_id. (12.5 points)\n",
    "4. Build a Sequential Model using Keras for Sentiment Classification task. (10 points)\n",
    "5. Report the Accuracy of the model. (5 points)  \n",
    "6. Retrive the output of each layer in keras for a given single test sample from the trained model you built. (2.5 points)\n"
   ]
  },
  {
   "cell_type": "code",
   "execution_count": 1,
   "metadata": {
    "colab": {
     "base_uri": "https://localhost:8080/",
     "height": 122
    },
    "colab_type": "code",
    "executionInfo": {
     "elapsed": 33010,
     "status": "ok",
     "timestamp": 1564798163935,
     "user": {
      "displayName": "Varun Kumar",
      "photoUrl": "https://lh5.googleusercontent.com/-As6EZR6cOmk/AAAAAAAAAAI/AAAAAAAAOJo/kXr3GcbCoIo/s64/photo.jpg",
      "userId": "03638116457212786665"
     },
     "user_tz": -330
    },
    "id": "WXT2ifafPVks",
    "outputId": "aeba394f-4818-4d2b-848e-ffb5f3500177"
   },
   "outputs": [
    {
     "name": "stdout",
     "output_type": "stream",
     "text": [
      "Go to this URL in a browser: https://accounts.google.com/o/oauth2/auth?client_id=947318989803-6bn6qk8qdgf4n4g3pfee6491hc0brc4i.apps.googleusercontent.com&redirect_uri=urn%3Aietf%3Awg%3Aoauth%3A2.0%3Aoob&scope=email%20https%3A%2F%2Fwww.googleapis.com%2Fauth%2Fdocs.test%20https%3A%2F%2Fwww.googleapis.com%2Fauth%2Fdrive%20https%3A%2F%2Fwww.googleapis.com%2Fauth%2Fdrive.photos.readonly%20https%3A%2F%2Fwww.googleapis.com%2Fauth%2Fpeopleapi.readonly&response_type=code\n",
      "\n",
      "Enter your authorization code:\n",
      "··········\n",
      "Mounted at /content/drive/\n"
     ]
    }
   ],
   "source": [
    "from google.colab import drive\n",
    "drive.mount('/content/drive/')"
   ]
  },
  {
   "cell_type": "code",
   "execution_count": 0,
   "metadata": {
    "colab": {},
    "colab_type": "code",
    "id": "Gkng1B5Hpq2H"
   },
   "outputs": [],
   "source": [
    "import os\n",
    "os.chdir('/content/drive/My Drive/Colab Notebooks/LabExternal9')"
   ]
  },
  {
   "cell_type": "code",
   "execution_count": 3,
   "metadata": {
    "colab": {
     "base_uri": "https://localhost:8080/",
     "height": 34
    },
    "colab_type": "code",
    "executionInfo": {
     "elapsed": 2717,
     "status": "ok",
     "timestamp": 1564798170578,
     "user": {
      "displayName": "Varun Kumar",
      "photoUrl": "https://lh5.googleusercontent.com/-As6EZR6cOmk/AAAAAAAAAAI/AAAAAAAAOJo/kXr3GcbCoIo/s64/photo.jpg",
      "userId": "03638116457212786665"
     },
     "user_tz": -330
    },
    "id": "zSAZ8snPPOHw",
    "outputId": "5b98f082-f9fc-4342-ee30-16a4ab8444e4"
   },
   "outputs": [
    {
     "name": "stderr",
     "output_type": "stream",
     "text": [
      "Using TensorFlow backend.\n"
     ]
    }
   ],
   "source": [
    "#from sklearn.utils import shuffle\n",
    "import numpy as np\n",
    "\n",
    "from keras.preprocessing import sequence\n",
    "from keras.models import Sequential, load_model\n",
    "from keras.layers import Dense, Embedding\n",
    "from keras.layers import LSTM"
   ]
  },
  {
   "cell_type": "markdown",
   "metadata": {
    "colab_type": "text",
    "id": "Wq4RCyyPSYRp"
   },
   "source": [
    "#### Usage:"
   ]
  },
  {
   "cell_type": "code",
   "execution_count": 4,
   "metadata": {
    "colab": {
     "base_uri": "https://localhost:8080/",
     "height": 51
    },
    "colab_type": "code",
    "executionInfo": {
     "elapsed": 7757,
     "status": "ok",
     "timestamp": 1564798180044,
     "user": {
      "displayName": "Varun Kumar",
      "photoUrl": "https://lh5.googleusercontent.com/-As6EZR6cOmk/AAAAAAAAAAI/AAAAAAAAOJo/kXr3GcbCoIo/s64/photo.jpg",
      "userId": "03638116457212786665"
     },
     "user_tz": -330
    },
    "id": "NGCtiXUhSWss",
    "outputId": "ac157e4b-cf90-4446-c567-b72324a2256e"
   },
   "outputs": [
    {
     "name": "stdout",
     "output_type": "stream",
     "text": [
      "Downloading data from https://s3.amazonaws.com/text-datasets/imdb.npz\n",
      "17465344/17464789 [==============================] - 1s 0us/step\n"
     ]
    }
   ],
   "source": [
    "from keras.datasets import imdb\n",
    "\n",
    "vocab_size = 10000 #vocab size\n",
    "\n",
    "# save np.load\n",
    "np_load_old = np.load\n",
    "\n",
    "# modify the default parameters of np.load\n",
    "np.load = lambda *a,**k: np_load_old(*a, allow_pickle=True, **k)\n",
    "\n",
    "# call load_data with allow_pickle implicitly set to true\n",
    "#(train_data, train_labels), (test_data, test_labels) = imdb.load_data(num_words=10000)\n",
    "(x_train, y_train), (x_test, y_test) = imdb.load_data(num_words=vocab_size) # vocab_size is no.of words to consider from the dataset, ordering based on frequency.\n",
    "\n",
    "# restore np.load for future normal usage\n",
    "np.load = np_load_old"
   ]
  },
  {
   "cell_type": "code",
   "execution_count": 5,
   "metadata": {
    "colab": {
     "base_uri": "https://localhost:8080/",
     "height": 187
    },
    "colab_type": "code",
    "executionInfo": {
     "elapsed": 1248,
     "status": "ok",
     "timestamp": 1564798182537,
     "user": {
      "displayName": "Varun Kumar",
      "photoUrl": "https://lh5.googleusercontent.com/-As6EZR6cOmk/AAAAAAAAAAI/AAAAAAAAOJo/kXr3GcbCoIo/s64/photo.jpg",
      "userId": "03638116457212786665"
     },
     "user_tz": -330
    },
    "id": "lE_OJs-_Pq5M",
    "outputId": "7118e275-3e56-4481-eca3-811987a65ae8"
   },
   "outputs": [
    {
     "name": "stdout",
     "output_type": "stream",
     "text": [
      "x_train  (25000,)\n",
      "y_train  (25000,)\n",
      "____________________________________________________________________________________________________\n",
      "x_test  (25000,)\n",
      "y_test  (25000,)\n",
      "____________________________________________________________________________________________________\n",
      "Maximum value of a word index \n",
      "9999\n",
      "Maximum length num words of review in train \n",
      "2494\n"
     ]
    }
   ],
   "source": [
    "print(\"x_train \", x_train.shape)\n",
    "print(\"y_train \", y_train.shape)\n",
    "print(\"_\"*100)\n",
    "print(\"x_test \", x_test.shape)\n",
    "print(\"y_test \", y_test.shape)\n",
    "print(\"_\"*100)\n",
    "print(\"Maximum value of a word index \")\n",
    "print(max([max(sequence) for sequence in x_train]))\n",
    "print(\"Maximum length num words of review in train \")\n",
    "print(max([len(sequence) for sequence in x_train]))"
   ]
  },
  {
   "cell_type": "code",
   "execution_count": 6,
   "metadata": {
    "colab": {
     "base_uri": "https://localhost:8080/",
     "height": 54
    },
    "colab_type": "code",
    "executionInfo": {
     "elapsed": 966,
     "status": "ok",
     "timestamp": 1564798184254,
     "user": {
      "displayName": "Varun Kumar",
      "photoUrl": "https://lh5.googleusercontent.com/-As6EZR6cOmk/AAAAAAAAAAI/AAAAAAAAOJo/kXr3GcbCoIo/s64/photo.jpg",
      "userId": "03638116457212786665"
     },
     "user_tz": -330
    },
    "id": "suuNlJA4Py_5",
    "outputId": "2cd3d4d7-af36-4827-d526-379e64d28a74"
   },
   "outputs": [
    {
     "name": "stdout",
     "output_type": "stream",
     "text": [
      "[1, 14, 22, 16, 43, 530, 973, 1622, 1385, 65, 458, 4468, 66, 3941, 4, 173, 36, 256, 5, 25, 100, 43, 838, 112, 50, 670, 2, 9, 35, 480, 284, 5, 150, 4, 172, 112, 167, 2, 336, 385, 39, 4, 172, 4536, 1111, 17, 546, 38, 13, 447, 4, 192, 50, 16, 6, 147, 2025, 19, 14, 22, 4, 1920, 4613, 469, 4, 22, 71, 87, 12, 16, 43, 530, 38, 76, 15, 13, 1247, 4, 22, 17, 515, 17, 12, 16, 626, 18, 2, 5, 62, 386, 12, 8, 316, 8, 106, 5, 4, 2223, 5244, 16, 480, 66, 3785, 33, 4, 130, 12, 16, 38, 619, 5, 25, 124, 51, 36, 135, 48, 25, 1415, 33, 6, 22, 12, 215, 28, 77, 52, 5, 14, 407, 16, 82, 2, 8, 4, 107, 117, 5952, 15, 256, 4, 2, 7, 3766, 5, 723, 36, 71, 43, 530, 476, 26, 400, 317, 46, 7, 4, 2, 1029, 13, 104, 88, 4, 381, 15, 297, 98, 32, 2071, 56, 26, 141, 6, 194, 7486, 18, 4, 226, 22, 21, 134, 476, 26, 480, 5, 144, 30, 5535, 18, 51, 36, 28, 224, 92, 25, 104, 4, 226, 65, 16, 38, 1334, 88, 12, 16, 283, 5, 16, 4472, 113, 103, 32, 15, 16, 5345, 19, 178, 32]\n"
     ]
    }
   ],
   "source": [
    "print(x_train[0])"
   ]
  },
  {
   "cell_type": "code",
   "execution_count": 7,
   "metadata": {
    "colab": {
     "base_uri": "https://localhost:8080/",
     "height": 34
    },
    "colab_type": "code",
    "executionInfo": {
     "elapsed": 666,
     "status": "ok",
     "timestamp": 1564798184810,
     "user": {
      "displayName": "Varun Kumar",
      "photoUrl": "https://lh5.googleusercontent.com/-As6EZR6cOmk/AAAAAAAAAAI/AAAAAAAAOJo/kXr3GcbCoIo/s64/photo.jpg",
      "userId": "03638116457212786665"
     },
     "user_tz": -330
    },
    "id": "RGLNzxehPOH7",
    "outputId": "28b93a0f-7cf8-4c3f-f1b2-dd351faee813"
   },
   "outputs": [
    {
     "data": {
      "text/plain": [
       "(25000,)"
      ]
     },
     "execution_count": 7,
     "metadata": {
      "tags": []
     },
     "output_type": "execute_result"
    }
   ],
   "source": [
    "x_train.shape"
   ]
  },
  {
   "cell_type": "code",
   "execution_count": 8,
   "metadata": {
    "colab": {
     "base_uri": "https://localhost:8080/",
     "height": 34
    },
    "colab_type": "code",
    "executionInfo": {
     "elapsed": 1041,
     "status": "ok",
     "timestamp": 1564798185542,
     "user": {
      "displayName": "Varun Kumar",
      "photoUrl": "https://lh5.googleusercontent.com/-As6EZR6cOmk/AAAAAAAAAAI/AAAAAAAAOJo/kXr3GcbCoIo/s64/photo.jpg",
      "userId": "03638116457212786665"
     },
     "user_tz": -330
    },
    "id": "OKbcPK82POH_",
    "outputId": "71b05ce0-ce02-471a-d133-b47a77855d05"
   },
   "outputs": [
    {
     "data": {
      "text/plain": [
       "(25000,)"
      ]
     },
     "execution_count": 8,
     "metadata": {
      "tags": []
     },
     "output_type": "execute_result"
    }
   ],
   "source": [
    "y_train.shape"
   ]
  },
  {
   "cell_type": "code",
   "execution_count": 9,
   "metadata": {
    "colab": {
     "base_uri": "https://localhost:8080/",
     "height": 34
    },
    "colab_type": "code",
    "executionInfo": {
     "elapsed": 876,
     "status": "ok",
     "timestamp": 1564798185544,
     "user": {
      "displayName": "Varun Kumar",
      "photoUrl": "https://lh5.googleusercontent.com/-As6EZR6cOmk/AAAAAAAAAAI/AAAAAAAAOJo/kXr3GcbCoIo/s64/photo.jpg",
      "userId": "03638116457212786665"
     },
     "user_tz": -330
    },
    "id": "Ic4iFjS6POIB",
    "outputId": "512297c3-e593-46c5-c979-76837908ee09"
   },
   "outputs": [
    {
     "data": {
      "text/plain": [
       "(25000,)"
      ]
     },
     "execution_count": 9,
     "metadata": {
      "tags": []
     },
     "output_type": "execute_result"
    }
   ],
   "source": [
    "x_test.shape"
   ]
  },
  {
   "cell_type": "code",
   "execution_count": 10,
   "metadata": {
    "colab": {
     "base_uri": "https://localhost:8080/",
     "height": 34
    },
    "colab_type": "code",
    "executionInfo": {
     "elapsed": 1040,
     "status": "ok",
     "timestamp": 1564798186012,
     "user": {
      "displayName": "Varun Kumar",
      "photoUrl": "https://lh5.googleusercontent.com/-As6EZR6cOmk/AAAAAAAAAAI/AAAAAAAAOJo/kXr3GcbCoIo/s64/photo.jpg",
      "userId": "03638116457212786665"
     },
     "user_tz": -330
    },
    "id": "KzVi-xMIPOIE",
    "outputId": "94d8491f-bcbb-4474-8913-38d2bdbd099b"
   },
   "outputs": [
    {
     "data": {
      "text/plain": [
       "(25000,)"
      ]
     },
     "execution_count": 10,
     "metadata": {
      "tags": []
     },
     "output_type": "execute_result"
    }
   ],
   "source": [
    "y_test.shape"
   ]
  },
  {
   "cell_type": "code",
   "execution_count": 11,
   "metadata": {
    "colab": {
     "base_uri": "https://localhost:8080/",
     "height": 88
    },
    "colab_type": "code",
    "executionInfo": {
     "elapsed": 2198,
     "status": "ok",
     "timestamp": 1564798195035,
     "user": {
      "displayName": "Varun Kumar",
      "photoUrl": "https://lh5.googleusercontent.com/-As6EZR6cOmk/AAAAAAAAAAI/AAAAAAAAOJo/kXr3GcbCoIo/s64/photo.jpg",
      "userId": "03638116457212786665"
     },
     "user_tz": -330
    },
    "id": "mAc3GHZt2t4w",
    "outputId": "1cd0f37d-7670-4d0d-fdec-c8a89ac878ba"
   },
   "outputs": [
    {
     "name": "stdout",
     "output_type": "stream",
     "text": [
      "Downloading data from https://s3.amazonaws.com/text-datasets/imdb_word_index.json\n",
      "1646592/1641221 [==============================] - 1s 0us/step\n",
      "? beautiful and touching movie rich colors great settings good acting and one of the most charming movies i have seen in a while i never saw such an interesting setting when i was in china my wife liked it so much she asked me to ? on and rate it so other would enjoy too\n"
     ]
    }
   ],
   "source": [
    "word_index = imdb.get_word_index()\n",
    "\n",
    "reverse_word_index = dict(\n",
    "[(value, key) for (key, value) in word_index.items()])\n",
    "\n",
    "decoded_review = ' '.join(\n",
    "[reverse_word_index.get(i - 3, '?') for i in x_train[123]])\n",
    "\n",
    "print(decoded_review)"
   ]
  },
  {
   "cell_type": "code",
   "execution_count": 0,
   "metadata": {
    "colab": {},
    "colab_type": "code",
    "id": "s7t3qazy23qz"
   },
   "outputs": [],
   "source": []
  },
  {
   "cell_type": "code",
   "execution_count": 0,
   "metadata": {
    "colab": {},
    "colab_type": "code",
    "id": "fCPC_WN-eCyw"
   },
   "outputs": [],
   "source": [
    "from keras.preprocessing.sequence import pad_sequences\n",
    "vocab_size = 10000 #vocab size\n",
    "maxlen = 300  #number of word used from each review"
   ]
  },
  {
   "cell_type": "code",
   "execution_count": 0,
   "metadata": {
    "colab": {},
    "colab_type": "code",
    "id": "h0g381XzeCyz"
   },
   "outputs": [],
   "source": [
    "#load dataset as a list of ints\n",
    "# save np.load\n",
    "np_load_old = np.load\n",
    "\n",
    "# modify the default parameters of np.load\n",
    "np.load = lambda *a,**k: np_load_old(*a, allow_pickle=True, **k)\n",
    "\n",
    "(x_train, y_train), (x_test, y_test) = imdb.load_data(num_words=vocab_size)\n",
    "#make all sequences of the same length\n",
    "x_train = pad_sequences(x_train, maxlen=maxlen)\n",
    "x_test =  pad_sequences(x_test, maxlen=maxlen)"
   ]
  },
  {
   "cell_type": "code",
   "execution_count": 14,
   "metadata": {
    "colab": {
     "base_uri": "https://localhost:8080/",
     "height": 187
    },
    "colab_type": "code",
    "executionInfo": {
     "elapsed": 1617,
     "status": "ok",
     "timestamp": 1564798214457,
     "user": {
      "displayName": "Varun Kumar",
      "photoUrl": "https://lh5.googleusercontent.com/-As6EZR6cOmk/AAAAAAAAAAI/AAAAAAAAOJo/kXr3GcbCoIo/s64/photo.jpg",
      "userId": "03638116457212786665"
     },
     "user_tz": -330
    },
    "id": "EHjP0sY9UsSP",
    "outputId": "2c5d8d05-3d63-4b4c-94af-9f80e2556746"
   },
   "outputs": [
    {
     "name": "stdout",
     "output_type": "stream",
     "text": [
      "x_train  (25000, 300)\n",
      "y_train  (25000,)\n",
      "____________________________________________________________________________________________________\n",
      "x_test  (25000, 300)\n",
      "y_test  (25000,)\n",
      "____________________________________________________________________________________________________\n",
      "Maximum value of a word index \n",
      "9999\n",
      "Maximum length num words of review in train \n",
      "300\n"
     ]
    }
   ],
   "source": [
    "print(\"x_train \", x_train.shape)\n",
    "print(\"y_train \", y_train.shape)\n",
    "print(\"_\"*100)\n",
    "print(\"x_test \", x_test.shape)\n",
    "print(\"y_test \", y_test.shape)\n",
    "print(\"_\"*100)\n",
    "print(\"Maximum value of a word index \")\n",
    "print(max([max(sequence) for sequence in x_train]))\n",
    "print(\"Maximum length num words of review in train \")\n",
    "print(max([len(sequence) for sequence in x_train]))"
   ]
  },
  {
   "cell_type": "code",
   "execution_count": 15,
   "metadata": {
    "colab": {
     "base_uri": "https://localhost:8080/",
     "height": 34
    },
    "colab_type": "code",
    "executionInfo": {
     "elapsed": 728,
     "status": "ok",
     "timestamp": 1564798215716,
     "user": {
      "displayName": "Varun Kumar",
      "photoUrl": "https://lh5.googleusercontent.com/-As6EZR6cOmk/AAAAAAAAAAI/AAAAAAAAOJo/kXr3GcbCoIo/s64/photo.jpg",
      "userId": "03638116457212786665"
     },
     "user_tz": -330
    },
    "id": "Jy6n-uM2eCy2",
    "outputId": "da3b1ac7-2631-4413-eed7-838e95668fd6"
   },
   "outputs": [
    {
     "data": {
      "text/plain": [
       "(25000, 300)"
      ]
     },
     "execution_count": 15,
     "metadata": {
      "tags": []
     },
     "output_type": "execute_result"
    }
   ],
   "source": [
    "x_train.shape"
   ]
  },
  {
   "cell_type": "code",
   "execution_count": 16,
   "metadata": {
    "colab": {
     "base_uri": "https://localhost:8080/",
     "height": 34
    },
    "colab_type": "code",
    "executionInfo": {
     "elapsed": 1587,
     "status": "ok",
     "timestamp": 1564798217657,
     "user": {
      "displayName": "Varun Kumar",
      "photoUrl": "https://lh5.googleusercontent.com/-As6EZR6cOmk/AAAAAAAAAAI/AAAAAAAAOJo/kXr3GcbCoIo/s64/photo.jpg",
      "userId": "03638116457212786665"
     },
     "user_tz": -330
    },
    "id": "tZhMAgaNeCy5",
    "outputId": "9fa5411e-e534-49de-f141-972424685f1a"
   },
   "outputs": [
    {
     "data": {
      "text/plain": [
       "(25000, 300)"
      ]
     },
     "execution_count": 16,
     "metadata": {
      "tags": []
     },
     "output_type": "execute_result"
    }
   ],
   "source": [
    "x_test.shape"
   ]
  },
  {
   "cell_type": "code",
   "execution_count": 17,
   "metadata": {
    "colab": {
     "base_uri": "https://localhost:8080/",
     "height": 34
    },
    "colab_type": "code",
    "executionInfo": {
     "elapsed": 1294,
     "status": "ok",
     "timestamp": 1564798217658,
     "user": {
      "displayName": "Varun Kumar",
      "photoUrl": "https://lh5.googleusercontent.com/-As6EZR6cOmk/AAAAAAAAAAI/AAAAAAAAOJo/kXr3GcbCoIo/s64/photo.jpg",
      "userId": "03638116457212786665"
     },
     "user_tz": -330
    },
    "id": "IMv4bQ-MSJLY",
    "outputId": "e87090f3-6979-440b-f88d-49de638fd5de"
   },
   "outputs": [
    {
     "data": {
      "text/plain": [
       "<module 'keras.datasets.imdb' from '/usr/local/lib/python3.6/dist-packages/keras/datasets/imdb.py'>"
      ]
     },
     "execution_count": 17,
     "metadata": {
      "tags": []
     },
     "output_type": "execute_result"
    }
   ],
   "source": [
    "imdb"
   ]
  },
  {
   "cell_type": "markdown",
   "metadata": {
    "colab_type": "text",
    "id": "dybtUgUReCy8"
   },
   "source": [
    "## Build Keras Embedding Layer Model\n",
    "We can think of the Embedding layer as a dicionary that maps a index assigned to a word to a word vector. This layer is very flexible and can be used in a few ways:\n",
    "\n",
    "* The embedding layer can be used at the start of a larger deep learning model. \n",
    "* Also we could load pre-train word embeddings into the embedding layer when we create our model.\n",
    "* Use the embedding layer to train our own word2vec models.\n",
    "\n",
    "The keras embedding layer doesn't require us to onehot encode our words, instead we have to give each word a unqiue intger number as an id. For the imdb dataset we've loaded this has already been done, but if this wasn't the case we could use sklearn [LabelEncoder](http://scikit-learn.org/stable/modules/generated/sklearn.preprocessing.LabelEncoder.html)."
   ]
  },
  {
   "cell_type": "code",
   "execution_count": 18,
   "metadata": {
    "colab": {
     "base_uri": "https://localhost:8080/",
     "height": 581
    },
    "colab_type": "code",
    "executionInfo": {
     "elapsed": 1680,
     "status": "ok",
     "timestamp": 1564798220926,
     "user": {
      "displayName": "Varun Kumar",
      "photoUrl": "https://lh5.googleusercontent.com/-As6EZR6cOmk/AAAAAAAAAAI/AAAAAAAAOJo/kXr3GcbCoIo/s64/photo.jpg",
      "userId": "03638116457212786665"
     },
     "user_tz": -330
    },
    "id": "A5OLM4eBeCy9",
    "outputId": "96cd2a78-000d-447f-9574-1d53465ba96e"
   },
   "outputs": [
    {
     "name": "stderr",
     "output_type": "stream",
     "text": [
      "WARNING: Logging before flag parsing goes to stderr.\n",
      "W0803 02:10:19.925750 139760945166208 deprecation_wrapper.py:119] From /usr/local/lib/python3.6/dist-packages/keras/backend/tensorflow_backend.py:74: The name tf.get_default_graph is deprecated. Please use tf.compat.v1.get_default_graph instead.\n",
      "\n",
      "W0803 02:10:19.964774 139760945166208 deprecation_wrapper.py:119] From /usr/local/lib/python3.6/dist-packages/keras/backend/tensorflow_backend.py:517: The name tf.placeholder is deprecated. Please use tf.compat.v1.placeholder instead.\n",
      "\n",
      "W0803 02:10:19.970822 139760945166208 deprecation_wrapper.py:119] From /usr/local/lib/python3.6/dist-packages/keras/backend/tensorflow_backend.py:4138: The name tf.random_uniform is deprecated. Please use tf.random.uniform instead.\n",
      "\n",
      "W0803 02:10:20.093263 139760945166208 deprecation_wrapper.py:119] From /usr/local/lib/python3.6/dist-packages/keras/backend/tensorflow_backend.py:133: The name tf.placeholder_with_default is deprecated. Please use tf.compat.v1.placeholder_with_default instead.\n",
      "\n",
      "W0803 02:10:20.102780 139760945166208 deprecation.py:506] From /usr/local/lib/python3.6/dist-packages/keras/backend/tensorflow_backend.py:3445: calling dropout (from tensorflow.python.ops.nn_ops) with keep_prob is deprecated and will be removed in a future version.\n",
      "Instructions for updating:\n",
      "Please use `rate` instead of `keep_prob`. Rate should be set to `rate = 1 - keep_prob`.\n",
      "W0803 02:10:20.359488 139760945166208 deprecation_wrapper.py:119] From /usr/local/lib/python3.6/dist-packages/keras/optimizers.py:790: The name tf.train.Optimizer is deprecated. Please use tf.compat.v1.train.Optimizer instead.\n",
      "\n",
      "W0803 02:10:20.379655 139760945166208 deprecation_wrapper.py:119] From /usr/local/lib/python3.6/dist-packages/keras/backend/tensorflow_backend.py:3376: The name tf.log is deprecated. Please use tf.math.log instead.\n",
      "\n",
      "W0803 02:10:20.385440 139760945166208 deprecation.py:323] From /usr/local/lib/python3.6/dist-packages/tensorflow/python/ops/nn_impl.py:180: add_dispatch_support.<locals>.wrapper (from tensorflow.python.ops.array_ops) is deprecated and will be removed in a future version.\n",
      "Instructions for updating:\n",
      "Use tf.where in 2.0, which has the same broadcast rule as np.where\n"
     ]
    },
    {
     "name": "stdout",
     "output_type": "stream",
     "text": [
      "_________________________________________________________________\n",
      "Layer (type)                 Output Shape              Param #   \n",
      "=================================================================\n",
      "embedding_1 (Embedding)      (None, None, 128)         1280000   \n",
      "_________________________________________________________________\n",
      "lstm_1 (LSTM)                (None, 128)               131584    \n",
      "_________________________________________________________________\n",
      "dense_1 (Dense)              (None, 1)                 129       \n",
      "=================================================================\n",
      "Total params: 1,411,713\n",
      "Trainable params: 1,411,713\n",
      "Non-trainable params: 0\n",
      "_________________________________________________________________\n"
     ]
    }
   ],
   "source": [
    "model = Sequential()\n",
    "model.add(Embedding(vocab_size, 128))\n",
    "model.add(LSTM(128, dropout=0.2, recurrent_dropout=0.2))\n",
    "model.add(Dense(1, activation='sigmoid'))\n",
    "\n",
    "# try using different optimizers and different optimizer configs\n",
    "model.compile(loss='binary_crossentropy',\n",
    "              optimizer='adam',\n",
    "              metrics=['accuracy'])\n",
    "model.summary()"
   ]
  },
  {
   "cell_type": "code",
   "execution_count": 19,
   "metadata": {
    "colab": {
     "base_uri": "https://localhost:8080/",
     "height": 391
    },
    "colab_type": "code",
    "executionInfo": {
     "elapsed": 2674892,
     "status": "ok",
     "timestamp": 1564800899263,
     "user": {
      "displayName": "Varun Kumar",
      "photoUrl": "https://lh5.googleusercontent.com/-As6EZR6cOmk/AAAAAAAAAAI/AAAAAAAAOJo/kXr3GcbCoIo/s64/photo.jpg",
      "userId": "03638116457212786665"
     },
     "user_tz": -330
    },
    "id": "TxNDNhrseCzA",
    "outputId": "cd300e1b-8aa3-4d68-f9b6-4482913d3a7a"
   },
   "outputs": [
    {
     "name": "stdout",
     "output_type": "stream",
     "text": [
      "Train on 25000 samples, validate on 25000 samples\n",
      "Epoch 1/10\n",
      "25000/25000 [==============================] - 270s 11ms/step - loss: 0.4654 - acc: 0.7819 - val_loss: 0.4210 - val_acc: 0.8125\n",
      "Epoch 2/10\n",
      "25000/25000 [==============================] - 266s 11ms/step - loss: 0.3585 - acc: 0.8499 - val_loss: 0.3649 - val_acc: 0.8425\n",
      "Epoch 3/10\n",
      "25000/25000 [==============================] - 268s 11ms/step - loss: 0.3460 - acc: 0.8517 - val_loss: 0.3846 - val_acc: 0.8422\n",
      "Epoch 4/10\n",
      "25000/25000 [==============================] - 267s 11ms/step - loss: 0.2971 - acc: 0.8788 - val_loss: 0.3623 - val_acc: 0.8510\n",
      "Epoch 5/10\n",
      "25000/25000 [==============================] - 265s 11ms/step - loss: 0.2217 - acc: 0.9152 - val_loss: 0.3541 - val_acc: 0.8637\n",
      "Epoch 6/10\n",
      "25000/25000 [==============================] - 269s 11ms/step - loss: 0.1851 - acc: 0.9297 - val_loss: 0.3941 - val_acc: 0.8512\n",
      "Epoch 7/10\n",
      "25000/25000 [==============================] - 267s 11ms/step - loss: 0.1496 - acc: 0.9447 - val_loss: 0.4237 - val_acc: 0.8500\n",
      "Epoch 8/10\n",
      "25000/25000 [==============================] - 266s 11ms/step - loss: 0.1297 - acc: 0.9523 - val_loss: 0.4533 - val_acc: 0.8621\n",
      "Epoch 9/10\n",
      "25000/25000 [==============================] - 268s 11ms/step - loss: 0.0990 - acc: 0.9653 - val_loss: 0.5016 - val_acc: 0.8508\n",
      "Epoch 10/10\n",
      "25000/25000 [==============================] - 266s 11ms/step - loss: 0.0880 - acc: 0.9685 - val_loss: 0.5111 - val_acc: 0.8396\n"
     ]
    },
    {
     "data": {
      "text/plain": [
       "<keras.callbacks.History at 0x7f1c7d9dfbe0>"
      ]
     },
     "execution_count": 19,
     "metadata": {
      "tags": []
     },
     "output_type": "execute_result"
    }
   ],
   "source": [
    "batch_size = 50\n",
    "\n",
    "model.fit(x_train, y_train,\n",
    "          batch_size=batch_size,\n",
    "          epochs=10,\n",
    "          validation_data=(x_test, y_test))"
   ]
  },
  {
   "cell_type": "markdown",
   "metadata": {
    "colab_type": "text",
    "id": "UWhYIv1ITI-r"
   },
   "source": [
    "The above model is giving 96.85% accuracy"
   ]
  },
  {
   "cell_type": "code",
   "execution_count": 20,
   "metadata": {
    "colab": {
     "base_uri": "https://localhost:8080/",
     "height": 34
    },
    "colab_type": "code",
    "executionInfo": {
     "elapsed": 2653219,
     "status": "ok",
     "timestamp": 1564800899269,
     "user": {
      "displayName": "Varun Kumar",
      "photoUrl": "https://lh5.googleusercontent.com/-As6EZR6cOmk/AAAAAAAAAAI/AAAAAAAAOJo/kXr3GcbCoIo/s64/photo.jpg",
      "userId": "03638116457212786665"
     },
     "user_tz": -330
    },
    "id": "7TIfMRh-pPmO",
    "outputId": "ce8ddf8b-90e3-4dc7-e73c-7db3d82f8f0b"
   },
   "outputs": [
    {
     "data": {
      "text/plain": [
       "'/content/drive/My Drive/Colab Notebooks/LabExternal9'"
      ]
     },
     "execution_count": 20,
     "metadata": {
      "tags": []
     },
     "output_type": "execute_result"
    }
   ],
   "source": [
    "pwd"
   ]
  },
  {
   "cell_type": "code",
   "execution_count": 0,
   "metadata": {
    "colab": {},
    "colab_type": "code",
    "id": "i12JgUbdpRMe"
   },
   "outputs": [],
   "source": [
    "# save the model to file\n",
    "model.save('./SeqNLP_Project1_model.h5')"
   ]
  },
  {
   "cell_type": "markdown",
   "metadata": {
    "colab_type": "text",
    "id": "Igq8Qm8GeCzG"
   },
   "source": [
    "## Retrive the output of each layer in keras for a given single test sample from the trained model you built"
   ]
  },
  {
   "cell_type": "code",
   "execution_count": 22,
   "metadata": {
    "colab": {
     "base_uri": "https://localhost:8080/",
     "height": 34
    },
    "colab_type": "code",
    "executionInfo": {
     "elapsed": 2653534,
     "status": "ok",
     "timestamp": 1564800900801,
     "user": {
      "displayName": "Varun Kumar",
      "photoUrl": "https://lh5.googleusercontent.com/-As6EZR6cOmk/AAAAAAAAAAI/AAAAAAAAOJo/kXr3GcbCoIo/s64/photo.jpg",
      "userId": "03638116457212786665"
     },
     "user_tz": -330
    },
    "id": "0AqOnLa2eCzH",
    "outputId": "b78aeba7-b628-424a-f9f6-b7256b9991e3"
   },
   "outputs": [
    {
     "data": {
      "text/plain": [
       "'/content/drive/My Drive/Colab Notebooks/LabExternal9'"
      ]
     },
     "execution_count": 22,
     "metadata": {
      "tags": []
     },
     "output_type": "execute_result"
    }
   ],
   "source": [
    "pwd"
   ]
  },
  {
   "cell_type": "code",
   "execution_count": 0,
   "metadata": {
    "colab": {},
    "colab_type": "code",
    "id": "-dUDSg7VeCzM"
   },
   "outputs": [],
   "source": [
    "# load the model\n",
    "model = load_model('./SeqNLP_Project1_model.h5')"
   ]
  },
  {
   "cell_type": "code",
   "execution_count": 24,
   "metadata": {
    "colab": {
     "base_uri": "https://localhost:8080/",
     "height": 374
    },
    "colab_type": "code",
    "executionInfo": {
     "elapsed": 5001011,
     "status": "ok",
     "timestamp": 1564803248753,
     "user": {
      "displayName": "Varun Kumar",
      "photoUrl": "https://lh5.googleusercontent.com/-As6EZR6cOmk/AAAAAAAAAAI/AAAAAAAAOJo/kXr3GcbCoIo/s64/photo.jpg",
      "userId": "03638116457212786665"
     },
     "user_tz": -330
    },
    "id": "Tskt_1npeCzP",
    "outputId": "7f673024-e171-44a2-cf5e-fb0303a884fb"
   },
   "outputs": [
    {
     "name": "stdout",
     "output_type": "stream",
     "text": [
      "Epoch 1/10\n",
      "25000/25000 [==============================] - 225s 9ms/step - loss: 0.0725 - acc: 0.9746\n",
      "Epoch 2/10\n",
      "25000/25000 [==============================] - 286s 11ms/step - loss: 0.0644 - acc: 0.9783\n",
      "Epoch 3/10\n",
      "25000/25000 [==============================] - 242s 10ms/step - loss: 0.0416 - acc: 0.9859\n",
      "Epoch 4/10\n",
      "25000/25000 [==============================] - 235s 9ms/step - loss: 0.0368 - acc: 0.9893\n",
      "Epoch 5/10\n",
      "25000/25000 [==============================] - 226s 9ms/step - loss: 0.0364 - acc: 0.9880\n",
      "Epoch 6/10\n",
      "25000/25000 [==============================] - 226s 9ms/step - loss: 0.0356 - acc: 0.9879\n",
      "Epoch 7/10\n",
      "25000/25000 [==============================] - 227s 9ms/step - loss: 0.0303 - acc: 0.9903\n",
      "Epoch 8/10\n",
      "25000/25000 [==============================] - 228s 9ms/step - loss: 0.0258 - acc: 0.9917\n",
      "Epoch 9/10\n",
      "25000/25000 [==============================] - 227s 9ms/step - loss: 0.0195 - acc: 0.9936\n",
      "Epoch 10/10\n",
      "25000/25000 [==============================] - 223s 9ms/step - loss: 0.0242 - acc: 0.9921\n"
     ]
    },
    {
     "data": {
      "text/plain": [
       "<keras.callbacks.History at 0x7f1c49b7aba8>"
      ]
     },
     "execution_count": 24,
     "metadata": {
      "tags": []
     },
     "output_type": "execute_result"
    }
   ],
   "source": [
    "model.fit(x_train, y_train, batch_size=batch_size, epochs=10)"
   ]
  },
  {
   "cell_type": "code",
   "execution_count": 25,
   "metadata": {
    "colab": {
     "base_uri": "https://localhost:8080/",
     "height": 68
    },
    "colab_type": "code",
    "executionInfo": {
     "elapsed": 5045217,
     "status": "ok",
     "timestamp": 1564803293738,
     "user": {
      "displayName": "Varun Kumar",
      "photoUrl": "https://lh5.googleusercontent.com/-As6EZR6cOmk/AAAAAAAAAAI/AAAAAAAAOJo/kXr3GcbCoIo/s64/photo.jpg",
      "userId": "03638116457212786665"
     },
     "user_tz": -330
    },
    "id": "rQn-3lMMqERJ",
    "outputId": "437811a6-7de7-40e7-f0fb-643b3074ea37"
   },
   "outputs": [
    {
     "name": "stdout",
     "output_type": "stream",
     "text": [
      "25000/25000 [==============================] - 45s 2ms/step\n",
      "Test score: 0.7888527420796454\n",
      "Test accuracy: 0.8492799950838089\n"
     ]
    }
   ],
   "source": [
    "score, acc = model.evaluate(x_test, y_test,\n",
    "                            batch_size=batch_size)\n",
    "print('Test score:', score)\n",
    "print('Test accuracy:', acc)"
   ]
  },
  {
   "cell_type": "code",
   "execution_count": 0,
   "metadata": {
    "colab": {},
    "colab_type": "code",
    "id": "DZF_5hHxqOx2"
   },
   "outputs": [],
   "source": []
  }
 ],
 "metadata": {
  "accelerator": "GPU",
  "colab": {
   "collapsed_sections": [],
   "name": "SeqNLP_Project1_Questions.ipynb",
   "provenance": [],
   "version": "0.3.2"
  },
  "kernelspec": {
   "display_name": "Python 3",
   "language": "python",
   "name": "python3"
  },
  "language_info": {
   "codemirror_mode": {
    "name": "ipython",
    "version": 3
   },
   "file_extension": ".py",
   "mimetype": "text/x-python",
   "name": "python",
   "nbconvert_exporter": "python",
   "pygments_lexer": "ipython3",
   "version": "3.7.1"
  }
 },
 "nbformat": 4,
 "nbformat_minor": 1
}
