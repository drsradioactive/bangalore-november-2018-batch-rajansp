{
 "cells": [
  {
   "cell_type": "code",
   "execution_count": 1,
   "metadata": {},
   "outputs": [],
   "source": [
    "from IPython.core.interactiveshell import InteractiveShell\n",
    "InteractiveShell.ast_node_interactivity = \"all\""
   ]
  },
  {
   "cell_type": "code",
   "execution_count": 2,
   "metadata": {},
   "outputs": [
    {
     "name": "stderr",
     "output_type": "stream",
     "text": [
      "Using TensorFlow backend.\n"
     ]
    }
   ],
   "source": [
    "import h5py as h5\n",
    "import numpy as np\n",
    "import pandas as pd\n",
    "import matplotlib.pyplot as plt\n",
    "\n",
    "from sklearn import metrics\n",
    "from sklearn.neighbors import KNeighborsClassifier\n",
    "\n",
    "import os\n",
    "import time\n",
    "import math\n",
    "\n",
    "import tensorflow as tf\n",
    "import seaborn as sns\n",
    "from datetime import timedelta\n",
    "from sklearn.model_selection import KFold\n",
    "from sklearn.model_selection import cross_val_score\n",
    "\n",
    "import keras\n",
    "from keras.utils import np_utils\n",
    "from keras.layers.normalization import BatchNormalization\n",
    "from keras.models import Sequential\n",
    "from keras.layers import Dense, Activation, Dropout, Flatten, Reshape\n",
    "from keras.layers import Convolution2D, MaxPooling2D"
   ]
  },
  {
   "cell_type": "markdown",
   "metadata": {},
   "source": [
    "## **Understand the basic Image Classification pipeline and the data-driven approach (train/predict stages) **"
   ]
  },
  {
   "cell_type": "code",
   "execution_count": 3,
   "metadata": {},
   "outputs": [],
   "source": [
    "f = h5.File(\"SVHN_single_grey1.h5\", \"r\")"
   ]
  },
  {
   "cell_type": "code",
   "execution_count": 4,
   "metadata": {},
   "outputs": [
    {
     "data": {
      "text/plain": [
       "h5py._hl.files.File"
      ]
     },
     "execution_count": 4,
     "metadata": {},
     "output_type": "execute_result"
    },
    {
     "name": "stdout",
     "output_type": "stream",
     "text": [
      "X_test\n",
      "X_train\n",
      "X_val\n",
      "y_test\n",
      "y_train\n",
      "y_val\n"
     ]
    }
   ],
   "source": [
    "type(f)\n",
    "for key in f.keys():\n",
    "    print(key)"
   ]
  },
  {
   "cell_type": "code",
   "execution_count": 5,
   "metadata": {},
   "outputs": [],
   "source": [
    "# Load the training, test and validation set\n",
    "X_train = f['X_train'][:]\n",
    "y_train = f['y_train'][:]\n",
    "X_test = f['X_test'][:]\n",
    "y_test = f['y_test'][:] \n",
    "X_val = f['X_val'][:]\n",
    "y_val = f['y_val'][:]"
   ]
  },
  {
   "cell_type": "code",
   "execution_count": 6,
   "metadata": {},
   "outputs": [
    {
     "data": {
      "text/plain": [
       "(18000, 32, 32)"
      ]
     },
     "execution_count": 6,
     "metadata": {},
     "output_type": "execute_result"
    },
    {
     "data": {
      "text/plain": [
       "(42000, 32, 32)"
      ]
     },
     "execution_count": 6,
     "metadata": {},
     "output_type": "execute_result"
    },
    {
     "data": {
      "text/plain": [
       "(60000, 32, 32)"
      ]
     },
     "execution_count": 6,
     "metadata": {},
     "output_type": "execute_result"
    },
    {
     "data": {
      "text/plain": [
       "(18000,)"
      ]
     },
     "execution_count": 6,
     "metadata": {},
     "output_type": "execute_result"
    },
    {
     "data": {
      "text/plain": [
       "(42000,)"
      ]
     },
     "execution_count": 6,
     "metadata": {},
     "output_type": "execute_result"
    },
    {
     "data": {
      "text/plain": [
       "(60000,)"
      ]
     },
     "execution_count": 6,
     "metadata": {},
     "output_type": "execute_result"
    }
   ],
   "source": [
    "f['X_test'].shape\n",
    "f['X_train'].shape\n",
    "f['X_val'].shape\n",
    "f['y_test'].shape\n",
    "f['y_train'].shape\n",
    "f['y_val'].shape"
   ]
  },
  {
   "cell_type": "code",
   "execution_count": 7,
   "metadata": {},
   "outputs": [
    {
     "data": {
      "text/plain": [
       "<Figure size 1440x144 with 0 Axes>"
      ]
     },
     "execution_count": 7,
     "metadata": {},
     "output_type": "execute_result"
    },
    {
     "data": {
      "text/plain": [
       "<matplotlib.axes._subplots.AxesSubplot at 0x2d84540cd68>"
      ]
     },
     "execution_count": 7,
     "metadata": {},
     "output_type": "execute_result"
    },
    {
     "data": {
      "text/plain": [
       "<matplotlib.image.AxesImage at 0x2d845431358>"
      ]
     },
     "execution_count": 7,
     "metadata": {},
     "output_type": "execute_result"
    },
    {
     "data": {
      "text/plain": [
       "(-0.5, 31.5, 31.5, -0.5)"
      ]
     },
     "execution_count": 7,
     "metadata": {},
     "output_type": "execute_result"
    },
    {
     "name": "stdout",
     "output_type": "stream",
     "text": [
      "label for each of the below image: 0\n"
     ]
    },
    {
     "data": {
      "image/png": "[encoded data removed]",
      "text/plain": [
       "<Figure size 1440x144 with 1 Axes>"
      ]
     },
     "metadata": {
      "needs_background": "light"
     },
     "output_type": "display_data"
    }
   ],
   "source": [
    "plt.figure(figsize=(20, 2)) #width 10, height 1\n",
    "\n",
    "plt.subplot(1, 10, 1)\n",
    "plt.imshow(X_train[0], cmap=\"gray\")\n",
    "plt.axis('off')\n",
    "print('label for each of the below image: %s' % (np.argmax(y_train[0:10][1])))\n",
    "plt.show()"
   ]
  },
  {
   "cell_type": "code",
   "execution_count": 8,
   "metadata": {},
   "outputs": [
    {
     "data": {
      "text/plain": [
       "<matplotlib.image.AxesImage at 0x2d862db9b00>"
      ]
     },
     "execution_count": 8,
     "metadata": {},
     "output_type": "execute_result"
    },
    {
     "data": {
      "text/plain": [
       "Text(0.5, 1.0, '2')"
      ]
     },
     "execution_count": 8,
     "metadata": {},
     "output_type": "execute_result"
    },
    {
     "data": {
      "text/plain": [
       "<matplotlib.image.AxesImage at 0x2d862db9fd0>"
      ]
     },
     "execution_count": 8,
     "metadata": {},
     "output_type": "execute_result"
    },
    {
     "data": {
      "text/plain": [
       "Text(0.5, 1.0, '6')"
      ]
     },
     "execution_count": 8,
     "metadata": {},
     "output_type": "execute_result"
    },
    {
     "data": {
      "text/plain": [
       "<matplotlib.image.AxesImage at 0x2d862dca3c8>"
      ]
     },
     "execution_count": 8,
     "metadata": {},
     "output_type": "execute_result"
    },
    {
     "data": {
      "text/plain": [
       "Text(0.5, 1.0, '7')"
      ]
     },
     "execution_count": 8,
     "metadata": {},
     "output_type": "execute_result"
    },
    {
     "data": {
      "text/plain": [
       "<matplotlib.image.AxesImage at 0x2d862dca710>"
      ]
     },
     "execution_count": 8,
     "metadata": {},
     "output_type": "execute_result"
    },
    {
     "data": {
      "text/plain": [
       "Text(0.5, 1.0, '4')"
      ]
     },
     "execution_count": 8,
     "metadata": {},
     "output_type": "execute_result"
    },
    {
     "data": {
      "text/plain": [
       "<matplotlib.image.AxesImage at 0x2d862dcaa58>"
      ]
     },
     "execution_count": 8,
     "metadata": {},
     "output_type": "execute_result"
    },
    {
     "data": {
      "text/plain": [
       "Text(0.5, 1.0, '4')"
      ]
     },
     "execution_count": 8,
     "metadata": {},
     "output_type": "execute_result"
    },
    {
     "data": {
      "text/plain": [
       "<matplotlib.image.AxesImage at 0x2d862dcada0>"
      ]
     },
     "execution_count": 8,
     "metadata": {},
     "output_type": "execute_result"
    },
    {
     "data": {
      "text/plain": [
       "Text(0.5, 1.0, '0')"
      ]
     },
     "execution_count": 8,
     "metadata": {},
     "output_type": "execute_result"
    },
    {
     "data": {
      "text/plain": [
       "<matplotlib.image.AxesImage at 0x2d862dcd160>"
      ]
     },
     "execution_count": 8,
     "metadata": {},
     "output_type": "execute_result"
    },
    {
     "data": {
      "text/plain": [
       "Text(0.5, 1.0, '3')"
      ]
     },
     "execution_count": 8,
     "metadata": {},
     "output_type": "execute_result"
    },
    {
     "data": {
      "text/plain": [
       "<matplotlib.image.AxesImage at 0x2d862dcd470>"
      ]
     },
     "execution_count": 8,
     "metadata": {},
     "output_type": "execute_result"
    },
    {
     "data": {
      "text/plain": [
       "Text(0.5, 1.0, '0')"
      ]
     },
     "execution_count": 8,
     "metadata": {},
     "output_type": "execute_result"
    },
    {
     "data": {
      "text/plain": [
       "<matplotlib.image.AxesImage at 0x2d862dcd7b8>"
      ]
     },
     "execution_count": 8,
     "metadata": {},
     "output_type": "execute_result"
    },
    {
     "data": {
      "text/plain": [
       "Text(0.5, 1.0, '7')"
      ]
     },
     "execution_count": 8,
     "metadata": {},
     "output_type": "execute_result"
    },
    {
     "data": {
      "text/plain": [
       "<matplotlib.image.AxesImage at 0x2d862dcdb00>"
      ]
     },
     "execution_count": 8,
     "metadata": {},
     "output_type": "execute_result"
    },
    {
     "data": {
      "text/plain": [
       "Text(0.5, 1.0, '3')"
      ]
     },
     "execution_count": 8,
     "metadata": {},
     "output_type": "execute_result"
    },
    {
     "data": {
      "text/plain": [
       "([], <a list of 0 Text xticklabel objects>)"
      ]
     },
     "execution_count": 8,
     "metadata": {},
     "output_type": "execute_result"
    },
    {
     "data": {
      "text/plain": [
       "([], <a list of 0 Text yticklabel objects>)"
      ]
     },
     "execution_count": 8,
     "metadata": {},
     "output_type": "execute_result"
    },
    {
     "name": "stdout",
     "output_type": "stream",
     "text": [
      "Label for each of the below images:  [2 6 7 4 4 0 3 0 7 3]\n"
     ]
    },
    {
     "data": {
      "image/png": "[encoded data removed]",
      "text/plain": [
       "<Figure size 1368x1296 with 10 Axes>"
      ]
     },
     "metadata": {},
     "output_type": "display_data"
    }
   ],
   "source": [
    "#Visualize few sample images\n",
    "fig, axes = plt.subplots(1, 10,figsize=(19, 18), sharey=True, sharex=True)\n",
    "\n",
    "for i in range(10):\n",
    "    axes[i].imshow(X_train[i].reshape(32,32),cmap=plt.get_cmap('gray'))\n",
    "    axes[i].set_title(y_train[i])\n",
    "    \n",
    "plt.xticks([])\n",
    "plt.yticks([])\n",
    "\n",
    "print('Label for each of the below images: ', y_train[0:10])"
   ]
  },
  {
   "cell_type": "markdown",
   "metadata": {},
   "source": [
    "# **Data fetching and understand the train/val/test splits**"
   ]
  },
  {
   "cell_type": "code",
   "execution_count": 9,
   "metadata": {
    "scrolled": true
   },
   "outputs": [
    {
     "name": "stdout",
     "output_type": "stream",
     "text": [
      "(32, 32) (32, 32)\n",
      "(32, 32, 1) (32, 32, 1)\n",
      "42000 42000 18000 18000\n"
     ]
    }
   ],
   "source": [
    "\n",
    "\n",
    "X_train = X_train.reshape(X_train.shape[0], 32, 32, 1).astype('float32')\n",
    "X_test = X_test.reshape(X_test.shape[0], 32, 32, 1).astype('float32')\n",
    "X_train /= 255\n",
    "X_test /= 255\n",
    "Y_train = np_utils.to_categorical(y_train, 10)\n",
    "Y_test = np_utils.to_categorical(y_test, 10)\n",
    "\n",
    "print(X_train.shape[1:3], X_test.shape[1:3])\n",
    "print(X_train[1].shape, X_test[3].shape)\n",
    "print(X_train.shape[0], Y_train.shape[0], X_test.shape[0], Y_test.shape[0])"
   ]
  },
  {
   "cell_type": "code",
   "execution_count": 10,
   "metadata": {},
   "outputs": [
    {
     "name": "stdout",
     "output_type": "stream",
     "text": [
      "42000 (1024,) <class 'list'>\n"
     ]
    }
   ],
   "source": [
    "#Prepare flattened pixel array\n",
    "ind=0\n",
    "x_train_knn=[]\n",
    "for i in X_train:\n",
    "    x_train_knn.append(np.array(X_train[ind]).flatten())\n",
    "    ind=ind+1\n",
    "print(ind, x_train_knn[1].shape, type(x_train_knn))\n"
   ]
  },
  {
   "cell_type": "code",
   "execution_count": 11,
   "metadata": {},
   "outputs": [
    {
     "name": "stdout",
     "output_type": "stream",
     "text": [
      "18000 (1024,) <class 'list'>\n"
     ]
    }
   ],
   "source": [
    "\n",
    "ind=0\n",
    "x_test_knn=[]\n",
    "for i in X_test:\n",
    "    x_test_knn.append(np.array(X_test[ind]).flatten())\n",
    "    ind=ind+1\n",
    "print(ind, x_test_knn[1].shape, type(x_test_knn))"
   ]
  },
  {
   "cell_type": "markdown",
   "metadata": {},
   "source": [
    "# Implement and apply an optimal k-Nearest Neighbor (kNN) classifier (7.5points)"
   ]
  },
  {
   "cell_type": "code",
   "execution_count": 48,
   "metadata": {
    "scrolled": true
   },
   "outputs": [
    {
     "data": {
      "text/plain": [
       "KNeighborsClassifier(algorithm='auto', leaf_size=30, metric='minkowski',\n",
       "           metric_params=None, n_jobs=None, n_neighbors=3, p=2,\n",
       "           weights='uniform')"
      ]
     },
     "execution_count": 48,
     "metadata": {},
     "output_type": "execute_result"
    }
   ],
   "source": [
    "# Train the model with KNN Classifier\n",
    "kNN_model = KNeighborsClassifier(n_neighbors = 3)\n",
    "kNN_model.fit(x_train_knn,Y_train)\n",
    "\n",
    "\n",
    "y_predict = kNN_model.predict(x_test_knn)\n",
    "\n",
    "\n",
    "      \n"
   ]
  },
  {
   "cell_type": "code",
   "execution_count": null,
   "metadata": {},
   "outputs": [],
   "source": [
    "##Use kfold cross validation to get no of neighbours\n",
    "\n",
    "# creating odd list of K for KNN\n",
    "myList = list(range(1,15))\n",
    "\n",
    "# empty list that will hold cv scores\n",
    "cv_scores = []\n",
    "k_neighbors = []\n",
    "\n",
    "# perform 10-fold cross validation\n",
    "for k in myList:\n",
    "    print(k)\n",
    "    knn = KNeighborsClassifier(n_neighbors=k)\n",
    "    scores = cross_val_score(knn, x_train_knn, y_train, cv=10, scoring='accuracy')\n",
    "    cv_scores.append(scores.mean())\n",
    "    k_neighbors.append(k)\n",
    "\n",
    "\n",
    "MSE = [1 - x for x in cv_scores]\n",
    "min(MSE)\n",
    "MSE.index(min(MSE))\n",
    "best_k = myList[MSE.index(min(MSE))]\n",
    "print (\"The optimal number of neighbors is %d\" % best_k)"
   ]
  },
  {
   "cell_type": "markdown",
   "metadata": {},
   "source": [
    "## Print the classification metric report (2.5 points)"
   ]
  },
  {
   "cell_type": "code",
   "execution_count": 52,
   "metadata": {
    "scrolled": true
   },
   "outputs": [
    {
     "name": "stdout",
     "output_type": "stream",
     "text": [
      "              precision    recall  f1-score   support\n",
      "\n",
      "           0       0.61      0.44      0.51      1814\n",
      "           1       0.62      0.51      0.56      1828\n",
      "           2       0.74      0.40      0.52      1803\n",
      "           3       0.56      0.27      0.37      1719\n",
      "           4       0.78      0.51      0.61      1812\n",
      "           5       0.58      0.25      0.35      1768\n",
      "           6       0.54      0.29      0.37      1832\n",
      "           7       0.80      0.54      0.65      1808\n",
      "           8       0.45      0.25      0.32      1812\n",
      "           9       0.60      0.32      0.41      1804\n",
      "\n",
      "   micro avg       0.64      0.38      0.47     18000\n",
      "   macro avg       0.63      0.38      0.47     18000\n",
      "weighted avg       0.63      0.38      0.47     18000\n",
      " samples avg       0.38      0.38      0.38     18000\n",
      "\n",
      "Accuracy :  0.3783888888888889\n"
     ]
    },
    {
     "name": "stderr",
     "output_type": "stream",
     "text": [
      "C:\\Users\\rajan\\Anaconda3\\lib\\site-packages\\sklearn\\metrics\\classification.py:1143: UndefinedMetricWarning: Precision and F-score are ill-defined and being set to 0.0 in samples with no predicted labels.\n",
      "  'precision', 'predicted', average, warn_for)\n"
     ]
    }
   ],
   "source": [
    "print(classification_report(Y_test, y_predict.round()))\n",
    "\n",
    "print(\"Accuracy : \", metrics.accuracy_score(y_predict.round(), Y_test))\n",
    "      \n"
   ]
  },
  {
   "cell_type": "markdown",
   "metadata": {},
   "source": [
    "## Implement and apply a deep neural network classifier including (feedforward neural network, RELU activations) (5 points)"
   ]
  },
  {
   "cell_type": "code",
   "execution_count": 33,
   "metadata": {},
   "outputs": [],
   "source": [
    "#Initialize variables\n",
    "BATCH_SIZE = 30\n",
    "EPOCHS = 10\n",
    "PATIENCE = 3\n"
   ]
  },
  {
   "cell_type": "markdown",
   "metadata": {},
   "source": [
    "## ● Understand and be able to implement (vectorized) backpropagation (cos stochastic gradient descent, cross entropy loss, cost functions) (2.5 points)\n"
   ]
  },
  {
   "cell_type": "code",
   "execution_count": 36,
   "metadata": {},
   "outputs": [
    {
     "name": "stderr",
     "output_type": "stream",
     "text": [
      "C:\\Users\\rajan\\Anaconda3\\lib\\site-packages\\ipykernel_launcher.py:6: UserWarning: Update your `Conv2D` call to the Keras 2 API: `Conv2D(32, (3, 3), input_shape=(32, 32, 1...)`\n",
      "  \n",
      "C:\\Users\\rajan\\Anaconda3\\lib\\site-packages\\ipykernel_launcher.py:10: UserWarning: Update your `Conv2D` call to the Keras 2 API: `Conv2D(32, (3, 3))`\n",
      "  # Remove the CWD from sys.path while we load stuff.\n",
      "C:\\Users\\rajan\\Anaconda3\\lib\\site-packages\\ipykernel_launcher.py:39: UserWarning: The `nb_epoch` argument in `fit` has been renamed `epochs`.\n"
     ]
    },
    {
     "name": "stdout",
     "output_type": "stream",
     "text": [
      "Train on 42000 samples, validate on 18000 samples\n",
      "Epoch 1/10\n",
      "42000/42000 [==============================] - 65s 2ms/step - loss: 2.2994 - acc: 0.1184 - val_loss: 2.2896 - val_acc: 0.1688\n",
      "Epoch 2/10\n",
      "42000/42000 [==============================] - 73s 2ms/step - loss: 2.2359 - acc: 0.2023 - val_loss: 2.0132 - val_acc: 0.3054\n",
      "Epoch 3/10\n",
      "42000/42000 [==============================] - 64s 2ms/step - loss: 1.5715 - acc: 0.4941 - val_loss: 1.1624 - val_acc: 0.6552\n",
      "Epoch 4/10\n",
      "42000/42000 [==============================] - 61s 1ms/step - loss: 1.0685 - acc: 0.6758 - val_loss: 0.8954 - val_acc: 0.7379\n",
      "Epoch 5/10\n",
      "42000/42000 [==============================] - 62s 1ms/step - loss: 0.7971 - acc: 0.7626 - val_loss: 0.6832 - val_acc: 0.8086\n",
      "Epoch 6/10\n",
      "42000/42000 [==============================] - 62s 1ms/step - loss: 0.6481 - acc: 0.8111 - val_loss: 0.5730 - val_acc: 0.8397\n",
      "Epoch 7/10\n",
      "42000/42000 [==============================] - 62s 1ms/step - loss: 0.5548 - acc: 0.8387 - val_loss: 0.5624 - val_acc: 0.8492\n",
      "Epoch 8/10\n",
      "42000/42000 [==============================] - 63s 1ms/step - loss: 0.5033 - acc: 0.8536 - val_loss: 0.5083 - val_acc: 0.8623\n",
      "Epoch 9/10\n",
      "42000/42000 [==============================] - 63s 2ms/step - loss: 0.4606 - acc: 0.8675 - val_loss: 0.5055 - val_acc: 0.8605\n",
      "Epoch 10/10\n",
      "42000/42000 [==============================] - 63s 2ms/step - loss: 0.4322 - acc: 0.8732 - val_loss: 0.4828 - val_acc: 0.8738\n"
     ]
    },
    {
     "data": {
      "text/plain": [
       "<keras.callbacks.History at 0x17a0b55cac8>"
      ]
     },
     "execution_count": 36,
     "metadata": {},
     "output_type": "execute_result"
    },
    {
     "name": "stdout",
     "output_type": "stream",
     "text": [
      "18000/18000 [==============================] - 8s 464us/step\n",
      "[0.4712336314121882, 0.8648888888888889]\n"
     ]
    }
   ],
   "source": [
    "## Without Batch Normalization - just to show its effects\n",
    "# Define Model\n",
    "model1 = Sequential()\n",
    "\n",
    "# 1st Conv Layer\n",
    "model1.add(Convolution2D(32, 3, 3, input_shape=(32, 32, 1)))\n",
    "model1.add(Activation('relu'))\n",
    "\n",
    "# 2nd Conv Layer\n",
    "model1.add(Convolution2D(32, 3, 3))\n",
    "model1.add(Activation('relu'))  \n",
    "\n",
    "# Max Pooling\n",
    "model1.add(MaxPooling2D(pool_size=(2,2)))\n",
    "    \n",
    "# Dropout\n",
    "model1.add(Dropout(0.25))\n",
    "\n",
    "# Fully Connected Layer\n",
    "model1.add(Flatten())\n",
    "model1.add(Dense(128))\n",
    "model1.add(Activation('relu'))\n",
    "    \n",
    "# model1 Dropout\n",
    "model2_dnn.add(Dropout(0.5))\n",
    "\n",
    "# Prediction Layer\n",
    "model1.add(Dense(10))\n",
    "model1.add(Activation('softmax'))\n",
    "\n",
    "# Loss and Optimizer\n",
    "model1.compile(loss='categorical_crossentropy', optimizer='sgd', metrics=['accuracy'])\n",
    "\n",
    "# Store Training Results\n",
    "early_stopping = keras.callbacks.EarlyStopping(monitor='val_acc', patience=PATIENCE, verbose=1, mode='auto')\n",
    "cb_list = [early_stopping]\n",
    "\n",
    "# Train the model\n",
    "model1.fit(X_train, Y_train, batch_size=BATCH_SIZE, nb_epoch=EPOCHS, validation_data=(X_test, Y_test), callbacks=cb_list)\n",
    "\n",
    "loss_and_metrics = model2_dnn.evaluate(X_test, Y_test)\n",
    "print(loss_and_metrics)\n"
   ]
  },
  {
   "cell_type": "markdown",
   "metadata": {},
   "source": [
    "## Implement batch normalization for training the neural network (2.5 points)"
   ]
  },
  {
   "cell_type": "code",
   "execution_count": 37,
   "metadata": {},
   "outputs": [
    {
     "name": "stderr",
     "output_type": "stream",
     "text": [
      "C:\\Users\\rajan\\Anaconda3\\lib\\site-packages\\ipykernel_launcher.py:6: UserWarning: Update your `Conv2D` call to the Keras 2 API: `Conv2D(32, (3, 3), input_shape=(32, 32, 1...)`\n",
      "  \n",
      "C:\\Users\\rajan\\Anaconda3\\lib\\site-packages\\ipykernel_launcher.py:11: UserWarning: Update your `Conv2D` call to the Keras 2 API: `Conv2D(32, (3, 3))`\n",
      "  # This is added back by InteractiveShellApp.init_path()\n"
     ]
    }
   ],
   "source": [
    "## With batch normalization. Final model.\n",
    "# Define Model\n",
    "model2 = Sequential()\n",
    "\n",
    "# 1st Conv Layer\n",
    "model2.add(Convolution2D(32, 3, 3, input_shape=(32, 32, 1)))\n",
    "model2.add(BatchNormalization())\n",
    "model2.add(Activation('relu'))\n",
    "\n",
    "# 2nd Conv Layer\n",
    "model2.add(Convolution2D(32, 3, 3))\n",
    "model2.add(BatchNormalization())\n",
    "model2.add(Activation('relu'))  \n",
    "\n",
    "# Max Pooling\n",
    "model2.add(MaxPooling2D(pool_size=(2,2)))\n",
    "    \n",
    "# Dropout\n",
    "model2.add(Dropout(0.25))\n",
    "\n",
    "# Fully Connected Layer\n",
    "model2.add(Flatten())\n",
    "model2.add(Dense(128))\n",
    "model2.add(Activation('relu'))\n",
    "    \n",
    "# More Dropout\n",
    "model2.add(Dropout(0.5))\n",
    "\n",
    "# Prediction Layer\n",
    "model2.add(Dense(10))\n",
    "model2.add(Activation('softmax'))\n",
    "\n",
    "# Loss and Optimizer\n",
    "model2.compile(loss='categorical_crossentropy', optimizer='sgd', metrics=['accuracy'])\n",
    "    "
   ]
  },
  {
   "cell_type": "code",
   "execution_count": 40,
   "metadata": {},
   "outputs": [
    {
     "name": "stderr",
     "output_type": "stream",
     "text": [
      "C:\\Users\\rajan\\Anaconda3\\lib\\site-packages\\ipykernel_launcher.py:6: UserWarning: The `nb_epoch` argument in `fit` has been renamed `epochs`.\n",
      "  \n"
     ]
    },
    {
     "name": "stdout",
     "output_type": "stream",
     "text": [
      "Train on 42000 samples, validate on 18000 samples\n",
      "Epoch 1/10\n",
      "42000/42000 [==============================] - 118s 3ms/step - loss: 1.7371 - acc: 0.3768 - val_loss: 0.9244 - val_acc: 0.7244\n",
      "Epoch 2/10\n",
      "42000/42000 [==============================] - 117s 3ms/step - loss: 0.8533 - acc: 0.7286 - val_loss: 0.6334 - val_acc: 0.8046\n",
      "Epoch 3/10\n",
      "42000/42000 [==============================] - 119s 3ms/step - loss: 0.6982 - acc: 0.7820 - val_loss: 0.6019 - val_acc: 0.8219\n",
      "Epoch 4/10\n",
      "42000/42000 [==============================] - 120s 3ms/step - loss: 0.6200 - acc: 0.8043 - val_loss: 0.5406 - val_acc: 0.8419\n",
      "Epoch 5/10\n",
      "42000/42000 [==============================] - 121s 3ms/step - loss: 0.5814 - acc: 0.8189 - val_loss: 0.4783 - val_acc: 0.8566\n",
      "Epoch 6/10\n",
      "42000/42000 [==============================] - 120s 3ms/step - loss: 0.5507 - acc: 0.8255 - val_loss: 0.4505 - val_acc: 0.8681\n",
      "Epoch 7/10\n",
      "42000/42000 [==============================] - 117s 3ms/step - loss: 0.5221 - acc: 0.8368 - val_loss: 0.5017 - val_acc: 0.8458\n",
      "Epoch 8/10\n",
      "42000/42000 [==============================] - 117s 3ms/step - loss: 0.4989 - acc: 0.8430 - val_loss: 0.5196 - val_acc: 0.8469\n",
      "Epoch 9/10\n",
      "42000/42000 [==============================] - 117s 3ms/step - loss: 0.4837 - acc: 0.8506 - val_loss: 0.4331 - val_acc: 0.8713\n",
      "Epoch 10/10\n",
      "42000/42000 [==============================] - 117s 3ms/step - loss: 0.4613 - acc: 0.8546 - val_loss: 0.4762 - val_acc: 0.8618\n"
     ]
    },
    {
     "data": {
      "text/plain": [
       "<keras.callbacks.History at 0x17a08955d30>"
      ]
     },
     "execution_count": 40,
     "metadata": {},
     "output_type": "execute_result"
    }
   ],
   "source": [
    "# Store Training Results\n",
    "early_stopping = keras.callbacks.EarlyStopping(monitor='val_acc', patience=PATIENCE, verbose=1, mode='auto')\n",
    "cb_list = [early_stopping]\n",
    "\n",
    "# Train the model\n",
    "model2.fit(X_train, Y_train, batch_size=BATCH_SIZE, nb_epoch=EPOCHS, validation_data=(X_test, Y_test), callbacks=cb_list)"
   ]
  },
  {
   "cell_type": "code",
   "execution_count": 41,
   "metadata": {},
   "outputs": [
    {
     "name": "stdout",
     "output_type": "stream",
     "text": [
      "18000/18000 [==============================] - 17s 958us/step\n",
      "[0.47618052507771386, 0.8617777777777778]\n"
     ]
    }
   ],
   "source": [
    "loss_and_metrics1 = model2.evaluate(X_test, Y_test)\n",
    "print(loss_and_metrics1)\n"
   ]
  },
  {
   "cell_type": "code",
   "execution_count": 44,
   "metadata": {},
   "outputs": [],
   "source": [
    "from sklearn.metrics import classification_report\n",
    "y_pred=model2.predict(X_test, batch_size=200, verbose=2)\n"
   ]
  },
  {
   "cell_type": "code",
   "execution_count": 47,
   "metadata": {},
   "outputs": [
    {
     "name": "stdout",
     "output_type": "stream",
     "text": [
      "              precision    recall  f1-score   support\n",
      "\n",
      "           0       0.98      0.75      0.85      1814\n",
      "           1       0.98      0.64      0.78      1828\n",
      "           2       0.94      0.87      0.90      1803\n",
      "           3       0.92      0.77      0.84      1719\n",
      "           4       0.95      0.84      0.89      1812\n",
      "           5       0.90      0.85      0.87      1768\n",
      "           6       0.93      0.78      0.85      1832\n",
      "           7       0.95      0.84      0.89      1808\n",
      "           8       0.97      0.74      0.84      1812\n",
      "           9       0.94      0.78      0.85      1804\n",
      "\n",
      "   micro avg       0.94      0.79      0.86     18000\n",
      "   macro avg       0.95      0.79      0.86     18000\n",
      "weighted avg       0.95      0.79      0.86     18000\n",
      " samples avg       0.79      0.79      0.79     18000\n",
      "\n"
     ]
    },
    {
     "name": "stderr",
     "output_type": "stream",
     "text": [
      "C:\\Users\\rajan\\Anaconda3\\lib\\site-packages\\sklearn\\metrics\\classification.py:1143: UndefinedMetricWarning: Precision and F-score are ill-defined and being set to 0.0 in samples with no predicted labels.\n",
      "  'precision', 'predicted', average, warn_for)\n"
     ]
    }
   ],
   "source": [
    "print(classification_report(Y_test, y_pred.round()))\n"
   ]
  },
  {
   "cell_type": "code",
   "execution_count": null,
   "metadata": {},
   "outputs": [],
   "source": []
  }
 ],
 "metadata": {
  "kernelspec": {
   "display_name": "Python 3",
   "language": "python",
   "name": "python3"
  },
  "language_info": {
   "codemirror_mode": {
    "name": "ipython",
    "version": 3
   },
   "file_extension": ".py",
   "mimetype": "text/x-python",
   "name": "python",
   "nbconvert_exporter": "python",
   "pygments_lexer": "ipython3",
   "version": "3.7.1"
  }
 },
 "nbformat": 4,
 "nbformat_minor": 2
}
