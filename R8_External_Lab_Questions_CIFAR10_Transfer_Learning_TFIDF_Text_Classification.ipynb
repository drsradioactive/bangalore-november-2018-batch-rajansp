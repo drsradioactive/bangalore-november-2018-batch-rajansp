{
 "cells": [
  {
   "cell_type": "markdown",
   "metadata": {
    "colab_type": "text",
    "id": "QGIsF1ADyJ58"
   },
   "source": [
    "# Transfer Learning CIFAR10"
   ]
  },
  {
   "cell_type": "markdown",
   "metadata": {
    "colab_type": "text",
    "id": "E-n6tVFayGBe"
   },
   "source": [
    "* Train a simple convnet on the CIFAR dataset the first 5 output classes [0..4].\n",
    "* Freeze convolutional layers and fine-tune dense layers for the last 5 ouput classes [5..9].\n"
   ]
  },
  {
   "cell_type": "code",
   "execution_count": 49,
   "metadata": {},
   "outputs": [],
   "source": [
    "from IPython.core.interactiveshell import InteractiveShell\n",
    "InteractiveShell.ast_node_interactivity = \"all\"\n",
    "import warnings\n",
    "warnings.filterwarnings('ignore')\n",
    "import pandas as pd\n",
    "import numpy as np\n",
    "from matplotlib import pyplot as plt"
   ]
  },
  {
   "cell_type": "markdown",
   "metadata": {
    "colab_type": "text",
    "id": "Cq8ejXHJyGYq"
   },
   "source": [
    "### 1. Import CIFAR10 data and create 2 datasets with one dataset having classes from 0 to 4 and other having classes from 5 to 9 "
   ]
  },
  {
   "cell_type": "code",
   "execution_count": 50,
   "metadata": {
    "colab": {},
    "colab_type": "code",
    "id": "uWYbxnBayFUP"
   },
   "outputs": [],
   "source": [
    "import keras\n",
    "from keras.datasets import cifar10\n",
    "from keras.layers import Dense, Convolution2D, Flatten, Activation, MaxPooling2D, Dropout\n",
    "from keras.models import Sequential\n",
    "from keras.utils import np_utils\n"
   ]
  },
  {
   "cell_type": "code",
   "execution_count": 51,
   "metadata": {},
   "outputs": [],
   "source": [
    "(x_train, y_train), (x_test, y_test) = cifar10.load_data()"
   ]
  },
  {
   "cell_type": "code",
   "execution_count": 52,
   "metadata": {},
   "outputs": [
    {
     "data": {
      "text/plain": [
       "(50000, 32, 32, 3)"
      ]
     },
     "execution_count": 52,
     "metadata": {},
     "output_type": "execute_result"
    },
    {
     "data": {
      "text/plain": [
       "(50000, 1)"
      ]
     },
     "execution_count": 52,
     "metadata": {},
     "output_type": "execute_result"
    },
    {
     "data": {
      "text/plain": [
       "(10000, 32, 32, 3)"
      ]
     },
     "execution_count": 52,
     "metadata": {},
     "output_type": "execute_result"
    },
    {
     "data": {
      "text/plain": [
       "(10000, 1)"
      ]
     },
     "execution_count": 52,
     "metadata": {},
     "output_type": "execute_result"
    }
   ],
   "source": [
    "x_train.shape\n",
    "y_train.shape\n",
    "x_test.shape\n",
    "y_test.shape"
   ]
  },
  {
   "cell_type": "code",
   "execution_count": 53,
   "metadata": {},
   "outputs": [],
   "source": [
    "X1_train = []\n",
    "X1_test = []\n",
    "X2_train = []\n",
    "X2_test = []\n",
    "Y1_train = []\n",
    "Y1_test = []\n",
    "Y2_train = []\n",
    "Y2_test = []"
   ]
  },
  {
   "cell_type": "code",
   "execution_count": 54,
   "metadata": {},
   "outputs": [],
   "source": [
    "\n",
    "n_examples = 50000\n",
    "\n",
    "for ix in range(n_examples):\n",
    "    if y_train[ix] < 5:\n",
    "        # put data in set 1\n",
    "        X1_train.append(x_train[ix]/255.0)\n",
    "        Y1_train.append(y_train[ix])\n",
    "    else:\n",
    "        # put data in set 2\n",
    "        X2_train.append(x_train[ix]/255.0)\n",
    "        Y2_train.append(y_train[ix])\n",
    "\n",
    "for ix in range(y_test.shape[0]):\n",
    "    if y_test[ix] < 5:\n",
    "        # put data in set 1\n",
    "        X1_test.append(x_test[ix]/255.0)\n",
    "        Y1_test.append(y_test[ix])\n",
    "    else:\n",
    "        # put data in set 2\n",
    "        X2_test.append(x_test[ix]/255.0)\n",
    "        Y2_test.append(y_test[ix])\n"
   ]
  },
  {
   "cell_type": "code",
   "execution_count": 55,
   "metadata": {},
   "outputs": [],
   "source": [
    "X1_train = np.asarray(X1_train).reshape((-1, 32, 32, 3))\n",
    "X1_test = np.asarray(X1_test).reshape((-1, 32, 32, 3))\n",
    "X2_train = np.asarray(X2_train).reshape((-1, 32, 32, 3))\n",
    "X2_test = np.asarray(X2_test).reshape((-1, 32, 32, 3))"
   ]
  },
  {
   "cell_type": "code",
   "execution_count": 56,
   "metadata": {},
   "outputs": [
    {
     "data": {
      "text/plain": [
       "(25000, 32, 32, 3)"
      ]
     },
     "execution_count": 56,
     "metadata": {},
     "output_type": "execute_result"
    },
    {
     "data": {
      "text/plain": [
       "(5000, 32, 32, 3)"
      ]
     },
     "execution_count": 56,
     "metadata": {},
     "output_type": "execute_result"
    },
    {
     "data": {
      "text/plain": [
       "(25000, 32, 32, 3)"
      ]
     },
     "execution_count": 56,
     "metadata": {},
     "output_type": "execute_result"
    },
    {
     "data": {
      "text/plain": [
       "(5000, 32, 32, 3)"
      ]
     },
     "execution_count": 56,
     "metadata": {},
     "output_type": "execute_result"
    }
   ],
   "source": [
    "X1_train.shape\n",
    "X1_test.shape\n",
    "X2_train.shape\n",
    "X2_test.shape"
   ]
  },
  {
   "cell_type": "markdown",
   "metadata": {
    "colab_type": "text",
    "id": "xtCKmQh4yXhT"
   },
   "source": [
    "### 2. Use One-hot encoding to divide y_train and y_test into required no of output classes"
   ]
  },
  {
   "cell_type": "code",
   "execution_count": 57,
   "metadata": {
    "colab": {},
    "colab_type": "code",
    "id": "uN5O2kJ3yYa6"
   },
   "outputs": [],
   "source": [
    "Y1_train = np_utils.to_categorical(np.asarray(Y1_train), num_classes=5)\n",
    "Y1_test = np_utils.to_categorical(np.asarray(Y1_test), num_classes=5)\n",
    "\n",
    "Y2_train = np_utils.to_categorical(np.asarray(Y2_train), num_classes=10)\n",
    "Y2_test = np_utils.to_categorical(np.asarray(Y2_test), num_classes=10)\n"
   ]
  },
  {
   "cell_type": "code",
   "execution_count": 58,
   "metadata": {},
   "outputs": [
    {
     "data": {
      "text/plain": [
       "(25000, 5)"
      ]
     },
     "execution_count": 58,
     "metadata": {},
     "output_type": "execute_result"
    },
    {
     "data": {
      "text/plain": [
       "(5000, 5)"
      ]
     },
     "execution_count": 58,
     "metadata": {},
     "output_type": "execute_result"
    },
    {
     "data": {
      "text/plain": [
       "(25000, 10)"
      ]
     },
     "execution_count": 58,
     "metadata": {},
     "output_type": "execute_result"
    },
    {
     "data": {
      "text/plain": [
       "(5000, 10)"
      ]
     },
     "execution_count": 58,
     "metadata": {},
     "output_type": "execute_result"
    }
   ],
   "source": [
    "Y1_train.shape\n",
    "Y1_test.shape\n",
    "Y2_train.shape\n",
    "Y2_test.shape"
   ]
  },
  {
   "cell_type": "code",
   "execution_count": 59,
   "metadata": {},
   "outputs": [],
   "source": [
    "S1 = int(0.8 * X1_train.shape[0])\n",
    "S2 = int(0.8 * X2_train.shape[0])"
   ]
  },
  {
   "cell_type": "code",
   "execution_count": 60,
   "metadata": {},
   "outputs": [],
   "source": [
    "\n",
    "x1_valuation = X1_train[S1:]\n",
    "x1_train = X1_train[:S1]\n",
    "y1_valuation = Y1_train[S1:]\n",
    "y1_train = Y1_train[:S1]\n",
    "\n",
    "x2_valuation = X2_train[S2:]\n",
    "x2_train = X2_train[:S2]\n",
    "y2_valuation = Y2_train[S2:]\n",
    "y2_train = Y2_train[:S2]"
   ]
  },
  {
   "cell_type": "markdown",
   "metadata": {
    "colab_type": "text",
    "id": "cuOiKWfeybAl"
   },
   "source": [
    "### 3. Build a sequential neural network model which can classify the classes 0 to 4 of CIFAR10 dataset with at least 80% accuracy on test data"
   ]
  },
  {
   "cell_type": "code",
   "execution_count": 61,
   "metadata": {
    "colab": {},
    "colab_type": "code",
    "id": "5HzxNbiiyoBD"
   },
   "outputs": [
    {
     "name": "stdout",
     "output_type": "stream",
     "text": [
      "_________________________________________________________________\n",
      "Layer (type)                 Output Shape              Param #   \n",
      "=================================================================\n",
      "conv2d_4 (Conv2D)            (None, 28, 28, 32)        2432      \n",
      "_________________________________________________________________\n",
      "conv2d_5 (Conv2D)            (None, 24, 24, 16)        12816     \n",
      "_________________________________________________________________\n",
      "max_pooling2d_2 (MaxPooling2 (None, 12, 12, 16)        0         \n",
      "_________________________________________________________________\n",
      "conv2d_6 (Conv2D)            (None, 10, 10, 8)         1160      \n",
      "_________________________________________________________________\n",
      "flatten_2 (Flatten)          (None, 800)               0         \n",
      "_________________________________________________________________\n",
      "dropout_2 (Dropout)          (None, 800)               0         \n",
      "_________________________________________________________________\n",
      "dense_5 (Dense)              (None, 128)               102528    \n",
      "_________________________________________________________________\n",
      "activation_5 (Activation)    (None, 128)               0         \n",
      "_________________________________________________________________\n",
      "dense_6 (Dense)              (None, 5)                 645       \n",
      "_________________________________________________________________\n",
      "activation_6 (Activation)    (None, 5)                 0         \n",
      "=================================================================\n",
      "Total params: 119,581\n",
      "Trainable params: 119,581\n",
      "Non-trainable params: 0\n",
      "_________________________________________________________________\n"
     ]
    }
   ],
   "source": [
    "model = Sequential()\n",
    "\n",
    "model.add(Convolution2D(32, 5, 5, input_shape=(32, 32, 3), activation='relu'))\n",
    "model.add(Convolution2D(16, 5, 5, activation='relu'))\n",
    "model.add(MaxPooling2D(pool_size=(2,2)))\n",
    "model.add(Convolution2D(8, 3, 3, activation='relu'))\n",
    "model.add(Flatten())\n",
    "model.add(Dropout(0.42))\n",
    "\n",
    "model.add(Dense(128))\n",
    "model.add(Activation('relu'))\n",
    "\n",
    "model.add(Dense(5))\n",
    "model.add(Activation('softmax'))\n",
    "\n",
    "model.summary()\n",
    "model.compile(loss='categorical_crossentropy', optimizer='adam', metrics=['accuracy'])"
   ]
  },
  {
   "cell_type": "code",
   "execution_count": 63,
   "metadata": {},
   "outputs": [
    {
     "name": "stdout",
     "output_type": "stream",
     "text": [
      "Train on 20000 samples, validate on 5000 samples\n",
      "Epoch 1/30\n",
      " - 61s - loss: 0.9395 - acc: 0.6157 - val_loss: 0.8847 - val_acc: 0.6446\n",
      "Epoch 2/30\n",
      " - 64s - loss: 0.8904 - acc: 0.6387 - val_loss: 0.8542 - val_acc: 0.6640\n",
      "Epoch 3/30\n",
      " - 63s - loss: 0.8575 - acc: 0.6538 - val_loss: 0.8723 - val_acc: 0.6620\n",
      "Epoch 4/30\n",
      " - 63s - loss: 0.8316 - acc: 0.6652 - val_loss: 0.8143 - val_acc: 0.6750\n",
      "Epoch 5/30\n",
      " - 63s - loss: 0.8014 - acc: 0.6813 - val_loss: 0.8442 - val_acc: 0.6724\n",
      "Epoch 6/30\n",
      " - 62s - loss: 0.7812 - acc: 0.6907 - val_loss: 0.7848 - val_acc: 0.6972\n",
      "Epoch 7/30\n",
      " - 62s - loss: 0.7594 - acc: 0.6986 - val_loss: 0.7578 - val_acc: 0.7062\n",
      "Epoch 8/30\n",
      " - 61s - loss: 0.7348 - acc: 0.7105 - val_loss: 0.7596 - val_acc: 0.7104\n",
      "Epoch 9/30\n",
      " - 61s - loss: 0.7101 - acc: 0.7241 - val_loss: 0.7326 - val_acc: 0.7168\n",
      "Epoch 10/30\n",
      " - 61s - loss: 0.6776 - acc: 0.7376 - val_loss: 0.7290 - val_acc: 0.7214\n",
      "Epoch 11/30\n",
      " - 62s - loss: 0.6670 - acc: 0.7401 - val_loss: 0.7534 - val_acc: 0.7088\n",
      "Epoch 12/30\n",
      " - 61s - loss: 0.6477 - acc: 0.7514 - val_loss: 0.7795 - val_acc: 0.7074\n",
      "Epoch 13/30\n",
      " - 62s - loss: 0.6324 - acc: 0.7526 - val_loss: 0.7267 - val_acc: 0.7248\n",
      "Epoch 14/30\n",
      " - 62s - loss: 0.6114 - acc: 0.7640 - val_loss: 0.7165 - val_acc: 0.7344\n",
      "Epoch 15/30\n",
      " - 63s - loss: 0.5972 - acc: 0.7679 - val_loss: 0.7168 - val_acc: 0.7250\n",
      "Epoch 16/30\n",
      " - 62s - loss: 0.5835 - acc: 0.7797 - val_loss: 0.6892 - val_acc: 0.7416\n",
      "Epoch 17/30\n",
      " - 62s - loss: 0.5739 - acc: 0.7786 - val_loss: 0.7255 - val_acc: 0.7288\n",
      "Epoch 18/30\n",
      " - 62s - loss: 0.5612 - acc: 0.7826 - val_loss: 0.7131 - val_acc: 0.7266\n",
      "Epoch 19/30\n",
      " - 62s - loss: 0.5424 - acc: 0.7940 - val_loss: 0.6940 - val_acc: 0.7444\n",
      "Epoch 20/30\n",
      " - 62s - loss: 0.5236 - acc: 0.7989 - val_loss: 0.7143 - val_acc: 0.7348\n",
      "Epoch 21/30\n",
      " - 64s - loss: 0.5107 - acc: 0.8045 - val_loss: 0.7070 - val_acc: 0.7362\n",
      "Epoch 22/30\n",
      " - 63s - loss: 0.5090 - acc: 0.8035 - val_loss: 0.7041 - val_acc: 0.7394\n",
      "Epoch 23/30\n",
      " - 63s - loss: 0.4999 - acc: 0.8097 - val_loss: 0.7086 - val_acc: 0.7448\n",
      "Epoch 24/30\n",
      " - 62s - loss: 0.4904 - acc: 0.8173 - val_loss: 0.6903 - val_acc: 0.7530\n",
      "Epoch 25/30\n",
      " - 63s - loss: 0.4762 - acc: 0.8196 - val_loss: 0.6997 - val_acc: 0.7422\n",
      "Epoch 26/30\n",
      " - 63s - loss: 0.4573 - acc: 0.8221 - val_loss: 0.7176 - val_acc: 0.7466\n",
      "Epoch 27/30\n",
      " - 63s - loss: 0.4556 - acc: 0.8264 - val_loss: 0.7071 - val_acc: 0.7450\n",
      "Epoch 28/30\n",
      " - 62s - loss: 0.4381 - acc: 0.8333 - val_loss: 0.7909 - val_acc: 0.7174\n",
      "Epoch 29/30\n",
      " - 63s - loss: 0.4302 - acc: 0.8368 - val_loss: 0.7572 - val_acc: 0.7258\n",
      "Epoch 30/30\n",
      " - 67s - loss: 0.4265 - acc: 0.8362 - val_loss: 0.7302 - val_acc: 0.7404\n",
      "\n",
      "\n",
      " -------------------- \n",
      "\n",
      "Time taken for first training:  0:31:13.297518\n",
      "\n",
      " -------------------- \n",
      "\n",
      "\n"
     ]
    }
   ],
   "source": [
    "import time, datetime\n",
    "\n",
    "start = datetime.datetime.now()\n",
    "model1 = model.fit(x1_train, y1_train,\n",
    "         nb_epoch=30,\n",
    "         shuffle=True,\n",
    "         batch_size=100,\n",
    "         validation_data=(x1_valuation, y1_valuation), verbose=2)\n",
    "\n",
    "time_taken = datetime.datetime.now() - start\n",
    "print('\\n'*2, '-'*20, '\\n')\n",
    "print('Time taken for first training: ', time_taken)\n",
    "print('\\n', '-'*20, '\\n'*2)\n"
   ]
  },
  {
   "cell_type": "markdown",
   "metadata": {},
   "source": [
    "## Achieved 80% accuracy at 22nd epoch. \n",
    "## Achieved a validation accuracy of 73.62% at 22 epochs. \n",
    "## The training time was 31 minutes and 13 seconds."
   ]
  },
  {
   "cell_type": "markdown",
   "metadata": {
    "colab_type": "text",
    "id": "woTfNst_ynRG"
   },
   "source": [
    "### 4. In the model which was built above (for classification of classes 0-4 in CIFAR10), make only the dense layers to be trainable and conv layers to be non-trainable"
   ]
  },
  {
   "cell_type": "code",
   "execution_count": 67,
   "metadata": {
    "colab": {},
    "colab_type": "code",
    "id": "o_VCDB3Byb1a"
   },
   "outputs": [],
   "source": [
    "for l in model.layers[:6]:\n",
    "    l.trainable = False"
   ]
  },
  {
   "cell_type": "markdown",
   "metadata": {
    "colab_type": "text",
    "id": "1-uUPqWpyeyX"
   },
   "source": [
    "### 5. Utilize the the model trained on CIFAR 10 (classes 0 to 4) to classify the classes 5 to 9 of CIFAR 10  (Use Transfer Learning) <br>\n",
    "Achieve an accuracy of more than 85% on test data"
   ]
  },
  {
   "cell_type": "code",
   "execution_count": 68,
   "metadata": {
    "colab": {},
    "colab_type": "code",
    "id": "szHjJgDvyfCt"
   },
   "outputs": [
    {
     "name": "stdout",
     "output_type": "stream",
     "text": [
      "_________________________________________________________________\n",
      "Layer (type)                 Output Shape              Param #   \n",
      "=================================================================\n",
      "conv2d_4 (Conv2D)            (None, 28, 28, 32)        2432      \n",
      "_________________________________________________________________\n",
      "conv2d_5 (Conv2D)            (None, 24, 24, 16)        12816     \n",
      "_________________________________________________________________\n",
      "max_pooling2d_2 (MaxPooling2 (None, 12, 12, 16)        0         \n",
      "_________________________________________________________________\n",
      "conv2d_6 (Conv2D)            (None, 10, 10, 8)         1160      \n",
      "_________________________________________________________________\n",
      "flatten_2 (Flatten)          (None, 800)               0         \n",
      "_________________________________________________________________\n",
      "dropout_2 (Dropout)          (None, 800)               0         \n",
      "_________________________________________________________________\n",
      "dense_9 (Dense)              (None, 128)               102528    \n",
      "_________________________________________________________________\n",
      "activation_9 (Activation)    (None, 128)               0         \n",
      "_________________________________________________________________\n",
      "dense_10 (Dense)             (None, 10)                1290      \n",
      "_________________________________________________________________\n",
      "activation_10 (Activation)   (None, 10)                0         \n",
      "=================================================================\n",
      "Total params: 120,226\n",
      "Trainable params: 103,818\n",
      "Non-trainable params: 16,408\n",
      "_________________________________________________________________\n"
     ]
    }
   ],
   "source": [
    "trans_model = Sequential(model.layers[:6])\n",
    "\n",
    "trans_model.add(Dense(128))\n",
    "trans_model.add(Activation('relu'))\n",
    "trans_model.add(Dense(10))\n",
    "trans_model.add(Activation('softmax'))\n",
    "\n",
    "trans_model.summary()\n",
    "trans_model.compile(loss='categorical_crossentropy', optimizer='adam', metrics=['accuracy'])"
   ]
  },
  {
   "cell_type": "code",
   "execution_count": 69,
   "metadata": {},
   "outputs": [
    {
     "name": "stdout",
     "output_type": "stream",
     "text": [
      "Train on 20000 samples, validate on 5000 samples\n",
      "Epoch 1/25\n",
      " - 13s - loss: 0.8948 - acc: 0.6612 - val_loss: 0.7392 - val_acc: 0.7234\n",
      "Epoch 2/25\n",
      " - 12s - loss: 0.7498 - acc: 0.7192 - val_loss: 0.7006 - val_acc: 0.7400\n",
      "Epoch 3/25\n",
      " - 13s - loss: 0.7116 - acc: 0.7374 - val_loss: 0.6690 - val_acc: 0.7516\n",
      "Epoch 4/25\n",
      " - 13s - loss: 0.6766 - acc: 0.7441 - val_loss: 0.6580 - val_acc: 0.7588\n",
      "Epoch 5/25\n",
      " - 12s - loss: 0.6490 - acc: 0.7561 - val_loss: 0.6451 - val_acc: 0.7594\n",
      "Epoch 6/25\n",
      " - 12s - loss: 0.6257 - acc: 0.7642 - val_loss: 0.6220 - val_acc: 0.7726\n",
      "Epoch 7/25\n",
      " - 13s - loss: 0.5970 - acc: 0.7752 - val_loss: 0.6226 - val_acc: 0.7750\n",
      "Epoch 8/25\n",
      " - 13s - loss: 0.5812 - acc: 0.7811 - val_loss: 0.6072 - val_acc: 0.7790\n",
      "Epoch 9/25\n",
      " - 13s - loss: 0.5580 - acc: 0.7913 - val_loss: 0.5957 - val_acc: 0.7856\n",
      "Epoch 10/25\n",
      " - 13s - loss: 0.5406 - acc: 0.7996 - val_loss: 0.5994 - val_acc: 0.7800\n",
      "Epoch 11/25\n",
      " - 13s - loss: 0.5268 - acc: 0.8030 - val_loss: 0.5945 - val_acc: 0.7858\n",
      "Epoch 12/25\n",
      " - 13s - loss: 0.5047 - acc: 0.8116 - val_loss: 0.5907 - val_acc: 0.7896\n",
      "Epoch 13/25\n",
      " - 13s - loss: 0.4999 - acc: 0.8114 - val_loss: 0.5994 - val_acc: 0.7814\n",
      "Epoch 14/25\n",
      " - 13s - loss: 0.4831 - acc: 0.8198 - val_loss: 0.5913 - val_acc: 0.7850\n",
      "Epoch 15/25\n",
      " - 13s - loss: 0.4679 - acc: 0.8263 - val_loss: 0.5869 - val_acc: 0.7878\n",
      "Epoch 16/25\n",
      " - 13s - loss: 0.4563 - acc: 0.8312 - val_loss: 0.5946 - val_acc: 0.7830\n",
      "Epoch 17/25\n",
      " - 13s - loss: 0.4401 - acc: 0.8321 - val_loss: 0.6061 - val_acc: 0.7838\n",
      "Epoch 18/25\n",
      " - 13s - loss: 0.4298 - acc: 0.8380 - val_loss: 0.5971 - val_acc: 0.7848\n",
      "Epoch 19/25\n",
      " - 13s - loss: 0.4229 - acc: 0.8426 - val_loss: 0.6000 - val_acc: 0.7860\n",
      "Epoch 20/25\n",
      " - 12s - loss: 0.4145 - acc: 0.8447 - val_loss: 0.5981 - val_acc: 0.7874\n",
      "Epoch 21/25\n",
      " - 13s - loss: 0.4056 - acc: 0.8485 - val_loss: 0.6070 - val_acc: 0.7854\n",
      "Epoch 22/25\n",
      " - 12s - loss: 0.3892 - acc: 0.8564 - val_loss: 0.6053 - val_acc: 0.7848\n",
      "Epoch 23/25\n",
      " - 13s - loss: 0.3856 - acc: 0.8558 - val_loss: 0.6157 - val_acc: 0.7896\n",
      "Epoch 24/25\n",
      " - 13s - loss: 0.3815 - acc: 0.8592 - val_loss: 0.6048 - val_acc: 0.7856\n",
      "Epoch 25/25\n",
      " - 12s - loss: 0.3763 - acc: 0.8611 - val_loss: 0.6034 - val_acc: 0.7882\n",
      "\n",
      "\n",
      " -------------------- \n",
      "\n",
      "Time taken for first training:  0:05:17.149085\n",
      "\n",
      " -------------------- \n",
      "\n",
      "\n"
     ]
    }
   ],
   "source": [
    "start = datetime.datetime.now()\n",
    "model2 = trans_model.fit(x2_train, y2_train, nb_epoch=25, shuffle=True, batch_size=100, validation_data=(x2_valuation, y2_valuation), verbose=2)\n",
    "time_taken = datetime.datetime.now() - start\n",
    "print('\\n'*2, '-'*20, '\\n')\n",
    "print('Time taken for first training: ', time_taken)\n",
    "print('\\n', '-'*20, '\\n'*2)"
   ]
  },
  {
   "cell_type": "markdown",
   "metadata": {},
   "source": [
    "## Used transfer learning to expedite the training process.\n",
    "## 86% accuracy is acheived at 25th Epoch. \n",
    "## validadation accuracy of 78.82% is acheived at 25 epochs. \n",
    "## The training time has been reduced to 5 minnutes and 7 seconds."
   ]
  },
  {
   "cell_type": "markdown",
   "metadata": {
    "colab_type": "text",
    "id": "0zDuRecXzEtr"
   },
   "source": [
    "# Text classification using TF-IDF"
   ]
  },
  {
   "cell_type": "markdown",
   "metadata": {
    "colab_type": "text",
    "id": "xMPlEJhHzb6P"
   },
   "source": [
    "### 6. Load the dataset from sklearn.datasets"
   ]
  },
  {
   "cell_type": "code",
   "execution_count": 70,
   "metadata": {
    "colab": {},
    "colab_type": "code",
    "id": "Fe-B59u3zHNb"
   },
   "outputs": [],
   "source": [
    "from sklearn.datasets import fetch_20newsgroups"
   ]
  },
  {
   "cell_type": "code",
   "execution_count": 71,
   "metadata": {
    "colab": {},
    "colab_type": "code",
    "id": "PRrMemVQzbHU"
   },
   "outputs": [],
   "source": [
    "categories = ['alt.atheism', 'soc.religion.christian', 'comp.graphics', 'sci.med']"
   ]
  },
  {
   "cell_type": "markdown",
   "metadata": {
    "colab_type": "text",
    "id": "-sZX0UbJzmg5"
   },
   "source": [
    "### 7. Training data"
   ]
  },
  {
   "cell_type": "code",
   "execution_count": 72,
   "metadata": {
    "colab": {},
    "colab_type": "code",
    "id": "CITr_5aXziJ2"
   },
   "outputs": [],
   "source": [
    "twenty_train = fetch_20newsgroups(subset='train', categories=categories, shuffle=True, random_state=42)"
   ]
  },
  {
   "cell_type": "markdown",
   "metadata": {
    "colab_type": "text",
    "id": "xcESc5QXzr6p"
   },
   "source": [
    "### 8. Test data"
   ]
  },
  {
   "cell_type": "code",
   "execution_count": 73,
   "metadata": {
    "colab": {},
    "colab_type": "code",
    "id": "ysInblUMzpvl"
   },
   "outputs": [],
   "source": [
    "twenty_test = fetch_20newsgroups(subset='test', categories=categories, shuffle=True, random_state=42)"
   ]
  },
  {
   "cell_type": "markdown",
   "metadata": {
    "colab_type": "text",
    "id": "DriL2yZ50DQq"
   },
   "source": [
    "###  a.  You can access the values for the target variable using .target attribute \n",
    "###  b. You can access the name of the class in the target variable with .target_names\n"
   ]
  },
  {
   "cell_type": "code",
   "execution_count": 74,
   "metadata": {
    "colab": {},
    "colab_type": "code",
    "id": "vlUuai99z1hX"
   },
   "outputs": [
    {
     "data": {
      "text/plain": [
       "array([1, 1, 3, ..., 2, 2, 2], dtype=int64)"
      ]
     },
     "execution_count": 74,
     "metadata": {},
     "output_type": "execute_result"
    }
   ],
   "source": [
    "twenty_train.target"
   ]
  },
  {
   "cell_type": "code",
   "execution_count": 75,
   "metadata": {
    "colab": {},
    "colab_type": "code",
    "id": "VEKzaDfSz5E-"
   },
   "outputs": [
    {
     "data": {
      "text/plain": [
       "['alt.atheism', 'comp.graphics', 'sci.med', 'soc.religion.christian']"
      ]
     },
     "execution_count": 75,
     "metadata": {},
     "output_type": "execute_result"
    }
   ],
   "source": [
    "twenty_train.target_names"
   ]
  },
  {
   "cell_type": "code",
   "execution_count": 76,
   "metadata": {
    "colab": {},
    "colab_type": "code",
    "id": "clBMKHzC0_N1"
   },
   "outputs": [
    {
     "data": {
      "text/plain": [
       "['From: sd345@city.ac.uk (Michael Collier)\\nSubject: Converting images to HP LaserJet III?\\nNntp-Posting-Host: hampton\\nOrganization: The City University\\nLines: 14\\n\\nDoes anyone know of a good way (standard PC application/PD utility) to\\nconvert tif/img/tga files into LaserJet III format.  We would also like to\\ndo the same, converting to HPGL (HP plotter) files.\\n\\nPlease email any response.\\n\\nIs this the correct group?\\n\\nThanks in advance.  Michael.\\n-- \\nMichael Collier (Programmer)                 The Computer Unit,\\nEmail: M.P.Collier@uk.ac.city                The City University,\\nTel: 071 477-8000 x3769                      London,\\nFax: 071 477-8565                            EC1V 0HB.\\n',\n",
       " \"From: ani@ms.uky.edu (Aniruddha B. Deglurkar)\\nSubject: help: Splitting a trimming region along a mesh \\nOrganization: University Of Kentucky, Dept. of Math Sciences\\nLines: 28\\n\\n\\n\\n\\tHi,\\n\\n\\tI have a problem, I hope some of the 'gurus' can help me solve.\\n\\n\\tBackground of the problem:\\n\\tI have a rectangular mesh in the uv domain, i.e  the mesh is a \\n\\tmapping of a 3d Bezier patch into 2d. The area in this domain\\n\\twhich is inside a trimming loop had to be rendered. The trimming\\n\\tloop is a set of 2d Bezier curve segments.\\n\\tFor the sake of notation: the mesh is made up of cells.\\n\\n\\tMy problem is this :\\n\\tThe trimming area has to be split up into individual smaller\\n\\tcells bounded by the trimming curve segments. If a cell\\n\\tis wholly inside the area...then it is output as a whole ,\\n\\telse it is trivially rejected. \\n\\n\\tDoes any body know how thiss can be done, or is there any algo. \\n\\tsomewhere for doing this.\\n\\n\\tAny help would be appreciated.\\n\\n\\tThanks, \\n\\tAni.\\n-- \\nTo get irritated is human, to stay cool, divine.\\n\",\n",
       " \"From: djohnson@cs.ucsd.edu (Darin Johnson)\\nSubject: Re: harrassed at work, could use some prayers\\nOrganization: =CSE Dept., U.C. San Diego\\nLines: 63\\n\\n(Well, I'll email also, but this may apply to other people, so\\nI'll post also.)\\n\\n>I've been working at this company for eight years in various\\n>engineering jobs.  I'm female.  Yesterday I counted and realized that\\n>on seven different occasions I've been sexually harrassed at this\\n>company.\\n\\n>I dreaded coming back to work today.  What if my boss comes in to ask\\n>me some kind of question...\\n\\nYour boss should be the person bring these problems to.  If he/she\\ndoes not seem to take any action, keep going up higher and higher.\\nSexual harrassment does not need to be tolerated, and it can be an\\nenormous emotional support to discuss this with someone and know that\\nthey are trying to do something about it.  If you feel you can not\\ndiscuss this with your boss, perhaps your company has a personnel\\ndepartment that can work for you while preserving your privacy.  Most\\ncompanies will want to deal with this problem because constant anxiety\\ndoes seriously affect how effectively employees do their jobs.\\n\\nIt is unclear from your letter if you have done this or not.  It is\\nnot inconceivable that management remains ignorant of employee\\nproblems/strife even after eight years (it's a miracle if they do\\nnotice).  Perhaps your manager did not bring to the attention of\\nhigher ups?  If the company indeed does seem to want to ignore the\\nentire problem, there may be a state agency willing to fight with\\nyou.  (check with a lawyer, a women's resource center, etc to find out)\\n\\nYou may also want to discuss this with your paster, priest, husband,\\netc.  That is, someone you know will not be judgemental and that is\\nsupportive, comforting, etc.  This will bring a lot of healing.\\n\\n>So I returned at 11:25, only to find that ever single\\n>person had already left for lunch.  They left at 11:15 or so.  No one\\n>could be bothered to call me at the other building, even though my\\n>number was posted.\\n\\nThis happens to a lot of people.  Honest.  I believe it may seem\\nto be due to gross insensitivity because of the feelings you are\\ngoing through.  People in offices tend to be more insensitive while\\nworking than they normally are (maybe it's the hustle or stress or...)\\nI've had this happen to me a lot, often because they didn't realize\\nmy car was broken, etc.  Then they will come back and wonder why I\\ndidn't want to go (this would tend to make me stop being angry at\\nbeing ignored and make me laugh).  Once, we went off without our\\nboss, who was paying for the lunch :-)\\n\\n>For this\\n>reason I hope good Mr. Moderator allows me this latest indulgence.\\n\\nWell, if you can't turn to the computer for support, what would\\nwe do?  (signs of the computer age :-)\\n\\nIn closing, please don't let the hateful actions of a single person\\nharm you.  They are doing it because they are still the playground\\nbully and enjoy seeing the hurt they cause.  And you should not\\naccept the opinions of an imbecile that you are worthless - much\\nwiser people hold you in great esteem.\\n-- \\nDarin Johnson\\ndjohnson@ucsd.edu\\n  - Luxury!  In MY day, we had to make do with 5 bytes of swap...\\n\",\n",
       " 'From: s0612596@let.rug.nl (M.M. Zwart)\\nSubject: catholic church poland\\nOrganization: Faculteit der Letteren, Rijksuniversiteit Groningen, NL\\nLines: 10\\n\\nHello,\\n\\nI\\'m writing a paper on the role of the catholic church in Poland after 1989. \\nCan anyone tell me more about this, or fill me in on recent books/articles(\\nin english, german or french). Most important for me is the role of the \\nchurch concerning the abortion-law, religious education at schools,\\nbirth-control and the relation church-state(government). Thanx,\\n\\n                                                 Masja,\\n\"M.M.Zwart\"<s0612596@let.rug.nl>\\n',\n",
       " 'From: stanly@grok11.columbiasc.ncr.com (stanly)\\nSubject: Re: Elder Brother\\nOrganization: NCR Corp., Columbia SC\\nLines: 15\\n\\nIn article <Apr.8.00.57.41.1993.28246@athos.rutgers.edu> REXLEX@fnal.gov writes:\\n>In article <Apr.7.01.56.56.1993.22824@athos.rutgers.edu> shrum@hpfcso.fc.hp.com\\n>Matt. 22:9-14 \\'Go therefore to the main highways, and as many as you find\\n>there, invite to the wedding feast.\\'...\\n\\n>hmmmmmm.  Sounds like your theology and Christ\\'s are at odds. Which one am I \\n>to believe?\\n\\nIn this parable, Jesus tells the parable of the wedding feast. \"The kingdom\\nof heaven is like unto a certain king which made a marriage for his son\".\\nSo the wedding clothes were customary,  and \"given\" to those who \"chose\" to\\nattend.  This man \"refused\" to wear the clothes.  The wedding clothes are\\nequalivant to the \"clothes of righteousness\".  When Jesus died for our sins,\\nthose \"clothes\" were then provided.  Like that man, it is our decision to\\nput the clothes on.\\n']"
      ]
     },
     "execution_count": 76,
     "metadata": {},
     "output_type": "execute_result"
    }
   ],
   "source": [
    "twenty_train.data[0:5]"
   ]
  },
  {
   "cell_type": "markdown",
   "metadata": {
    "colab_type": "text",
    "id": "hTz4EaN_1WGc"
   },
   "source": [
    "### 9.  Now with dependent and independent data available for both train and test datasets, using TfidfVectorizer fit and transform the training data and test data and get the tfidf features for both"
   ]
  },
  {
   "cell_type": "code",
   "execution_count": 77,
   "metadata": {
    "colab": {},
    "colab_type": "code",
    "id": "H5G477f81C0Z"
   },
   "outputs": [
    {
     "data": {
      "text/plain": [
       "(2257, 35788)"
      ]
     },
     "execution_count": 77,
     "metadata": {},
     "output_type": "execute_result"
    }
   ],
   "source": [
    "from sklearn.feature_extraction.text import CountVectorizer\n",
    "count_vect = CountVectorizer()\n",
    "X_train_counts = count_vect.fit_transform(twenty_train.data)\n",
    "X_train_counts.shape"
   ]
  },
  {
   "cell_type": "code",
   "execution_count": 78,
   "metadata": {},
   "outputs": [],
   "source": [
    "from sklearn.feature_extraction.text import TfidfVectorizer"
   ]
  },
  {
   "cell_type": "code",
   "execution_count": 79,
   "metadata": {},
   "outputs": [
    {
     "name": "stdout",
     "output_type": "stream",
     "text": [
      "(2257, 2384)\n",
      "(1502, 2384)\n",
      "[[0.         0.         0.         ... 0.         0.         0.        ]\n",
      " [0.         0.         0.         ... 0.         0.         0.        ]\n",
      " [0.         0.         0.         ... 0.         0.         0.        ]\n",
      " ...\n",
      " [0.         0.         0.         ... 0.         0.         0.        ]\n",
      " [0.         0.         0.         ... 0.         0.01186874 0.        ]\n",
      " [0.         0.         0.         ... 0.         0.         0.        ]] [1 1 3 ... 2 2 2] [[0.         0.         0.         ... 0.         0.         0.        ]\n",
      " [0.         0.         0.         ... 0.         0.         0.        ]\n",
      " [0.         0.         0.         ... 0.         0.         0.        ]\n",
      " ...\n",
      " [0.         0.         0.06224145 ... 0.         0.         0.        ]\n",
      " [0.         0.         0.         ... 0.         0.         0.        ]\n",
      " [0.         0.         0.         ... 0.         0.         0.        ]] [2 2 2 ... 2 2 1]\n"
     ]
    }
   ],
   "source": [
    "vectorizer = TfidfVectorizer(min_df=0.01, max_df=0.95)\n",
    "train_data = vectorizer.fit_transform(twenty_train.data)\n",
    "test_data = vectorizer.transform(twenty_test.data)\n",
    "train_data = train_data.todense()\n",
    "test_data = test_data.todense()\n",
    "train_labels = twenty_train.target\n",
    "test_labels = twenty_test.target\n",
    "\n",
    "print(train_data.shape)\n",
    "print(test_data.shape)\n",
    "\n",
    "print(train_data, train_labels, test_data, test_labels)"
   ]
  },
  {
   "cell_type": "code",
   "execution_count": 80,
   "metadata": {},
   "outputs": [
    {
     "name": "stdout",
     "output_type": "stream",
     "text": [
      "Features :        00  000  0000  0000001200  000005102000  0001  000100255pixel  00014  \\\n",
      "0      0    0     0           0             0     0               0      0   \n",
      "1      0    0     0           0             0     0               0      0   \n",
      "2      0    0     0           0             0     0               0      0   \n",
      "3      0    0     0           0             0     0               0      0   \n",
      "4      1    0     0           0             0     0               0      0   \n",
      "5      1    0     0           0             0     0               0      0   \n",
      "6      0    0     0           0             0     0               0      0   \n",
      "7      0    0     0           0             0     0               0      0   \n",
      "8      0    0     0           0             0     0               0      0   \n",
      "9      0    0     0           0             0     0               0      0   \n",
      "10     0    0     0           0             0     0               0      0   \n",
      "11     0    0     0           0             0     0               0      0   \n",
      "12     0    0     0           0             0     0               0      0   \n",
      "13     0    0     0           0             0     0               0      0   \n",
      "14     0    0     0           0             0     0               0      0   \n",
      "15     0    0     0           0             0     0               0      0   \n",
      "16     0    0     0           0             0     0               0      0   \n",
      "17     0    0     0           0             0     0               0      0   \n",
      "18     0    0     0           0             0     0               0      0   \n",
      "19     0    0     0           0             0     0               0      0   \n",
      "20     0    0     0           0             0     0               0      0   \n",
      "21     0    0     0           0             0     0               0      0   \n",
      "22     0    0     0           0             0     0               0      0   \n",
      "23     0    0     0           0             0     0               0      0   \n",
      "24     0    0     0           0             0     0               0      0   \n",
      "25     0    0     0           0             0     0               0      0   \n",
      "26     0    0     0           0             0     0               0      0   \n",
      "27     0    0     0           0             0     0               0      0   \n",
      "28     0    0     0           0             0     0               0      0   \n",
      "29     0    0     0           0             0     0               0      0   \n",
      "...   ..  ...   ...         ...           ...   ...             ...    ...   \n",
      "2227   0    0     0           0             0     0               0      0   \n",
      "2228   0    0     0           0             0     0               0      0   \n",
      "2229   0    0     0           0             0     0               0      0   \n",
      "2230   0    0     0           0             0     0               0      0   \n",
      "2231   0    0     0           0             0     0               0      0   \n",
      "2232   0    0     0           0             0     0               0      0   \n",
      "2233   0    0     0           0             0     0               0      0   \n",
      "2234   0    0     0           0             0     0               0      0   \n",
      "2235   0    0     0           0             0     0               0      0   \n",
      "2236   0    0     0           0             0     0               0      0   \n",
      "2237   0    0     0           0             0     0               0      0   \n",
      "2238   0    0     0           0             0     0               0      0   \n",
      "2239   0    0     0           0             0     0               0      0   \n",
      "2240   0    0     0           0             0     0               0      0   \n",
      "2241   0    0     0           0             0     0               0      0   \n",
      "2242   0    0     0           0             0     0               0      0   \n",
      "2243   0    0     0           0             0     0               0      0   \n",
      "2244   0    0     0           0             0     0               0      0   \n",
      "2245   0    0     0           0             0     0               0      0   \n",
      "2246   0    0     0           0             0     0               0      0   \n",
      "2247   0    0     0           0             0     0               0      0   \n",
      "2248   0    0     0           0             0     0               0      0   \n",
      "2249   0    0     0           0             0     0               0      0   \n",
      "2250   0    0     0           0             0     0               0      0   \n",
      "2251   0    0     0           0             0     0               0      0   \n",
      "2252   0    0     0           0             0     0               0      1   \n",
      "2253   0    0     0           0             0     0               0      0   \n",
      "2254   0    0     0           0             0     0               0      0   \n",
      "2255   0    0     0           0             0     0               0      0   \n",
      "2256   0    0     0           0             0     0               0      0   \n",
      "\n",
      "      000406  0007    ...     zvi  zvonko  zwart  zyeh  zyklon  zyxel  zz  \\\n",
      "0          0     0    ...       0       0      0     0       0      0   0   \n",
      "1          0     0    ...       0       0      0     0       0      0   0   \n",
      "2          0     0    ...       0       0      0     0       0      0   0   \n",
      "3          0     0    ...       0       0      2     0       0      0   0   \n",
      "4          0     0    ...       0       0      0     0       0      0   0   \n",
      "5          0     0    ...       0       0      0     0       0      0   0   \n",
      "6          0     0    ...       0       0      0     0       0      0   0   \n",
      "7          0     0    ...       0       0      0     0       0      0   0   \n",
      "8          0     0    ...       0       0      0     0       0      0   0   \n",
      "9          0     0    ...       0       0      0     0       0      0   0   \n",
      "10         0     0    ...       0       0      0     0       0      0   0   \n",
      "11         0     0    ...       0       0      0     0       0      0   0   \n",
      "12         0     0    ...       0       0      0     0       0      0   0   \n",
      "13         0     0    ...       0       0      0     0       0      0   0   \n",
      "14         0     0    ...       0       0      0     0       0      0   0   \n",
      "15         0     0    ...       0       0      0     0       0      0   0   \n",
      "16         0     0    ...       0       0      0     0       0      0   0   \n",
      "17         0     0    ...       0       0      0     0       0      0   0   \n",
      "18         0     0    ...       0       0      0     0       0      0   0   \n",
      "19         0     0    ...       0       0      0     0       0      0   0   \n",
      "20         0     0    ...       0       0      0     0       0      0   0   \n",
      "21         0     0    ...       0       0      0     0       0      0   0   \n",
      "22         0     0    ...       0       0      0     0       0      0   0   \n",
      "23         0     0    ...       0       0      0     0       0      0   0   \n",
      "24         0     0    ...       0       0      0     0       0      0   0   \n",
      "25         0     0    ...       0       0      0     0       0      0   0   \n",
      "26         0     0    ...       0       0      0     0       0      0   0   \n",
      "27         0     0    ...       0       0      0     0       0      0   0   \n",
      "28         0     0    ...       0       0      0     0       0      0   0   \n",
      "29         0     0    ...       0       0      0     0       0      0   0   \n",
      "...      ...   ...    ...     ...     ...    ...   ...     ...    ...  ..   \n",
      "2227       0     0    ...       0       0      0     0       0      0   0   \n",
      "2228       0     0    ...       0       0      0     0       0      0   0   \n",
      "2229       0     0    ...       0       0      0     0       0      0   0   \n",
      "2230       0     0    ...       0       0      0     0       0      0   0   \n",
      "2231       0     0    ...       0       0      0     0       0      0   0   \n",
      "2232       0     0    ...       0       0      0     0       0      0   0   \n",
      "2233       0     0    ...       0       0      0     0       0      0   0   \n",
      "2234       0     0    ...       0       0      0     0       0      0   0   \n",
      "2235       0     0    ...       0       0      0     0       0      0   0   \n",
      "2236       0     0    ...       0       0      0     0       0      0   0   \n",
      "2237       0     0    ...       0       0      0     0       0      0   0   \n",
      "2238       0     0    ...       0       0      0     0       0      0   0   \n",
      "2239       0     0    ...       0       0      0     0       0      0   0   \n",
      "2240       0     0    ...       0       0      0     0       0      0   0   \n",
      "2241       0     0    ...       0       0      0     0       0      0   0   \n",
      "2242       0     0    ...       0       0      0     0       0      0   0   \n",
      "2243       0     0    ...       0       0      0     0       0      0   0   \n",
      "2244       0     0    ...       0       0      0     0       0      0   0   \n",
      "2245       0     0    ...       0       0      0     0       0      0   0   \n",
      "2246       0     0    ...       0       0      0     0       0      0   0   \n",
      "2247       0     0    ...       0       0      0     0       0      0   0   \n",
      "2248       0     0    ...       0       0      0     0       0      0   0   \n",
      "2249       0     0    ...       0       0      0     0       0      0   0   \n",
      "2250       0     0    ...       0       0      0     0       0      0   0   \n",
      "2251       0     0    ...       0       0      0     0       0      0   0   \n",
      "2252       0     0    ...       0       0      0     0       0      0   0   \n",
      "2253       0     0    ...       0       0      0     0       0      0   0   \n",
      "2254       0     0    ...       0       0      0     0       0      0   0   \n",
      "2255       0     0    ...       0       0      0     0       0      0   0   \n",
      "2256       0     0    ...       0       0      0     0       0      0   0   \n",
      "\n",
      "      zzz  ªl  íålittin  \n",
      "0       0   0         0  \n",
      "1       0   0         0  \n",
      "2       0   0         0  \n",
      "3       0   0         0  \n",
      "4       0   0         0  \n",
      "5       0   0         0  \n",
      "6       0   0         0  \n",
      "7       0   0         0  \n",
      "8       0   0         0  \n",
      "9       0   0         0  \n",
      "10      0   0         0  \n",
      "11      0   0         0  \n",
      "12      0   0         0  \n",
      "13      0   0         0  \n",
      "14      0   0         0  \n",
      "15      0   0         0  \n",
      "16      0   0         0  \n",
      "17      0   0         0  \n",
      "18      0   0         0  \n",
      "19      0   0         0  \n",
      "20      0   0         0  \n",
      "21      0   0         0  \n",
      "22      0   0         0  \n",
      "23      0   0         0  \n",
      "24      0   0         0  \n",
      "25      0   0         0  \n",
      "26      0   0         0  \n",
      "27      0   0         0  \n",
      "28      0   0         0  \n",
      "29      0   0         0  \n",
      "...   ...  ..       ...  \n",
      "2227    0   0         0  \n",
      "2228    0   0         0  \n",
      "2229    0   0         0  \n",
      "2230    0   0         0  \n",
      "2231    0   0         0  \n",
      "2232    0   0         0  \n",
      "2233    0   0         0  \n",
      "2234    0   0         0  \n",
      "2235    0   0         0  \n",
      "2236    0   0         0  \n",
      "2237    0   0         0  \n",
      "2238    0   0         0  \n",
      "2239    0   0         0  \n",
      "2240    0   0         0  \n",
      "2241    0   0         0  \n",
      "2242    0   0         0  \n",
      "2243    0   0         0  \n",
      "2244    0   0         0  \n",
      "2245    0   0         0  \n",
      "2246    0   0         0  \n",
      "2247    0   0         0  \n",
      "2248    0   0         0  \n",
      "2249    0   0         0  \n",
      "2250    0   0         0  \n",
      "2251    0   0         0  \n",
      "2252    0   0         0  \n",
      "2253    0   0         0  \n",
      "2254    0   0         0  \n",
      "2255    0   0         0  \n",
      "2256    0   0         0  \n",
      "\n",
      "[2257 rows x 35788 columns]\n"
     ]
    }
   ],
   "source": [
    "cvec = CountVectorizer()\n",
    "train_data_features=cvec.fit(twenty_train.data)\n",
    "cvecdata= cvec.transform(twenty_train.data)\n",
    "df=pd.DataFrame(cvecdata.todense(),columns=cvec.get_feature_names())\n",
    "\n",
    "print(\"Features : \", df)"
   ]
  },
  {
   "cell_type": "markdown",
   "metadata": {
    "colab_type": "text",
    "id": "tp_fDINJ1t4L"
   },
   "source": [
    "### 10. Use logisticRegression with tfidf features as input and targets as output and train the model and report the train and test accuracy score"
   ]
  },
  {
   "cell_type": "code",
   "execution_count": 81,
   "metadata": {
    "colab": {},
    "colab_type": "code",
    "id": "THlN2b5d1yQp"
   },
   "outputs": [
    {
     "data": {
      "text/plain": [
       "1.0"
      ]
     },
     "execution_count": 81,
     "metadata": {},
     "output_type": "execute_result"
    }
   ],
   "source": [
    "from sklearn.linear_model import LogisticRegression\n",
    "y=twenty_train.target\n",
    "model=LogisticRegression()\n",
    "log_model=model.fit(df,y)\n",
    "log_model.score(df,y)"
   ]
  },
  {
   "cell_type": "code",
   "execution_count": 82,
   "metadata": {},
   "outputs": [
    {
     "data": {
      "text/plain": [
       "0.9007989347536618"
      ]
     },
     "execution_count": 82,
     "metadata": {},
     "output_type": "execute_result"
    }
   ],
   "source": [
    "X_test=cvec.transform(twenty_test.data)\n",
    "y_test=twenty_test.target\n",
    "log_model.score(X_test,y_test)"
   ]
  },
  {
   "cell_type": "code",
   "execution_count": 83,
   "metadata": {
    "scrolled": true
   },
   "outputs": [
    {
     "name": "stdout",
     "output_type": "stream",
     "text": [
      "              precision    recall  f1-score   support\n",
      "\n",
      "           0       0.93      0.81      0.86       319\n",
      "           1       0.88      0.96      0.92       389\n",
      "           2       0.93      0.84      0.88       396\n",
      "           3       0.88      0.98      0.93       398\n",
      "\n",
      "   micro avg       0.90      0.90      0.90      1502\n",
      "   macro avg       0.90      0.90      0.90      1502\n",
      "weighted avg       0.90      0.90      0.90      1502\n",
      "\n",
      "[[258   8  13  40]\n",
      " [  5 373   9   2]\n",
      " [ 12  40 333  11]\n",
      " [  3   3   3 389]]\n"
     ]
    }
   ],
   "source": [
    "test_pred = model.predict(X_test)\n",
    "from sklearn import metrics\n",
    "print(metrics.classification_report(y_test, test_pred))\n",
    "print(metrics.confusion_matrix(y_test, test_pred))"
   ]
  },
  {
   "cell_type": "markdown",
   "metadata": {},
   "source": [
    "### Train accuracy is 100%\n",
    "### Test accuracy is 90%"
   ]
  }
 ],
 "metadata": {
  "colab": {
   "collapsed_sections": [],
   "name": "R8_External_Lab_Questions.ipynb",
   "provenance": [],
   "version": "0.3.2"
  },
  "kernelspec": {
   "display_name": "Python 3",
   "language": "python",
   "name": "python3"
  },
  "language_info": {
   "codemirror_mode": {
    "name": "ipython",
    "version": 3
   },
   "file_extension": ".py",
   "mimetype": "text/x-python",
   "name": "python",
   "nbconvert_exporter": "python",
   "pygments_lexer": "ipython3",
   "version": "3.7.1"
  }
 },
 "nbformat": 4,
 "nbformat_minor": 1
}
