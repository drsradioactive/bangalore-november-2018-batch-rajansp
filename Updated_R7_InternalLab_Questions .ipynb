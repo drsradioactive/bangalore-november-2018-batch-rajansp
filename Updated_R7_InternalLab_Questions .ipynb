{
 "cells": [
  {
   "cell_type": "markdown",
   "metadata": {
    "colab_type": "text",
    "id": "4WH1Pr4KQlCh"
   },
   "source": [
    "### Build a DNN using Keras with `RELU` and `ADAM`"
   ]
  },
  {
   "cell_type": "markdown",
   "metadata": {
    "colab_type": "text",
    "id": "TbvI8LqlQlCl",
    "slideshow": {
     "slide_type": "slide"
    }
   },
   "source": [
    "#### Load tensorflow"
   ]
  },
  {
   "cell_type": "code",
   "execution_count": 73,
   "metadata": {
    "colab": {},
    "colab_type": "code",
    "id": "SPW-a-qYQlCp"
   },
   "outputs": [],
   "source": [
    "import tensorflow as tf\n",
    "tf.set_random_seed(42)"
   ]
  },
  {
   "cell_type": "markdown",
   "metadata": {
    "colab_type": "text",
    "id": "74cQBsi5QlCw",
    "slideshow": {
     "slide_type": "slide"
    }
   },
   "source": [
    "#### Collect Fashion mnist data from tf.keras.datasets "
   ]
  },
  {
   "cell_type": "code",
   "execution_count": 74,
   "metadata": {
    "colab": {},
    "colab_type": "code",
    "id": "wVWy0oDTr2Kj",
    "scrolled": true
   },
   "outputs": [],
   "source": [
    "from keras.datasets import fashion_mnist"
   ]
  },
  {
   "cell_type": "code",
   "execution_count": 75,
   "metadata": {},
   "outputs": [],
   "source": [
    "(x_train, y_train), (x_test, y_test) = fashion_mnist.load_data()"
   ]
  },
  {
   "cell_type": "code",
   "execution_count": 76,
   "metadata": {},
   "outputs": [
    {
     "name": "stdout",
     "output_type": "stream",
     "text": [
      "Number of Training examples X:  60000\n",
      "Number of Training examples Y:  60000\n"
     ]
    }
   ],
   "source": [
    "print('Number of Training examples X: ', x_train.shape[0])\n",
    "print('Number of Training examples Y: ', y_train.shape[0])"
   ]
  },
  {
   "cell_type": "code",
   "execution_count": 77,
   "metadata": {
    "scrolled": true
   },
   "outputs": [
    {
     "name": "stdout",
     "output_type": "stream",
     "text": [
      "Number of Test examples X:  10000\n",
      "Number of Test examples Y:  10000\n"
     ]
    }
   ],
   "source": [
    "print('Number of Test examples X: ', x_test.shape[0])\n",
    "print('Number of Test examples Y: ', y_test.shape[0])"
   ]
  },
  {
   "cell_type": "markdown",
   "metadata": {
    "colab_type": "text",
    "id": "no7aWYZyQlC1",
    "slideshow": {
     "slide_type": "slide"
    }
   },
   "source": [
    "#### Change train and test labels into one-hot vectors"
   ]
  },
  {
   "cell_type": "code",
   "execution_count": 78,
   "metadata": {},
   "outputs": [],
   "source": [
    "y_train = tf.keras.utils.to_categorical(y_train, num_classes=10)\n",
    "y_test = tf.keras.utils.to_categorical(y_test, num_classes=10)"
   ]
  },
  {
   "cell_type": "markdown",
   "metadata": {
    "colab_type": "text",
    "id": "QjNrRTdoQlC5",
    "slideshow": {
     "slide_type": "slide"
    }
   },
   "source": [
    "#### Build the Graph"
   ]
  },
  {
   "cell_type": "code",
   "execution_count": 79,
   "metadata": {},
   "outputs": [],
   "source": [
    "#Initialize Sequential model\n",
    "model = tf.keras.models.Sequential()\n",
    "\n",
    "#Reshape data from 2D to 1D -> 28x28 to 784\n",
    "model.add(tf.keras.layers.Reshape((784,),input_shape=(28,28,)))\n",
    "\n",
    "#Normalize the data \n",
    "model.add(tf.keras.layers.BatchNormalization())\n"
   ]
  },
  {
   "cell_type": "markdown",
   "metadata": {
    "colab_type": "text",
    "id": "CDJ9DHVNQlC7"
   },
   "source": [
    "#### Initialize model, reshape & normalize data"
   ]
  },
  {
   "cell_type": "code",
   "execution_count": 80,
   "metadata": {
    "colab": {
     "base_uri": "https://localhost:8080/",
     "height": 88
    },
    "colab_type": "code",
    "id": "pCDQs_g1QlC8",
    "outputId": "e854b4d2-903a-4515-c21b-bd6a6e4fe2f8"
   },
   "outputs": [],
   "source": [
    "#Initialize model, reshape & normalize data\n",
    "model = tf.keras.models.Sequential()\n",
    "model.add(tf.keras.layers.Reshape((784,),input_shape=(28,28,)))\n",
    "model.add(tf.keras.layers.BatchNormalization())"
   ]
  },
  {
   "cell_type": "markdown",
   "metadata": {
    "colab_type": "text",
    "id": "kBGwTTilQlDD",
    "slideshow": {
     "slide_type": "slide"
    }
   },
   "source": [
    "#### Add two fully connected layers with 200 and 100 neurons respectively with `relu` activations. Add a dropout layer with `p=0.25`"
   ]
  },
  {
   "cell_type": "code",
   "execution_count": 81,
   "metadata": {
    "colab": {
     "base_uri": "https://localhost:8080/",
     "height": 88
    },
    "colab_type": "code",
    "id": "IXbfpfOzQlDF",
    "outputId": "f46a2e3a-2634-4e9e-88bd-57bb8de1ff0c"
   },
   "outputs": [],
   "source": [
    "#Hidden layers\n",
    "model.add(tf.keras.layers.Dense(200, activation='relu', name='Layer_1'))\n",
    "model.add(tf.keras.layers.Dense(100, activation='relu', name='Layer_2'))\n",
    "\n",
    "#Dropout layer\n",
    "model.add(tf.keras.layers.Dropout(0.25))\n"
   ]
  },
  {
   "cell_type": "code",
   "execution_count": 85,
   "metadata": {
    "scrolled": true
   },
   "outputs": [
    {
     "name": "stdout",
     "output_type": "stream",
     "text": [
      "_________________________________________________________________\n",
      "Layer (type)                 Output Shape              Param #   \n",
      "=================================================================\n",
      "reshape_10 (Reshape)         (None, 784)               0         \n",
      "_________________________________________________________________\n",
      "batch_normalization_v1_10 (B (None, 784)               3136      \n",
      "_________________________________________________________________\n",
      "Layer_1 (Dense)              (None, 200)               157000    \n",
      "_________________________________________________________________\n",
      "Layer_2 (Dense)              (None, 100)               20100     \n",
      "_________________________________________________________________\n",
      "dropout_5 (Dropout)          (None, 100)               0         \n",
      "_________________________________________________________________\n",
      "Output (Dense)               (None, 10)                1010      \n",
      "=================================================================\n",
      "Total params: 181,246\n",
      "Trainable params: 179,678\n",
      "Non-trainable params: 1,568\n",
      "_________________________________________________________________\n"
     ]
    }
   ],
   "source": [
    "model.summary()"
   ]
  },
  {
   "cell_type": "markdown",
   "metadata": {
    "colab_type": "text",
    "id": "5I8f5otcQlDJ"
   },
   "source": [
    "### Add the output layer with a fully connected layer with 10 neurons with `softmax` activation. Use `categorical_crossentropy` loss and `adam` optimizer and train the network. And, report the final validation."
   ]
  },
  {
   "cell_type": "code",
   "execution_count": 82,
   "metadata": {},
   "outputs": [],
   "source": [
    "#Output layer\n",
    "model.add(tf.keras.layers.Dense(10, activation='softmax', name='Output'))"
   ]
  },
  {
   "cell_type": "code",
   "execution_count": 83,
   "metadata": {},
   "outputs": [],
   "source": [
    "model.compile(optimizer='adam', loss='categorical_crossentropy', metrics=['accuracy'])"
   ]
  },
  {
   "cell_type": "code",
   "execution_count": 84,
   "metadata": {
    "scrolled": false
   },
   "outputs": [
    {
     "name": "stdout",
     "output_type": "stream",
     "text": [
      "Train on 60000 samples, validate on 10000 samples\n",
      "Epoch 1/50\n",
      "60000/60000 [==============================] - 8s 132us/sample - loss: 0.5122 - acc: 0.8174 - val_loss: 0.4199 - val_acc: 0.8461\n",
      "Epoch 2/50\n",
      "60000/60000 [==============================] - 8s 136us/sample - loss: 0.3969 - acc: 0.8565 - val_loss: 0.3847 - val_acc: 0.8616\n",
      "Epoch 3/50\n",
      "60000/60000 [==============================] - 9s 143us/sample - loss: 0.3568 - acc: 0.8694 - val_loss: 0.3940 - val_acc: 0.8549\n",
      "Epoch 4/50\n",
      "60000/60000 [==============================] - 8s 134us/sample - loss: 0.3354 - acc: 0.8776 - val_loss: 0.3571 - val_acc: 0.8724\n",
      "Epoch 5/50\n",
      "60000/60000 [==============================] - 8s 137us/sample - loss: 0.3172 - acc: 0.8826 - val_loss: 0.3654 - val_acc: 0.8709\n",
      "Epoch 6/50\n",
      "60000/60000 [==============================] - 8s 135us/sample - loss: 0.3017 - acc: 0.8892 - val_loss: 0.3566 - val_acc: 0.8769\n",
      "Epoch 7/50\n",
      "60000/60000 [==============================] - 8s 137us/sample - loss: 0.2857 - acc: 0.8935 - val_loss: 0.3528 - val_acc: 0.8764\n",
      "Epoch 8/50\n",
      "60000/60000 [==============================] - 8s 136us/sample - loss: 0.2736 - acc: 0.8976 - val_loss: 0.3284 - val_acc: 0.8846\n",
      "Epoch 9/50\n",
      "60000/60000 [==============================] - 8s 133us/sample - loss: 0.2650 - acc: 0.9001 - val_loss: 0.3559 - val_acc: 0.8824\n",
      "Epoch 10/50\n",
      "60000/60000 [==============================] - 8s 132us/sample - loss: 0.2528 - acc: 0.9047 - val_loss: 0.3387 - val_acc: 0.8873\n",
      "Epoch 11/50\n",
      "60000/60000 [==============================] - 8s 139us/sample - loss: 0.2458 - acc: 0.9083 - val_loss: 0.3498 - val_acc: 0.8851\n",
      "Epoch 12/50\n",
      "60000/60000 [==============================] - 8s 137us/sample - loss: 0.2380 - acc: 0.9101 - val_loss: 0.3521 - val_acc: 0.8841\n",
      "Epoch 13/50\n",
      "60000/60000 [==============================] - 8s 140us/sample - loss: 0.2300 - acc: 0.9120 - val_loss: 0.3618 - val_acc: 0.8859\n",
      "Epoch 14/50\n",
      "60000/60000 [==============================] - 8s 136us/sample - loss: 0.2242 - acc: 0.9146 - val_loss: 0.3598 - val_acc: 0.8868\n",
      "Epoch 15/50\n",
      "60000/60000 [==============================] - 9s 142us/sample - loss: 0.2185 - acc: 0.9177 - val_loss: 0.3677 - val_acc: 0.8845\n",
      "Epoch 16/50\n",
      "60000/60000 [==============================] - 8s 137us/sample - loss: 0.2107 - acc: 0.9193 - val_loss: 0.3646 - val_acc: 0.8885\n",
      "Epoch 17/50\n",
      "60000/60000 [==============================] - 8s 140us/sample - loss: 0.2094 - acc: 0.9203 - val_loss: 0.3979 - val_acc: 0.8846\n",
      "Epoch 18/50\n",
      "60000/60000 [==============================] - 8s 139us/sample - loss: 0.1998 - acc: 0.9243 - val_loss: 0.3651 - val_acc: 0.8889\n",
      "Epoch 19/50\n",
      "60000/60000 [==============================] - 9s 142us/sample - loss: 0.1970 - acc: 0.9250 - val_loss: 0.3752 - val_acc: 0.8874\n",
      "Epoch 20/50\n",
      "60000/60000 [==============================] - 8s 140us/sample - loss: 0.1925 - acc: 0.9271 - val_loss: 0.3727 - val_acc: 0.8935\n",
      "Epoch 21/50\n",
      "60000/60000 [==============================] - 9s 142us/sample - loss: 0.1899 - acc: 0.9277 - val_loss: 0.3927 - val_acc: 0.8912\n",
      "Epoch 22/50\n",
      "60000/60000 [==============================] - 8s 132us/sample - loss: 0.1833 - acc: 0.9302 - val_loss: 0.3958 - val_acc: 0.8922\n",
      "Epoch 23/50\n",
      "60000/60000 [==============================] - 8s 138us/sample - loss: 0.1819 - acc: 0.9304 - val_loss: 0.3879 - val_acc: 0.8919\n",
      "Epoch 24/50\n",
      "60000/60000 [==============================] - 9s 143us/sample - loss: 0.1763 - acc: 0.9329 - val_loss: 0.3962 - val_acc: 0.8889\n",
      "Epoch 25/50\n",
      "60000/60000 [==============================] - 9s 142us/sample - loss: 0.1736 - acc: 0.9336 - val_loss: 0.4144 - val_acc: 0.8884\n",
      "Epoch 26/50\n",
      "60000/60000 [==============================] - 9s 150us/sample - loss: 0.1706 - acc: 0.9352 - val_loss: 0.4171 - val_acc: 0.8880\n",
      "Epoch 27/50\n",
      "60000/60000 [==============================] - 9s 153us/sample - loss: 0.1692 - acc: 0.9362 - val_loss: 0.3882 - val_acc: 0.8920\n",
      "Epoch 28/50\n",
      "60000/60000 [==============================] - 8s 134us/sample - loss: 0.1633 - acc: 0.9367 - val_loss: 0.4065 - val_acc: 0.8895\n",
      "Epoch 29/50\n",
      "60000/60000 [==============================] - 8s 132us/sample - loss: 0.1611 - acc: 0.9384 - val_loss: 0.4160 - val_acc: 0.8883\n",
      "Epoch 30/50\n",
      "60000/60000 [==============================] - 8s 138us/sample - loss: 0.1589 - acc: 0.9402 - val_loss: 0.4199 - val_acc: 0.8885\n",
      "Epoch 31/50\n",
      "60000/60000 [==============================] - 8s 137us/sample - loss: 0.1572 - acc: 0.9395 - val_loss: 0.4266 - val_acc: 0.8912\n",
      "Epoch 32/50\n",
      "60000/60000 [==============================] - 8s 141us/sample - loss: 0.1541 - acc: 0.9413 - val_loss: 0.4322 - val_acc: 0.8957\n",
      "Epoch 33/50\n",
      "60000/60000 [==============================] - 8s 138us/sample - loss: 0.1533 - acc: 0.9425 - val_loss: 0.4408 - val_acc: 0.8869\n",
      "Epoch 34/50\n",
      "60000/60000 [==============================] - 8s 138us/sample - loss: 0.1498 - acc: 0.9430 - val_loss: 0.4396 - val_acc: 0.8899\n",
      "Epoch 35/50\n",
      "60000/60000 [==============================] - 9s 156us/sample - loss: 0.1472 - acc: 0.9449 - val_loss: 0.4398 - val_acc: 0.8924\n",
      "Epoch 36/50\n",
      "60000/60000 [==============================] - 8s 136us/sample - loss: 0.1449 - acc: 0.9453 - val_loss: 0.4679 - val_acc: 0.8886\n",
      "Epoch 37/50\n",
      "60000/60000 [==============================] - 8s 130us/sample - loss: 0.1406 - acc: 0.9471 - val_loss: 0.4487 - val_acc: 0.8917\n",
      "Epoch 38/50\n",
      "60000/60000 [==============================] - 8s 132us/sample - loss: 0.1422 - acc: 0.9460 - val_loss: 0.4491 - val_acc: 0.8909\n",
      "Epoch 39/50\n",
      "60000/60000 [==============================] - 8s 130us/sample - loss: 0.1376 - acc: 0.9480 - val_loss: 0.4667 - val_acc: 0.8921\n",
      "Epoch 40/50\n",
      "60000/60000 [==============================] - 9s 142us/sample - loss: 0.1384 - acc: 0.9477 - val_loss: 0.4525 - val_acc: 0.8934\n",
      "Epoch 41/50\n",
      "60000/60000 [==============================] - 9s 146us/sample - loss: 0.1357 - acc: 0.9481 - val_loss: 0.4561 - val_acc: 0.8927\n",
      "Epoch 42/50\n",
      "60000/60000 [==============================] - 9s 144us/sample - loss: 0.1330 - acc: 0.9493 - val_loss: 0.4658 - val_acc: 0.8913\n",
      "Epoch 43/50\n",
      "60000/60000 [==============================] - 9s 145us/sample - loss: 0.1328 - acc: 0.9499 - val_loss: 0.4885 - val_acc: 0.8908\n",
      "Epoch 44/50\n",
      "60000/60000 [==============================] - 9s 142us/sample - loss: 0.1312 - acc: 0.9504 - val_loss: 0.4804 - val_acc: 0.8880\n",
      "Epoch 45/50\n",
      "60000/60000 [==============================] - 9s 143us/sample - loss: 0.1284 - acc: 0.9517 - val_loss: 0.4450 - val_acc: 0.8941\n",
      "Epoch 46/50\n",
      "60000/60000 [==============================] - 9s 146us/sample - loss: 0.1278 - acc: 0.9504 - val_loss: 0.4846 - val_acc: 0.8911\n",
      "Epoch 47/50\n",
      "60000/60000 [==============================] - 9s 145us/sample - loss: 0.1267 - acc: 0.9521 - val_loss: 0.4858 - val_acc: 0.8947\n",
      "Epoch 48/50\n",
      "60000/60000 [==============================] - 9s 143us/sample - loss: 0.1274 - acc: 0.9533 - val_loss: 0.4826 - val_acc: 0.8905\n",
      "Epoch 49/50\n",
      "60000/60000 [==============================] - 9s 146us/sample - loss: 0.1226 - acc: 0.9539 - val_loss: 0.5010 - val_acc: 0.8892\n",
      "Epoch 50/50\n",
      "60000/60000 [==============================] - 9s 143us/sample - loss: 0.1236 - acc: 0.9543 - val_loss: 0.5058 - val_acc: 0.8911\n"
     ]
    },
    {
     "data": {
      "text/plain": [
       "<tensorflow.python.keras.callbacks.History at 0x168eb3b27f0>"
      ]
     },
     "execution_count": 84,
     "metadata": {},
     "output_type": "execute_result"
    }
   ],
   "source": [
    "#Train the model\n",
    "model.fit(x_train,y_train,          \n",
    "          validation_data=(x_test,y_test),\n",
    "          epochs=50,\n",
    "          batch_size=32)"
   ]
  },
  {
   "cell_type": "code",
   "execution_count": 88,
   "metadata": {},
   "outputs": [
    {
     "name": "stdout",
     "output_type": "stream",
     "text": [
      "60000/60000 [==============================] - 2s 39us/sample - loss: 0.1032 - acc: 0.9709\n"
     ]
    },
    {
     "data": {
      "text/plain": [
       "[0.10323035703289012, 0.9709333]"
      ]
     },
     "execution_count": 88,
     "metadata": {},
     "output_type": "execute_result"
    }
   ],
   "source": [
    "model.evaluate(x_train,y_train)"
   ]
  },
  {
   "cell_type": "code",
   "execution_count": 87,
   "metadata": {
    "scrolled": true
   },
   "outputs": [
    {
     "name": "stdout",
     "output_type": "stream",
     "text": [
      "10000/10000 [==============================] - 0s 40us/sample - loss: 0.5058 - acc: 0.8911\n"
     ]
    },
    {
     "data": {
      "text/plain": [
       "[0.5057868178844452, 0.8911]"
      ]
     },
     "execution_count": 87,
     "metadata": {},
     "output_type": "execute_result"
    }
   ],
   "source": [
    "model.evaluate(x_test,y_test)"
   ]
  },
  {
   "cell_type": "markdown",
   "metadata": {},
   "source": [
    "**The Test accuracy is 89.11% with loss of 50.57%**"
   ]
  }
 ],
 "metadata": {
  "colab": {
   "collapsed_sections": [],
   "name": "updated_R7_ExternalLab_Questions.ipynb",
   "provenance": [],
   "version": "0.3.2"
  },
  "kernelspec": {
   "display_name": "Python 3",
   "language": "python",
   "name": "python3"
  },
  "language_info": {
   "codemirror_mode": {
    "name": "ipython",
    "version": 3
   },
   "file_extension": ".py",
   "mimetype": "text/x-python",
   "name": "python",
   "nbconvert_exporter": "python",
   "pygments_lexer": "ipython3",
   "version": "3.7.1"
  }
 },
 "nbformat": 4,
 "nbformat_minor": 1
}
