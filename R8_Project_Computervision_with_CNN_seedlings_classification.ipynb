{
 "cells": [
  {
   "cell_type": "code",
   "execution_count": 1,
   "metadata": {},
   "outputs": [
    {
     "name": "stdout",
     "output_type": "stream",
     "text": [
      "['Black-grass', 'Charlock', 'Cleavers', 'Common Chickweed', 'Common wheat', 'Fat Hen', 'Loose Silky-bent', 'Maize', 'Scentless Mayweed', 'Shepherds Purse', 'Small-flowered Cranesbill', 'Sugar beet']\n"
     ]
    },
    {
     "name": "stderr",
     "output_type": "stream",
     "text": [
      "Using TensorFlow backend.\n"
     ]
    }
   ],
   "source": [
    "# This Python 3 environment comes with many helpful analytics libraries installed\n",
    "# It is defined by the kaggle/python docker image: https://github.com/kaggle/docker-python\n",
    "# For example, here's several helpful packages to load in \n",
    "\n",
    "import numpy as np # linear algebra\n",
    "import pandas as pd # data processing, CSV file I/O (e.g. pd.read_csv)\n",
    "\n",
    "# Input data files are available in the \"../input/\" directory.\n",
    "# For example, running this (by clicking run or pressing Shift+Enter) will list the files in the input directory\n",
    "import numpy as np\n",
    "import pandas as pd \n",
    "import cv2\n",
    "import matplotlib.pyplot as plt\n",
    "from sklearn.model_selection import train_test_split\n",
    "import os\n",
    "import sys\n",
    "import tensorflow as tf\n",
    "import keras\n",
    "import glob\n",
    "from keras.datasets import cifar10\n",
    "from keras.preprocessing.image import ImageDataGenerator\n",
    "from keras.models import Sequential\n",
    "from keras.layers import Dense, Dropout, Activation, Flatten\n",
    "from keras.layers import Conv2D, MaxPooling2D\n",
    "import csv\n",
    "import os\n",
    "print(os.listdir(\"C:/Users/rajan/Desktop/AIML/R8/External/train/\"))\n",
    "\n",
    "# Any results you write to the current directory are saved as output."
   ]
  },
  {
   "cell_type": "code",
   "execution_count": 2,
   "metadata": {},
   "outputs": [
    {
     "name": "stdout",
     "output_type": "stream",
     "text": [
      "['Black-grass', 'Charlock', 'Cleavers', 'Common Chickweed', 'Common wheat', 'Fat Hen', 'Loose Silky-bent', 'Maize', 'Scentless Mayweed', 'Shepherds Purse', 'Small-flowered Cranesbill', 'Sugar beet']\n",
      "Black-grass\n",
      "Charlock\n",
      "Cleavers\n",
      "Common Chickweed\n",
      "Common wheat\n",
      "Fat Hen\n",
      "Loose Silky-bent\n",
      "Maize\n",
      "Scentless Mayweed\n",
      "Shepherds Purse\n",
      "Small-flowered Cranesbill\n",
      "Sugar beet\n",
      "[661, 431, 310, 230, 440, 303, 397, 483, 226, 288, 342, 590] [668, 431, 310, 230, 440, 303, 399, 483, 226, 288, 342, 591] [2670, 1582, 866, 718, 1432, 1273, 3457, 1900, 1227, 1317, 1006, 1715] [2670, 1582, 866, 718, 1432, 1273, 3457, 1900, 1227, 1317, 1006, 1715] [73, 121, 66, 54, 51, 55, 71, 54, 49, 63, 62, 49] [73, 121, 66, 54, 51, 55, 71, 54, 49, 63, 62, 49]\n"
     ]
    }
   ],
   "source": [
    "plants=os.listdir(\"C:/Users/rajan/Desktop/AIML/R8/External/train/\")\n",
    "path='C:/Users/rajan/Desktop/AIML/R8/External/train/'\n",
    "print(plants)\n",
    "meanl=[]\n",
    "meanw=[]\n",
    "minl=[]\n",
    "minw=[]\n",
    "maxl=[]\n",
    "maxw=[]\n",
    "for k in plants:\n",
    "    leng=[]\n",
    "    wid=[]\n",
    "    print(k)\n",
    "    l=os.listdir(path+k)\n",
    "    for j in l:\n",
    "        im=cv2.imread(path+k+'/'+j)\n",
    "        leng.append(im.shape[0])\n",
    "        wid.append(im.shape[1])\n",
    "    meanl.append(int(sum(leng)/len(leng)))\n",
    "    meanw.append(int(sum(wid)/len(wid)))\n",
    "    minl.append(int(min(leng)))\n",
    "    minw.append(int(min(wid)))\n",
    "    maxl.append(int(max(leng)))\n",
    "    maxw.append(int(max(leng)))\n",
    "print(meanl,meanw,maxl,maxw,minl,minw)"
   ]
  },
  {
   "cell_type": "code",
   "execution_count": 3,
   "metadata": {},
   "outputs": [],
   "source": [
    "def load_train(path,plants,size):\n",
    "    images=[]\n",
    "    labels=[]\n",
    "    ids=[]\n",
    "    clas=[]\n",
    "    for fold in plants:\n",
    "        index=plants.index(fold)\n",
    "        pat = os.path.join(path, fold)\n",
    "        files = glob.glob(pat+'/*')\n",
    "        for f1 in files:\n",
    "            im=cv2.imread(f1)\n",
    "            image = cv2.resize(im, (size, size), cv2.INTER_LINEAR)\n",
    "            images.append(image)\n",
    "            label = np.zeros(len(plants))\n",
    "            label[index] = 1.0\n",
    "            labels.append(label)\n",
    "            #filename = os.path.basename(f1)\n",
    "            #ids.append(filename)\n",
    "            #clas.append(fold)\n",
    "    images = np.array(images)\n",
    "    labels = np.array(labels)\n",
    "        #ids = np.array(ids)\n",
    "        #cls = np.array(cls)\n",
    "    images = images.astype(np.float32)\n",
    "    images = np.multiply(images, 1.0 / 255.0)\n",
    "    return images,labels"
   ]
  },
  {
   "cell_type": "markdown",
   "metadata": {},
   "source": [
    "**1. Read the images and generate the train and test dataset (10 points)**"
   ]
  },
  {
   "cell_type": "code",
   "execution_count": 4,
   "metadata": {},
   "outputs": [],
   "source": [
    "plants=os.listdir(\"C:/Users/rajan/Desktop/AIML/R8/External/train/\")\n",
    "path='C:/Users/rajan/Desktop/AIML/R8/External/train/'\n",
    "img_train,y_train=load_train(path,plants,100)\n"
   ]
  },
  {
   "cell_type": "markdown",
   "metadata": {},
   "source": [
    "**2. Divide the data set into Train and validation data sets ( 10 points)**"
   ]
  },
  {
   "cell_type": "code",
   "execution_count": 5,
   "metadata": {},
   "outputs": [
    {
     "name": "stdout",
     "output_type": "stream",
     "text": [
      "(3562, 100, 100, 3) (1188, 100, 100, 3)\n",
      "(3562, 12) (1188, 12)\n"
     ]
    }
   ],
   "source": [
    "x_train,x_test,y_train,y_test=train_test_split(img_train,y_train,test_size=0.25,random_state=7)\n",
    "print(x_train.shape,x_test.shape)\n",
    "print(y_train.shape,y_test.shape)\n"
   ]
  },
  {
   "cell_type": "markdown",
   "metadata": {},
   "source": [
    "**3. Initialize & build the model (20 points)**"
   ]
  },
  {
   "cell_type": "code",
   "execution_count": 6,
   "metadata": {},
   "outputs": [],
   "source": [
    "batch_size = 32\n",
    "num_classes = 12\n",
    "epochs = 30\n",
    "data_augmentation = True\n",
    "num_predictions = 20\n",
    "save_dir = os.path.join(os.getcwd(), 'saved_models')\n",
    "model_name = 'plant_detection_trained_model.h5'"
   ]
  },
  {
   "cell_type": "code",
   "execution_count": 7,
   "metadata": {},
   "outputs": [
    {
     "name": "stdout",
     "output_type": "stream",
     "text": [
      "WARNING:tensorflow:From C:\\Users\\rajan\\Anaconda3\\lib\\site-packages\\tensorflow\\python\\framework\\op_def_library.py:263: colocate_with (from tensorflow.python.framework.ops) is deprecated and will be removed in a future version.\n",
      "Instructions for updating:\n",
      "Colocations handled automatically by placer.\n",
      "WARNING:tensorflow:From C:\\Users\\rajan\\Anaconda3\\lib\\site-packages\\keras\\backend\\tensorflow_backend.py:3445: calling dropout (from tensorflow.python.ops.nn_ops) with keep_prob is deprecated and will be removed in a future version.\n",
      "Instructions for updating:\n",
      "Please use `rate` instead of `keep_prob`. Rate should be set to `rate = 1 - keep_prob`.\n"
     ]
    }
   ],
   "source": [
    "model = Sequential()\n",
    "model.add(Conv2D(32, (3, 3), padding='same',\n",
    "                 input_shape=x_train.shape[1:]))\n",
    "model.add(Activation('relu'))\n",
    "model.add(Conv2D(32, (3, 3)))\n",
    "model.add(Activation('relu'))\n",
    "model.add(MaxPooling2D(pool_size=(2, 2)))\n",
    "model.add(Dropout(0.25))\n",
    "model.add(Conv2D(64, (3, 3), padding='same'))\n",
    "model.add(Activation('relu'))\n",
    "model.add(Conv2D(64, (3, 3)))\n",
    "model.add(Activation('relu'))\n",
    "model.add(MaxPooling2D(pool_size=(2, 2)))\n",
    "model.add(Dropout(0.25))\n",
    "\n",
    "model.add(Flatten())\n",
    "model.add(Dense(512))\n",
    "model.add(Activation('relu'))\n",
    "model.add(Dropout(0.5))\n",
    "model.add(Dense(num_classes))\n",
    "model.add(Activation('softmax'))"
   ]
  },
  {
   "cell_type": "markdown",
   "metadata": {},
   "source": [
    "**4. Optimize the model (15 points)**"
   ]
  },
  {
   "cell_type": "code",
   "execution_count": 8,
   "metadata": {},
   "outputs": [],
   "source": [
    "opt = keras.optimizers.adam(lr=0.0001, decay=1e-6)"
   ]
  },
  {
   "cell_type": "code",
   "execution_count": 9,
   "metadata": {},
   "outputs": [],
   "source": [
    "model.compile(loss='categorical_crossentropy',\n",
    "              optimizer=opt,\n",
    "              metrics=['accuracy'])"
   ]
  },
  {
   "cell_type": "code",
   "execution_count": 10,
   "metadata": {},
   "outputs": [],
   "source": [
    "datagen = ImageDataGenerator(\n",
    "    featurewise_center=False,  # set input mean to 0 over the dataset\n",
    "    samplewise_center=False,  # set each sample mean to 0\n",
    "    featurewise_std_normalization=False,  # divide inputs by std of the dataset\n",
    "    samplewise_std_normalization=False,  # divide each input by its std\n",
    "    rotation_range=0,  # randomly rotate images in the range (degrees, 0 to 180)\n",
    "    width_shift_range=0.1,  # randomly shift images horizontally (fraction of total width)\n",
    "    height_shift_range=0.1,  # randomly shift images vertically (fraction of total height)\n",
    "    horizontal_flip=True,  # randomly flip images\n",
    "    vertical_flip=False)  # randomly flip images\n"
   ]
  },
  {
   "cell_type": "code",
   "execution_count": 11,
   "metadata": {},
   "outputs": [],
   "source": [
    "datagen.fit(x_train)"
   ]
  },
  {
   "cell_type": "markdown",
   "metadata": {},
   "source": [
    "**5.. Predict the accuracy for both train and validation data (5 points)**"
   ]
  },
  {
   "cell_type": "code",
   "execution_count": 12,
   "metadata": {},
   "outputs": [
    {
     "name": "stdout",
     "output_type": "stream",
     "text": [
      "WARNING:tensorflow:From C:\\Users\\rajan\\Anaconda3\\lib\\site-packages\\tensorflow\\python\\ops\\math_ops.py:3066: to_int32 (from tensorflow.python.ops.math_ops) is deprecated and will be removed in a future version.\n",
      "Instructions for updating:\n",
      "Use tf.cast instead.\n",
      "Epoch 1/30\n",
      "111/111 [==============================] - 74s 668ms/step - loss: 2.3931 - acc: 0.1608 - val_loss: 2.2818 - val_acc: 0.2837\n",
      "Epoch 2/30\n",
      "111/111 [==============================] - 74s 668ms/step - loss: 2.0224 - acc: 0.3106 - val_loss: 1.7084 - val_acc: 0.3880\n",
      "Epoch 3/30\n",
      "111/111 [==============================] - 76s 683ms/step - loss: 1.7415 - acc: 0.3902 - val_loss: 1.5163 - val_acc: 0.4857\n",
      "Epoch 4/30\n",
      "111/111 [==============================] - 75s 672ms/step - loss: 1.5433 - acc: 0.4629 - val_loss: 1.2618 - val_acc: 0.5875\n",
      "Epoch 5/30\n",
      "111/111 [==============================] - 75s 676ms/step - loss: 1.3956 - acc: 0.5259 - val_loss: 1.4714 - val_acc: 0.4714\n",
      "Epoch 6/30\n",
      "111/111 [==============================] - 75s 679ms/step - loss: 1.3390 - acc: 0.5389 - val_loss: 1.0532 - val_acc: 0.6684\n",
      "Epoch 7/30\n",
      "111/111 [==============================] - 76s 686ms/step - loss: 1.2519 - acc: 0.5693 - val_loss: 1.0438 - val_acc: 0.6591\n",
      "Epoch 8/30\n",
      "111/111 [==============================] - 76s 686ms/step - loss: 1.1927 - acc: 0.5934 - val_loss: 1.0593 - val_acc: 0.6557\n",
      "Epoch 9/30\n",
      "111/111 [==============================] - 76s 688ms/step - loss: 1.1618 - acc: 0.6091 - val_loss: 0.9917 - val_acc: 0.6616\n",
      "Epoch 10/30\n",
      "111/111 [==============================] - 76s 688ms/step - loss: 1.0855 - acc: 0.6253 - val_loss: 0.8878 - val_acc: 0.7197\n",
      "Epoch 11/30\n",
      "111/111 [==============================] - 78s 707ms/step - loss: 1.0791 - acc: 0.6395 - val_loss: 0.8740 - val_acc: 0.7189\n",
      "Epoch 12/30\n",
      "111/111 [==============================] - 77s 698ms/step - loss: 1.0314 - acc: 0.6499 - val_loss: 0.8026 - val_acc: 0.7365\n",
      "Epoch 13/30\n",
      "111/111 [==============================] - 76s 686ms/step - loss: 1.0135 - acc: 0.6555 - val_loss: 0.7740 - val_acc: 0.7593\n",
      "Epoch 14/30\n",
      "111/111 [==============================] - 76s 688ms/step - loss: 0.9939 - acc: 0.6680 - val_loss: 0.7410 - val_acc: 0.7719\n",
      "Epoch 15/30\n",
      "111/111 [==============================] - 76s 686ms/step - loss: 0.9207 - acc: 0.6844 - val_loss: 0.7615 - val_acc: 0.7441\n",
      "Epoch 16/30\n",
      "111/111 [==============================] - 77s 691ms/step - loss: 0.9286 - acc: 0.6830 - val_loss: 0.7491 - val_acc: 0.7710\n",
      "Epoch 17/30\n",
      "111/111 [==============================] - 81s 730ms/step - loss: 0.8886 - acc: 0.6964 - val_loss: 0.7060 - val_acc: 0.7727\n",
      "Epoch 18/30\n",
      "111/111 [==============================] - 79s 708ms/step - loss: 0.8669 - acc: 0.7122 - val_loss: 0.6857 - val_acc: 0.7929\n",
      "Epoch 19/30\n",
      "111/111 [==============================] - 81s 734ms/step - loss: 0.8705 - acc: 0.7074 - val_loss: 0.7089 - val_acc: 0.7668\n",
      "Epoch 20/30\n",
      "111/111 [==============================] - 77s 695ms/step - loss: 0.8303 - acc: 0.7208 - val_loss: 0.7138 - val_acc: 0.7593\n",
      "Epoch 21/30\n",
      "111/111 [==============================] - 77s 691ms/step - loss: 0.8228 - acc: 0.7189 - val_loss: 0.6434 - val_acc: 0.7887\n",
      "Epoch 22/30\n",
      "111/111 [==============================] - 77s 697ms/step - loss: 0.7983 - acc: 0.7283 - val_loss: 0.6556 - val_acc: 0.7870\n",
      "Epoch 23/30\n",
      "111/111 [==============================] - 76s 688ms/step - loss: 0.7970 - acc: 0.7330 - val_loss: 0.5823 - val_acc: 0.8064\n",
      "Epoch 24/30\n",
      "111/111 [==============================] - 77s 692ms/step - loss: 0.7745 - acc: 0.7383 - val_loss: 0.5995 - val_acc: 0.8047\n",
      "Epoch 25/30\n",
      "111/111 [==============================] - 77s 692ms/step - loss: 0.7813 - acc: 0.7346 - val_loss: 0.5821 - val_acc: 0.8098\n",
      "Epoch 26/30\n",
      "111/111 [==============================] - 77s 692ms/step - loss: 0.7179 - acc: 0.7573 - val_loss: 0.5827 - val_acc: 0.8098\n",
      "Epoch 27/30\n",
      "111/111 [==============================] - 77s 695ms/step - loss: 0.7192 - acc: 0.7518 - val_loss: 0.5647 - val_acc: 0.8148\n",
      "Epoch 28/30\n",
      "111/111 [==============================] - 77s 693ms/step - loss: 0.7008 - acc: 0.7656 - val_loss: 0.5640 - val_acc: 0.8140\n",
      "Epoch 29/30\n",
      "111/111 [==============================] - 77s 693ms/step - loss: 0.7116 - acc: 0.7575 - val_loss: 0.5871 - val_acc: 0.8064\n",
      "Epoch 30/30\n",
      "111/111 [==============================] - 77s 693ms/step - loss: 0.6996 - acc: 0.7672 - val_loss: 0.5856 - val_acc: 0.8047\n"
     ]
    },
    {
     "data": {
      "text/plain": [
       "<keras.callbacks.History at 0x23d854227b8>"
      ]
     },
     "execution_count": 12,
     "metadata": {},
     "output_type": "execute_result"
    }
   ],
   "source": [
    "model.fit_generator(datagen.flow(x_train, y_train,\n",
    "                                    batch_size=batch_size),\n",
    "                    steps_per_epoch=x_train.shape[0] // batch_size,\n",
    "                    epochs=epochs,\n",
    "                    validation_data=(x_test, y_test),\n",
    "                    workers=4,verbose=1)"
   ]
  },
  {
   "cell_type": "code",
   "execution_count": 13,
   "metadata": {},
   "outputs": [
    {
     "name": "stdout",
     "output_type": "stream",
     "text": [
      "Saved trained model at C:\\Users\\rajan\\Desktop\\AIML\\R8\\External\\saved_models\\plant_detection_trained_model.h5 \n",
      "1188/1188 [==============================] - 9s 7ms/step\n",
      "Test loss: 0.5856382199359261\n",
      "Test accuracy: 0.8047138047138047\n"
     ]
    }
   ],
   "source": [
    "if not os.path.isdir(save_dir):\n",
    "    os.makedirs(save_dir)\n",
    "model_path = os.path.join(save_dir, model_name)\n",
    "model.save(model_path)\n",
    "print('Saved trained model at %s ' % model_path)\n",
    "scores = model.evaluate(x_test, y_test, verbose=1)\n",
    "print('Test loss:', scores[0])\n",
    "print('Test accuracy:', scores[1])\n"
   ]
  },
  {
   "cell_type": "code",
   "execution_count": 14,
   "metadata": {
    "scrolled": true
   },
   "outputs": [
    {
     "name": "stdout",
     "output_type": "stream",
     "text": [
      "3562/3562 [==============================] - 26s 7ms/step\n",
      "[0.4650415516448516, 0.8413812464572686]\n"
     ]
    }
   ],
   "source": [
    "print(model.evaluate(x_train, y_train))  # Evaluate on train set"
   ]
  },
  {
   "cell_type": "code",
   "execution_count": 15,
   "metadata": {},
   "outputs": [
    {
     "name": "stdout",
     "output_type": "stream",
     "text": [
      "1188/1188 [==============================] - 9s 7ms/step\n",
      "[0.5856382199359261, 0.8047138047138047]\n"
     ]
    }
   ],
   "source": [
    "print(model.evaluate(x_test, y_test))  # Evaluate on test set"
   ]
  },
  {
   "cell_type": "code",
   "execution_count": 16,
   "metadata": {},
   "outputs": [],
   "source": [
    "def load_test(path,size):\n",
    "  files = sorted(glob.glob(path+'/*'))\n",
    "  X_test=[]\n",
    "  X_test_id=[]\n",
    "  for f in files:\n",
    "      filename = os.path.basename(f)\n",
    "      img = cv2.imread(f)\n",
    "      img = cv2.resize(img, (size, size), cv2.INTER_LINEAR)\n",
    "      X_test.append(img)\n",
    "      X_test_id.append(filename)\n",
    "\n",
    "  X_test = np.array(X_test, dtype=np.uint8)\n",
    "  X_test = X_test.astype('float32')\n",
    "  X_test = X_test / 255\n",
    "\n",
    "  return X_test, X_test_id"
   ]
  },
  {
   "cell_type": "code",
   "execution_count": 17,
   "metadata": {},
   "outputs": [],
   "source": [
    "path='C:/Users/rajan/Desktop/AIML/R8/External/test/'\n",
    "x_test,test_id=load_test(path,100)"
   ]
  },
  {
   "cell_type": "code",
   "execution_count": 18,
   "metadata": {},
   "outputs": [
    {
     "data": {
      "image/png": "[encoded data removed]",
      "text/plain": [
       "<Figure size 432x288 with 1 Axes>"
      ]
     },
     "metadata": {
      "needs_background": "light"
     },
     "output_type": "display_data"
    }
   ],
   "source": [
    "# print int(model.predict_classes(x_test[793:],batch_size=2,verbose=1))\n",
    "# print test_id[1]\n",
    "plt.imshow(x_test[1])\n",
    "plt.show()"
   ]
  },
  {
   "cell_type": "code",
   "execution_count": 19,
   "metadata": {},
   "outputs": [],
   "source": [
    "result=list(model.predict_classes(x_test))\n",
    "res=[plants[x] for x in result]"
   ]
  },
  {
   "cell_type": "code",
   "execution_count": 20,
   "metadata": {},
   "outputs": [
    {
     "data": {
      "text/html": [
       "<div>\n",
       "<style scoped>\n",
       "    .dataframe tbody tr th:only-of-type {\n",
       "        vertical-align: middle;\n",
       "    }\n",
       "\n",
       "    .dataframe tbody tr th {\n",
       "        vertical-align: top;\n",
       "    }\n",
       "\n",
       "    .dataframe thead th {\n",
       "        text-align: right;\n",
       "    }\n",
       "</style>\n",
       "<table border=\"1\" class=\"dataframe\">\n",
       "  <thead>\n",
       "    <tr style=\"text-align: right;\">\n",
       "      <th></th>\n",
       "      <th>file</th>\n",
       "      <th>species</th>\n",
       "    </tr>\n",
       "  </thead>\n",
       "  <tbody>\n",
       "    <tr>\n",
       "      <th>0</th>\n",
       "      <td>0021e90e4.png</td>\n",
       "      <td>Sugar beet</td>\n",
       "    </tr>\n",
       "    <tr>\n",
       "      <th>1</th>\n",
       "      <td>003d61042.png</td>\n",
       "      <td>Sugar beet</td>\n",
       "    </tr>\n",
       "    <tr>\n",
       "      <th>2</th>\n",
       "      <td>007b3da8b.png</td>\n",
       "      <td>Sugar beet</td>\n",
       "    </tr>\n",
       "    <tr>\n",
       "      <th>3</th>\n",
       "      <td>0086a6340.png</td>\n",
       "      <td>Sugar beet</td>\n",
       "    </tr>\n",
       "    <tr>\n",
       "      <th>4</th>\n",
       "      <td>00c47e980.png</td>\n",
       "      <td>Sugar beet</td>\n",
       "    </tr>\n",
       "  </tbody>\n",
       "</table>\n",
       "</div>"
      ],
      "text/plain": [
       "            file     species\n",
       "0  0021e90e4.png  Sugar beet\n",
       "1  003d61042.png  Sugar beet\n",
       "2  007b3da8b.png  Sugar beet\n",
       "3  0086a6340.png  Sugar beet\n",
       "4  00c47e980.png  Sugar beet"
      ]
     },
     "execution_count": 20,
     "metadata": {},
     "output_type": "execute_result"
    }
   ],
   "source": [
    "sample_sub = pd.read_csv('C:/Users/rajan/Desktop/AIML/R8/External/sample_submission.csv')\n",
    "sample_sub.head()"
   ]
  }
 ],
 "metadata": {
  "kernelspec": {
   "display_name": "Python 3",
   "language": "python",
   "name": "python3"
  },
  "language_info": {
   "codemirror_mode": {
    "name": "ipython",
    "version": 3
   },
   "file_extension": ".py",
   "mimetype": "text/x-python",
   "name": "python",
   "nbconvert_exporter": "python",
   "pygments_lexer": "ipython3",
   "version": "3.7.1"
  }
 },
 "nbformat": 4,
 "nbformat_minor": 2
}
